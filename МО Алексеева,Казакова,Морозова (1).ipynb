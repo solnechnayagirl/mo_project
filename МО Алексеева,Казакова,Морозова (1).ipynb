{
  "cells": [
    {
      "cell_type": "code",
      "execution_count": 101,
      "metadata": {
        "colab": {
          "base_uri": "https://localhost:8080/"
        },
        "collapsed": true,
        "id": "yj03gY6Ckv--",
        "outputId": "8aadcfff-d487-4beb-9dfd-22ab600a50fc"
      },
      "outputs": [
        {
          "output_type": "stream",
          "name": "stdout",
          "text": [
            "Requirement already satisfied: DoubleML in /usr/local/lib/python3.10/dist-packages (0.8.0)\n",
            "Requirement already satisfied: joblib in /usr/local/lib/python3.10/dist-packages (from DoubleML) (1.4.2)\n",
            "Requirement already satisfied: numpy in /usr/local/lib/python3.10/dist-packages (from DoubleML) (1.25.2)\n",
            "Requirement already satisfied: pandas in /usr/local/lib/python3.10/dist-packages (from DoubleML) (2.0.3)\n",
            "Requirement already satisfied: scipy in /usr/local/lib/python3.10/dist-packages (from DoubleML) (1.11.4)\n",
            "Requirement already satisfied: scikit-learn in /usr/local/lib/python3.10/dist-packages (from DoubleML) (1.2.2)\n",
            "Requirement already satisfied: statsmodels in /usr/local/lib/python3.10/dist-packages (from DoubleML) (0.14.2)\n",
            "Requirement already satisfied: plotly in /usr/local/lib/python3.10/dist-packages (from DoubleML) (5.15.0)\n",
            "Requirement already satisfied: python-dateutil>=2.8.2 in /usr/local/lib/python3.10/dist-packages (from pandas->DoubleML) (2.8.2)\n",
            "Requirement already satisfied: pytz>=2020.1 in /usr/local/lib/python3.10/dist-packages (from pandas->DoubleML) (2023.4)\n",
            "Requirement already satisfied: tzdata>=2022.1 in /usr/local/lib/python3.10/dist-packages (from pandas->DoubleML) (2024.1)\n",
            "Requirement already satisfied: tenacity>=6.2.0 in /usr/local/lib/python3.10/dist-packages (from plotly->DoubleML) (8.3.0)\n",
            "Requirement already satisfied: packaging in /usr/local/lib/python3.10/dist-packages (from plotly->DoubleML) (24.0)\n",
            "Requirement already satisfied: threadpoolctl>=2.0.0 in /usr/local/lib/python3.10/dist-packages (from scikit-learn->DoubleML) (3.5.0)\n",
            "Requirement already satisfied: patsy>=0.5.6 in /usr/local/lib/python3.10/dist-packages (from statsmodels->DoubleML) (0.5.6)\n",
            "Requirement already satisfied: six in /usr/local/lib/python3.10/dist-packages (from patsy>=0.5.6->statsmodels->DoubleML) (1.16.0)\n",
            "Requirement already satisfied: doubleml in /usr/local/lib/python3.10/dist-packages (0.8.0)\n",
            "Requirement already satisfied: joblib in /usr/local/lib/python3.10/dist-packages (from doubleml) (1.4.2)\n",
            "Requirement already satisfied: numpy in /usr/local/lib/python3.10/dist-packages (from doubleml) (1.25.2)\n",
            "Requirement already satisfied: pandas in /usr/local/lib/python3.10/dist-packages (from doubleml) (2.0.3)\n",
            "Requirement already satisfied: scipy in /usr/local/lib/python3.10/dist-packages (from doubleml) (1.11.4)\n",
            "Requirement already satisfied: scikit-learn in /usr/local/lib/python3.10/dist-packages (from doubleml) (1.2.2)\n",
            "Requirement already satisfied: statsmodels in /usr/local/lib/python3.10/dist-packages (from doubleml) (0.14.2)\n",
            "Requirement already satisfied: plotly in /usr/local/lib/python3.10/dist-packages (from doubleml) (5.15.0)\n",
            "Requirement already satisfied: python-dateutil>=2.8.2 in /usr/local/lib/python3.10/dist-packages (from pandas->doubleml) (2.8.2)\n",
            "Requirement already satisfied: pytz>=2020.1 in /usr/local/lib/python3.10/dist-packages (from pandas->doubleml) (2023.4)\n",
            "Requirement already satisfied: tzdata>=2022.1 in /usr/local/lib/python3.10/dist-packages (from pandas->doubleml) (2024.1)\n",
            "Requirement already satisfied: tenacity>=6.2.0 in /usr/local/lib/python3.10/dist-packages (from plotly->doubleml) (8.3.0)\n",
            "Requirement already satisfied: packaging in /usr/local/lib/python3.10/dist-packages (from plotly->doubleml) (24.0)\n",
            "Requirement already satisfied: threadpoolctl>=2.0.0 in /usr/local/lib/python3.10/dist-packages (from scikit-learn->doubleml) (3.5.0)\n",
            "Requirement already satisfied: patsy>=0.5.6 in /usr/local/lib/python3.10/dist-packages (from statsmodels->doubleml) (0.5.6)\n",
            "Requirement already satisfied: six in /usr/local/lib/python3.10/dist-packages (from patsy>=0.5.6->statsmodels->doubleml) (1.16.0)\n",
            "Requirement already satisfied: bnlearn in /usr/local/lib/python3.10/dist-packages (0.8.8)\n",
            "Requirement already satisfied: pgmpy>=0.1.18 in /usr/local/lib/python3.10/dist-packages (from bnlearn) (0.1.25)\n",
            "Requirement already satisfied: networkx>=2.7.1 in /usr/local/lib/python3.10/dist-packages (from bnlearn) (3.3)\n",
            "Requirement already satisfied: matplotlib>=3.3.4 in /usr/local/lib/python3.10/dist-packages (from bnlearn) (3.7.1)\n",
            "Requirement already satisfied: numpy>=1.24.1 in /usr/local/lib/python3.10/dist-packages (from bnlearn) (1.25.2)\n",
            "Requirement already satisfied: pandas in /usr/local/lib/python3.10/dist-packages (from bnlearn) (2.0.3)\n",
            "Requirement already satisfied: tqdm in /usr/local/lib/python3.10/dist-packages (from bnlearn) (4.66.4)\n",
            "Requirement already satisfied: ismember in /usr/local/lib/python3.10/dist-packages (from bnlearn) (1.0.4)\n",
            "Requirement already satisfied: scikit-learn in /usr/local/lib/python3.10/dist-packages (from bnlearn) (1.2.2)\n",
            "Requirement already satisfied: funcsigs in /usr/local/lib/python3.10/dist-packages (from bnlearn) (1.0.2)\n",
            "Requirement already satisfied: statsmodels in /usr/local/lib/python3.10/dist-packages (from bnlearn) (0.14.2)\n",
            "Requirement already satisfied: python-louvain in /usr/local/lib/python3.10/dist-packages (from bnlearn) (0.16)\n",
            "Requirement already satisfied: packaging in /usr/local/lib/python3.10/dist-packages (from bnlearn) (24.0)\n",
            "Requirement already satisfied: df2onehot in /usr/local/lib/python3.10/dist-packages (from bnlearn) (1.0.7)\n",
            "Requirement already satisfied: fsspec in /usr/local/lib/python3.10/dist-packages (from bnlearn) (2023.6.0)\n",
            "Requirement already satisfied: pypickle in /usr/local/lib/python3.10/dist-packages (from bnlearn) (1.1.0)\n",
            "Requirement already satisfied: tabulate in /usr/local/lib/python3.10/dist-packages (from bnlearn) (0.9.0)\n",
            "Requirement already satisfied: ipywidgets in /usr/local/lib/python3.10/dist-packages (from bnlearn) (7.7.1)\n",
            "Requirement already satisfied: datazets in /usr/local/lib/python3.10/dist-packages (from bnlearn) (0.1.9)\n",
            "Requirement already satisfied: contourpy>=1.0.1 in /usr/local/lib/python3.10/dist-packages (from matplotlib>=3.3.4->bnlearn) (1.2.1)\n",
            "Requirement already satisfied: cycler>=0.10 in /usr/local/lib/python3.10/dist-packages (from matplotlib>=3.3.4->bnlearn) (0.12.1)\n",
            "Requirement already satisfied: fonttools>=4.22.0 in /usr/local/lib/python3.10/dist-packages (from matplotlib>=3.3.4->bnlearn) (4.53.0)\n",
            "Requirement already satisfied: kiwisolver>=1.0.1 in /usr/local/lib/python3.10/dist-packages (from matplotlib>=3.3.4->bnlearn) (1.4.5)\n",
            "Requirement already satisfied: pillow>=6.2.0 in /usr/local/lib/python3.10/dist-packages (from matplotlib>=3.3.4->bnlearn) (9.4.0)\n",
            "Requirement already satisfied: pyparsing>=2.3.1 in /usr/local/lib/python3.10/dist-packages (from matplotlib>=3.3.4->bnlearn) (3.1.2)\n",
            "Requirement already satisfied: python-dateutil>=2.7 in /usr/local/lib/python3.10/dist-packages (from matplotlib>=3.3.4->bnlearn) (2.8.2)\n",
            "Requirement already satisfied: scipy in /usr/local/lib/python3.10/dist-packages (from pgmpy>=0.1.18->bnlearn) (1.11.4)\n",
            "Requirement already satisfied: torch in /usr/local/lib/python3.10/dist-packages (from pgmpy>=0.1.18->bnlearn) (2.3.0+cu121)\n",
            "Requirement already satisfied: joblib in /usr/local/lib/python3.10/dist-packages (from pgmpy>=0.1.18->bnlearn) (1.4.2)\n",
            "Requirement already satisfied: opt-einsum in /usr/local/lib/python3.10/dist-packages (from pgmpy>=0.1.18->bnlearn) (3.3.0)\n",
            "Requirement already satisfied: requests in /usr/local/lib/python3.10/dist-packages (from datazets->bnlearn) (2.31.0)\n",
            "Requirement already satisfied: ipykernel>=4.5.1 in /usr/local/lib/python3.10/dist-packages (from ipywidgets->bnlearn) (5.5.6)\n",
            "Requirement already satisfied: ipython-genutils~=0.2.0 in /usr/local/lib/python3.10/dist-packages (from ipywidgets->bnlearn) (0.2.0)\n",
            "Requirement already satisfied: traitlets>=4.3.1 in /usr/local/lib/python3.10/dist-packages (from ipywidgets->bnlearn) (5.7.1)\n",
            "Requirement already satisfied: widgetsnbextension~=3.6.0 in /usr/local/lib/python3.10/dist-packages (from ipywidgets->bnlearn) (3.6.6)\n",
            "Requirement already satisfied: ipython>=4.0.0 in /usr/local/lib/python3.10/dist-packages (from ipywidgets->bnlearn) (7.34.0)\n",
            "Requirement already satisfied: jupyterlab-widgets>=1.0.0 in /usr/local/lib/python3.10/dist-packages (from ipywidgets->bnlearn) (3.0.11)\n",
            "Requirement already satisfied: pytz>=2020.1 in /usr/local/lib/python3.10/dist-packages (from pandas->bnlearn) (2023.4)\n",
            "Requirement already satisfied: tzdata>=2022.1 in /usr/local/lib/python3.10/dist-packages (from pandas->bnlearn) (2024.1)\n",
            "Requirement already satisfied: threadpoolctl>=2.0.0 in /usr/local/lib/python3.10/dist-packages (from scikit-learn->bnlearn) (3.5.0)\n",
            "Requirement already satisfied: patsy>=0.5.6 in /usr/local/lib/python3.10/dist-packages (from statsmodels->bnlearn) (0.5.6)\n",
            "Requirement already satisfied: jupyter-client in /usr/local/lib/python3.10/dist-packages (from ipykernel>=4.5.1->ipywidgets->bnlearn) (6.1.12)\n",
            "Requirement already satisfied: tornado>=4.2 in /usr/local/lib/python3.10/dist-packages (from ipykernel>=4.5.1->ipywidgets->bnlearn) (6.3.3)\n",
            "Requirement already satisfied: setuptools>=18.5 in /usr/local/lib/python3.10/dist-packages (from ipython>=4.0.0->ipywidgets->bnlearn) (67.7.2)\n",
            "Requirement already satisfied: jedi>=0.16 in /usr/local/lib/python3.10/dist-packages (from ipython>=4.0.0->ipywidgets->bnlearn) (0.19.1)\n",
            "Requirement already satisfied: decorator in /usr/local/lib/python3.10/dist-packages (from ipython>=4.0.0->ipywidgets->bnlearn) (4.4.2)\n",
            "Requirement already satisfied: pickleshare in /usr/local/lib/python3.10/dist-packages (from ipython>=4.0.0->ipywidgets->bnlearn) (0.7.5)\n",
            "Requirement already satisfied: prompt-toolkit!=3.0.0,!=3.0.1,<3.1.0,>=2.0.0 in /usr/local/lib/python3.10/dist-packages (from ipython>=4.0.0->ipywidgets->bnlearn) (3.0.45)\n",
            "Requirement already satisfied: pygments in /usr/local/lib/python3.10/dist-packages (from ipython>=4.0.0->ipywidgets->bnlearn) (2.16.1)\n",
            "Requirement already satisfied: backcall in /usr/local/lib/python3.10/dist-packages (from ipython>=4.0.0->ipywidgets->bnlearn) (0.2.0)\n",
            "Requirement already satisfied: matplotlib-inline in /usr/local/lib/python3.10/dist-packages (from ipython>=4.0.0->ipywidgets->bnlearn) (0.1.7)\n",
            "Requirement already satisfied: pexpect>4.3 in /usr/local/lib/python3.10/dist-packages (from ipython>=4.0.0->ipywidgets->bnlearn) (4.9.0)\n",
            "Requirement already satisfied: six in /usr/local/lib/python3.10/dist-packages (from patsy>=0.5.6->statsmodels->bnlearn) (1.16.0)\n",
            "Requirement already satisfied: notebook>=4.4.1 in /usr/local/lib/python3.10/dist-packages (from widgetsnbextension~=3.6.0->ipywidgets->bnlearn) (6.5.5)\n",
            "Requirement already satisfied: charset-normalizer<4,>=2 in /usr/local/lib/python3.10/dist-packages (from requests->datazets->bnlearn) (3.3.2)\n",
            "Requirement already satisfied: idna<4,>=2.5 in /usr/local/lib/python3.10/dist-packages (from requests->datazets->bnlearn) (3.7)\n",
            "Requirement already satisfied: urllib3<3,>=1.21.1 in /usr/local/lib/python3.10/dist-packages (from requests->datazets->bnlearn) (2.0.7)\n",
            "Requirement already satisfied: certifi>=2017.4.17 in /usr/local/lib/python3.10/dist-packages (from requests->datazets->bnlearn) (2024.6.2)\n",
            "Requirement already satisfied: filelock in /usr/local/lib/python3.10/dist-packages (from torch->pgmpy>=0.1.18->bnlearn) (3.14.0)\n",
            "Requirement already satisfied: typing-extensions>=4.8.0 in /usr/local/lib/python3.10/dist-packages (from torch->pgmpy>=0.1.18->bnlearn) (4.12.1)\n",
            "Requirement already satisfied: sympy in /usr/local/lib/python3.10/dist-packages (from torch->pgmpy>=0.1.18->bnlearn) (1.12.1)\n",
            "Requirement already satisfied: jinja2 in /usr/local/lib/python3.10/dist-packages (from torch->pgmpy>=0.1.18->bnlearn) (3.1.4)\n",
            "Requirement already satisfied: nvidia-cuda-nvrtc-cu12==12.1.105 in /usr/local/lib/python3.10/dist-packages (from torch->pgmpy>=0.1.18->bnlearn) (12.1.105)\n",
            "Requirement already satisfied: nvidia-cuda-runtime-cu12==12.1.105 in /usr/local/lib/python3.10/dist-packages (from torch->pgmpy>=0.1.18->bnlearn) (12.1.105)\n",
            "Requirement already satisfied: nvidia-cuda-cupti-cu12==12.1.105 in /usr/local/lib/python3.10/dist-packages (from torch->pgmpy>=0.1.18->bnlearn) (12.1.105)\n",
            "Requirement already satisfied: nvidia-cudnn-cu12==8.9.2.26 in /usr/local/lib/python3.10/dist-packages (from torch->pgmpy>=0.1.18->bnlearn) (8.9.2.26)\n",
            "Requirement already satisfied: nvidia-cublas-cu12==12.1.3.1 in /usr/local/lib/python3.10/dist-packages (from torch->pgmpy>=0.1.18->bnlearn) (12.1.3.1)\n",
            "Requirement already satisfied: nvidia-cufft-cu12==11.0.2.54 in /usr/local/lib/python3.10/dist-packages (from torch->pgmpy>=0.1.18->bnlearn) (11.0.2.54)\n",
            "Requirement already satisfied: nvidia-curand-cu12==10.3.2.106 in /usr/local/lib/python3.10/dist-packages (from torch->pgmpy>=0.1.18->bnlearn) (10.3.2.106)\n",
            "Requirement already satisfied: nvidia-cusolver-cu12==11.4.5.107 in /usr/local/lib/python3.10/dist-packages (from torch->pgmpy>=0.1.18->bnlearn) (11.4.5.107)\n",
            "Requirement already satisfied: nvidia-cusparse-cu12==12.1.0.106 in /usr/local/lib/python3.10/dist-packages (from torch->pgmpy>=0.1.18->bnlearn) (12.1.0.106)\n",
            "Requirement already satisfied: nvidia-nccl-cu12==2.20.5 in /usr/local/lib/python3.10/dist-packages (from torch->pgmpy>=0.1.18->bnlearn) (2.20.5)\n",
            "Requirement already satisfied: nvidia-nvtx-cu12==12.1.105 in /usr/local/lib/python3.10/dist-packages (from torch->pgmpy>=0.1.18->bnlearn) (12.1.105)\n",
            "Requirement already satisfied: triton==2.3.0 in /usr/local/lib/python3.10/dist-packages (from torch->pgmpy>=0.1.18->bnlearn) (2.3.0)\n",
            "Requirement already satisfied: nvidia-nvjitlink-cu12 in /usr/local/lib/python3.10/dist-packages (from nvidia-cusolver-cu12==11.4.5.107->torch->pgmpy>=0.1.18->bnlearn) (12.5.40)\n",
            "Requirement already satisfied: parso<0.9.0,>=0.8.3 in /usr/local/lib/python3.10/dist-packages (from jedi>=0.16->ipython>=4.0.0->ipywidgets->bnlearn) (0.8.4)\n",
            "Requirement already satisfied: pyzmq<25,>=17 in /usr/local/lib/python3.10/dist-packages (from notebook>=4.4.1->widgetsnbextension~=3.6.0->ipywidgets->bnlearn) (24.0.1)\n",
            "Requirement already satisfied: argon2-cffi in /usr/local/lib/python3.10/dist-packages (from notebook>=4.4.1->widgetsnbextension~=3.6.0->ipywidgets->bnlearn) (23.1.0)\n",
            "Requirement already satisfied: jupyter-core>=4.6.1 in /usr/local/lib/python3.10/dist-packages (from notebook>=4.4.1->widgetsnbextension~=3.6.0->ipywidgets->bnlearn) (5.7.2)\n",
            "Requirement already satisfied: nbformat in /usr/local/lib/python3.10/dist-packages (from notebook>=4.4.1->widgetsnbextension~=3.6.0->ipywidgets->bnlearn) (5.10.4)\n",
            "Requirement already satisfied: nbconvert>=5 in /usr/local/lib/python3.10/dist-packages (from notebook>=4.4.1->widgetsnbextension~=3.6.0->ipywidgets->bnlearn) (6.5.4)\n",
            "Requirement already satisfied: nest-asyncio>=1.5 in /usr/local/lib/python3.10/dist-packages (from notebook>=4.4.1->widgetsnbextension~=3.6.0->ipywidgets->bnlearn) (1.6.0)\n",
            "Requirement already satisfied: Send2Trash>=1.8.0 in /usr/local/lib/python3.10/dist-packages (from notebook>=4.4.1->widgetsnbextension~=3.6.0->ipywidgets->bnlearn) (1.8.3)\n",
            "Requirement already satisfied: terminado>=0.8.3 in /usr/local/lib/python3.10/dist-packages (from notebook>=4.4.1->widgetsnbextension~=3.6.0->ipywidgets->bnlearn) (0.18.1)\n",
            "Requirement already satisfied: prometheus-client in /usr/local/lib/python3.10/dist-packages (from notebook>=4.4.1->widgetsnbextension~=3.6.0->ipywidgets->bnlearn) (0.20.0)\n",
            "Requirement already satisfied: nbclassic>=0.4.7 in /usr/local/lib/python3.10/dist-packages (from notebook>=4.4.1->widgetsnbextension~=3.6.0->ipywidgets->bnlearn) (1.1.0)\n",
            "Requirement already satisfied: ptyprocess>=0.5 in /usr/local/lib/python3.10/dist-packages (from pexpect>4.3->ipython>=4.0.0->ipywidgets->bnlearn) (0.7.0)\n",
            "Requirement already satisfied: wcwidth in /usr/local/lib/python3.10/dist-packages (from prompt-toolkit!=3.0.0,!=3.0.1,<3.1.0,>=2.0.0->ipython>=4.0.0->ipywidgets->bnlearn) (0.2.13)\n",
            "Requirement already satisfied: MarkupSafe>=2.0 in /usr/local/lib/python3.10/dist-packages (from jinja2->torch->pgmpy>=0.1.18->bnlearn) (2.1.5)\n",
            "Requirement already satisfied: mpmath<1.4.0,>=1.1.0 in /usr/local/lib/python3.10/dist-packages (from sympy->torch->pgmpy>=0.1.18->bnlearn) (1.3.0)\n",
            "Requirement already satisfied: platformdirs>=2.5 in /usr/local/lib/python3.10/dist-packages (from jupyter-core>=4.6.1->notebook>=4.4.1->widgetsnbextension~=3.6.0->ipywidgets->bnlearn) (4.2.2)\n",
            "Requirement already satisfied: notebook-shim>=0.2.3 in /usr/local/lib/python3.10/dist-packages (from nbclassic>=0.4.7->notebook>=4.4.1->widgetsnbextension~=3.6.0->ipywidgets->bnlearn) (0.2.4)\n",
            "Requirement already satisfied: lxml in /usr/local/lib/python3.10/dist-packages (from nbconvert>=5->notebook>=4.4.1->widgetsnbextension~=3.6.0->ipywidgets->bnlearn) (4.9.4)\n",
            "Requirement already satisfied: beautifulsoup4 in /usr/local/lib/python3.10/dist-packages (from nbconvert>=5->notebook>=4.4.1->widgetsnbextension~=3.6.0->ipywidgets->bnlearn) (4.12.3)\n",
            "Requirement already satisfied: bleach in /usr/local/lib/python3.10/dist-packages (from nbconvert>=5->notebook>=4.4.1->widgetsnbextension~=3.6.0->ipywidgets->bnlearn) (6.1.0)\n",
            "Requirement already satisfied: defusedxml in /usr/local/lib/python3.10/dist-packages (from nbconvert>=5->notebook>=4.4.1->widgetsnbextension~=3.6.0->ipywidgets->bnlearn) (0.7.1)\n",
            "Requirement already satisfied: entrypoints>=0.2.2 in /usr/local/lib/python3.10/dist-packages (from nbconvert>=5->notebook>=4.4.1->widgetsnbextension~=3.6.0->ipywidgets->bnlearn) (0.4)\n",
            "Requirement already satisfied: jupyterlab-pygments in /usr/local/lib/python3.10/dist-packages (from nbconvert>=5->notebook>=4.4.1->widgetsnbextension~=3.6.0->ipywidgets->bnlearn) (0.3.0)\n",
            "Requirement already satisfied: mistune<2,>=0.8.1 in /usr/local/lib/python3.10/dist-packages (from nbconvert>=5->notebook>=4.4.1->widgetsnbextension~=3.6.0->ipywidgets->bnlearn) (0.8.4)\n",
            "Requirement already satisfied: nbclient>=0.5.0 in /usr/local/lib/python3.10/dist-packages (from nbconvert>=5->notebook>=4.4.1->widgetsnbextension~=3.6.0->ipywidgets->bnlearn) (0.10.0)\n",
            "Requirement already satisfied: pandocfilters>=1.4.1 in /usr/local/lib/python3.10/dist-packages (from nbconvert>=5->notebook>=4.4.1->widgetsnbextension~=3.6.0->ipywidgets->bnlearn) (1.5.1)\n",
            "Requirement already satisfied: tinycss2 in /usr/local/lib/python3.10/dist-packages (from nbconvert>=5->notebook>=4.4.1->widgetsnbextension~=3.6.0->ipywidgets->bnlearn) (1.3.0)\n",
            "Requirement already satisfied: fastjsonschema>=2.15 in /usr/local/lib/python3.10/dist-packages (from nbformat->notebook>=4.4.1->widgetsnbextension~=3.6.0->ipywidgets->bnlearn) (2.19.1)\n",
            "Requirement already satisfied: jsonschema>=2.6 in /usr/local/lib/python3.10/dist-packages (from nbformat->notebook>=4.4.1->widgetsnbextension~=3.6.0->ipywidgets->bnlearn) (4.19.2)\n",
            "Requirement already satisfied: argon2-cffi-bindings in /usr/local/lib/python3.10/dist-packages (from argon2-cffi->notebook>=4.4.1->widgetsnbextension~=3.6.0->ipywidgets->bnlearn) (21.2.0)\n",
            "Requirement already satisfied: attrs>=22.2.0 in /usr/local/lib/python3.10/dist-packages (from jsonschema>=2.6->nbformat->notebook>=4.4.1->widgetsnbextension~=3.6.0->ipywidgets->bnlearn) (23.2.0)\n",
            "Requirement already satisfied: jsonschema-specifications>=2023.03.6 in /usr/local/lib/python3.10/dist-packages (from jsonschema>=2.6->nbformat->notebook>=4.4.1->widgetsnbextension~=3.6.0->ipywidgets->bnlearn) (2023.12.1)\n",
            "Requirement already satisfied: referencing>=0.28.4 in /usr/local/lib/python3.10/dist-packages (from jsonschema>=2.6->nbformat->notebook>=4.4.1->widgetsnbextension~=3.6.0->ipywidgets->bnlearn) (0.35.1)\n",
            "Requirement already satisfied: rpds-py>=0.7.1 in /usr/local/lib/python3.10/dist-packages (from jsonschema>=2.6->nbformat->notebook>=4.4.1->widgetsnbextension~=3.6.0->ipywidgets->bnlearn) (0.18.1)\n",
            "Requirement already satisfied: jupyter-server<3,>=1.8 in /usr/local/lib/python3.10/dist-packages (from notebook-shim>=0.2.3->nbclassic>=0.4.7->notebook>=4.4.1->widgetsnbextension~=3.6.0->ipywidgets->bnlearn) (1.24.0)\n",
            "Requirement already satisfied: cffi>=1.0.1 in /usr/local/lib/python3.10/dist-packages (from argon2-cffi-bindings->argon2-cffi->notebook>=4.4.1->widgetsnbextension~=3.6.0->ipywidgets->bnlearn) (1.16.0)\n",
            "Requirement already satisfied: soupsieve>1.2 in /usr/local/lib/python3.10/dist-packages (from beautifulsoup4->nbconvert>=5->notebook>=4.4.1->widgetsnbextension~=3.6.0->ipywidgets->bnlearn) (2.5)\n",
            "Requirement already satisfied: webencodings in /usr/local/lib/python3.10/dist-packages (from bleach->nbconvert>=5->notebook>=4.4.1->widgetsnbextension~=3.6.0->ipywidgets->bnlearn) (0.5.1)\n",
            "Requirement already satisfied: pycparser in /usr/local/lib/python3.10/dist-packages (from cffi>=1.0.1->argon2-cffi-bindings->argon2-cffi->notebook>=4.4.1->widgetsnbextension~=3.6.0->ipywidgets->bnlearn) (2.22)\n",
            "Requirement already satisfied: anyio<4,>=3.1.0 in /usr/local/lib/python3.10/dist-packages (from jupyter-server<3,>=1.8->notebook-shim>=0.2.3->nbclassic>=0.4.7->notebook>=4.4.1->widgetsnbextension~=3.6.0->ipywidgets->bnlearn) (3.7.1)\n",
            "Requirement already satisfied: websocket-client in /usr/local/lib/python3.10/dist-packages (from jupyter-server<3,>=1.8->notebook-shim>=0.2.3->nbclassic>=0.4.7->notebook>=4.4.1->widgetsnbextension~=3.6.0->ipywidgets->bnlearn) (1.8.0)\n",
            "Requirement already satisfied: sniffio>=1.1 in /usr/local/lib/python3.10/dist-packages (from anyio<4,>=3.1.0->jupyter-server<3,>=1.8->notebook-shim>=0.2.3->nbclassic>=0.4.7->notebook>=4.4.1->widgetsnbextension~=3.6.0->ipywidgets->bnlearn) (1.3.1)\n",
            "Requirement already satisfied: exceptiongroup in /usr/local/lib/python3.10/dist-packages (from anyio<4,>=3.1.0->jupyter-server<3,>=1.8->notebook-shim>=0.2.3->nbclassic>=0.4.7->notebook>=4.4.1->widgetsnbextension~=3.6.0->ipywidgets->bnlearn) (1.2.1)\n"
          ]
        }
      ],
      "source": [
        "# !python.exe -m pip install --upgrade pip\n",
        "# !pip install numpy\n",
        "# !pip install pandas\n",
        "# !pip install scikit-learn\n",
        "# !pip install openpyxl\n",
        "!pip install -U DoubleML\n",
        "!pip install doubleml\n",
        "!pip install bnlearn"
      ]
    },
    {
      "cell_type": "code",
      "execution_count": 102,
      "metadata": {
        "id": "ucKwji0Ak15r"
      },
      "outputs": [],
      "source": [
        "# Подключим необходимые библиотеки\n",
        "import numpy as np\n",
        "import pandas as pd\n",
        "import scipy as scipy\n",
        "from copy import deepcopy\n",
        "import math\n",
        "from scipy.stats import multivariate_normal\n",
        "import matplotlib.pyplot as plt\n",
        "from scipy.stats import t, chi2, f, norm, poisson, binom, uniform, expon, logistic\n",
        "import seaborn\n",
        "import networkx as nx\n",
        "from warnings import filterwarnings\n",
        "filterwarnings(\"ignore\")\n",
        "import scipy as scipy\n",
        "import random\n",
        "from sklearn.naive_bayes import CategoricalNB             # наивный Байесовский классификатор\n",
        "\n",
        "from sklearn.model_selection import train_test_split      # разделение выборки на\n",
        "                                                          # обучающую и тестовую\n",
        "from sklearn.model_selection import cross_val_score       # кросс-валидация\n",
        "from sklearn.model_selection import KFold                 # разбиение на части (folds)\n",
        "from sklearn.utils import shuffle                         # случайная перестановка\n",
        "from sklearn.neighbors import KNeighborsClassifier        # метод ближайшие соседей\n",
        "import sklearn\n",
        "from sklearn.model_selection import GridSearchCV\n",
        "from sklearn.ensemble import RandomForestClassifier       # случайный лес (классификация)\n",
        "from sklearn.ensemble import RandomForestRegressor        # случайный лес (регрессия)\n",
        "from sklearn import tree                                  # решающие деревья\n",
        "from sklearn.inspection import permutation_importance     # перестановочная важность\n",
        "from scipy.stats import rankdata                          # ранжирование элементов\n",
        "from sklearn.ensemble import BaggingClassifier            # бэггинг\n",
        "from copy import deepcopy                                 # копирование объектов\n",
        "from sklearn.linear_model import LinearRegression\n",
        "from sklearn.linear_model import LogisticRegression\n",
        "from sklearn.metrics import accuracy_score\n",
        "from sklearn.model_selection import cross_val_score\n",
        "from sklearn.ensemble import RandomForestClassifier\n",
        "from sklearn.metrics import precision_score\n",
        "from sklearn import metrics\n",
        "from sklearn.metrics import RocCurveDisplay\n",
        "from sklearn.metrics import confusion_matrix\n",
        "import math\n",
        "import bnlearn\n",
        "from sklearn.metrics import mean_squared_error, mean_absolute_percentage_error\n",
        "from sklearn import tree\n",
        "from sklearn.neighbors import KNeighborsRegressor\n",
        "import statsmodels.api as sm\n",
        "import statsmodels.formula.api as smf\n",
        "import doubleml as dml\n",
        "from sklearn.ensemble import GradientBoostingClassifier\n",
        "from sklearn.ensemble import GradientBoostingRegressor\n"
      ]
    },
    {
      "cell_type": "markdown",
      "metadata": {
        "id": "qIqJUoGbfY1t"
      },
      "source": [
        "# 1. Обоснование темы"
      ]
    },
    {
      "cell_type": "markdown",
      "metadata": {
        "id": "AbqPd9nyhweb"
      },
      "source": [
        "1. Придумайте непрерывную зависимую (целевую) переменную и бинарную переменную воздействия.\n"
      ]
    },
    {
      "cell_type": "markdown",
      "metadata": {
        "id": "sIIbvzfek-Hx"
      },
      "source": [
        "**Целевая переменная** - вес новорожденного в килограммах $\\text{Weight}_{i}$.\n",
        "\n",
        "**Переменная воздействия** - факт курения матери $\\text{Smoking}_{i}$ (1 - курит, 0 - нет).\n",
        "\n",
        "**Ненаблюдаемые переменные, порождающие эндогенность**:\n",
        "\n",
        "*  $\\text{Genes}_{i}$ - генетические факторы матери. Так как данная ненаблюдаемая переменная связана с курением, появляется эндогенность и необходимость в инструменте.\n"
      ]
    },
    {
      "cell_type": "markdown",
      "source": [
        "Обозначим также, что наша тема актуальна. [2024 год Указом Президента Российской Федерации Владимира Путина объявлен Годом семьи.](https://edu.gov.ru/family_year) А одной из главных задач российской политики на сегодняшний день является повышение рождаемости."
      ],
      "metadata": {
        "id": "_cXWKxOSyNaV"
      }
    },
    {
      "cell_type": "markdown",
      "metadata": {
        "id": "-RKW3M5AiUo-"
      },
      "source": [
        "2. Опишите, для чего может быть полезно изучение влияния переменной воздействия на зависимую переменную. В частности, укажите, как эта информация может быть использована бизнесом или государственными органами."
      ]
    },
    {
      "cell_type": "markdown",
      "metadata": {
        "id": "N9cL4ziGrKPp"
      },
      "source": [
        "Данная информация очень важна для изучения, так как вес новорожденного непременно влияет на его здоровье и дальнейшее развитие - набор веса и реализация ресурсов для роста малыша. Также вес новорожденного и дальнейшее его измерение через равные промежутки времени (например, по месяцам) позволяет выявить и определить определенные болезни. Поэтому важно знать изначальную точку - вес только что рожденного ребенка.\n",
        "\n",
        "Переменная воздействия - курение матери, оказывает, согласно многочисленным статьям, отрицательное воздействие на здоровье малыша. Как мы узнали из дополнительного ресурса(Источник:https://clck.ru/3B4Wz2) курение вызывает мутацию в генах матери и, соответственно, ребенка, что негативно сказывается на его здоровье. Подробнее будет описано в пункте генерации данных.\n",
        "\n",
        "Что касается использования информации госорганами, то нам кажется эта информация довольно важной на государственном уровне, так как дает представление и о новорожденном населении, и о его здоровье, и возможности его обеспечивать экономический рост, а также даже возможность предсказать здоровье будущего поколения, его численность, экономическое развитие и бюджет, который будет требоваться либо для поддержания населения, либо для улучшения его здоровья. Говоря о России, то рождаемость здесь низкая, качество здоровья в современном мире поддерживать трудно из-за неправильного питания, изобилия фастфуда, постоянной гонки и стресса, поэтому курение матери также усугубит данную ситуацию.\n",
        "\n",
        "Что касается бизнеса, то это может восприниматься с двух сторон: так как курение, ни для кого не секрет, оказывает отрицательное воздействие на организм, то табачные компании будут терять покупателей-беременых женщин, однако нам кажется, что бросание курить ради вынашивания плода, то есть определенный промежуток времени, возьмем, допустим, 1,5 года, не приведет к сильным убыткам. Гораздо сильнее может воздействовать принцип ЗОЖ, распространяющийся на всех и навсегда. С другой стороны, многие наверняка захотят воспользоваться этой информацией с точки зрения получения прибыли, и например, будет предлагать товары или услуги по помощи избавления от курения навегда или замещению курения (то ли спорт, то ли другие виды \"безопасных\" сигарет)."
      ]
    },
    {
      "cell_type": "markdown",
      "metadata": {
        "id": "fnbcSCYFiWkO"
      },
      "source": [
        "3. Обоснуйте наличие причинно-следственной связи между зависимой переменной и переменной воздействия. Приведите не менее 2-х источников из научной литературы, подкрепляющих ваши предположения.\n"
      ]
    },
    {
      "cell_type": "markdown",
      "metadata": {
        "id": "vjdHZMHStYcT"
      },
      "source": [
        "Основная статья, которую мы отыскали и считаем наиболее экспертной, это [\"Maternal Smoking, Misclassification, and Infant Health\" Tanguy Brachet](https://papers.ssrn.com/Sol3/papers.cfm?abstract_id=1009781) . Здесь рассматривались различные эффекты, например, как влияют налоги на курение и, что для нас представляло основной интерес, влияние курения на вес новорожденного. В статье отмечается, что это негативное влияние курения на плод нельзя отрицать. В статье подробно описаны экономические модели и методология, приведены ненаблюдаемые переменные и подход к попытке измерить эти данные (то есть борьба с эндогенностью, использование инструментальных переменных). Исследование довольно масштабное, поэтому мы приведем основные черты: были рассмотрены различные группы матерей, которые были разделены на расы и курящих/некурящих. Что касается модели, то была предложена линейная модель с прогнозированием веса новорожденного, где независимыми переменными выступали факт курения матери, вектор ее характеристик и ненаблюдаемые факторы или ошибка. Как говорится в статье, учитывая наблюдаемые различия в характеристиках курящих и некурящих, о которых они сами сообщили,\n",
        "вполне разумно ожидать, что ненаблюдаемые факторы, определяющие массу тела при рождении, также будут различаться\n",
        "в этих двух группах. Это обосновывает подход с использованием инструментальных переменных, при котором государственные\n",
        "акцизы на сигареты влияют на дородовое курение матерей. Было отмечено, что в среднем дети рожденные курящими матерями на  200 грамм меньше, чем рожденные от некурящих, а также интересно то, что курящие женщины чаще, чем в другой группе, рожали недоношенных детей, в частости раньше 36 недели, в то время как нормой считается 39-40 недели.\n",
        "Как уже было сказано, перменная воздействия - курение матери - негативно отражается на здоровье ребенка, и как мы предположили, отрицательно влияет на вес новорожденного. Связано это с тем, что курение матери воздействует на гены как матери, так и ребенка. А также в исследовании, которое подтверждает нашу точку зрения ([\"Исследование медико-социальных факторов влияния образа жизни беременных на состояние здоровья рожденных ими детей\" / Никитина Н.Н. и др.](https://cyberleninka.ru/article/n/issledovanie-mediko-sotsialnyh-faktorov-vliyaniya-obraza-zhizni-beremennyh-na-sostoyanie-zdorovya-rozhdennyh-imi-detey/viewer)), сказано, что факт курения матери до или во время беременности сильно снижал вес новорожденного в отличие от группы малышей некурящих матерей. А также согласно второму исследованию ([\"Влияние табакокурения на гестационный прирост массы тела беременных и массу их новорожденных\"/ Покусаева В.Н. и др.](https://cyberleninka.ru/article/n/vliyanie-tabakokureniya-na-gestatsionnyy-prirost-massy-tela-beremennyh-i-massu-ih-novorozhdennyh?ysclid=lx02p0s9aw783231945), ), курящие матери набирали меньше килограммов во время беременности в связи с подавлением чувства голода с помощью сигарет, поэтому и дети рождались у них с меньшей массой тела."
      ]
    },
    {
      "cell_type": "markdown",
      "metadata": {
        "id": "xyKy1jeuihQO"
      },
      "source": [
        "4. Кратко опишите результаты предшествовавших исследований по схожей тематике и критически оцените методологию этих работ с точки зрения гибкости (жесткости предпосылок) использовавшихся методов эконометрического анализа."
      ]
    },
    {
      "cell_type": "markdown",
      "metadata": {
        "id": "kT-L47h8tZch"
      },
      "source": [
        "В \"Исследовании медико-социальных факторов влияния образа жизни беременных на состояние здоровья рожденных ими детей\" Никитиной Н.Н. и др. говорится о выборке из 175 мам, которые употребляли алкоголь и/или курили. Методология данного исследования показалась довольно скудной, однако все-таки решили сослаться на него, так как нас интересуют прежде всего российские исследования. Выборка на наш взгляд мала, а такие индивидуальные факторы как здоровье матери (как отдельный оцененный фактор - например, как шкала - не был включен в изучение, на сколько мы поняли. Это было бы отличным дополнением, несмотря на то, что были конкретные методы отбора матерей по заболеваниям и анализам, но наличие шкалы здоровья не помешало бы воспринимать лучше информацию), финансовое положение, социальные факторы не были достаточно учтены или описаны в исследовании.\n",
        "Еще один ограничивающий фактор - это взвешивание и наблюдение за матерями в определенный сезон - летом. Мы думаем, что исследование выборок с примерно равным количеством родившихся детей в каждый месяц/квартал давало бы более достоверную картину, потому что матери, рожающие летом или зимой по разному проводят и свой досуг, и вероятность заболеваний разная, и погодные факторы (например, беременность в период аллергий также влияет на плод).\n",
        "Стоит отметить в целом ограниченность и сложность моделирования веса младенцев из-за сложности отслеживания и фактического здоровья матери, и наблюдения рождения детей в определенный период.\n",
        "То есть предпосылки достаточно размытые, сами методы обозначены довольно смутно, скорее всего это исследование не включало какой-то продвинутый регрессионный анализ. Неясно обозначены огранчивающие факторы, которые приводят к эндогенности и интресено было бы проследить мультиколлинеарность факторов.\n",
        "\n",
        "Что касается второго исследования \"Влияние табакокурения на гестационный прирост массы тела беременных и массу их новорожденных\" Покусаевой и др. также отмечается выборка из 175 матерей, однако в данном исследовании намного более детально подходят к женскому здоровью, отмечая важность наличия перед беременностью эндокринных нарушений, то есть это ненаблюдаемый фактор, так как он может быть неизвестен и никак не проявляться. Включая в ииследование ИМТ, который может быть свидетем данных заболеваний, исследователи, можно сказать, борются с эндогенностью. Также важно отметить, что в данном исследовании матери были разделены на 3 группы: курящие во время беременности, прекратившие курить с началом беременности и курившие в начале беременности, а также отрицающие факт курения. Это, конечно, добавляет информативности исследованию, так как было замечено различие между разными группами матерей, например, рождение маловесных детей было статистически выявлено только в первой группе постоянно курящих матерей.\n",
        "Данное исследование довольно хорошо и понятно описивыет и методологию и результаты, приводя статистические данные, однако мы считаем, что способы вычисления тех или иных статистик также не было бы лишним прописать.\n",
        "\n"
      ]
    },
    {
      "cell_type": "markdown",
      "metadata": {
        "id": "zB14Dom3ihdR"
      },
      "source": [
        "5. Придумайте хотя бы 3 контрольные переменные, по крайней мере одна из которых должна быть бинарной и хотя бы одна – непрерывной. Кратко обоснуйте выбор каждой из них."
      ]
    },
    {
      "cell_type": "markdown",
      "metadata": {
        "id": "HSZIIv7UjXiF"
      },
      "source": [
        "**Контрольные переменные**:\n",
        "\n",
        "*   $\\text{Age}_{i}$ - возраст матери. Данная переменная поможет рассмотреть, как возраст матери влияет на курение.\n",
        "*   $\\text{Full_term}_{i}$ - факт рождения доношенного ребенка (1 - доношен, 0 - нет). Эта переменная рассматривается со стороны влияния курения на состояние ребенка.\n",
        "*   $\\text{Married}_{i}$ - семейный статус (1 - в браке, 0 - холостой). Влияние семейного положения на курение.\n",
        "*   $\\text{Income}_{i}$ - общий доход семьи в тысячах рублей (мать + отец). Влияние дохода семьи на курение.\n",
        "\n"
      ]
    },
    {
      "cell_type": "markdown",
      "metadata": {
        "id": "i9WW3DxOi_IV"
      },
      "source": [
        "6. Придумайте бинарную инструментальную переменную и обоснуйте, почему она удовлетворяет необходимым условиям.\n"
      ]
    },
    {
      "cell_type": "markdown",
      "metadata": {
        "id": "I3xGudsmkd4q"
      },
      "source": [
        "**Инструментальная переменная** - факт наличия у матери в ближайшем окружении курящих людей $\\text{Smoking_friends}_{i}$ (1 - есть, 0 - нет).\n",
        "\n",
        "Она удовлетворяет необходимым условиям, так как связана с фактором курения матери, но никак не связана с весом новорожденного ребенка.\n",
        "Также, благодаря данной пременной, мы предполагаем для нашего исследования, что условная вероятность факта наличия курящих друзей у матери положительно связана с доходом и браком, а с доношенностью ребенка и возрастом - отрицательно.\n"
      ]
    },
    {
      "cell_type": "markdown",
      "metadata": {
        "id": "PpT-lwwolf_P"
      },
      "source": [
        "# 2. Генерация и предварительная обработка данных\n",
        "\n",
        "\n"
      ]
    },
    {
      "cell_type": "markdown",
      "metadata": {
        "id": "a55BOU4GliWS"
      },
      "source": [
        "## **1. Опишите математически предполагаемый вами процесс генерации данных.**\n"
      ]
    },
    {
      "cell_type": "markdown",
      "metadata": {
        "id": "DiCd9CY4Bf6V"
      },
      "source": [
        "Будем генерировать возраст матери $\\text{Age}_{i}$ взяв за основу нормальное распределение $\\text{N}\\left(29, 7^2\\right)$.\n",
        "Переменную $\\text{Income}_{i}$ будем генерировать с помощью нормального распределения $\\text{N}\\left(100, 40^2\\right)$ , предполагая, что средний доход семьи 100 000 рублей.\n",
        "Поскольку $\\text{Married}_{i}$ является бинарной переменной, принимающей значения $0$ и $1$, то она имеет распределение Бернулли $\\text{Married}_{i}\\sim\\text{Ber}(p)$. Предположим, что в в браке рожают $75\\%$ женщин, откуда $p=0.75$.\n",
        "По аналогии сгенерируем переменную на рождение доношенного ребенка, предполагая $\\text{Full_term}_{i}\\sim\\text{Ber}\\left(0.9\\right)$.\n",
        "\n",
        "Ниже перед каждой генерацией контрольных переменных, ненаблюдаемой переменной, инструментальной, переменной воздействия и целевой прописываем используемый математический процесс."
      ]
    },
    {
      "cell_type": "markdown",
      "metadata": {
        "id": "rwhsPBkxfY1t"
      },
      "source": [
        "##**2. Кратко обоснуйте предполагаемые направления связей зависимой переменной и переменной воздействия с контрольными переменными.**"
      ]
    },
    {
      "cell_type": "code",
      "execution_count": 103,
      "metadata": {
        "colab": {
          "base_uri": "https://localhost:8080/",
          "height": 406
        },
        "id": "Boru-KQLDOEE",
        "outputId": "1935ae4e-f640-400a-da4a-a435283b1c88"
      },
      "outputs": [
        {
          "output_type": "display_data",
          "data": {
            "text/plain": [
              "<Figure size 640x480 with 1 Axes>"
            ],
            "image/png": "[encoded data removed]"
          },
          "metadata": {}
        }
      ],
      "source": [
        "# Визуализируем предполагаемые связи\n",
        "\n",
        "# Стиль отображения графика\n",
        "\n",
        "nx_options = {\n",
        "    'with_labels': True,\n",
        "    'node_size': 1000,\n",
        "    'node_color': 'lightblue',\n",
        "    'font_size': 10,\n",
        "    'font_weight': 'bold',\n",
        "    'arrowsize': 20,\n",
        "}\n",
        "\n",
        "# Связи\n",
        "edges = [\n",
        "    ('age', 'weight'),         # (откуда стрелочка, куда стрелочка)\n",
        "    ('income', 'weight'),\n",
        "    ('full_term', 'weight'),\n",
        "    ('married', 'weight'),\n",
        "    ('genes', 'weight'),\n",
        "    ('smoking', 'weight'),\n",
        "    ('smoking', 'genes'),\n",
        "    ('smoking_friends', 'smoking'),\n",
        "\n",
        "]\n",
        "\n",
        "# Инициализируем граф\n",
        "G = nx.DiGraph(directed = True)\n",
        "G.add_edges_from(edges)\n",
        "\n",
        "# Отображаем граф\n",
        "np.random.seed(8)\n",
        "nx.draw_networkx(G, arrows = True, **nx_options)"
      ]
    },
    {
      "cell_type": "markdown",
      "source": [
        "На вес ребенка беременной женщины влияют возраст, гены, курит или нет, семейное положение матери, доход семьи и фактор доношенности ребенка. В свою очередь окружение беременной влияет на то, курит она или нет, а далее и курение влияет на гены матери, что мы подтверждаем ресурсом, указанным ниже."
      ],
      "metadata": {
        "id": "Kckr1alcO-gA"
      }
    },
    {
      "cell_type": "markdown",
      "metadata": {
        "id": "AntZB-2Glpih"
      },
      "source": [
        "##**3. Симулируйте данные в соответствии с предполагаемым вами процессом и приведите корреляционную матрицу, а также таблицу со следующими описательными статистиками:**"
      ]
    },
    {
      "cell_type": "markdown",
      "metadata": {
        "id": "MgdK5SEg5aUw"
      },
      "source": [
        "###**Генерация контрольных переменных** ⭐"
      ]
    },
    {
      "cell_type": "markdown",
      "metadata": {
        "id": "xjoSkDX1qy0R"
      },
      "source": [
        "Будем генерировать возраст матери $\\text{Age}_{i}$ взяв за основу нормальное распределение $\\text{N}\\left(29, 7^2\\right)$."
      ]
    },
    {
      "cell_type": "code",
      "execution_count": 104,
      "metadata": {
        "id": "DCz283wb5jnA"
      },
      "outputs": [],
      "source": [
        "# Число наблюдений\n",
        "n = 10000"
      ]
    },
    {
      "cell_type": "markdown",
      "metadata": {
        "id": "_PddezLJfY1u"
      },
      "source": [
        "По статье: \"Средний возраст женщины при рождении ребенка составил 28 лет и 7 месяцев.\" Поэтому мы округлили и взяли средний возраст равный 29 годам.\n",
        "Стандартное отклонение подбиралось так, чтобы разброс составлял примерно 2 стандартных отклонения от среднего в обе стороны.\n",
        "Источник: https://dzen.ru/a/Yqm1W4LPgXvJUibX"
      ]
    },
    {
      "cell_type": "code",
      "execution_count": 105,
      "metadata": {
        "colab": {
          "base_uri": "https://localhost:8080/"
        },
        "id": "-WKxVgSc5d8i",
        "outputId": "9b6af0a6-0cd5-4932-d6c4-4d91c1834b08"
      },
      "outputs": [
        {
          "output_type": "stream",
          "name": "stdout",
          "text": [
            "[21. 36. 31. 18. 25. 41. 14. 26. 38. 23.]\n"
          ]
        }
      ],
      "source": [
        "np.random.seed(123)\n",
        "age = norm.rvs(size = n, loc = 29, scale = 7)\n",
        "\n",
        "# Для красоты ограничим минимальные и максимальные значения\n",
        "age[age >= 55] = 55\n",
        "age[age <= 14]  = 14\n",
        "\n",
        "# Также, для удобства введем округление\n",
        "age = np.round(age)\n",
        "\n",
        "# Посмотрим на несколько первых значений\n",
        "print(age[0:10])"
      ]
    },
    {
      "cell_type": "code",
      "execution_count": 106,
      "metadata": {
        "colab": {
          "base_uri": "https://localhost:8080/",
          "height": 452
        },
        "id": "_DgQaUIk_p4E",
        "outputId": "db3bb53f-32e4-4cc0-e4d9-9c47421f6385"
      },
      "outputs": [
        {
          "output_type": "display_data",
          "data": {
            "text/plain": [
              "<Figure size 640x480 with 1 Axes>"
            ],
            "image/png": "[encoded data removed]"
          },
          "metadata": {}
        }
      ],
      "source": [
        "# Посмотрим на распределение\n",
        "seaborn.histplot(age,                 # данные\n",
        "                 stat = 'density',           # тип гистограммы\n",
        "                 color = \"palevioletred\",    # цвет гистограммы\n",
        "                 label = \"histogram\",        # наименование гистограммы\n",
        "                 bins = 100)                 # число столбиков в Гистограмме\n",
        "plt.title('Гистограмма распределения возраста матери')\n",
        "plt.show()"
      ]
    },
    {
      "cell_type": "markdown",
      "metadata": {
        "id": "shdfVRbyfY1v"
      },
      "source": [
        "Генерируем переменную $\\text{Income}_{i}$, предполагая, что средний доход семьи 100 000 рублей.\n",
        "\n"
      ]
    },
    {
      "cell_type": "code",
      "execution_count": 107,
      "metadata": {
        "colab": {
          "base_uri": "https://localhost:8080/"
        },
        "id": "o06wTcOTfY1v",
        "outputId": "e13a0d9e-caaa-4472-d70f-d1f3c1ab9430"
      },
      "outputs": [
        {
          "output_type": "stream",
          "name": "stdout",
          "text": [
            "[119.  73. 110.  32. 130.  39. 100.  95.  68. 200.]\n"
          ]
        }
      ],
      "source": [
        "np.random.seed(12)\n",
        "income = norm.rvs(size = n, loc = 100, scale = 40)\n",
        "\n",
        "# Для красоты ограничим минимальные и максимальные значения\n",
        "income[income >= 200] = 200\n",
        "income[income <= 15]  = 15\n",
        "\n",
        "# Также, для удобства введем округление\n",
        "income = np.round(income)\n",
        "\n",
        "# Посмотрим на несколько первых значений\n",
        "print(income[0:10])"
      ]
    },
    {
      "cell_type": "code",
      "execution_count": 108,
      "metadata": {
        "colab": {
          "base_uri": "https://localhost:8080/",
          "height": 452
        },
        "id": "YgjhzbtKfY1v",
        "outputId": "cff0e951-4650-42d2-a347-c0b95c112ed3"
      },
      "outputs": [
        {
          "output_type": "display_data",
          "data": {
            "text/plain": [
              "<Figure size 640x480 with 1 Axes>"
            ],
            "image/png": "[encoded data removed]"
          },
          "metadata": {}
        }
      ],
      "source": [
        "# Посмотрим на распределение\n",
        "seaborn.histplot(income,                 # данные\n",
        "                 stat = 'density',           # тип гистограммы\n",
        "                 color = \"palevioletred\",    # цвет гистограммы\n",
        "                 label = \"histogram\",        # наименование гистограммы\n",
        "                 bins = 100)                 # число столбиков в Гистограмме\n",
        "plt.title('Гистограмма распределения дохода семьи')\n",
        "plt.show()"
      ]
    },
    {
      "cell_type": "markdown",
      "metadata": {
        "id": "El-WNj0p64mt"
      },
      "source": [
        "Поскольку $\\text{Married}_{i}$ является бинарной переменной, принимающей значения $0$ и $1$, то она имеет распределение Бернулли $\\text{Married}_{i}\\sim\\text{Ber}(p)$. Предположим, что в в браке рожают $75\\%$ женщин, откуда $p=0.75$."
      ]
    },
    {
      "cell_type": "markdown",
      "metadata": {
        "id": "tiaqqMKvo1q4"
      },
      "source": [
        "• Для бинарных переменных: доля и количество единиц.\n"
      ]
    },
    {
      "cell_type": "code",
      "execution_count": 109,
      "metadata": {
        "colab": {
          "base_uri": "https://localhost:8080/"
        },
        "id": "UhkvV_j96uQW",
        "outputId": "85c2c3a4-753f-473f-a544-7b79c1865816"
      },
      "outputs": [
        {
          "output_type": "stream",
          "name": "stdout",
          "text": [
            "[1 1 1 1 1 1 0 1 1 1]\n"
          ]
        }
      ],
      "source": [
        "# Сгенерируем переменную на факт состояния в браке\n",
        "np.random.seed(123)\n",
        "married = np.random.binomial(n = 1, p = 0.75, size = n)\n",
        "\n",
        "# Посмотрим на первые несколько значений\n",
        "\n",
        "print(married[0:10])"
      ]
    },
    {
      "cell_type": "code",
      "execution_count": 110,
      "metadata": {
        "colab": {
          "base_uri": "https://localhost:8080/"
        },
        "id": "Vo3mQG10o4c6",
        "outputId": "59f965be-ad26-4a40-d7fb-746b8ea735a0"
      },
      "outputs": [
        {
          "output_type": "execute_result",
          "data": {
            "text/plain": [
              "7553"
            ]
          },
          "metadata": {},
          "execution_count": 110
        }
      ],
      "source": [
        "#количество единиц\n",
        "np.count_nonzero(married==1)"
      ]
    },
    {
      "cell_type": "code",
      "execution_count": 111,
      "metadata": {
        "colab": {
          "base_uri": "https://localhost:8080/"
        },
        "id": "jYn-CGrMAzot",
        "outputId": "cbbbe9c0-a422-445e-c276-4a881978106c"
      },
      "outputs": [
        {
          "output_type": "stream",
          "name": "stdout",
          "text": [
            "0.7553\n"
          ]
        }
      ],
      "source": [
        "# Доля рожениц, состоящих в браке\n",
        "print(np.mean(married))"
      ]
    },
    {
      "cell_type": "markdown",
      "metadata": {
        "id": "Ky0Q02d-BUr_"
      },
      "source": [
        "По аналогии сгенерируем переменную на рождение доношенного ребенка, предполагая $\\text{Full_term}_{i}\\sim\\text{Ber}\\left(0.9\\right)$.\n",
        "\n",
        "\"В мире, по данным Всемирной организации здравоохранения, ежегодно 15 миллионов детей рождаются раньше срока — до истечения 37-й недели беременности. Это каждый десятый ребенок.\" Поэтому мы рассматриваем вероятность равную 0,9.\n",
        "\n",
        "Источник: https://clck.ru/3B4WpJ"
      ]
    },
    {
      "cell_type": "code",
      "execution_count": 112,
      "metadata": {
        "colab": {
          "base_uri": "https://localhost:8080/"
        },
        "id": "Ar93_LPOBf4U",
        "outputId": "8bbf6a40-93c8-43c7-9ee6-a4d8b847a0cf"
      },
      "outputs": [
        {
          "output_type": "stream",
          "name": "stdout",
          "text": [
            "0.8974\n"
          ]
        }
      ],
      "source": [
        "full_term = np.random.binomial(n = 1, p = 0.9, size = n)\n",
        "#доля доношенных детей\n",
        "print(np.mean(full_term))"
      ]
    },
    {
      "cell_type": "code",
      "execution_count": 113,
      "metadata": {
        "colab": {
          "base_uri": "https://localhost:8080/"
        },
        "id": "sBWj9hwWtNFA",
        "outputId": "3024be8b-3182-4905-c4be-5aeea4c1765d"
      },
      "outputs": [
        {
          "output_type": "execute_result",
          "data": {
            "text/plain": [
              "8974"
            ]
          },
          "metadata": {},
          "execution_count": 113
        }
      ],
      "source": [
        "#количество единиц\n",
        "np.count_nonzero(full_term==1)"
      ]
    },
    {
      "cell_type": "code",
      "execution_count": 114,
      "metadata": {
        "colab": {
          "base_uri": "https://localhost:8080/",
          "height": 206
        },
        "id": "G9kmDM45fY1w",
        "outputId": "616c06bd-542c-4e30-ddeb-b01a1d268375"
      },
      "outputs": [
        {
          "output_type": "execute_result",
          "data": {
            "text/plain": [
              "    age  income  married  full_term\n",
              "0  21.0   119.0        1          1\n",
              "1  36.0    73.0        1          1\n",
              "2  31.0   110.0        1          1\n",
              "3  18.0    32.0        1          1\n",
              "4  25.0   130.0        1          1"
            ],
            "text/html": [
              "\n",
              "  <div id=\"df-aff57c10-17bb-419c-9044-04dc90512fb2\" class=\"colab-df-container\">\n",
              "    <div>\n",
              "<style scoped>\n",
              "    .dataframe tbody tr th:only-of-type {\n",
              "        vertical-align: middle;\n",
              "    }\n",
              "\n",
              "    .dataframe tbody tr th {\n",
              "        vertical-align: top;\n",
              "    }\n",
              "\n",
              "    .dataframe thead th {\n",
              "        text-align: right;\n",
              "    }\n",
              "</style>\n",
              "<table border=\"1\" class=\"dataframe\">\n",
              "  <thead>\n",
              "    <tr style=\"text-align: right;\">\n",
              "      <th></th>\n",
              "      <th>age</th>\n",
              "      <th>income</th>\n",
              "      <th>married</th>\n",
              "      <th>full_term</th>\n",
              "    </tr>\n",
              "  </thead>\n",
              "  <tbody>\n",
              "    <tr>\n",
              "      <th>0</th>\n",
              "      <td>21.0</td>\n",
              "      <td>119.0</td>\n",
              "      <td>1</td>\n",
              "      <td>1</td>\n",
              "    </tr>\n",
              "    <tr>\n",
              "      <th>1</th>\n",
              "      <td>36.0</td>\n",
              "      <td>73.0</td>\n",
              "      <td>1</td>\n",
              "      <td>1</td>\n",
              "    </tr>\n",
              "    <tr>\n",
              "      <th>2</th>\n",
              "      <td>31.0</td>\n",
              "      <td>110.0</td>\n",
              "      <td>1</td>\n",
              "      <td>1</td>\n",
              "    </tr>\n",
              "    <tr>\n",
              "      <th>3</th>\n",
              "      <td>18.0</td>\n",
              "      <td>32.0</td>\n",
              "      <td>1</td>\n",
              "      <td>1</td>\n",
              "    </tr>\n",
              "    <tr>\n",
              "      <th>4</th>\n",
              "      <td>25.0</td>\n",
              "      <td>130.0</td>\n",
              "      <td>1</td>\n",
              "      <td>1</td>\n",
              "    </tr>\n",
              "  </tbody>\n",
              "</table>\n",
              "</div>\n",
              "    <div class=\"colab-df-buttons\">\n",
              "\n",
              "  <div class=\"colab-df-container\">\n",
              "    <button class=\"colab-df-convert\" onclick=\"convertToInteractive('df-aff57c10-17bb-419c-9044-04dc90512fb2')\"\n",
              "            title=\"Convert this dataframe to an interactive table.\"\n",
              "            style=\"display:none;\">\n",
              "\n",
              "  <svg xmlns=\"http://www.w3.org/2000/svg\" height=\"24px\" viewBox=\"0 -960 960 960\">\n",
              "    <path d=\"M120-120v-720h720v720H120Zm60-500h600v-160H180v160Zm220 220h160v-160H400v160Zm0 220h160v-160H400v160ZM180-400h160v-160H180v160Zm440 0h160v-160H620v160ZM180-180h160v-160H180v160Zm440 0h160v-160H620v160Z\"/>\n",
              "  </svg>\n",
              "    </button>\n",
              "\n",
              "  <style>\n",
              "    .colab-df-container {\n",
              "      display:flex;\n",
              "      gap: 12px;\n",
              "    }\n",
              "\n",
              "    .colab-df-convert {\n",
              "      background-color: #E8F0FE;\n",
              "      border: none;\n",
              "      border-radius: 50%;\n",
              "      cursor: pointer;\n",
              "      display: none;\n",
              "      fill: #1967D2;\n",
              "      height: 32px;\n",
              "      padding: 0 0 0 0;\n",
              "      width: 32px;\n",
              "    }\n",
              "\n",
              "    .colab-df-convert:hover {\n",
              "      background-color: #E2EBFA;\n",
              "      box-shadow: 0px 1px 2px rgba(60, 64, 67, 0.3), 0px 1px 3px 1px rgba(60, 64, 67, 0.15);\n",
              "      fill: #174EA6;\n",
              "    }\n",
              "\n",
              "    .colab-df-buttons div {\n",
              "      margin-bottom: 4px;\n",
              "    }\n",
              "\n",
              "    [theme=dark] .colab-df-convert {\n",
              "      background-color: #3B4455;\n",
              "      fill: #D2E3FC;\n",
              "    }\n",
              "\n",
              "    [theme=dark] .colab-df-convert:hover {\n",
              "      background-color: #434B5C;\n",
              "      box-shadow: 0px 1px 3px 1px rgba(0, 0, 0, 0.15);\n",
              "      filter: drop-shadow(0px 1px 2px rgba(0, 0, 0, 0.3));\n",
              "      fill: #FFFFFF;\n",
              "    }\n",
              "  </style>\n",
              "\n",
              "    <script>\n",
              "      const buttonEl =\n",
              "        document.querySelector('#df-aff57c10-17bb-419c-9044-04dc90512fb2 button.colab-df-convert');\n",
              "      buttonEl.style.display =\n",
              "        google.colab.kernel.accessAllowed ? 'block' : 'none';\n",
              "\n",
              "      async function convertToInteractive(key) {\n",
              "        const element = document.querySelector('#df-aff57c10-17bb-419c-9044-04dc90512fb2');\n",
              "        const dataTable =\n",
              "          await google.colab.kernel.invokeFunction('convertToInteractive',\n",
              "                                                    [key], {});\n",
              "        if (!dataTable) return;\n",
              "\n",
              "        const docLinkHtml = 'Like what you see? Visit the ' +\n",
              "          '<a target=\"_blank\" href=https://colab.research.google.com/notebooks/data_table.ipynb>data table notebook</a>'\n",
              "          + ' to learn more about interactive tables.';\n",
              "        element.innerHTML = '';\n",
              "        dataTable['output_type'] = 'display_data';\n",
              "        await google.colab.output.renderOutput(dataTable, element);\n",
              "        const docLink = document.createElement('div');\n",
              "        docLink.innerHTML = docLinkHtml;\n",
              "        element.appendChild(docLink);\n",
              "      }\n",
              "    </script>\n",
              "  </div>\n",
              "\n",
              "\n",
              "<div id=\"df-201d1878-ae96-4f3c-9693-7949a5d4d155\">\n",
              "  <button class=\"colab-df-quickchart\" onclick=\"quickchart('df-201d1878-ae96-4f3c-9693-7949a5d4d155')\"\n",
              "            title=\"Suggest charts\"\n",
              "            style=\"display:none;\">\n",
              "\n",
              "<svg xmlns=\"http://www.w3.org/2000/svg\" height=\"24px\"viewBox=\"0 0 24 24\"\n",
              "     width=\"24px\">\n",
              "    <g>\n",
              "        <path d=\"M19 3H5c-1.1 0-2 .9-2 2v14c0 1.1.9 2 2 2h14c1.1 0 2-.9 2-2V5c0-1.1-.9-2-2-2zM9 17H7v-7h2v7zm4 0h-2V7h2v10zm4 0h-2v-4h2v4z\"/>\n",
              "    </g>\n",
              "</svg>\n",
              "  </button>\n",
              "\n",
              "<style>\n",
              "  .colab-df-quickchart {\n",
              "      --bg-color: #E8F0FE;\n",
              "      --fill-color: #1967D2;\n",
              "      --hover-bg-color: #E2EBFA;\n",
              "      --hover-fill-color: #174EA6;\n",
              "      --disabled-fill-color: #AAA;\n",
              "      --disabled-bg-color: #DDD;\n",
              "  }\n",
              "\n",
              "  [theme=dark] .colab-df-quickchart {\n",
              "      --bg-color: #3B4455;\n",
              "      --fill-color: #D2E3FC;\n",
              "      --hover-bg-color: #434B5C;\n",
              "      --hover-fill-color: #FFFFFF;\n",
              "      --disabled-bg-color: #3B4455;\n",
              "      --disabled-fill-color: #666;\n",
              "  }\n",
              "\n",
              "  .colab-df-quickchart {\n",
              "    background-color: var(--bg-color);\n",
              "    border: none;\n",
              "    border-radius: 50%;\n",
              "    cursor: pointer;\n",
              "    display: none;\n",
              "    fill: var(--fill-color);\n",
              "    height: 32px;\n",
              "    padding: 0;\n",
              "    width: 32px;\n",
              "  }\n",
              "\n",
              "  .colab-df-quickchart:hover {\n",
              "    background-color: var(--hover-bg-color);\n",
              "    box-shadow: 0 1px 2px rgba(60, 64, 67, 0.3), 0 1px 3px 1px rgba(60, 64, 67, 0.15);\n",
              "    fill: var(--button-hover-fill-color);\n",
              "  }\n",
              "\n",
              "  .colab-df-quickchart-complete:disabled,\n",
              "  .colab-df-quickchart-complete:disabled:hover {\n",
              "    background-color: var(--disabled-bg-color);\n",
              "    fill: var(--disabled-fill-color);\n",
              "    box-shadow: none;\n",
              "  }\n",
              "\n",
              "  .colab-df-spinner {\n",
              "    border: 2px solid var(--fill-color);\n",
              "    border-color: transparent;\n",
              "    border-bottom-color: var(--fill-color);\n",
              "    animation:\n",
              "      spin 1s steps(1) infinite;\n",
              "  }\n",
              "\n",
              "  @keyframes spin {\n",
              "    0% {\n",
              "      border-color: transparent;\n",
              "      border-bottom-color: var(--fill-color);\n",
              "      border-left-color: var(--fill-color);\n",
              "    }\n",
              "    20% {\n",
              "      border-color: transparent;\n",
              "      border-left-color: var(--fill-color);\n",
              "      border-top-color: var(--fill-color);\n",
              "    }\n",
              "    30% {\n",
              "      border-color: transparent;\n",
              "      border-left-color: var(--fill-color);\n",
              "      border-top-color: var(--fill-color);\n",
              "      border-right-color: var(--fill-color);\n",
              "    }\n",
              "    40% {\n",
              "      border-color: transparent;\n",
              "      border-right-color: var(--fill-color);\n",
              "      border-top-color: var(--fill-color);\n",
              "    }\n",
              "    60% {\n",
              "      border-color: transparent;\n",
              "      border-right-color: var(--fill-color);\n",
              "    }\n",
              "    80% {\n",
              "      border-color: transparent;\n",
              "      border-right-color: var(--fill-color);\n",
              "      border-bottom-color: var(--fill-color);\n",
              "    }\n",
              "    90% {\n",
              "      border-color: transparent;\n",
              "      border-bottom-color: var(--fill-color);\n",
              "    }\n",
              "  }\n",
              "</style>\n",
              "\n",
              "  <script>\n",
              "    async function quickchart(key) {\n",
              "      const quickchartButtonEl =\n",
              "        document.querySelector('#' + key + ' button');\n",
              "      quickchartButtonEl.disabled = true;  // To prevent multiple clicks.\n",
              "      quickchartButtonEl.classList.add('colab-df-spinner');\n",
              "      try {\n",
              "        const charts = await google.colab.kernel.invokeFunction(\n",
              "            'suggestCharts', [key], {});\n",
              "      } catch (error) {\n",
              "        console.error('Error during call to suggestCharts:', error);\n",
              "      }\n",
              "      quickchartButtonEl.classList.remove('colab-df-spinner');\n",
              "      quickchartButtonEl.classList.add('colab-df-quickchart-complete');\n",
              "    }\n",
              "    (() => {\n",
              "      let quickchartButtonEl =\n",
              "        document.querySelector('#df-201d1878-ae96-4f3c-9693-7949a5d4d155 button');\n",
              "      quickchartButtonEl.style.display =\n",
              "        google.colab.kernel.accessAllowed ? 'block' : 'none';\n",
              "    })();\n",
              "  </script>\n",
              "</div>\n",
              "    </div>\n",
              "  </div>\n"
            ],
            "application/vnd.google.colaboratory.intrinsic+json": {
              "type": "dataframe",
              "variable_name": "df",
              "summary": "{\n  \"name\": \"df\",\n  \"rows\": 10000,\n  \"fields\": [\n    {\n      \"column\": \"age\",\n      \"properties\": {\n        \"dtype\": \"number\",\n        \"std\": 6.9023346095582925,\n        \"min\": 14.0,\n        \"max\": 55.0,\n        \"num_unique_values\": 42,\n        \"samples\": [\n          46.0,\n          44.0,\n          38.0\n        ],\n        \"semantic_type\": \"\",\n        \"description\": \"\"\n      }\n    },\n    {\n      \"column\": \"income\",\n      \"properties\": {\n        \"dtype\": \"number\",\n        \"std\": 38.98741383887606,\n        \"min\": 15.0,\n        \"max\": 200.0,\n        \"num_unique_values\": 186,\n        \"samples\": [\n          171.0,\n          30.0,\n          40.0\n        ],\n        \"semantic_type\": \"\",\n        \"description\": \"\"\n      }\n    },\n    {\n      \"column\": \"married\",\n      \"properties\": {\n        \"dtype\": \"number\",\n        \"std\": 0,\n        \"min\": 0,\n        \"max\": 1,\n        \"num_unique_values\": 2,\n        \"samples\": [\n          0,\n          1\n        ],\n        \"semantic_type\": \"\",\n        \"description\": \"\"\n      }\n    },\n    {\n      \"column\": \"full_term\",\n      \"properties\": {\n        \"dtype\": \"number\",\n        \"std\": 0,\n        \"min\": 0,\n        \"max\": 1,\n        \"num_unique_values\": 2,\n        \"samples\": [\n          0,\n          1\n        ],\n        \"semantic_type\": \"\",\n        \"description\": \"\"\n      }\n    }\n  ]\n}"
            }
          },
          "metadata": {},
          "execution_count": 114
        }
      ],
      "source": [
        "df = pd.DataFrame()\n",
        "df['age']=age\n",
        "df['income']=income\n",
        "df['married']=married\n",
        "df['full_term']=full_term\n",
        "df.head()"
      ]
    },
    {
      "cell_type": "code",
      "execution_count": 115,
      "metadata": {
        "colab": {
          "base_uri": "https://localhost:8080/",
          "height": 175
        },
        "id": "ICcpI132fY1w",
        "outputId": "626dd8f9-f8b2-4c90-93fa-178e349d0b9d"
      },
      "outputs": [
        {
          "output_type": "execute_result",
          "data": {
            "text/plain": [
              "                age    income   married  full_term\n",
              "age        1.000000 -0.001369  0.002931  -0.016888\n",
              "income    -0.001369  1.000000  0.002596   0.005589\n",
              "married    0.002931  0.002596  1.000000  -0.022278\n",
              "full_term -0.016888  0.005589 -0.022278   1.000000"
            ],
            "text/html": [
              "\n",
              "  <div id=\"df-30bebee4-1ffe-4daa-ac27-808cbddefce7\" class=\"colab-df-container\">\n",
              "    <div>\n",
              "<style scoped>\n",
              "    .dataframe tbody tr th:only-of-type {\n",
              "        vertical-align: middle;\n",
              "    }\n",
              "\n",
              "    .dataframe tbody tr th {\n",
              "        vertical-align: top;\n",
              "    }\n",
              "\n",
              "    .dataframe thead th {\n",
              "        text-align: right;\n",
              "    }\n",
              "</style>\n",
              "<table border=\"1\" class=\"dataframe\">\n",
              "  <thead>\n",
              "    <tr style=\"text-align: right;\">\n",
              "      <th></th>\n",
              "      <th>age</th>\n",
              "      <th>income</th>\n",
              "      <th>married</th>\n",
              "      <th>full_term</th>\n",
              "    </tr>\n",
              "  </thead>\n",
              "  <tbody>\n",
              "    <tr>\n",
              "      <th>age</th>\n",
              "      <td>1.000000</td>\n",
              "      <td>-0.001369</td>\n",
              "      <td>0.002931</td>\n",
              "      <td>-0.016888</td>\n",
              "    </tr>\n",
              "    <tr>\n",
              "      <th>income</th>\n",
              "      <td>-0.001369</td>\n",
              "      <td>1.000000</td>\n",
              "      <td>0.002596</td>\n",
              "      <td>0.005589</td>\n",
              "    </tr>\n",
              "    <tr>\n",
              "      <th>married</th>\n",
              "      <td>0.002931</td>\n",
              "      <td>0.002596</td>\n",
              "      <td>1.000000</td>\n",
              "      <td>-0.022278</td>\n",
              "    </tr>\n",
              "    <tr>\n",
              "      <th>full_term</th>\n",
              "      <td>-0.016888</td>\n",
              "      <td>0.005589</td>\n",
              "      <td>-0.022278</td>\n",
              "      <td>1.000000</td>\n",
              "    </tr>\n",
              "  </tbody>\n",
              "</table>\n",
              "</div>\n",
              "    <div class=\"colab-df-buttons\">\n",
              "\n",
              "  <div class=\"colab-df-container\">\n",
              "    <button class=\"colab-df-convert\" onclick=\"convertToInteractive('df-30bebee4-1ffe-4daa-ac27-808cbddefce7')\"\n",
              "            title=\"Convert this dataframe to an interactive table.\"\n",
              "            style=\"display:none;\">\n",
              "\n",
              "  <svg xmlns=\"http://www.w3.org/2000/svg\" height=\"24px\" viewBox=\"0 -960 960 960\">\n",
              "    <path d=\"M120-120v-720h720v720H120Zm60-500h600v-160H180v160Zm220 220h160v-160H400v160Zm0 220h160v-160H400v160ZM180-400h160v-160H180v160Zm440 0h160v-160H620v160ZM180-180h160v-160H180v160Zm440 0h160v-160H620v160Z\"/>\n",
              "  </svg>\n",
              "    </button>\n",
              "\n",
              "  <style>\n",
              "    .colab-df-container {\n",
              "      display:flex;\n",
              "      gap: 12px;\n",
              "    }\n",
              "\n",
              "    .colab-df-convert {\n",
              "      background-color: #E8F0FE;\n",
              "      border: none;\n",
              "      border-radius: 50%;\n",
              "      cursor: pointer;\n",
              "      display: none;\n",
              "      fill: #1967D2;\n",
              "      height: 32px;\n",
              "      padding: 0 0 0 0;\n",
              "      width: 32px;\n",
              "    }\n",
              "\n",
              "    .colab-df-convert:hover {\n",
              "      background-color: #E2EBFA;\n",
              "      box-shadow: 0px 1px 2px rgba(60, 64, 67, 0.3), 0px 1px 3px 1px rgba(60, 64, 67, 0.15);\n",
              "      fill: #174EA6;\n",
              "    }\n",
              "\n",
              "    .colab-df-buttons div {\n",
              "      margin-bottom: 4px;\n",
              "    }\n",
              "\n",
              "    [theme=dark] .colab-df-convert {\n",
              "      background-color: #3B4455;\n",
              "      fill: #D2E3FC;\n",
              "    }\n",
              "\n",
              "    [theme=dark] .colab-df-convert:hover {\n",
              "      background-color: #434B5C;\n",
              "      box-shadow: 0px 1px 3px 1px rgba(0, 0, 0, 0.15);\n",
              "      filter: drop-shadow(0px 1px 2px rgba(0, 0, 0, 0.3));\n",
              "      fill: #FFFFFF;\n",
              "    }\n",
              "  </style>\n",
              "\n",
              "    <script>\n",
              "      const buttonEl =\n",
              "        document.querySelector('#df-30bebee4-1ffe-4daa-ac27-808cbddefce7 button.colab-df-convert');\n",
              "      buttonEl.style.display =\n",
              "        google.colab.kernel.accessAllowed ? 'block' : 'none';\n",
              "\n",
              "      async function convertToInteractive(key) {\n",
              "        const element = document.querySelector('#df-30bebee4-1ffe-4daa-ac27-808cbddefce7');\n",
              "        const dataTable =\n",
              "          await google.colab.kernel.invokeFunction('convertToInteractive',\n",
              "                                                    [key], {});\n",
              "        if (!dataTable) return;\n",
              "\n",
              "        const docLinkHtml = 'Like what you see? Visit the ' +\n",
              "          '<a target=\"_blank\" href=https://colab.research.google.com/notebooks/data_table.ipynb>data table notebook</a>'\n",
              "          + ' to learn more about interactive tables.';\n",
              "        element.innerHTML = '';\n",
              "        dataTable['output_type'] = 'display_data';\n",
              "        await google.colab.output.renderOutput(dataTable, element);\n",
              "        const docLink = document.createElement('div');\n",
              "        docLink.innerHTML = docLinkHtml;\n",
              "        element.appendChild(docLink);\n",
              "      }\n",
              "    </script>\n",
              "  </div>\n",
              "\n",
              "\n",
              "<div id=\"df-a7609ff8-2cff-40e8-a382-757df3d51e9a\">\n",
              "  <button class=\"colab-df-quickchart\" onclick=\"quickchart('df-a7609ff8-2cff-40e8-a382-757df3d51e9a')\"\n",
              "            title=\"Suggest charts\"\n",
              "            style=\"display:none;\">\n",
              "\n",
              "<svg xmlns=\"http://www.w3.org/2000/svg\" height=\"24px\"viewBox=\"0 0 24 24\"\n",
              "     width=\"24px\">\n",
              "    <g>\n",
              "        <path d=\"M19 3H5c-1.1 0-2 .9-2 2v14c0 1.1.9 2 2 2h14c1.1 0 2-.9 2-2V5c0-1.1-.9-2-2-2zM9 17H7v-7h2v7zm4 0h-2V7h2v10zm4 0h-2v-4h2v4z\"/>\n",
              "    </g>\n",
              "</svg>\n",
              "  </button>\n",
              "\n",
              "<style>\n",
              "  .colab-df-quickchart {\n",
              "      --bg-color: #E8F0FE;\n",
              "      --fill-color: #1967D2;\n",
              "      --hover-bg-color: #E2EBFA;\n",
              "      --hover-fill-color: #174EA6;\n",
              "      --disabled-fill-color: #AAA;\n",
              "      --disabled-bg-color: #DDD;\n",
              "  }\n",
              "\n",
              "  [theme=dark] .colab-df-quickchart {\n",
              "      --bg-color: #3B4455;\n",
              "      --fill-color: #D2E3FC;\n",
              "      --hover-bg-color: #434B5C;\n",
              "      --hover-fill-color: #FFFFFF;\n",
              "      --disabled-bg-color: #3B4455;\n",
              "      --disabled-fill-color: #666;\n",
              "  }\n",
              "\n",
              "  .colab-df-quickchart {\n",
              "    background-color: var(--bg-color);\n",
              "    border: none;\n",
              "    border-radius: 50%;\n",
              "    cursor: pointer;\n",
              "    display: none;\n",
              "    fill: var(--fill-color);\n",
              "    height: 32px;\n",
              "    padding: 0;\n",
              "    width: 32px;\n",
              "  }\n",
              "\n",
              "  .colab-df-quickchart:hover {\n",
              "    background-color: var(--hover-bg-color);\n",
              "    box-shadow: 0 1px 2px rgba(60, 64, 67, 0.3), 0 1px 3px 1px rgba(60, 64, 67, 0.15);\n",
              "    fill: var(--button-hover-fill-color);\n",
              "  }\n",
              "\n",
              "  .colab-df-quickchart-complete:disabled,\n",
              "  .colab-df-quickchart-complete:disabled:hover {\n",
              "    background-color: var(--disabled-bg-color);\n",
              "    fill: var(--disabled-fill-color);\n",
              "    box-shadow: none;\n",
              "  }\n",
              "\n",
              "  .colab-df-spinner {\n",
              "    border: 2px solid var(--fill-color);\n",
              "    border-color: transparent;\n",
              "    border-bottom-color: var(--fill-color);\n",
              "    animation:\n",
              "      spin 1s steps(1) infinite;\n",
              "  }\n",
              "\n",
              "  @keyframes spin {\n",
              "    0% {\n",
              "      border-color: transparent;\n",
              "      border-bottom-color: var(--fill-color);\n",
              "      border-left-color: var(--fill-color);\n",
              "    }\n",
              "    20% {\n",
              "      border-color: transparent;\n",
              "      border-left-color: var(--fill-color);\n",
              "      border-top-color: var(--fill-color);\n",
              "    }\n",
              "    30% {\n",
              "      border-color: transparent;\n",
              "      border-left-color: var(--fill-color);\n",
              "      border-top-color: var(--fill-color);\n",
              "      border-right-color: var(--fill-color);\n",
              "    }\n",
              "    40% {\n",
              "      border-color: transparent;\n",
              "      border-right-color: var(--fill-color);\n",
              "      border-top-color: var(--fill-color);\n",
              "    }\n",
              "    60% {\n",
              "      border-color: transparent;\n",
              "      border-right-color: var(--fill-color);\n",
              "    }\n",
              "    80% {\n",
              "      border-color: transparent;\n",
              "      border-right-color: var(--fill-color);\n",
              "      border-bottom-color: var(--fill-color);\n",
              "    }\n",
              "    90% {\n",
              "      border-color: transparent;\n",
              "      border-bottom-color: var(--fill-color);\n",
              "    }\n",
              "  }\n",
              "</style>\n",
              "\n",
              "  <script>\n",
              "    async function quickchart(key) {\n",
              "      const quickchartButtonEl =\n",
              "        document.querySelector('#' + key + ' button');\n",
              "      quickchartButtonEl.disabled = true;  // To prevent multiple clicks.\n",
              "      quickchartButtonEl.classList.add('colab-df-spinner');\n",
              "      try {\n",
              "        const charts = await google.colab.kernel.invokeFunction(\n",
              "            'suggestCharts', [key], {});\n",
              "      } catch (error) {\n",
              "        console.error('Error during call to suggestCharts:', error);\n",
              "      }\n",
              "      quickchartButtonEl.classList.remove('colab-df-spinner');\n",
              "      quickchartButtonEl.classList.add('colab-df-quickchart-complete');\n",
              "    }\n",
              "    (() => {\n",
              "      let quickchartButtonEl =\n",
              "        document.querySelector('#df-a7609ff8-2cff-40e8-a382-757df3d51e9a button');\n",
              "      quickchartButtonEl.style.display =\n",
              "        google.colab.kernel.accessAllowed ? 'block' : 'none';\n",
              "    })();\n",
              "  </script>\n",
              "</div>\n",
              "    </div>\n",
              "  </div>\n"
            ],
            "application/vnd.google.colaboratory.intrinsic+json": {
              "type": "dataframe",
              "summary": "{\n  \"name\": \"#\\u043c\\u044b \\u0433\\u0435\\u043d\\u0435\\u0440\\u0438\\u0440\\u043e\\u0432\\u0430\\u043b\\u0438 \\u043f\\u0435\\u0440\\u0435\\u043c\\u0435\\u043d\\u043d\\u044b\\u0435 \\u043a\\u0430\\u043a \\u043d\\u0435\\u0437\\u0430\\u0432\\u0438\\u0441\\u0438\\u043c\\u044b\\u0435\",\n  \"rows\": 4,\n  \"fields\": [\n    {\n      \"column\": \"age\",\n      \"properties\": {\n        \"dtype\": \"number\",\n        \"std\": 0.502626409809107,\n        \"min\": -0.016887679835244054,\n        \"max\": 1.0,\n        \"num_unique_values\": 4,\n        \"samples\": [\n          -0.0013688514314682395,\n          -0.016887679835244054,\n          1.0\n        ],\n        \"semantic_type\": \"\",\n        \"description\": \"\"\n      }\n    },\n    {\n      \"column\": \"income\",\n      \"properties\": {\n        \"dtype\": \"number\",\n        \"std\": 0.49887214986366374,\n        \"min\": -0.0013688514314682395,\n        \"max\": 1.0,\n        \"num_unique_values\": 4,\n        \"samples\": [\n          1.0,\n          0.005588599497712146,\n          -0.0013688514314682395\n        ],\n        \"semantic_type\": \"\",\n        \"description\": \"\"\n      }\n    },\n    {\n      \"column\": \"married\",\n      \"properties\": {\n        \"dtype\": \"number\",\n        \"std\": 0.5029305323244269,\n        \"min\": -0.02227845385733186,\n        \"max\": 1.0,\n        \"num_unique_values\": 4,\n        \"samples\": [\n          0.0025961847538163215,\n          -0.02227845385733186,\n          0.002930552678228943\n        ],\n        \"semantic_type\": \"\",\n        \"description\": \"\"\n      }\n    },\n    {\n      \"column\": \"full_term\",\n      \"properties\": {\n        \"dtype\": \"number\",\n        \"std\": 0.5057402693338472,\n        \"min\": -0.02227845385733186,\n        \"max\": 1.0,\n        \"num_unique_values\": 4,\n        \"samples\": [\n          0.005588599497712146,\n          1.0,\n          -0.016887679835244054\n        ],\n        \"semantic_type\": \"\",\n        \"description\": \"\"\n      }\n    }\n  ]\n}"
            }
          },
          "metadata": {},
          "execution_count": 115
        }
      ],
      "source": [
        "df.corr()\n",
        "#корреляции очень маленькие, это нормально,\n",
        "#мы генерировали переменные как независимые"
      ]
    },
    {
      "cell_type": "markdown",
      "metadata": {
        "id": "ZvJH297DfY1w"
      },
      "source": [
        "• Для непрерывных переменных: выборочное среднее, выборочное стандартное отклонение, медиана, минимум и максимум."
      ]
    },
    {
      "cell_type": "code",
      "execution_count": 116,
      "metadata": {
        "colab": {
          "base_uri": "https://localhost:8080/",
          "height": 175
        },
        "id": "K7ulqv2RfY1w",
        "outputId": "735c5005-19ad-4ae2-edce-3a559f0f126a"
      },
      "outputs": [
        {
          "output_type": "execute_result",
          "data": {
            "text/plain": [
              "             count     mean        std   min   25%   50%    75%    max\n",
              "age        10000.0  29.1046   6.902335  14.0  24.0  29.0   34.0   55.0\n",
              "income     10000.0  99.6580  38.987414  15.0  72.0  99.0  127.0  200.0\n",
              "married    10000.0   0.7553   0.429931   0.0   1.0   1.0    1.0    1.0\n",
              "full_term  10000.0   0.8974   0.303451   0.0   1.0   1.0    1.0    1.0"
            ],
            "text/html": [
              "\n",
              "  <div id=\"df-615c73ea-4af2-487a-a2a3-cd9d2e2f73a0\" class=\"colab-df-container\">\n",
              "    <div>\n",
              "<style scoped>\n",
              "    .dataframe tbody tr th:only-of-type {\n",
              "        vertical-align: middle;\n",
              "    }\n",
              "\n",
              "    .dataframe tbody tr th {\n",
              "        vertical-align: top;\n",
              "    }\n",
              "\n",
              "    .dataframe thead th {\n",
              "        text-align: right;\n",
              "    }\n",
              "</style>\n",
              "<table border=\"1\" class=\"dataframe\">\n",
              "  <thead>\n",
              "    <tr style=\"text-align: right;\">\n",
              "      <th></th>\n",
              "      <th>count</th>\n",
              "      <th>mean</th>\n",
              "      <th>std</th>\n",
              "      <th>min</th>\n",
              "      <th>25%</th>\n",
              "      <th>50%</th>\n",
              "      <th>75%</th>\n",
              "      <th>max</th>\n",
              "    </tr>\n",
              "  </thead>\n",
              "  <tbody>\n",
              "    <tr>\n",
              "      <th>age</th>\n",
              "      <td>10000.0</td>\n",
              "      <td>29.1046</td>\n",
              "      <td>6.902335</td>\n",
              "      <td>14.0</td>\n",
              "      <td>24.0</td>\n",
              "      <td>29.0</td>\n",
              "      <td>34.0</td>\n",
              "      <td>55.0</td>\n",
              "    </tr>\n",
              "    <tr>\n",
              "      <th>income</th>\n",
              "      <td>10000.0</td>\n",
              "      <td>99.6580</td>\n",
              "      <td>38.987414</td>\n",
              "      <td>15.0</td>\n",
              "      <td>72.0</td>\n",
              "      <td>99.0</td>\n",
              "      <td>127.0</td>\n",
              "      <td>200.0</td>\n",
              "    </tr>\n",
              "    <tr>\n",
              "      <th>married</th>\n",
              "      <td>10000.0</td>\n",
              "      <td>0.7553</td>\n",
              "      <td>0.429931</td>\n",
              "      <td>0.0</td>\n",
              "      <td>1.0</td>\n",
              "      <td>1.0</td>\n",
              "      <td>1.0</td>\n",
              "      <td>1.0</td>\n",
              "    </tr>\n",
              "    <tr>\n",
              "      <th>full_term</th>\n",
              "      <td>10000.0</td>\n",
              "      <td>0.8974</td>\n",
              "      <td>0.303451</td>\n",
              "      <td>0.0</td>\n",
              "      <td>1.0</td>\n",
              "      <td>1.0</td>\n",
              "      <td>1.0</td>\n",
              "      <td>1.0</td>\n",
              "    </tr>\n",
              "  </tbody>\n",
              "</table>\n",
              "</div>\n",
              "    <div class=\"colab-df-buttons\">\n",
              "\n",
              "  <div class=\"colab-df-container\">\n",
              "    <button class=\"colab-df-convert\" onclick=\"convertToInteractive('df-615c73ea-4af2-487a-a2a3-cd9d2e2f73a0')\"\n",
              "            title=\"Convert this dataframe to an interactive table.\"\n",
              "            style=\"display:none;\">\n",
              "\n",
              "  <svg xmlns=\"http://www.w3.org/2000/svg\" height=\"24px\" viewBox=\"0 -960 960 960\">\n",
              "    <path d=\"M120-120v-720h720v720H120Zm60-500h600v-160H180v160Zm220 220h160v-160H400v160Zm0 220h160v-160H400v160ZM180-400h160v-160H180v160Zm440 0h160v-160H620v160ZM180-180h160v-160H180v160Zm440 0h160v-160H620v160Z\"/>\n",
              "  </svg>\n",
              "    </button>\n",
              "\n",
              "  <style>\n",
              "    .colab-df-container {\n",
              "      display:flex;\n",
              "      gap: 12px;\n",
              "    }\n",
              "\n",
              "    .colab-df-convert {\n",
              "      background-color: #E8F0FE;\n",
              "      border: none;\n",
              "      border-radius: 50%;\n",
              "      cursor: pointer;\n",
              "      display: none;\n",
              "      fill: #1967D2;\n",
              "      height: 32px;\n",
              "      padding: 0 0 0 0;\n",
              "      width: 32px;\n",
              "    }\n",
              "\n",
              "    .colab-df-convert:hover {\n",
              "      background-color: #E2EBFA;\n",
              "      box-shadow: 0px 1px 2px rgba(60, 64, 67, 0.3), 0px 1px 3px 1px rgba(60, 64, 67, 0.15);\n",
              "      fill: #174EA6;\n",
              "    }\n",
              "\n",
              "    .colab-df-buttons div {\n",
              "      margin-bottom: 4px;\n",
              "    }\n",
              "\n",
              "    [theme=dark] .colab-df-convert {\n",
              "      background-color: #3B4455;\n",
              "      fill: #D2E3FC;\n",
              "    }\n",
              "\n",
              "    [theme=dark] .colab-df-convert:hover {\n",
              "      background-color: #434B5C;\n",
              "      box-shadow: 0px 1px 3px 1px rgba(0, 0, 0, 0.15);\n",
              "      filter: drop-shadow(0px 1px 2px rgba(0, 0, 0, 0.3));\n",
              "      fill: #FFFFFF;\n",
              "    }\n",
              "  </style>\n",
              "\n",
              "    <script>\n",
              "      const buttonEl =\n",
              "        document.querySelector('#df-615c73ea-4af2-487a-a2a3-cd9d2e2f73a0 button.colab-df-convert');\n",
              "      buttonEl.style.display =\n",
              "        google.colab.kernel.accessAllowed ? 'block' : 'none';\n",
              "\n",
              "      async function convertToInteractive(key) {\n",
              "        const element = document.querySelector('#df-615c73ea-4af2-487a-a2a3-cd9d2e2f73a0');\n",
              "        const dataTable =\n",
              "          await google.colab.kernel.invokeFunction('convertToInteractive',\n",
              "                                                    [key], {});\n",
              "        if (!dataTable) return;\n",
              "\n",
              "        const docLinkHtml = 'Like what you see? Visit the ' +\n",
              "          '<a target=\"_blank\" href=https://colab.research.google.com/notebooks/data_table.ipynb>data table notebook</a>'\n",
              "          + ' to learn more about interactive tables.';\n",
              "        element.innerHTML = '';\n",
              "        dataTable['output_type'] = 'display_data';\n",
              "        await google.colab.output.renderOutput(dataTable, element);\n",
              "        const docLink = document.createElement('div');\n",
              "        docLink.innerHTML = docLinkHtml;\n",
              "        element.appendChild(docLink);\n",
              "      }\n",
              "    </script>\n",
              "  </div>\n",
              "\n",
              "\n",
              "<div id=\"df-b259fabc-92c0-46cd-a70a-0517c5a3bb37\">\n",
              "  <button class=\"colab-df-quickchart\" onclick=\"quickchart('df-b259fabc-92c0-46cd-a70a-0517c5a3bb37')\"\n",
              "            title=\"Suggest charts\"\n",
              "            style=\"display:none;\">\n",
              "\n",
              "<svg xmlns=\"http://www.w3.org/2000/svg\" height=\"24px\"viewBox=\"0 0 24 24\"\n",
              "     width=\"24px\">\n",
              "    <g>\n",
              "        <path d=\"M19 3H5c-1.1 0-2 .9-2 2v14c0 1.1.9 2 2 2h14c1.1 0 2-.9 2-2V5c0-1.1-.9-2-2-2zM9 17H7v-7h2v7zm4 0h-2V7h2v10zm4 0h-2v-4h2v4z\"/>\n",
              "    </g>\n",
              "</svg>\n",
              "  </button>\n",
              "\n",
              "<style>\n",
              "  .colab-df-quickchart {\n",
              "      --bg-color: #E8F0FE;\n",
              "      --fill-color: #1967D2;\n",
              "      --hover-bg-color: #E2EBFA;\n",
              "      --hover-fill-color: #174EA6;\n",
              "      --disabled-fill-color: #AAA;\n",
              "      --disabled-bg-color: #DDD;\n",
              "  }\n",
              "\n",
              "  [theme=dark] .colab-df-quickchart {\n",
              "      --bg-color: #3B4455;\n",
              "      --fill-color: #D2E3FC;\n",
              "      --hover-bg-color: #434B5C;\n",
              "      --hover-fill-color: #FFFFFF;\n",
              "      --disabled-bg-color: #3B4455;\n",
              "      --disabled-fill-color: #666;\n",
              "  }\n",
              "\n",
              "  .colab-df-quickchart {\n",
              "    background-color: var(--bg-color);\n",
              "    border: none;\n",
              "    border-radius: 50%;\n",
              "    cursor: pointer;\n",
              "    display: none;\n",
              "    fill: var(--fill-color);\n",
              "    height: 32px;\n",
              "    padding: 0;\n",
              "    width: 32px;\n",
              "  }\n",
              "\n",
              "  .colab-df-quickchart:hover {\n",
              "    background-color: var(--hover-bg-color);\n",
              "    box-shadow: 0 1px 2px rgba(60, 64, 67, 0.3), 0 1px 3px 1px rgba(60, 64, 67, 0.15);\n",
              "    fill: var(--button-hover-fill-color);\n",
              "  }\n",
              "\n",
              "  .colab-df-quickchart-complete:disabled,\n",
              "  .colab-df-quickchart-complete:disabled:hover {\n",
              "    background-color: var(--disabled-bg-color);\n",
              "    fill: var(--disabled-fill-color);\n",
              "    box-shadow: none;\n",
              "  }\n",
              "\n",
              "  .colab-df-spinner {\n",
              "    border: 2px solid var(--fill-color);\n",
              "    border-color: transparent;\n",
              "    border-bottom-color: var(--fill-color);\n",
              "    animation:\n",
              "      spin 1s steps(1) infinite;\n",
              "  }\n",
              "\n",
              "  @keyframes spin {\n",
              "    0% {\n",
              "      border-color: transparent;\n",
              "      border-bottom-color: var(--fill-color);\n",
              "      border-left-color: var(--fill-color);\n",
              "    }\n",
              "    20% {\n",
              "      border-color: transparent;\n",
              "      border-left-color: var(--fill-color);\n",
              "      border-top-color: var(--fill-color);\n",
              "    }\n",
              "    30% {\n",
              "      border-color: transparent;\n",
              "      border-left-color: var(--fill-color);\n",
              "      border-top-color: var(--fill-color);\n",
              "      border-right-color: var(--fill-color);\n",
              "    }\n",
              "    40% {\n",
              "      border-color: transparent;\n",
              "      border-right-color: var(--fill-color);\n",
              "      border-top-color: var(--fill-color);\n",
              "    }\n",
              "    60% {\n",
              "      border-color: transparent;\n",
              "      border-right-color: var(--fill-color);\n",
              "    }\n",
              "    80% {\n",
              "      border-color: transparent;\n",
              "      border-right-color: var(--fill-color);\n",
              "      border-bottom-color: var(--fill-color);\n",
              "    }\n",
              "    90% {\n",
              "      border-color: transparent;\n",
              "      border-bottom-color: var(--fill-color);\n",
              "    }\n",
              "  }\n",
              "</style>\n",
              "\n",
              "  <script>\n",
              "    async function quickchart(key) {\n",
              "      const quickchartButtonEl =\n",
              "        document.querySelector('#' + key + ' button');\n",
              "      quickchartButtonEl.disabled = true;  // To prevent multiple clicks.\n",
              "      quickchartButtonEl.classList.add('colab-df-spinner');\n",
              "      try {\n",
              "        const charts = await google.colab.kernel.invokeFunction(\n",
              "            'suggestCharts', [key], {});\n",
              "      } catch (error) {\n",
              "        console.error('Error during call to suggestCharts:', error);\n",
              "      }\n",
              "      quickchartButtonEl.classList.remove('colab-df-spinner');\n",
              "      quickchartButtonEl.classList.add('colab-df-quickchart-complete');\n",
              "    }\n",
              "    (() => {\n",
              "      let quickchartButtonEl =\n",
              "        document.querySelector('#df-b259fabc-92c0-46cd-a70a-0517c5a3bb37 button');\n",
              "      quickchartButtonEl.style.display =\n",
              "        google.colab.kernel.accessAllowed ? 'block' : 'none';\n",
              "    })();\n",
              "  </script>\n",
              "</div>\n",
              "    </div>\n",
              "  </div>\n"
            ],
            "application/vnd.google.colaboratory.intrinsic+json": {
              "type": "dataframe",
              "summary": "{\n  \"name\": \"df\",\n  \"rows\": 4,\n  \"fields\": [\n    {\n      \"column\": \"count\",\n      \"properties\": {\n        \"dtype\": \"number\",\n        \"std\": 0.0,\n        \"min\": 10000.0,\n        \"max\": 10000.0,\n        \"num_unique_values\": 1,\n        \"samples\": [\n          10000.0\n        ],\n        \"semantic_type\": \"\",\n        \"description\": \"\"\n      }\n    },\n    {\n      \"column\": \"mean\",\n      \"properties\": {\n        \"dtype\": \"number\",\n        \"std\": 46.64808996263941,\n        \"min\": 0.7553,\n        \"max\": 99.658,\n        \"num_unique_values\": 4,\n        \"samples\": [\n          99.658\n        ],\n        \"semantic_type\": \"\",\n        \"description\": \"\"\n      }\n    },\n    {\n      \"column\": \"std\",\n      \"properties\": {\n        \"dtype\": \"number\",\n        \"std\": 18.47979545552373,\n        \"min\": 0.30345089923218954,\n        \"max\": 38.98741383887606,\n        \"num_unique_values\": 4,\n        \"samples\": [\n          38.98741383887606\n        ],\n        \"semantic_type\": \"\",\n        \"description\": \"\"\n      }\n    },\n    {\n      \"column\": \"min\",\n      \"properties\": {\n        \"dtype\": \"number\",\n        \"std\": 8.381527307120106,\n        \"min\": 0.0,\n        \"max\": 15.0,\n        \"num_unique_values\": 3,\n        \"samples\": [\n          14.0\n        ],\n        \"semantic_type\": \"\",\n        \"description\": \"\"\n      }\n    },\n    {\n      \"column\": \"25%\",\n      \"properties\": {\n        \"dtype\": \"number\",\n        \"std\": 33.471380810079125,\n        \"min\": 1.0,\n        \"max\": 72.0,\n        \"num_unique_values\": 3,\n        \"samples\": [\n          24.0\n        ],\n        \"semantic_type\": \"\",\n        \"description\": \"\"\n      }\n    },\n    {\n      \"column\": \"50%\",\n      \"properties\": {\n        \"dtype\": \"number\",\n        \"std\": 46.256531070397685,\n        \"min\": 1.0,\n        \"max\": 99.0,\n        \"num_unique_values\": 3,\n        \"samples\": [\n          29.0\n        ],\n        \"semantic_type\": \"\",\n        \"description\": \"\"\n      }\n    },\n    {\n      \"column\": \"75%\",\n      \"properties\": {\n        \"dtype\": \"number\",\n        \"std\": 59.56718895499434,\n        \"min\": 1.0,\n        \"max\": 127.0,\n        \"num_unique_values\": 3,\n        \"samples\": [\n          34.0\n        ],\n        \"semantic_type\": \"\",\n        \"description\": \"\"\n      }\n    },\n    {\n      \"column\": \"max\",\n      \"properties\": {\n        \"dtype\": \"number\",\n        \"std\": 94.01196732331475,\n        \"min\": 1.0,\n        \"max\": 200.0,\n        \"num_unique_values\": 3,\n        \"samples\": [\n          55.0\n        ],\n        \"semantic_type\": \"\",\n        \"description\": \"\"\n      }\n    }\n  ]\n}"
            }
          },
          "metadata": {},
          "execution_count": 116
        }
      ],
      "source": [
        "df.describe().T"
      ]
    },
    {
      "cell_type": "markdown",
      "metadata": {
        "id": "vZ-sZ2NbCmEM"
      },
      "source": [
        "###**Генерация ненаблюдаемой переменной, порождающей эндогенность** ⭐"
      ]
    },
    {
      "cell_type": "markdown",
      "metadata": {
        "id": "Uc_2CY8dCu5B"
      },
      "source": [
        "\"[Курение вызывает изменения в генах, которые могут привести к риску развития онкологических заболеваний и диабета — установили шведские учёные](https://clck.ru/3B4Wz2).\"\n",
        "Получается, что у матерей, которые курят, происходят изменения в процессе экспрессии генов, что приводит к ненормальной активности генов. Это означает, что преобразование генетической информации в клеточные структуры и функции у них отличается от того, что происходит у некурящих матерей и может определять развитие различных заболеваний.\n",
        "\n",
        "Сгенерируем гены $\\text{Genes}_{i}$ , взяв за основу распределение Стьюдента с $8$ степенями свободы, как было в консультации. Предположим, что генетические факторы матери можно оценить по шкале от 1 до 100. Также предположим, что в основном в нашей выборке хорошие гены, так как женщины с большими проблемами со здоровьем часто не могут иметь детей. Это отразится в матожидании.\n",
        "\n",
        "Эта переменная будет играть роль ненаблюдаемой, отсутствие в данных которой и приводит к проблеме эндогенности."
      ]
    },
    {
      "cell_type": "code",
      "execution_count": 117,
      "metadata": {
        "colab": {
          "base_uri": "https://localhost:8080/"
        },
        "id": "FFQ-HN2OCpxg",
        "outputId": "bc711314-35bc-4876-a4b7-0e10165e6b66"
      },
      "outputs": [
        {
          "output_type": "stream",
          "name": "stdout",
          "text": [
            "[62. 87. 43. 68. 90. 73. 81. 84. 55. 64.]\n"
          ]
        }
      ],
      "source": [
        "# Генерируем гены\n",
        "np.random.seed(123)\n",
        "genes = t.rvs(size = n, df = 8)\n",
        "\n",
        "# Приведем гены к более удобной шкале\n",
        "genes = (genes) * 10 + 70\n",
        "\n",
        "# Также, для удобства введем округление и возьмем модуль\n",
        "genes = np.round(np.abs(genes) + 1)\n",
        "\n",
        "# Для удобства ограничим максимальное и минимальное значения\n",
        "genes[genes >= 100] = 100\n",
        "genes[genes <= 1]   = 1\n",
        "\n",
        "# Посмотрим на несколько первых значений\n",
        "print(genes[0:10])"
      ]
    },
    {
      "cell_type": "code",
      "execution_count": 118,
      "metadata": {
        "colab": {
          "base_uri": "https://localhost:8080/",
          "height": 452
        },
        "id": "ZkoguR89Do_8",
        "outputId": "c11dfd49-28ef-4864-c013-1b69bdd8c80a"
      },
      "outputs": [
        {
          "output_type": "display_data",
          "data": {
            "text/plain": [
              "<Figure size 640x480 with 1 Axes>"
            ],
            "image/png": "[encoded data removed]"
          },
          "metadata": {}
        }
      ],
      "source": [
        "# Посмотрим на распределение генов\n",
        "seaborn.histplot(genes,                  # данные\n",
        "                 stat  = 'density',          # тип гистограммы\n",
        "                 color = \"palevioletred\",    # цвет гистограммы\n",
        "                 label = \"histogram\",        # наименование гистограммы\n",
        "                 bins  = 50)                 # число столбиков в Гистограмме\n",
        "plt.title('Гистограмма распределения генетических факторов матери')\n",
        "plt.show()"
      ]
    },
    {
      "cell_type": "markdown",
      "metadata": {
        "id": "1Du4GYCmCdry"
      },
      "source": [
        "###**Генерация инструментальной переменной** ⭐"
      ]
    },
    {
      "cell_type": "markdown",
      "metadata": {
        "id": "CxLS7Pvphsr3"
      },
      "source": [
        "Для того, чтобы сгенерировать бинарную переменную как функцию от других переменных, необходимо сперва предположить форму условных вероятностей. Для этого удобно применять следующий алгоритм:\n",
        "\n",
        "1.   Записать **индекс**, который отражает статистические связи инструментальной переменной с контрольными переменными.\n",
        "2.   Сформировать условные вероятности взяв функцию распределения от этого индекса\n",
        "\n",
        "Например, предположим, что условная вероятность факта наличия курящих друзей у матери положительно связана с доходом и браком, а с доношенностью ребенка и возрастом - отрицательно.\n",
        "\n",
        "$$\\text{P}\\left(\\text{Smoking_friends}_{i} = 1|\\text{Age}_{i}, \\text{Full_term}_{i}, \\text{Income}_{i}, \\text{Married}_{i}\\right) = \\Phi\\left(\\underbrace{\\frac{0.2 * \\text{Income}_{i}-0.1 * \\text{Age}_{i}}{ (6 + \\text{Full_term}_{i} - \\text{Married}_{i})} + 0.5*\\text{Full_term}_{i}\\times\\text{Married}_{i} - 2}_{\\text{индекс}}\\right)$$\n",
        "\n",
        "Где $\\Phi()$ - функция распределения стандартного нормального распределения.\n",
        "\n"
      ]
    },
    {
      "cell_type": "code",
      "execution_count": 119,
      "metadata": {
        "id": "nkUUbroCChd9"
      },
      "outputs": [],
      "source": [
        "# Сформируем индекс\n",
        "smoking_friends_index = (0.2 * income - 0.1*age) / (6 + full_term - married)+ 0.5*full_term * married - 2"
      ]
    },
    {
      "cell_type": "code",
      "execution_count": 120,
      "metadata": {
        "colab": {
          "base_uri": "https://localhost:8080/"
        },
        "id": "R35ZCwaEjwGH",
        "outputId": "0f7a1318-a0b9-4730-ebf3-1410639f694f"
      },
      "outputs": [
        {
          "output_type": "stream",
          "name": "stdout",
          "text": [
            "[0.98285593 0.63055866 0.95052853 0.23167757 0.99216832 0.1885281\n",
            " 0.74445547 0.89972743 0.48404656 0.99999914]\n"
          ]
        }
      ],
      "source": [
        "# Создадим условные вероятности\n",
        "np.random.seed(123)\n",
        "smoking_friends_prob = norm.cdf(smoking_friends_index)\n",
        "\n",
        "# Посмотрим на несколько первых условных вероятностей\n",
        "print(smoking_friends_prob[0:10])"
      ]
    },
    {
      "cell_type": "code",
      "execution_count": 121,
      "metadata": {
        "colab": {
          "base_uri": "https://localhost:8080/"
        },
        "id": "dsm6d3TXki80",
        "outputId": "7a6e428b-f786-443f-ccfd-b810a76988d4"
      },
      "outputs": [
        {
          "output_type": "stream",
          "name": "stdout",
          "text": [
            "[1 1 1 0 1 0 0 1 0 1]\n"
          ]
        }
      ],
      "source": [
        "np.random.seed(123)\n",
        "smoking_friends = np.random.binomial(n = 1, p = smoking_friends_prob, size = n)\n",
        "\n",
        "# Посмотрим на несколько сгенерированных значений\n",
        "print(smoking_friends[0:10])"
      ]
    },
    {
      "cell_type": "code",
      "execution_count": 122,
      "metadata": {
        "colab": {
          "base_uri": "https://localhost:8080/"
        },
        "id": "hFxj-Mk8v8xy",
        "outputId": "c55668ad-f3e4-49c3-f4f5-4a8ede4ffe11"
      },
      "outputs": [
        {
          "output_type": "execute_result",
          "data": {
            "text/plain": [
              "7565"
            ]
          },
          "metadata": {},
          "execution_count": 122
        }
      ],
      "source": [
        "np.count_nonzero(smoking_friends==1)"
      ]
    },
    {
      "cell_type": "markdown",
      "metadata": {
        "id": "tspwx2jDMx5q"
      },
      "source": [
        "Желательно, чтобы дисперсия индекса отличалась от дисперсии распределения, чья функция распределения используется на втором шаге алгоритма, не более, чем в $2$ раза. В противном случае оценки параметров такой модели могут оказаться либо слишком точными, либо слишком неточными."
      ]
    },
    {
      "cell_type": "code",
      "execution_count": 123,
      "metadata": {
        "colab": {
          "base_uri": "https://localhost:8080/"
        },
        "id": "Stny3659Mgik",
        "outputId": "b27c5788-ef90-48e9-8e8f-95fe0e50dafa"
      },
      "outputs": [
        {
          "output_type": "stream",
          "name": "stdout",
          "text": [
            "1.8052521267672905\n"
          ]
        }
      ],
      "source": [
        "# Дисперсия индекса\n",
        "print(np.var(smoking_friends_index))\n",
        "# все хорошо"
      ]
    },
    {
      "cell_type": "markdown",
      "metadata": {
        "id": "ZCwcKX_SM0-r"
      },
      "source": [
        "Убедитесь, что доля единиц в сформированной переменной является адекватной. В случае наличия слишком малого или слишком большого числа единиц можно, например, отнять или прибавить константу к индексу."
      ]
    },
    {
      "cell_type": "code",
      "execution_count": 124,
      "metadata": {
        "colab": {
          "base_uri": "https://localhost:8080/"
        },
        "id": "Fsig-NGMqRuM",
        "outputId": "bfb08277-8b88-4ef2-e1a2-32736ca5250c"
      },
      "outputs": [
        {
          "output_type": "stream",
          "name": "stdout",
          "text": [
            "0.7565\n"
          ]
        }
      ],
      "source": [
        "# Доля матерей с курящими друзьями\n",
        "print(np.mean(smoking_friends))"
      ]
    },
    {
      "cell_type": "markdown",
      "metadata": {
        "id": "bkpbwTIgCDuc"
      },
      "source": [
        "###**Генерация переменной воздействия** ⭐"
      ]
    },
    {
      "cell_type": "markdown",
      "metadata": {
        "id": "5O4FJ74zmEU1"
      },
      "source": [
        "Удобно предположить, что условные вероятности переменной воздействия зависят от контрольных переменных, инструментальной переменной и ненаблюдаемой переменной.\n",
        "\n",
        "$$P(\\text{Smoking}_{i} = 1|\\text{Smoking_friends}_{i}, \\text{Age}_{i}, \\text{Full_term}_{i}, \\text{Married}_{i}, \\text{Income}_{i}, \\text{Genes}_{i}) = \\\\ = F_{\\text{Logistic}}\\left(-200+3\\times\\text{Genes}_{i} - 2\\times\\sqrt{\\text{Age}_{i}} - 0.7\\times\\text{Income}_{i}\\times\\text{Married}_{i} + 4\\times\\text{Full_term}_{i} + 12\\times\\text{Smoking_friends}_{i}\\right)$$\n",
        "\n",
        "Где $F_{\\text{Logistic}}$ - функция распределения стандартного логистического распределения.\n",
        "\n",
        "Для краткости введем обозначение для условной вероятности курения матери при конкретном факте наличия курящих друзей:\n",
        "\n",
        "$$p_{k}^{\\text{Smoking_friends}_{i}} = P(\\text{Smoking}_{i} = 1|\\text{Age}_{i}, \\text{Full_term}_{i}, \\text{Married}_{i}, \\text{Income}_{i}, \\text{Genes}_{i}, \\text{Smoking_friends}_{i} = k)\\text{, где }k\\in\\{0,1\\}$$\n",
        "\n",
        "Для того, чтобы впоследствии анализировать локальные средние эффекты воздействия $\\text{LATE}$, необходимо различать величину переменной воздействия $\\text{Smoking}_{i}$ в зависимости от значения инструмента $\\text{Smoking_friends}_{i}$. Для этого рассмотрим ни от чего не зависящую равномерную случайную величину $U_{i}\\sim U(0,1)$ и введем гипотетические переменные:\n",
        "\n",
        "$$\\text{Smoking}_{1i} = I(p_{1}^{\\text{Smoking_friends}_{i}}\\geq U_{i})$$\n",
        "\n",
        "$$\\text{Smoking}_{0i} = I(p_{0}^{\\text{Smoking_friends}_{i}}\\geq U_{i})$$\n",
        "\n",
        "\n",
        "$$I(\\text{условие}) = \\begin{cases}1\\text{, если условие выполнено}\\\\0\\text{, в противном случае}\\end{cases}$$\n",
        "\n",
        "Переменные $\\text{Smoking}_{1i}$ и $\\text{Smoking}_{0i}$ отражают потенциальное курение матери в зависимости от наличия курящих друзей."
      ]
    },
    {
      "cell_type": "code",
      "execution_count": 125,
      "metadata": {
        "colab": {
          "base_uri": "https://localhost:8080/"
        },
        "id": "eR1gShARFoHX",
        "outputId": "572841f5-dda2-49c3-83da-04cd6a31b897"
      },
      "outputs": [
        {
          "output_type": "execute_result",
          "data": {
            "text/plain": [
              "array([0.69646919, 0.28613933, 0.22685145, ..., 0.98514494, 0.22066212,\n",
              "       0.61329717])"
            ]
          },
          "metadata": {},
          "execution_count": 125
        }
      ],
      "source": [
        "# Равномерные случайные величины\n",
        "np.random.seed(123)\n",
        "u = uniform.rvs(size = n)\n",
        "u"
      ]
    },
    {
      "cell_type": "code",
      "execution_count": 126,
      "metadata": {
        "colab": {
          "base_uri": "https://localhost:8080/"
        },
        "id": "oBvcvX_ZjvRj",
        "outputId": "9f7a7388-115b-4652-8d90-cec49ddc5fc8"
      },
      "outputs": [
        {
          "output_type": "execute_result",
          "data": {
            "text/plain": [
              "array([-102.46515139,    1.9       , -155.13552873, ...,   54.80196097,\n",
              "        -29.38912529,  -64.1       ])"
            ]
          },
          "metadata": {},
          "execution_count": 126
        }
      ],
      "source": [
        "# Сгенерируем часть индекса, не зависящую от наличия курящих друзей\n",
        "smoking_index = 3 * genes - 2*np.sqrt(age) + 4* full_term - 0.7*income* married - 200\n",
        "smoking_index"
      ]
    },
    {
      "cell_type": "code",
      "execution_count": 127,
      "metadata": {
        "colab": {
          "base_uri": "https://localhost:8080/"
        },
        "id": "VuHHqKvTFriX",
        "outputId": "fc164cd6-8353-4613-c0fd-17ee2a695bbf"
      },
      "outputs": [
        {
          "output_type": "execute_result",
          "data": {
            "text/plain": [
              "0.2604"
            ]
          },
          "metadata": {},
          "execution_count": 127
        }
      ],
      "source": [
        "# Симулируем курение матери в случае,\n",
        "# когда у  нее есть курящие друзья\n",
        "smoking_friends1    = 1\n",
        "smoking1_index = smoking_index + 12 * smoking_friends1\n",
        "smoking1_prob  = logistic.cdf(smoking1_index)\n",
        "smoking1       = (smoking1_prob >= u).astype(int)\n",
        "\n",
        "# Доля  курящих матерей, когда у них есть курящие друзья\n",
        "np.mean(smoking1)"
      ]
    },
    {
      "cell_type": "code",
      "execution_count": 128,
      "metadata": {
        "colab": {
          "base_uri": "https://localhost:8080/"
        },
        "id": "V5zc1iZsGT-i",
        "outputId": "529e7fa7-6f8c-4e4c-efb8-6cdcf645b7c6"
      },
      "outputs": [
        {
          "output_type": "execute_result",
          "data": {
            "text/plain": [
              "0.1904"
            ]
          },
          "metadata": {},
          "execution_count": 128
        }
      ],
      "source": [
        "# Симулируем курение матери в случае,\n",
        "# когда у  нее нет курящих друзей\n",
        "smoking_friends0    = 0\n",
        "smoking0_index = smoking_index + 12 * smoking_friends0\n",
        "smoking0_prob  = logistic.cdf(smoking0_index, scale = 1)\n",
        "smoking0       = (smoking0_prob >= u).astype(int)\n",
        "\n",
        "# Доля  курящих матерей, когда у них нет курящих друзей\n",
        "np.mean(smoking0)"
      ]
    },
    {
      "cell_type": "markdown",
      "metadata": {
        "id": "5pr4RDDENags"
      },
      "source": [
        "Индивидов можно разделить на $4$ группы:\n",
        "\n",
        "\n",
        "*   **Always takers** - те, у кого $\\text{Smoking}_{0i}=\\text{Smoking}_{1i}=1$: курят вне зависимости от наличия курящих друзей.\n",
        "*   **Never takers**- те, у кого $\\text{Smoking}_{0i}=\\text{Smoking}_{1i}=0$: не курят независимо от наличия курящих друзей.\n",
        "*   **Compliers** - те, у кого $\\text{Smoking}_{1i}=1$ и $\\text{Smoking}_{0i}=0$, то есть $\\text{Smoking}_{1i} > \\text{Smoking}_{0i}$: курят лишь тогда, когда есть курящие друзья.\n",
        "*   **Deniers** - те, у кого $\\text{Smoking}_{1i}=0$ и $\\text{Smoking}_{0i}=1$, то есть $\\text{Smoking}_{1i} < \\text{Smoking}_{0i}$:  курят тогда, когда нет курящих друзей.\n",
        "\n",
        "Для соблюдения предпосылок используемых методов важно отсутствие Deniers, что гарантируется используемым процессом генерации данных."
      ]
    },
    {
      "cell_type": "code",
      "execution_count": 129,
      "metadata": {
        "colab": {
          "base_uri": "https://localhost:8080/"
        },
        "id": "-FZrKBomfABb",
        "outputId": "9a10928d-99da-45b2-d24d-c8e93dbb5c95"
      },
      "outputs": [
        {
          "output_type": "stream",
          "name": "stdout",
          "text": [
            "Never taker     7396\n",
            "Always taker    1904\n",
            "Complier         700\n",
            "Name: count, dtype: int64\n"
          ]
        }
      ],
      "source": [
        "# Рассмотрим различные группы индивидов\n",
        "ind_type = np.empty(n, dtype = 'U25')\n",
        "ind_type[(smoking1 == 1) & (smoking0 == 1)] = 'Always taker'\n",
        "ind_type[(smoking1 == 0) & (smoking0 == 0)] = 'Never taker'\n",
        "ind_type[smoking1 > smoking0]               = 'Complier'\n",
        "ind_type[smoking1 < smoking0]               = 'Denier'\n",
        "\n",
        "# Посмотрим на распределение индивидов разного типа\n",
        "print(pd.value_counts(ind_type))"
      ]
    },
    {
      "cell_type": "code",
      "execution_count": 130,
      "metadata": {
        "colab": {
          "base_uri": "https://localhost:8080/"
        },
        "id": "1wenqm_QdjpM",
        "outputId": "fdd8d310-8171-4b6e-b9d6-56391ad783d7"
      },
      "outputs": [
        {
          "output_type": "stream",
          "name": "stdout",
          "text": [
            "     smoking0 smoking1  Тип индивида\n",
            "0           0        0   Never taker\n",
            "1           1        1  Always taker\n",
            "2           0        0   Never taker\n",
            "3           0        0   Never taker\n",
            "4           0        0   Never taker\n",
            "...       ...      ...           ...\n",
            "9995        0        0   Never taker\n",
            "9996        0        0   Never taker\n",
            "9997        1        1  Always taker\n",
            "9998        0        0   Never taker\n",
            "9999        0        0   Never taker\n",
            "\n",
            "[10000 rows x 3 columns]\n"
          ]
        }
      ],
      "source": [
        "# Сравним факт курения матери, когда у нее есть курящие друзья и нет\n",
        "print(pd.DataFrame(data    = np.\n",
        "array([smoking0, smoking1, ind_type]).transpose(),\n",
        "                   columns = ['smoking0', 'smoking1', 'Тип индивида']))"
      ]
    },
    {
      "cell_type": "markdown",
      "metadata": {
        "id": "VEwq5BE5NXM2"
      },
      "source": [
        "Наблюдаемый (в данных) факт курения матери:\n",
        "\n",
        "$$\\text{Smoking}_{i} = \\begin{cases}\\text{Smoking}_{1i}\\text{, если }\\text{Smoking_friends}_{i} = 1\\\\ \\text{Smoking}_{0i}\\text{, если }\\text{Smoking_friends}_{i} = 0\\end{cases} = \\\\ = \\text{Smoking}_{1i}\\times\\text{Smoking_friends}_{i} + \\text{Smoking}_{0i}\\times\\left(1 - \\text{Smoking_friends}_{i}\\right)$$"
      ]
    },
    {
      "cell_type": "code",
      "execution_count": 131,
      "metadata": {
        "colab": {
          "base_uri": "https://localhost:8080/"
        },
        "id": "w0iwmjtuCF1N",
        "outputId": "1116e46c-425a-41a6-8700-f25b255d55c3"
      },
      "outputs": [
        {
          "output_type": "stream",
          "name": "stdout",
          "text": [
            "0.2267\n"
          ]
        }
      ],
      "source": [
        "# Факт курения матери при наличии у нее курящих друзей\n",
        "smoking = smoking1 * smoking_friends + smoking0 * (1 - smoking_friends)\n",
        "\n",
        "# Доля курящих матерей\n",
        "print(np.mean(smoking))"
      ]
    },
    {
      "cell_type": "markdown",
      "metadata": {
        "id": "xqdjN9u5iS_J"
      },
      "source": [
        "**Важно**\n",
        "\n",
        "*   При слабой корреляции между $\\text{Smoking}_{i}$ и $\\text{Genes}_{i}$ проблема эндогенности окажется несущественной, а при слишком большой скорректировать эндоенность окажется чрезвычайно сложно.\n",
        "*   При слабой корреляции между $\\text{Smoking}_{i}$ и $\\text{Smoking_friends}_{i}$ инструмент не будет валидным и поэтому не позволит скорректировать эндогенность.\n",
        "\n",
        "Таким образом, желательно сделать так, чтобы корреляции находились в некотором разумном диапазоне:\n",
        "\n",
        "$$0.8\\geq|\\text{Corr}\\left(\\text{Smoking}_{i}, \\text{Genes}_{i}\\right)|\\geq0.2$$\n",
        "\n",
        "$$0.8\\geq|\\text{Corr}\\left(\\text{Smoking}_{i}, \\text{Smoking_friends}_{i}\\right)|\\geq0.2$$"
      ]
    },
    {
      "cell_type": "code",
      "execution_count": 132,
      "metadata": {
        "colab": {
          "base_uri": "https://localhost:8080/"
        },
        "id": "oAsPLefeiQ3V",
        "outputId": "64a8c50f-0111-4898-dc93-70eddb1ea180"
      },
      "outputs": [
        {
          "output_type": "stream",
          "name": "stdout",
          "text": [
            "                                  Оценка\n",
            "Corr(smoking, genes)            0.476336\n",
            "Corr(smoking, smoking_friends) -0.214792\n"
          ]
        }
      ],
      "source": [
        "# Рассмотрим корреляции\n",
        "print(pd.DataFrame(data    = [np.corrcoef(smoking, genes)[0, 1],\n",
        "                              np.corrcoef(smoking, smoking_friends)[0, 1]],\n",
        "                   index   = ['Corr(smoking, genes)',\n",
        "                              'Corr(smoking, smoking_friends)'],\n",
        "                   columns = ['Оценка']))"
      ]
    },
    {
      "cell_type": "markdown",
      "metadata": {
        "id": "d8pW5DhOqwiq"
      },
      "source": [
        "###**Генерация целевой переменной** ⭐"
      ]
    },
    {
      "cell_type": "markdown",
      "metadata": {
        "id": "gQToL7ho40Ot"
      },
      "source": [
        "Сформируем представления о формировании потенциального веса новорожденного в зависимости от курения матери.\n",
        "\n",
        "**Основная идея**- отдача от дохода семьи и генетических факторов выше в случае, когда мать не курит.\n",
        "\n",
        "Уравнение веса младенца при отсутствии курения матери:\n",
        "\n",
        "$$\\text{Weight}_{0i} = \\underbrace{\\underbrace{150 + 15\\times\\text{Genes}_{i}}_{g_{0}^{\\text{unobs}}} + \\underbrace{70\\times\\frac{\\text{Income}_{i}}{5 - \\text{Married}_{i} - \\text{Full_term}_{i}}-30\\times ln({Age}_{i})}_{g_{0}^{\\text{obs}}}}_{g_{0}} + \\varepsilon_{0i}\\text{, где }\\varepsilon_{0i}\\sim \\left(8\\times t(15)\\right)$$\n",
        "\n",
        "Мы предположили, что у более молодых мам рождаются более здоровые (тяжелые) дети, поэтому знак перед возрастом отрицательный. Однако, эта зависимость неочевидна, поэтому мы поставили возраст в логарифм и добавили перед ним не очень большой коэффициент.\n",
        "\n",
        "Уравнение веса младенца при курении матери:\n",
        "\n",
        "$$\\text{Weight}_{1i} = \\underbrace{\\underbrace{11\\times \\text{Genes}_{i}}_{g_{1}^{\\text{unobs}}} + \\underbrace{50\\times \\frac{\\text{Income}_{i}}{5 - \\text{Married}_{i} - \\text{Full_term}_{i}}-50\\times ln({Age}_{i})}_{g_{1}^{\\text{obs}}}}_{g_{1}} + \\varepsilon_{1i}\\text{, где }\\varepsilon_{1i}\\sim \\left(\\text{EXP}(0.1) - 10\\right)$$\n",
        "\n",
        "Отметим также предположение, что, чем старше мать, тем дольше, возможно, она курит, поэтому здесь коэффициент перед логарифмом возраста побольше.\n",
        "\n",
        "Наблюдаемый вес новорожденного:\n",
        "\n",
        "$$\\text{Weight}_{i} = \\begin{cases}\\text{Weight}_{1i}\\text{, если }\\text{Smoking}_{i}=1\\\\ \\text{Weight}_{0i}\\text{, если }\\text{Smoking}_{i}=0\\end{cases} = \\\\ =\\text{Weight}_{1i}\\times\\text{Smoking}_{i} + \\text{Weight}_{0i}\\times\\left(1-\\text{Smoking}_{i}\\right)$$"
      ]
    },
    {
      "cell_type": "code",
      "execution_count": 133,
      "metadata": {
        "id": "PWQh0Ncdq1SR"
      },
      "outputs": [],
      "source": [
        "# Случайные ошибки\n",
        "np.random.seed(234)\n",
        "error0 = t.rvs(size = n, df = 15) * 8\n",
        "error1 = expon.rvs(size = n, scale = 10) - 10\n",
        "\n",
        "# Функция от контрольных переменных\n",
        "  # когда мать не курит\n",
        "g0_obs   = (70 * income / (5 - full_term - married)) - 30*np.log(age)\n",
        "g0_unobs =  150 + 15 * genes\n",
        "g0       = g0_obs + g0_unobs\n",
        "  # когда мать курит\n",
        "g1_obs   = (50* income / (5 - full_term - married))- 50*np.log(age)\n",
        "g1_unobs =  11 * genes\n",
        "g1       = g1_obs + g1_unobs\n",
        "\n",
        "# Вес в зависимости от факта курения матери\n",
        "weight0 = g0 + error0\n",
        "weight1 = g1 + error1\n",
        "\n",
        "# Наблюдаемый вес новорожденного\n",
        "weight = weight1 * smoking + weight0 * (1 - smoking)"
      ]
    },
    {
      "cell_type": "markdown",
      "metadata": {
        "id": "1SJy9RU9fY10"
      },
      "source": [
        "Проверим адекватность полученной размерности:"
      ]
    },
    {
      "cell_type": "code",
      "execution_count": 134,
      "metadata": {
        "colab": {
          "base_uri": "https://localhost:8080/"
        },
        "id": "mIVh1BdlfY10",
        "outputId": "bf8c5a56-967e-4eff-edb8-fee24c2ff1eb"
      },
      "outputs": [
        {
          "output_type": "execute_result",
          "data": {
            "text/plain": [
              "3015.259195201176"
            ]
          },
          "metadata": {},
          "execution_count": 134
        }
      ],
      "source": [
        "weight.mean()"
      ]
    },
    {
      "cell_type": "markdown",
      "metadata": {
        "id": "AZUU1rhofuY1"
      },
      "source": [
        "Во избежание чрезвычайно точных или крайне неточных оценок, желательно, чтобы при каждом $j\\in\\{0, 1\\}$ дисперсии $\\varepsilon_{ji}$, $g_{j}$, $g_{j}^{\\text{obs}}$ и  $g_{j}^{\\text{unobs}}$ различались не более, чем в $5$ раз."
      ]
    },
    {
      "cell_type": "code",
      "execution_count": 135,
      "metadata": {
        "colab": {
          "base_uri": "https://localhost:8080/"
        },
        "id": "5XRTaGqzWZAM",
        "outputId": "56871e02-2e84-4158-8051-0fd34c9d814b"
      },
      "outputs": [
        {
          "output_type": "stream",
          "name": "stdout",
          "text": [
            "                      Оценка\n",
            "Var(eps0)          71.634895\n",
            "Var(g0)        815187.031266\n",
            "Var(g0_obs)    788369.625081\n",
            "Var(g0_unobs)   28130.408494\n",
            "Var(eps1)         104.146087\n",
            "Var(g1)        416828.597855\n",
            "Var(g1_obs)    402391.583443\n",
            "Var(g1_unobs)   15127.908568\n"
          ]
        }
      ],
      "source": [
        "# Приблизительно оценим адекватность дисперсий\n",
        "print(pd.DataFrame(data    = [np.var(error0),   np.var(g0),\n",
        "                              np.var(g0_obs),   np.var(g0_unobs),\n",
        "                              np.var(error1),   np.var(g1),\n",
        "                              np.var(g1_obs),   np.var(g1_unobs)],\n",
        "                   index   = ['Var(eps0)',     'Var(g0)',\n",
        "                              'Var(g0_obs)',   'Var(g0_unobs)',\n",
        "                              'Var(eps1)',     'Var(g1)',\n",
        "                              'Var(g1_obs)',   'Var(g1_unobs)'],\n",
        "                   columns = ['Оценка']))"
      ]
    },
    {
      "cell_type": "markdown",
      "metadata": {
        "id": "NfUBG0YqOXUL"
      },
      "source": [
        "**Объединение данных** 😸"
      ]
    },
    {
      "cell_type": "code",
      "execution_count": 136,
      "metadata": {
        "colab": {
          "base_uri": "https://localhost:8080/",
          "height": 363
        },
        "id": "BES3xbgNOWh1",
        "outputId": "f290fc4f-673e-4052-f434-d0ebbfb10e44"
      },
      "outputs": [
        {
          "output_type": "execute_result",
          "data": {
            "text/plain": [
              "        weight  smoking   age  income  married  full_term  smoking_friends  \\\n",
              "0  3773.587751        0  21.0   119.0        1          1                1   \n",
              "1  1989.784386        1  36.0    73.0        1          1                1   \n",
              "2  3251.918891        0  31.0   110.0        1          1                1   \n",
              "3  1840.805003        0  18.0    32.0        1          1                0   \n",
              "4  4428.097002        0  25.0   130.0        1          1                1   \n",
              "5  2038.116741        0  41.0    39.0        1          1                0   \n",
              "6  2003.137584        1  14.0   100.0        0          1                0   \n",
              "7  2962.406917        0  26.0    95.0        1          0                1   \n",
              "8  2068.871822        0  38.0    68.0        1          0                0   \n",
              "9  5676.022416        0  23.0   200.0        1          1                1   \n",
              "\n",
              "   genes  \n",
              "0   62.0  \n",
              "1   87.0  \n",
              "2   43.0  \n",
              "3   68.0  \n",
              "4   90.0  \n",
              "5   73.0  \n",
              "6   81.0  \n",
              "7   84.0  \n",
              "8   55.0  \n",
              "9   64.0  "
            ],
            "text/html": [
              "\n",
              "  <div id=\"df-b8cb5dec-6390-44ad-84b4-38a405b8f26d\" class=\"colab-df-container\">\n",
              "    <div>\n",
              "<style scoped>\n",
              "    .dataframe tbody tr th:only-of-type {\n",
              "        vertical-align: middle;\n",
              "    }\n",
              "\n",
              "    .dataframe tbody tr th {\n",
              "        vertical-align: top;\n",
              "    }\n",
              "\n",
              "    .dataframe thead th {\n",
              "        text-align: right;\n",
              "    }\n",
              "</style>\n",
              "<table border=\"1\" class=\"dataframe\">\n",
              "  <thead>\n",
              "    <tr style=\"text-align: right;\">\n",
              "      <th></th>\n",
              "      <th>weight</th>\n",
              "      <th>smoking</th>\n",
              "      <th>age</th>\n",
              "      <th>income</th>\n",
              "      <th>married</th>\n",
              "      <th>full_term</th>\n",
              "      <th>smoking_friends</th>\n",
              "      <th>genes</th>\n",
              "    </tr>\n",
              "  </thead>\n",
              "  <tbody>\n",
              "    <tr>\n",
              "      <th>0</th>\n",
              "      <td>3773.587751</td>\n",
              "      <td>0</td>\n",
              "      <td>21.0</td>\n",
              "      <td>119.0</td>\n",
              "      <td>1</td>\n",
              "      <td>1</td>\n",
              "      <td>1</td>\n",
              "      <td>62.0</td>\n",
              "    </tr>\n",
              "    <tr>\n",
              "      <th>1</th>\n",
              "      <td>1989.784386</td>\n",
              "      <td>1</td>\n",
              "      <td>36.0</td>\n",
              "      <td>73.0</td>\n",
              "      <td>1</td>\n",
              "      <td>1</td>\n",
              "      <td>1</td>\n",
              "      <td>87.0</td>\n",
              "    </tr>\n",
              "    <tr>\n",
              "      <th>2</th>\n",
              "      <td>3251.918891</td>\n",
              "      <td>0</td>\n",
              "      <td>31.0</td>\n",
              "      <td>110.0</td>\n",
              "      <td>1</td>\n",
              "      <td>1</td>\n",
              "      <td>1</td>\n",
              "      <td>43.0</td>\n",
              "    </tr>\n",
              "    <tr>\n",
              "      <th>3</th>\n",
              "      <td>1840.805003</td>\n",
              "      <td>0</td>\n",
              "      <td>18.0</td>\n",
              "      <td>32.0</td>\n",
              "      <td>1</td>\n",
              "      <td>1</td>\n",
              "      <td>0</td>\n",
              "      <td>68.0</td>\n",
              "    </tr>\n",
              "    <tr>\n",
              "      <th>4</th>\n",
              "      <td>4428.097002</td>\n",
              "      <td>0</td>\n",
              "      <td>25.0</td>\n",
              "      <td>130.0</td>\n",
              "      <td>1</td>\n",
              "      <td>1</td>\n",
              "      <td>1</td>\n",
              "      <td>90.0</td>\n",
              "    </tr>\n",
              "    <tr>\n",
              "      <th>5</th>\n",
              "      <td>2038.116741</td>\n",
              "      <td>0</td>\n",
              "      <td>41.0</td>\n",
              "      <td>39.0</td>\n",
              "      <td>1</td>\n",
              "      <td>1</td>\n",
              "      <td>0</td>\n",
              "      <td>73.0</td>\n",
              "    </tr>\n",
              "    <tr>\n",
              "      <th>6</th>\n",
              "      <td>2003.137584</td>\n",
              "      <td>1</td>\n",
              "      <td>14.0</td>\n",
              "      <td>100.0</td>\n",
              "      <td>0</td>\n",
              "      <td>1</td>\n",
              "      <td>0</td>\n",
              "      <td>81.0</td>\n",
              "    </tr>\n",
              "    <tr>\n",
              "      <th>7</th>\n",
              "      <td>2962.406917</td>\n",
              "      <td>0</td>\n",
              "      <td>26.0</td>\n",
              "      <td>95.0</td>\n",
              "      <td>1</td>\n",
              "      <td>0</td>\n",
              "      <td>1</td>\n",
              "      <td>84.0</td>\n",
              "    </tr>\n",
              "    <tr>\n",
              "      <th>8</th>\n",
              "      <td>2068.871822</td>\n",
              "      <td>0</td>\n",
              "      <td>38.0</td>\n",
              "      <td>68.0</td>\n",
              "      <td>1</td>\n",
              "      <td>0</td>\n",
              "      <td>0</td>\n",
              "      <td>55.0</td>\n",
              "    </tr>\n",
              "    <tr>\n",
              "      <th>9</th>\n",
              "      <td>5676.022416</td>\n",
              "      <td>0</td>\n",
              "      <td>23.0</td>\n",
              "      <td>200.0</td>\n",
              "      <td>1</td>\n",
              "      <td>1</td>\n",
              "      <td>1</td>\n",
              "      <td>64.0</td>\n",
              "    </tr>\n",
              "  </tbody>\n",
              "</table>\n",
              "</div>\n",
              "    <div class=\"colab-df-buttons\">\n",
              "\n",
              "  <div class=\"colab-df-container\">\n",
              "    <button class=\"colab-df-convert\" onclick=\"convertToInteractive('df-b8cb5dec-6390-44ad-84b4-38a405b8f26d')\"\n",
              "            title=\"Convert this dataframe to an interactive table.\"\n",
              "            style=\"display:none;\">\n",
              "\n",
              "  <svg xmlns=\"http://www.w3.org/2000/svg\" height=\"24px\" viewBox=\"0 -960 960 960\">\n",
              "    <path d=\"M120-120v-720h720v720H120Zm60-500h600v-160H180v160Zm220 220h160v-160H400v160Zm0 220h160v-160H400v160ZM180-400h160v-160H180v160Zm440 0h160v-160H620v160ZM180-180h160v-160H180v160Zm440 0h160v-160H620v160Z\"/>\n",
              "  </svg>\n",
              "    </button>\n",
              "\n",
              "  <style>\n",
              "    .colab-df-container {\n",
              "      display:flex;\n",
              "      gap: 12px;\n",
              "    }\n",
              "\n",
              "    .colab-df-convert {\n",
              "      background-color: #E8F0FE;\n",
              "      border: none;\n",
              "      border-radius: 50%;\n",
              "      cursor: pointer;\n",
              "      display: none;\n",
              "      fill: #1967D2;\n",
              "      height: 32px;\n",
              "      padding: 0 0 0 0;\n",
              "      width: 32px;\n",
              "    }\n",
              "\n",
              "    .colab-df-convert:hover {\n",
              "      background-color: #E2EBFA;\n",
              "      box-shadow: 0px 1px 2px rgba(60, 64, 67, 0.3), 0px 1px 3px 1px rgba(60, 64, 67, 0.15);\n",
              "      fill: #174EA6;\n",
              "    }\n",
              "\n",
              "    .colab-df-buttons div {\n",
              "      margin-bottom: 4px;\n",
              "    }\n",
              "\n",
              "    [theme=dark] .colab-df-convert {\n",
              "      background-color: #3B4455;\n",
              "      fill: #D2E3FC;\n",
              "    }\n",
              "\n",
              "    [theme=dark] .colab-df-convert:hover {\n",
              "      background-color: #434B5C;\n",
              "      box-shadow: 0px 1px 3px 1px rgba(0, 0, 0, 0.15);\n",
              "      filter: drop-shadow(0px 1px 2px rgba(0, 0, 0, 0.3));\n",
              "      fill: #FFFFFF;\n",
              "    }\n",
              "  </style>\n",
              "\n",
              "    <script>\n",
              "      const buttonEl =\n",
              "        document.querySelector('#df-b8cb5dec-6390-44ad-84b4-38a405b8f26d button.colab-df-convert');\n",
              "      buttonEl.style.display =\n",
              "        google.colab.kernel.accessAllowed ? 'block' : 'none';\n",
              "\n",
              "      async function convertToInteractive(key) {\n",
              "        const element = document.querySelector('#df-b8cb5dec-6390-44ad-84b4-38a405b8f26d');\n",
              "        const dataTable =\n",
              "          await google.colab.kernel.invokeFunction('convertToInteractive',\n",
              "                                                    [key], {});\n",
              "        if (!dataTable) return;\n",
              "\n",
              "        const docLinkHtml = 'Like what you see? Visit the ' +\n",
              "          '<a target=\"_blank\" href=https://colab.research.google.com/notebooks/data_table.ipynb>data table notebook</a>'\n",
              "          + ' to learn more about interactive tables.';\n",
              "        element.innerHTML = '';\n",
              "        dataTable['output_type'] = 'display_data';\n",
              "        await google.colab.output.renderOutput(dataTable, element);\n",
              "        const docLink = document.createElement('div');\n",
              "        docLink.innerHTML = docLinkHtml;\n",
              "        element.appendChild(docLink);\n",
              "      }\n",
              "    </script>\n",
              "  </div>\n",
              "\n",
              "\n",
              "<div id=\"df-0019aae5-782f-4dd1-8e2e-ccc52941a361\">\n",
              "  <button class=\"colab-df-quickchart\" onclick=\"quickchart('df-0019aae5-782f-4dd1-8e2e-ccc52941a361')\"\n",
              "            title=\"Suggest charts\"\n",
              "            style=\"display:none;\">\n",
              "\n",
              "<svg xmlns=\"http://www.w3.org/2000/svg\" height=\"24px\"viewBox=\"0 0 24 24\"\n",
              "     width=\"24px\">\n",
              "    <g>\n",
              "        <path d=\"M19 3H5c-1.1 0-2 .9-2 2v14c0 1.1.9 2 2 2h14c1.1 0 2-.9 2-2V5c0-1.1-.9-2-2-2zM9 17H7v-7h2v7zm4 0h-2V7h2v10zm4 0h-2v-4h2v4z\"/>\n",
              "    </g>\n",
              "</svg>\n",
              "  </button>\n",
              "\n",
              "<style>\n",
              "  .colab-df-quickchart {\n",
              "      --bg-color: #E8F0FE;\n",
              "      --fill-color: #1967D2;\n",
              "      --hover-bg-color: #E2EBFA;\n",
              "      --hover-fill-color: #174EA6;\n",
              "      --disabled-fill-color: #AAA;\n",
              "      --disabled-bg-color: #DDD;\n",
              "  }\n",
              "\n",
              "  [theme=dark] .colab-df-quickchart {\n",
              "      --bg-color: #3B4455;\n",
              "      --fill-color: #D2E3FC;\n",
              "      --hover-bg-color: #434B5C;\n",
              "      --hover-fill-color: #FFFFFF;\n",
              "      --disabled-bg-color: #3B4455;\n",
              "      --disabled-fill-color: #666;\n",
              "  }\n",
              "\n",
              "  .colab-df-quickchart {\n",
              "    background-color: var(--bg-color);\n",
              "    border: none;\n",
              "    border-radius: 50%;\n",
              "    cursor: pointer;\n",
              "    display: none;\n",
              "    fill: var(--fill-color);\n",
              "    height: 32px;\n",
              "    padding: 0;\n",
              "    width: 32px;\n",
              "  }\n",
              "\n",
              "  .colab-df-quickchart:hover {\n",
              "    background-color: var(--hover-bg-color);\n",
              "    box-shadow: 0 1px 2px rgba(60, 64, 67, 0.3), 0 1px 3px 1px rgba(60, 64, 67, 0.15);\n",
              "    fill: var(--button-hover-fill-color);\n",
              "  }\n",
              "\n",
              "  .colab-df-quickchart-complete:disabled,\n",
              "  .colab-df-quickchart-complete:disabled:hover {\n",
              "    background-color: var(--disabled-bg-color);\n",
              "    fill: var(--disabled-fill-color);\n",
              "    box-shadow: none;\n",
              "  }\n",
              "\n",
              "  .colab-df-spinner {\n",
              "    border: 2px solid var(--fill-color);\n",
              "    border-color: transparent;\n",
              "    border-bottom-color: var(--fill-color);\n",
              "    animation:\n",
              "      spin 1s steps(1) infinite;\n",
              "  }\n",
              "\n",
              "  @keyframes spin {\n",
              "    0% {\n",
              "      border-color: transparent;\n",
              "      border-bottom-color: var(--fill-color);\n",
              "      border-left-color: var(--fill-color);\n",
              "    }\n",
              "    20% {\n",
              "      border-color: transparent;\n",
              "      border-left-color: var(--fill-color);\n",
              "      border-top-color: var(--fill-color);\n",
              "    }\n",
              "    30% {\n",
              "      border-color: transparent;\n",
              "      border-left-color: var(--fill-color);\n",
              "      border-top-color: var(--fill-color);\n",
              "      border-right-color: var(--fill-color);\n",
              "    }\n",
              "    40% {\n",
              "      border-color: transparent;\n",
              "      border-right-color: var(--fill-color);\n",
              "      border-top-color: var(--fill-color);\n",
              "    }\n",
              "    60% {\n",
              "      border-color: transparent;\n",
              "      border-right-color: var(--fill-color);\n",
              "    }\n",
              "    80% {\n",
              "      border-color: transparent;\n",
              "      border-right-color: var(--fill-color);\n",
              "      border-bottom-color: var(--fill-color);\n",
              "    }\n",
              "    90% {\n",
              "      border-color: transparent;\n",
              "      border-bottom-color: var(--fill-color);\n",
              "    }\n",
              "  }\n",
              "</style>\n",
              "\n",
              "  <script>\n",
              "    async function quickchart(key) {\n",
              "      const quickchartButtonEl =\n",
              "        document.querySelector('#' + key + ' button');\n",
              "      quickchartButtonEl.disabled = true;  // To prevent multiple clicks.\n",
              "      quickchartButtonEl.classList.add('colab-df-spinner');\n",
              "      try {\n",
              "        const charts = await google.colab.kernel.invokeFunction(\n",
              "            'suggestCharts', [key], {});\n",
              "      } catch (error) {\n",
              "        console.error('Error during call to suggestCharts:', error);\n",
              "      }\n",
              "      quickchartButtonEl.classList.remove('colab-df-spinner');\n",
              "      quickchartButtonEl.classList.add('colab-df-quickchart-complete');\n",
              "    }\n",
              "    (() => {\n",
              "      let quickchartButtonEl =\n",
              "        document.querySelector('#df-0019aae5-782f-4dd1-8e2e-ccc52941a361 button');\n",
              "      quickchartButtonEl.style.display =\n",
              "        google.colab.kernel.accessAllowed ? 'block' : 'none';\n",
              "    })();\n",
              "  </script>\n",
              "</div>\n",
              "    </div>\n",
              "  </div>\n"
            ],
            "application/vnd.google.colaboratory.intrinsic+json": {
              "type": "dataframe",
              "variable_name": "df",
              "summary": "{\n  \"name\": \"df\",\n  \"rows\": 10000,\n  \"fields\": [\n    {\n      \"column\": \"weight\",\n      \"properties\": {\n        \"dtype\": \"number\",\n        \"std\": 1043.8638874640326,\n        \"min\": 771.537472352904,\n        \"max\": 6122.119411225766,\n        \"num_unique_values\": 10000,\n        \"samples\": [\n          4853.695665191835,\n          3335.720420602926,\n          2036.6708656227022\n        ],\n        \"semantic_type\": \"\",\n        \"description\": \"\"\n      }\n    },\n    {\n      \"column\": \"smoking\",\n      \"properties\": {\n        \"dtype\": \"number\",\n        \"std\": 0,\n        \"min\": 0,\n        \"max\": 1,\n        \"num_unique_values\": 2,\n        \"samples\": [\n          1,\n          0\n        ],\n        \"semantic_type\": \"\",\n        \"description\": \"\"\n      }\n    },\n    {\n      \"column\": \"age\",\n      \"properties\": {\n        \"dtype\": \"number\",\n        \"std\": 6.9023346095582925,\n        \"min\": 14.0,\n        \"max\": 55.0,\n        \"num_unique_values\": 42,\n        \"samples\": [\n          46.0,\n          44.0\n        ],\n        \"semantic_type\": \"\",\n        \"description\": \"\"\n      }\n    },\n    {\n      \"column\": \"income\",\n      \"properties\": {\n        \"dtype\": \"number\",\n        \"std\": 38.98741383887606,\n        \"min\": 15.0,\n        \"max\": 200.0,\n        \"num_unique_values\": 186,\n        \"samples\": [\n          171.0,\n          30.0\n        ],\n        \"semantic_type\": \"\",\n        \"description\": \"\"\n      }\n    },\n    {\n      \"column\": \"married\",\n      \"properties\": {\n        \"dtype\": \"number\",\n        \"std\": 0,\n        \"min\": 0,\n        \"max\": 1,\n        \"num_unique_values\": 2,\n        \"samples\": [\n          0,\n          1\n        ],\n        \"semantic_type\": \"\",\n        \"description\": \"\"\n      }\n    },\n    {\n      \"column\": \"full_term\",\n      \"properties\": {\n        \"dtype\": \"number\",\n        \"std\": 0,\n        \"min\": 0,\n        \"max\": 1,\n        \"num_unique_values\": 2,\n        \"samples\": [\n          0,\n          1\n        ],\n        \"semantic_type\": \"\",\n        \"description\": \"\"\n      }\n    },\n    {\n      \"column\": \"smoking_friends\",\n      \"properties\": {\n        \"dtype\": \"number\",\n        \"std\": 0,\n        \"min\": 0,\n        \"max\": 1,\n        \"num_unique_values\": 2,\n        \"samples\": [\n          0,\n          1\n        ],\n        \"semantic_type\": \"\",\n        \"description\": \"\"\n      }\n    },\n    {\n      \"column\": \"genes\",\n      \"properties\": {\n        \"dtype\": \"number\",\n        \"std\": 11.181973949358872,\n        \"min\": 19.0,\n        \"max\": 100.0,\n        \"num_unique_values\": 76,\n        \"samples\": [\n          90.0,\n          66.0\n        ],\n        \"semantic_type\": \"\",\n        \"description\": \"\"\n      }\n    }\n  ]\n}"
            }
          },
          "metadata": {},
          "execution_count": 136
        }
      ],
      "source": [
        "# Аггрегируем данные в датафрейм\n",
        "df = pd.DataFrame({'weight': weight, 'smoking': smoking,\n",
        "                   'age': age,'income': income, 'married': married,\n",
        "                   'full_term': full_term, 'smoking_friends': smoking_friends,\n",
        "                   'genes': genes})\n",
        "df = df.loc[0:n, :]\n",
        "\n",
        "# Посмотрим на симулированные данные\n",
        "df.head(10)#.style.format(precision = 2)"
      ]
    },
    {
      "cell_type": "markdown",
      "metadata": {
        "id": "1Q8H7bPYuc7u"
      },
      "source": [
        "##**4. Разделите выборку на обучающую и тестовую.**\n",
        "Тестовая выборка должна включать от 20% до 30% наблюдений."
      ]
    },
    {
      "cell_type": "code",
      "execution_count": 137,
      "metadata": {
        "id": "Li7OwwNQfY11"
      },
      "outputs": [],
      "source": [
        "target   = df.loc[:, ['smoking']]            # целевая переменная\n",
        "features = df.loc[:, [\"married\", \"full_term\",'age','income','smoking_friends']]    # матрица признаков\n",
        "target   = np.squeeze(target)                # преобразуем из вектора столбца\n",
        "                                             # в одномерный массив"
      ]
    },
    {
      "cell_type": "code",
      "execution_count": 138,
      "metadata": {
        "id": "3UiZYPFsfY11"
      },
      "outputs": [],
      "source": [
        "features_train, features_test, target_train, target_test = train_test_split(\n",
        "    features, target, test_size = 0.2, random_state = 777)"
      ]
    },
    {
      "cell_type": "code",
      "execution_count": 139,
      "metadata": {
        "colab": {
          "base_uri": "https://localhost:8080/"
        },
        "id": "yeUyh1cWfY11",
        "outputId": "194eef39-1533-498b-9b28-f66f3a7dc1b5"
      },
      "outputs": [
        {
          "output_type": "stream",
          "name": "stdout",
          "text": [
            "8000 2000\n",
            "8000 2000\n"
          ]
        }
      ],
      "source": [
        "print(features_train.index.size, features_test.index.size) # признаки\n",
        "print(target_train.index.size, target_test.index.size)     # целевая переменная"
      ]
    },
    {
      "cell_type": "markdown",
      "metadata": {
        "id": "U8jle2YGwlkH"
      },
      "source": [
        "#3. Классификация"
      ]
    },
    {
      "cell_type": "markdown",
      "metadata": {
        "id": "wjTO3Pf_0hWL"
      },
      "source": [
        "##**1. Отберите признаки, которые могут быть полезны при прогнозировании переменной воздействия и кратко обоснуйте выбор каждой из них.**\n",
        "Не включайте в число этих признаков целевую переменную.\n"
      ]
    },
    {
      "cell_type": "markdown",
      "metadata": {
        "id": "P19yS-bQ1BOM"
      },
      "source": [
        "Выше мы уже отобрали нужные переменные. Мы не включили ненаблюдаемую переменную генетических факторов, но включили инструментальную переменную - наличие курящих друзей в ближайшем окружении матери."
      ]
    },
    {
      "cell_type": "markdown",
      "metadata": {
        "id": "sg7jLe0615vj"
      },
      "source": [
        "##**2. Выберите произвольные значения гиперпараметров, а затем оцените и сравните(между методами) точность прогнозов:**\n",
        "\n",
        "\n"
      ]
    },
    {
      "cell_type": "markdown",
      "metadata": {
        "id": "qkuOKEDp3Zoh"
      },
      "source": [
        "Начнем с наивного Байесовского классификатора."
      ]
    },
    {
      "cell_type": "markdown",
      "metadata": {
        "id": "ne6mYTz3EQ-b"
      },
      "source": [
        "Используем метод \"биннинг\" для применения наивного Байесовского классификатора, чтобы непрерывные переменные не принимали слишком много различных значений, что поможет не привести к существенной фрагментации данных и, как следствие, к проклятью размерности."
      ]
    },
    {
      "cell_type": "code",
      "execution_count": 140,
      "metadata": {
        "colab": {
          "base_uri": "https://localhost:8080/"
        },
        "id": "l46ySNzRAkrD",
        "outputId": "5e523bf4-9cac-4766-8928-4f7bf57851a4"
      },
      "outputs": [
        {
          "output_type": "execute_result",
          "data": {
            "text/plain": [
              "age_bin\n",
              "(24.0, 29.0]      2626\n",
              "(13.999, 24.0]    2596\n",
              "(29.0, 34.0]      2591\n",
              "(34.0, 55.0]      2187\n",
              "Name: count, dtype: int64"
            ]
          },
          "metadata": {},
          "execution_count": 140
        }
      ],
      "source": [
        "# Для добавления переменной на доход разобьем ее по квантилям\n",
        "df['income_bin'] = pd.qcut(df['income'],   # разбиваемая переменная\n",
        "                           q = 4)          # число квантилей (равных разбиений)\n",
        "df['income_bin'].value_counts()            # распределение значений\n",
        "df['age_bin'] = pd.qcut(df['age'],   # разбиваемая переменная\n",
        "                           q = 4)          # число квантилей (равных разбиений)\n",
        "df['age_bin'].value_counts()            # распределение значений\n"
      ]
    },
    {
      "cell_type": "code",
      "execution_count": 141,
      "metadata": {
        "colab": {
          "base_uri": "https://localhost:8080/"
        },
        "id": "RUVWaWCbAktn",
        "outputId": "945b71a9-5d71-49fc-f3c3-51aceec9b425",
        "collapsed": true
      },
      "outputs": [
        {
          "output_type": "stream",
          "name": "stdout",
          "text": [
            "0     2\n",
            "1     1\n",
            "2     2\n",
            "3     0\n",
            "4     3\n",
            "5     0\n",
            "6     2\n",
            "7     1\n",
            "8     0\n",
            "9     3\n",
            "10    1\n",
            "Name: income_bin, dtype: category\n",
            "Categories (4, int64): [0 < 1 < 2 < 3]\n",
            "0     0\n",
            "1     3\n",
            "2     2\n",
            "3     0\n",
            "4     1\n",
            "5     3\n",
            "6     0\n",
            "7     1\n",
            "8     3\n",
            "9     0\n",
            "10    0\n",
            "Name: age_bin, dtype: category\n",
            "Categories (4, int64): [0 < 1 < 2 < 3]\n"
          ]
        }
      ],
      "source": [
        "# Преобразуем переменную в числовую за счет\n",
        "# добавления аргумента labels\n",
        "df['income_bin'] = pd.qcut(df['income'], q = 4, labels = range(0, 4))\n",
        "print(df.loc[0:10, 'income_bin'])\n",
        "df['age_bin'] = pd.qcut(df['age'], q = 4, labels = range(0, 4))\n",
        "print(df.loc[0:10, 'age_bin'])\n"
      ]
    },
    {
      "cell_type": "markdown",
      "metadata": {
        "id": "WPi_uDftCZDN"
      },
      "source": [
        "Для наивного Байесовского классификатора введем отдельные трейн и тест, так как обработали непрервные переменные."
      ]
    },
    {
      "cell_type": "code",
      "execution_count": 142,
      "metadata": {
        "id": "2JwTMmJLCLXa"
      },
      "outputs": [],
      "source": [
        "target   = df.loc[:, ['smoking']]            # целевая переменная\n",
        "features_nb = df.loc[:, [\"married\", \"full_term\",'smoking_friends']]    # матрица признаков\n",
        "target   = np.squeeze(target)                # преобразуем из вектора столбца\n",
        "                                             # в одномерный массив"
      ]
    },
    {
      "cell_type": "code",
      "execution_count": 143,
      "metadata": {
        "id": "Io9NQdyGAkvs"
      },
      "outputs": [],
      "source": [
        "features_nb[\"income_bin\"] = df[\"income_bin\"]\n",
        "features_nb[\"age_bin\"] = df[\"age_bin\"]"
      ]
    },
    {
      "cell_type": "code",
      "execution_count": 144,
      "metadata": {
        "id": "vmM0Dl-aCkXk"
      },
      "outputs": [],
      "source": [
        "features_nb_train, features_nb_test, target_train, target_test = train_test_split(\n",
        "    features_nb, target, test_size = 0.2, random_state = 777)"
      ]
    },
    {
      "cell_type": "code",
      "execution_count": 145,
      "metadata": {
        "id": "QfJnEb7l3COT"
      },
      "outputs": [],
      "source": [
        "nb_train = CategoricalNB(force_alpha = True, alpha = 0)\n",
        "nb_train.fit(features_nb_train, target_train)\n",
        "prediction_nb_train1 = nb_train.predict(features_nb_test)\n",
        "prediction_nb_train2 = nb_train.predict(features_nb_train)\n"
      ]
    },
    {
      "cell_type": "markdown",
      "metadata": {
        "id": "ElzEARhj2A37"
      },
      "source": [
        "**Точности на обучающей и тестовой выборке:**\n"
      ]
    },
    {
      "cell_type": "code",
      "execution_count": 146,
      "metadata": {
        "id": "lZ0kT5u03CQL"
      },
      "outputs": [],
      "source": [
        "# Оценим точность прогноза на тестовой выбокре\n",
        "ACC_nb_test = nb_train.score(features_nb_test, target_test)"
      ]
    },
    {
      "cell_type": "code",
      "execution_count": 147,
      "metadata": {
        "colab": {
          "base_uri": "https://localhost:8080/"
        },
        "id": "SJKLmCEC2V6u",
        "outputId": "6b60163b-275f-46ce-c918-ca694adeb555"
      },
      "outputs": [
        {
          "output_type": "stream",
          "name": "stdout",
          "text": [
            "                        ACC\n",
            "Обучающая выборка  0.814125\n",
            "Тестовая выборка   0.806000\n"
          ]
        }
      ],
      "source": [
        "ACC_nb_train = nb_train.score(features_nb_train, target_train)\n",
        "print(pd.DataFrame(data    = [ACC_nb_train, ACC_nb_test],\n",
        "                   index   = ['Обучающая выборка',\n",
        "                              'Тестовая выборка'],\n",
        "                   columns = ['ACC']))"
      ]
    },
    {
      "cell_type": "markdown",
      "metadata": {
        "id": "S5uze-noDWMj"
      },
      "source": [
        "**Кросс-валидация**"
      ]
    },
    {
      "cell_type": "code",
      "execution_count": 148,
      "metadata": {
        "id": "WNYWk5305ISS"
      },
      "outputs": [],
      "source": [
        "ACC_CV_nb = cross_val_score(estimator = nb_train,     # модель\n",
        "                            X = features_nb_train,       # признаки\n",
        "                            y = target_train,         # целевая переменная\n",
        "                            cv = 5)             # количество частей (folds)\n",
        "ACC_CV_total_nb = np.mean(ACC_CV_nb)            # средняя точность по фолдам"
      ]
    },
    {
      "cell_type": "code",
      "execution_count": 149,
      "metadata": {
        "colab": {
          "base_uri": "https://localhost:8080/"
        },
        "id": "h2N3ovOHDesU",
        "outputId": "16ec0507-25fb-41f2-b9d1-86ada44a0ff9"
      },
      "outputs": [
        {
          "output_type": "stream",
          "name": "stdout",
          "text": [
            "                                 ACC\n",
            "Обучающая выборка           0.814125\n",
            "Тестовая выборка            0.806000\n",
            "Cредняя по кросс-валидации  0.814250\n"
          ]
        }
      ],
      "source": [
        "print(pd.DataFrame(data    = [ACC_nb_train, ACC_nb_test,ACC_CV_total_nb],\n",
        "                   index   = ['Обучающая выборка',\n",
        "                              'Тестовая выборка','Cредняя по кросс-валидации'],\n",
        "                   columns = ['ACC']))"
      ]
    },
    {
      "cell_type": "markdown",
      "metadata": {
        "id": "kPpy5JYr7zoA"
      },
      "source": [
        "Следующий метод - Метод ближайших соседей."
      ]
    },
    {
      "cell_type": "code",
      "execution_count": 150,
      "metadata": {
        "id": "QZQ1Q0OS6PKi"
      },
      "outputs": [],
      "source": [
        "# Сохраним число наблюдений обучающей и тестовой выборок\n",
        "n_train = len(target_train)\n",
        "n_test  = len(target_test)\n",
        "\n",
        "# Вернем исходную сортировку индексов, чтобы сохранялась правильная индексация\n",
        "features_train = features_train.reset_index(drop = True)\n",
        "target_train   = target_train.reset_index(drop = True)\n",
        "features_test  = features_test.reset_index(drop = True)\n",
        "target_test    = target_test.reset_index(drop = True)"
      ]
    },
    {
      "cell_type": "markdown",
      "metadata": {
        "id": "nTqCYdJp8h7p"
      },
      "source": [
        "Метод ближайших соседей чувствителен к разным размерностям, поэтому нужно стандартизировать значения переменных."
      ]
    },
    {
      "cell_type": "code",
      "execution_count": 151,
      "metadata": {
        "id": "KXbcwEVK8HG0"
      },
      "outputs": [],
      "source": [
        "# Сохраним данные до нормализации\n",
        "features_train_initial = features_train.copy()\n",
        "features_test_initial  = features_test.copy()\n",
        "\n",
        "# Подготовим объект, осуществляющий нормализацию\n",
        "scaler = sklearn.preprocessing.StandardScaler().set_output(transform = \"pandas\").fit(features_train)\n",
        "\n",
        "# Нормализуем данные\n",
        "features_train = scaler.transform(features_train_initial)  # обучающая выборка\n",
        "features_test  = scaler.transform(features_test_initial)   # тестовая выборка"
      ]
    },
    {
      "cell_type": "code",
      "execution_count": 152,
      "metadata": {
        "id": "evVRT_ZT8HKO"
      },
      "outputs": [],
      "source": [
        "knn = KNeighborsClassifier(n_neighbors = 3,      # число соседей\n",
        "                           metric = \"minkowski\", # метрика расстояния\n",
        "                           p = 2)                # Евклидова метрика\n",
        "knn.fit(features_train, target_train)            # обучение на данных\n",
        "prediction_knn1 = knn.predict(features_test)\n",
        "prediction_knn2 = knn.predict(features_train)"
      ]
    },
    {
      "cell_type": "markdown",
      "metadata": {
        "id": "AkBp7zU6FxY5"
      },
      "source": [
        "**Точность на обучающей и тестовой выборке:**"
      ]
    },
    {
      "cell_type": "code",
      "execution_count": 153,
      "metadata": {
        "colab": {
          "base_uri": "https://localhost:8080/"
        },
        "id": "I0-pGUw69fRQ",
        "outputId": "6bba1ab9-1b4e-48f5-efba-f8e9c0543b0a"
      },
      "outputs": [
        {
          "output_type": "stream",
          "name": "stdout",
          "text": [
            "                       ACC\n",
            "Обучающая выборка  0.88575\n",
            "Тестовая выборка   0.79050\n"
          ]
        }
      ],
      "source": [
        "# Оценим точность\n",
        "ACC_knn_train = knn.score(features_train, target_train)  # обучающая выборка\n",
        "ACC_knn_test  = knn.score(features_test, target_test)    # тестовая выборка\n",
        "\n",
        "# Посмотрим на результат\n",
        "print(pd.DataFrame(data    = [ACC_knn_train, ACC_knn_test],\n",
        "                   index   = ['Обучающая выборка', 'Тестовая выборка'],\n",
        "                   columns = ['ACC']))"
      ]
    },
    {
      "cell_type": "markdown",
      "metadata": {
        "id": "GQiInWElEqvL"
      },
      "source": [
        "**Кросс-валидация:**"
      ]
    },
    {
      "cell_type": "code",
      "execution_count": 154,
      "metadata": {
        "colab": {
          "base_uri": "https://localhost:8080/"
        },
        "id": "lDWTISKC9fTD",
        "outputId": "0a6f2fb2-2cb0-46da-c923-26ae3fb0159e"
      },
      "outputs": [
        {
          "output_type": "stream",
          "name": "stdout",
          "text": [
            "                                 ACC\n",
            "Обучающая выборка           0.885750\n",
            "Тестовая выборка            0.790500\n",
            "Средняя по кросс-валидации  0.800125\n"
          ]
        }
      ],
      "source": [
        "ACC_CV_knn = cross_val_score(estimator = knn,     # модель\n",
        "                            X = features_train,       # признаки\n",
        "                            y = target_train,         # целевая переменная\n",
        "                            cv = 5)             # количество частей (folds)\n",
        "ACC_CV_total_knn = np.mean(ACC_CV_knn)            # средняя точность по фолдам\n",
        "\n",
        "\n",
        "\n",
        "print(pd.DataFrame(data    = [ACC_knn_train, ACC_knn_test,ACC_CV_total_knn],\n",
        "                   index   = ['Обучающая выборка', 'Тестовая выборка','Средняя по кросс-валидации'],\n",
        "                   columns = ['ACC']))"
      ]
    },
    {
      "cell_type": "markdown",
      "metadata": {
        "id": "UD12JJMUGItH"
      },
      "source": [
        "**Случайный лес на обучающей и тестовой выборке:**"
      ]
    },
    {
      "cell_type": "code",
      "execution_count": 155,
      "metadata": {
        "id": "kEtBUsPOGNc4"
      },
      "outputs": [],
      "source": [
        "# Обучим случайный лес\n",
        "rf = RandomForestClassifier(max_depth = 10,         # максимальная глубина деревьев\n",
        "                            max_features = \"sqrt\",  # число случайно выбираемых при\n",
        "                                                    # каждом разбиении признаков\n",
        "                            max_samples = 500,      # число бутстрап итераций\n",
        "                            random_state = 42,     # для вопроизводимости\n",
        "                            criterion = 'entropy')  # критерий выбора признаков\n",
        "                                                    # при разбиении узлов\n",
        "rf.fit(features_train, target_train)\n",
        "prediction_rf1 = rf.predict(features_test)\n",
        "prediction_rf2 = rf.predict(features_train)"
      ]
    },
    {
      "cell_type": "code",
      "execution_count": 156,
      "metadata": {
        "colab": {
          "base_uri": "https://localhost:8080/"
        },
        "id": "ZFJd2TCuGNyZ",
        "outputId": "1db6d413-e352-4dc2-8931-9f6713c39bb2"
      },
      "outputs": [
        {
          "output_type": "stream",
          "name": "stdout",
          "text": [
            "                       ACC\n",
            "Обучающая выборка  0.84425\n",
            "Тестовая выборка   0.82300\n"
          ]
        }
      ],
      "source": [
        "# Оценка точности на обучающей выборке\n",
        "ACC_rf_train = rf.score(features_train, target_train)\n",
        "\n",
        "# Оценка точности на тестовой выборке\n",
        "ACC_rf_test = rf.score(features_test, target_test)\n",
        "\n",
        "\n",
        "# Сравним точность прогноза на обучающей, кросс-валидацмонной и тестовой выборках\n",
        "\n",
        "print(pd.DataFrame(data    = [ACC_rf_train, ACC_rf_test],\n",
        "                   index   = ['Обучающая выборка',\n",
        "                              'Тестовая выборка'],\n",
        "                   columns = ['ACC']))"
      ]
    },
    {
      "cell_type": "markdown",
      "metadata": {
        "id": "2lbvLCu__I5j"
      },
      "source": [
        "**Кросс-валидация:**"
      ]
    },
    {
      "cell_type": "code",
      "execution_count": 157,
      "metadata": {
        "colab": {
          "base_uri": "https://localhost:8080/"
        },
        "id": "1GyFAOsmLOKo",
        "outputId": "daadf44c-89ae-4772-9957-4d2363b3484e"
      },
      "outputs": [
        {
          "output_type": "stream",
          "name": "stdout",
          "text": [
            "                                 ACC\n",
            "Обучающая выборка           0.844250\n",
            "Тестовая выборка            0.823000\n",
            "Среднее по кросс-валидации  0.834125\n"
          ]
        }
      ],
      "source": [
        "ACC_CV_rf = cross_val_score(estimator = rf,     # модель\n",
        "                            X = features_train,       # признаки\n",
        "                            y = target_train,         # целевая переменная\n",
        "                            cv = 5)             # количество частей (folds)\n",
        "ACC_CV_total_rf = np.mean(ACC_CV_rf)            # средняя точность по фолдам\n",
        "\n",
        "print(pd.DataFrame(data    = [ACC_rf_train, ACC_rf_test,ACC_CV_total_rf],\n",
        "                   index   = ['Обучающая выборка',\n",
        "                              'Тестовая выборка','Среднее по кросс-валидации'],\n",
        "                   columns = ['ACC']))"
      ]
    },
    {
      "cell_type": "markdown",
      "metadata": {
        "id": "MZFyQf6u2VGt"
      },
      "source": [
        "##**3. Для каждого метода с помощью кросс-валидации на обучающей выборке подберите оптимальные значения гиперпараметров (тюнинг).**\n",
        "В качестве критерия качества используйте точность ACC. Результат представьте в форме таблицы,\n",
        "в которой для каждого метода должны быть указаны:\n",
        "\n",
        "• изначальные и подобранные значения гиперпараметров.\n",
        "\n",
        "• кросс-валидационная точность на обучающей выборке с исходными и подобранными значениями гиперпараметров.\n",
        "\n",
        "• точность на тестовой выборке с исходными и подобранными значениями\n",
        "гиперпараметров.\n"
      ]
    },
    {
      "cell_type": "code",
      "execution_count": 158,
      "metadata": {
        "id": "BixbmnY9fY11"
      },
      "outputs": [],
      "source": [
        "# Перебираемые значения гиперпараметров\n",
        "hyperparameters_knn = {'n_neighbors': [3, 5, 7], 'p': [1, 2, 3]}"
      ]
    },
    {
      "cell_type": "code",
      "execution_count": 159,
      "metadata": {
        "colab": {
          "base_uri": "https://localhost:8080/",
          "height": 117
        },
        "id": "uYX0_z-QfY12",
        "outputId": "4330e30e-9f4f-4b67-ebed-6d8e3b40766a"
      },
      "outputs": [
        {
          "output_type": "execute_result",
          "data": {
            "text/plain": [
              "GridSearchCV(cv=5, estimator=KNeighborsClassifier(n_neighbors=3),\n",
              "             param_grid={'n_neighbors': [3, 5, 7], 'p': [1, 2, 3]},\n",
              "             scoring='accuracy')"
            ],
            "text/html": [
              "<style>#sk-container-id-5 {color: black;background-color: white;}#sk-container-id-5 pre{padding: 0;}#sk-container-id-5 div.sk-toggleable {background-color: white;}#sk-container-id-5 label.sk-toggleable__label {cursor: pointer;display: block;width: 100%;margin-bottom: 0;padding: 0.3em;box-sizing: border-box;text-align: center;}#sk-container-id-5 label.sk-toggleable__label-arrow:before {content: \"▸\";float: left;margin-right: 0.25em;color: #696969;}#sk-container-id-5 label.sk-toggleable__label-arrow:hover:before {color: black;}#sk-container-id-5 div.sk-estimator:hover label.sk-toggleable__label-arrow:before {color: black;}#sk-container-id-5 div.sk-toggleable__content {max-height: 0;max-width: 0;overflow: hidden;text-align: left;background-color: #f0f8ff;}#sk-container-id-5 div.sk-toggleable__content pre {margin: 0.2em;color: black;border-radius: 0.25em;background-color: #f0f8ff;}#sk-container-id-5 input.sk-toggleable__control:checked~div.sk-toggleable__content {max-height: 200px;max-width: 100%;overflow: auto;}#sk-container-id-5 input.sk-toggleable__control:checked~label.sk-toggleable__label-arrow:before {content: \"▾\";}#sk-container-id-5 div.sk-estimator input.sk-toggleable__control:checked~label.sk-toggleable__label {background-color: #d4ebff;}#sk-container-id-5 div.sk-label input.sk-toggleable__control:checked~label.sk-toggleable__label {background-color: #d4ebff;}#sk-container-id-5 input.sk-hidden--visually {border: 0;clip: rect(1px 1px 1px 1px);clip: rect(1px, 1px, 1px, 1px);height: 1px;margin: -1px;overflow: hidden;padding: 0;position: absolute;width: 1px;}#sk-container-id-5 div.sk-estimator {font-family: monospace;background-color: #f0f8ff;border: 1px dotted black;border-radius: 0.25em;box-sizing: border-box;margin-bottom: 0.5em;}#sk-container-id-5 div.sk-estimator:hover {background-color: #d4ebff;}#sk-container-id-5 div.sk-parallel-item::after {content: \"\";width: 100%;border-bottom: 1px solid gray;flex-grow: 1;}#sk-container-id-5 div.sk-label:hover label.sk-toggleable__label {background-color: #d4ebff;}#sk-container-id-5 div.sk-serial::before {content: \"\";position: absolute;border-left: 1px solid gray;box-sizing: border-box;top: 0;bottom: 0;left: 50%;z-index: 0;}#sk-container-id-5 div.sk-serial {display: flex;flex-direction: column;align-items: center;background-color: white;padding-right: 0.2em;padding-left: 0.2em;position: relative;}#sk-container-id-5 div.sk-item {position: relative;z-index: 1;}#sk-container-id-5 div.sk-parallel {display: flex;align-items: stretch;justify-content: center;background-color: white;position: relative;}#sk-container-id-5 div.sk-item::before, #sk-container-id-5 div.sk-parallel-item::before {content: \"\";position: absolute;border-left: 1px solid gray;box-sizing: border-box;top: 0;bottom: 0;left: 50%;z-index: -1;}#sk-container-id-5 div.sk-parallel-item {display: flex;flex-direction: column;z-index: 1;position: relative;background-color: white;}#sk-container-id-5 div.sk-parallel-item:first-child::after {align-self: flex-end;width: 50%;}#sk-container-id-5 div.sk-parallel-item:last-child::after {align-self: flex-start;width: 50%;}#sk-container-id-5 div.sk-parallel-item:only-child::after {width: 0;}#sk-container-id-5 div.sk-dashed-wrapped {border: 1px dashed gray;margin: 0 0.4em 0.5em 0.4em;box-sizing: border-box;padding-bottom: 0.4em;background-color: white;}#sk-container-id-5 div.sk-label label {font-family: monospace;font-weight: bold;display: inline-block;line-height: 1.2em;}#sk-container-id-5 div.sk-label-container {text-align: center;}#sk-container-id-5 div.sk-container {/* jupyter's `normalize.less` sets `[hidden] { display: none; }` but bootstrap.min.css set `[hidden] { display: none !important; }` so we also need the `!important` here to be able to override the default hidden behavior on the sphinx rendered scikit-learn.org. See: https://github.com/scikit-learn/scikit-learn/issues/21755 */display: inline-block !important;position: relative;}#sk-container-id-5 div.sk-text-repr-fallback {display: none;}</style><div id=\"sk-container-id-5\" class=\"sk-top-container\"><div class=\"sk-text-repr-fallback\"><pre>GridSearchCV(cv=5, estimator=KNeighborsClassifier(n_neighbors=3),\n",
              "             param_grid={&#x27;n_neighbors&#x27;: [3, 5, 7], &#x27;p&#x27;: [1, 2, 3]},\n",
              "             scoring=&#x27;accuracy&#x27;)</pre><b>In a Jupyter environment, please rerun this cell to show the HTML representation or trust the notebook. <br />On GitHub, the HTML representation is unable to render, please try loading this page with nbviewer.org.</b></div><div class=\"sk-container\" hidden><div class=\"sk-item sk-dashed-wrapped\"><div class=\"sk-label-container\"><div class=\"sk-label sk-toggleable\"><input class=\"sk-toggleable__control sk-hidden--visually\" id=\"sk-estimator-id-9\" type=\"checkbox\" ><label for=\"sk-estimator-id-9\" class=\"sk-toggleable__label sk-toggleable__label-arrow\">GridSearchCV</label><div class=\"sk-toggleable__content\"><pre>GridSearchCV(cv=5, estimator=KNeighborsClassifier(n_neighbors=3),\n",
              "             param_grid={&#x27;n_neighbors&#x27;: [3, 5, 7], &#x27;p&#x27;: [1, 2, 3]},\n",
              "             scoring=&#x27;accuracy&#x27;)</pre></div></div></div><div class=\"sk-parallel\"><div class=\"sk-parallel-item\"><div class=\"sk-item\"><div class=\"sk-label-container\"><div class=\"sk-label sk-toggleable\"><input class=\"sk-toggleable__control sk-hidden--visually\" id=\"sk-estimator-id-10\" type=\"checkbox\" ><label for=\"sk-estimator-id-10\" class=\"sk-toggleable__label sk-toggleable__label-arrow\">estimator: KNeighborsClassifier</label><div class=\"sk-toggleable__content\"><pre>KNeighborsClassifier(n_neighbors=3)</pre></div></div></div><div class=\"sk-serial\"><div class=\"sk-item\"><div class=\"sk-estimator sk-toggleable\"><input class=\"sk-toggleable__control sk-hidden--visually\" id=\"sk-estimator-id-11\" type=\"checkbox\" ><label for=\"sk-estimator-id-11\" class=\"sk-toggleable__label sk-toggleable__label-arrow\">KNeighborsClassifier</label><div class=\"sk-toggleable__content\"><pre>KNeighborsClassifier(n_neighbors=3)</pre></div></div></div></div></div></div></div></div></div></div>"
            ]
          },
          "metadata": {},
          "execution_count": 159
        }
      ],
      "source": [
        "# Перебор гиперпараметров с помощью кросс-валидации\n",
        "GSCV_knn = GridSearchCV(estimator = knn,               # модель\n",
        "                        param_grid = hyperparameters_knn,  # перебираемые гиперпараметры\n",
        "                        scoring = \"accuracy\",          # метрика качества модели\n",
        "                        cv = 5)                        # число фолдов в кросс-валидации\n",
        "GSCV_knn.fit(features_train, target_train)             # подбор гиперпараметров\n",
        "                                                       # на конкретных данных"
      ]
    },
    {
      "cell_type": "code",
      "execution_count": 160,
      "metadata": {
        "colab": {
          "base_uri": "https://localhost:8080/"
        },
        "id": "wtMfqJFHfY12",
        "outputId": "73b7473a-b08f-4f68-f4e2-87e4c97c3493"
      },
      "outputs": [
        {
          "output_type": "stream",
          "name": "stdout",
          "text": [
            "{'n_neighbors': 7, 'p': 1}\n"
          ]
        }
      ],
      "source": [
        "# Достанем гиперпараметры, соответствующие лучшей модели\n",
        "hyperparameters_knn_best = GSCV_knn.best_params_\n",
        "print(hyperparameters_knn_best)"
      ]
    },
    {
      "cell_type": "code",
      "execution_count": 161,
      "metadata": {
        "id": "E74TTgeqfY12"
      },
      "outputs": [],
      "source": [
        "# Обучим модель с лучшими гиперпараметрами\n",
        "knn2 = KNeighborsClassifier(n_neighbors = hyperparameters_knn_best[\"n_neighbors\"],\n",
        "                            metric = \"minkowski\",\n",
        "                            p = hyperparameters_knn_best[\"p\"])\n",
        "knn2.fit(features_train, target_train)\n",
        "prediction_knn2_1 = knn2.predict(features_test)\n",
        "prediction_knn2_2 = knn2.predict(features_train)"
      ]
    },
    {
      "cell_type": "code",
      "execution_count": 162,
      "metadata": {
        "colab": {
          "base_uri": "https://localhost:8080/"
        },
        "id": "eiJTG0qsfY12",
        "outputId": "e7c9237a-99b3-46bd-ac73-58f2b47e5cae"
      },
      "outputs": [
        {
          "output_type": "stream",
          "name": "stdout",
          "text": [
            "                            ACC тестовой выборки\n",
            "Исходные гиперпараметры                   0.7905\n",
            "Подобранные гиперпараметры                0.8025\n"
          ]
        }
      ],
      "source": [
        "# Оценим точность модели с подобранными гиперпараметрами\n",
        "ACC_knn2_train = knn2.score(features_train, target_train)  # обучающая выборка\n",
        "ACC_knn2_test  = knn2.score(features_test, target_test)    # тестовая выборка\n",
        "\n",
        "# Сравним точность с исходными и подобранными гиперпараметрами\n",
        "print(pd.DataFrame(data    = [ACC_knn_test, ACC_knn2_test],\n",
        "                   index   = ['Исходные гиперпараметры',\n",
        "                              'Подобранные гиперпараметры'],\n",
        "                   columns = ['ACC тестовой выборки']))"
      ]
    },
    {
      "cell_type": "code",
      "execution_count": 163,
      "metadata": {
        "colab": {
          "base_uri": "https://localhost:8080/"
        },
        "id": "x6J_w7zWhIEC",
        "outputId": "bf86448c-2889-411c-8210-1ff6ada98156"
      },
      "outputs": [
        {
          "output_type": "stream",
          "name": "stdout",
          "text": [
            "[0.819375 0.814375 0.8325   0.81375  0.82625 ]\n",
            "0.82125\n"
          ]
        }
      ],
      "source": [
        "ACC_CV_knn2 = cross_val_score(estimator = knn2,     # модель\n",
        "                            X = features_train,       # признаки\n",
        "                            y = target_train,         # целевая переменная\n",
        "                            cv = 5)             # количество частей (folds)\n",
        "ACC_CV_total_knn2 = np.mean(ACC_CV_knn2)            # средняя точность по фолдам\n",
        "\n",
        "# Вектор точностей посчитанны для\n",
        "# каждой части выборки\n",
        "print(ACC_CV_knn2)\n",
        "print(ACC_CV_total_knn2)"
      ]
    },
    {
      "cell_type": "markdown",
      "metadata": {
        "id": "-SJUtrTvF0vM"
      },
      "source": [
        "Подбор гиперпараметров для случайного леса:"
      ]
    },
    {
      "cell_type": "code",
      "execution_count": 164,
      "metadata": {
        "colab": {
          "base_uri": "https://localhost:8080/"
        },
        "id": "SmARTdbIfY12",
        "outputId": "ff8c84fb-fb5d-4bd7-d4f1-4a8b1366a56e"
      },
      "outputs": [
        {
          "output_type": "stream",
          "name": "stdout",
          "text": [
            "{'max_depth': 5, 'n_estimators': 50}\n"
          ]
        }
      ],
      "source": [
        "# Перебираемые значения гиперпараметров\n",
        "hyperparameters_rf = {'max_depth': range(0, 20),\n",
        "                   'n_estimators': [50, 100, 150]}\n",
        "\n",
        "# Перебор гиперпараметров с помощью кросс-валидации\n",
        "GSCV_rf = GridSearchCV(estimator = RandomForestClassifier(),\n",
        "                       param_grid = hyperparameters_rf,\n",
        "                       scoring = \"accuracy\",\n",
        "                       cv = 5)\n",
        "\n",
        "GSCV_rf.fit(features_train, target_train)\n",
        "\n",
        "# Достанем гиперпараметры, соответствующие лучшей модели\n",
        "hyperparameters_rf_best = GSCV_rf.best_params_\n",
        "\n",
        "\n",
        "# Посмотрим на оптимальные гиперпараметры\n",
        "print(hyperparameters_rf_best)"
      ]
    },
    {
      "cell_type": "code",
      "execution_count": 165,
      "metadata": {
        "id": "fjYUkuwZfY12"
      },
      "outputs": [],
      "source": [
        "# Обучим модель с лучшими параметрами\n",
        "rf2 = RandomForestClassifier(max_depth = hyperparameters_rf_best[\"max_depth\"],\n",
        "                      n_estimators = hyperparameters_rf_best[\"n_estimators\"],\n",
        "                                 criterion = 'entropy')\n",
        "rf2.fit(features_train, target_train)\n",
        "prediction_rf2_1 = rf2.predict(features_test)\n",
        "prediction_rf2_2 = rf2.predict(features_train)"
      ]
    },
    {
      "cell_type": "code",
      "execution_count": 166,
      "metadata": {
        "colab": {
          "base_uri": "https://localhost:8080/"
        },
        "id": "iw1V38WofY12",
        "outputId": "31aaabc1-2113-43cc-c2b7-8d2a08bf44e1"
      },
      "outputs": [
        {
          "output_type": "stream",
          "name": "stdout",
          "text": [
            "                            ACC тестовой выборки\n",
            "Исходные гиперпараметры                   0.8230\n",
            "Подобранные гиперпараметры                0.8265\n"
          ]
        }
      ],
      "source": [
        "# Оценим точность модели с подобранными гиперпараметрами\n",
        "ACC_rf2_train = rf2.score(features_train, target_train)  # обучающая выборка\n",
        "ACC_rf2_test  = rf2.score(features_test, target_test)    # тестовая выборка\n",
        "\n",
        "# Сравним точность с исходными и подобранными гиперпараметрами\n",
        "print(pd.DataFrame(data    = [ACC_rf_test, ACC_rf2_test],\n",
        "                   index   = ['Исходные гиперпараметры',\n",
        "                              'Подобранные гиперпараметры'],\n",
        "                   columns = ['ACC тестовой выборки']))"
      ]
    },
    {
      "cell_type": "code",
      "execution_count": 167,
      "metadata": {
        "colab": {
          "base_uri": "https://localhost:8080/"
        },
        "id": "0IZQ8z1Rip3D",
        "outputId": "65e26525-52d2-40cf-d1ed-d35784e9e5b0"
      },
      "outputs": [
        {
          "output_type": "stream",
          "name": "stdout",
          "text": [
            "[0.836875 0.821875 0.84125  0.820625 0.85375 ]\n",
            "0.834875\n"
          ]
        }
      ],
      "source": [
        "ACC_CV_rf2 = cross_val_score(estimator = rf2,     # модель\n",
        "                            X = features_train,       # признаки\n",
        "                            y = target_train,         # целевая переменная\n",
        "                            cv = 5)             # количество частей (folds)\n",
        "ACC_CV_total_rf2 = np.mean(ACC_CV_rf2)            # средняя точность по фолдам\n",
        "\n",
        "# Вектор точностей посчитанны для\n",
        "# каждой части выборки\n",
        "print(ACC_CV_rf2)\n",
        "print(ACC_CV_total_rf2)"
      ]
    },
    {
      "cell_type": "code",
      "execution_count": 168,
      "metadata": {
        "id": "mJa9XIN_fY12"
      },
      "outputs": [],
      "source": [
        "NB = ['-','-',ACC_CV_total_nb.round(3),'-',ACC_nb_test.round(3),'-']\n",
        "kNN = ['3;2','7;1',ACC_CV_total_knn.round(3),ACC_CV_total_knn2.round(3),\n",
        "       ACC_knn_test.round(3),ACC_knn2_test.round(3)]\n",
        "rf = ['10;100','5;50',ACC_CV_total_rf.round(3),ACC_CV_total_rf2.round(3),\n",
        "      ACC_rf_test.round(3),ACC_rf2_test.round(3)]"
      ]
    },
    {
      "cell_type": "code",
      "execution_count": 169,
      "metadata": {
        "colab": {
          "base_uri": "https://localhost:8080/"
        },
        "id": "RksNPQigfY12",
        "outputId": "e8aee144-258b-4eea-83e8-ebe5a5cfc9d1"
      },
      "outputs": [
        {
          "output_type": "stream",
          "name": "stdout",
          "text": [
            "                               NB    kNN      RF\n",
            "Исходные гиперпараметры         -    3;2  10;100\n",
            "Подобранные гиперпараметры      -    7;1    5;50\n",
            "CV_ACC_1                    0.814    0.8   0.834\n",
            "CV_ACC_tuned                    -  0.821   0.835\n",
            "Test_ACC_1                  0.806   0.79   0.823\n",
            "Test_ACC_tuned                  -  0.802   0.826\n"
          ]
        }
      ],
      "source": [
        "res = pd.DataFrame(data    = [NB,kNN,rf],\n",
        "                   index   = ['NB','kNN','RF'],\n",
        "                   columns = ['Исходные гиперпараметры',\n",
        "                              'Подобранные гиперпараметры','CV_ACC_1',\n",
        "                              'CV_ACC_tuned','Test_ACC_1','Test_ACC_tuned'])\n",
        "print(res.T)"
      ]
    },
    {
      "cell_type": "markdown",
      "metadata": {
        "id": "M-ICL2clkpmS"
      },
      "source": [
        "**Проинтерпретируйте полученные результаты и далее используйте методы с подобранными значениями гиперпараметров.**\n",
        "\n"
      ]
    },
    {
      "cell_type": "markdown",
      "metadata": {
        "id": "Mw-dNiMTlBDl"
      },
      "source": [
        "Заметно небольшое отличие в пользу подобранных гиперпараметров. Из всех 3 моделей наибольшее значение точности имеет случайный лес."
      ]
    },
    {
      "cell_type": "markdown",
      "metadata": {
        "id": "qaQZAZi3k-Go"
      },
      "source": [
        "**Повышенная сложность: подберите на обучающей выборке оптимальные\n",
        "значения гиперпараметров случайного леса ориентируясь на значение OOB\n",
        "(out-of-bag) ошибки. Сопоставьте гиперпараметры и точность на тестовой выборке для случайного леса в зависимости от того, используется кросс-валидация\n",
        "или OOB ошибка. Объясните преимущество OOB ошибки по сравнению с кроссвалидацей.**"
      ]
    },
    {
      "cell_type": "code",
      "execution_count": 170,
      "metadata": {
        "id": "9ahJdCK3kqCh"
      },
      "outputs": [],
      "source": [
        "# Инициализация модели с использованием OOB оценки\n",
        "param_grid = {\n",
        "\n",
        "    'n_estimators': [50, 100, 200],\n",
        "    'max_depth': [None, 10, 20, 30],\n",
        "    'min_samples_split': [2, 5, 10],\n",
        "    'min_samples_leaf': [1, 2, 4],\n",
        "    'bootstrap': [True, False]\n",
        "}\n"
      ]
    },
    {
      "cell_type": "code",
      "execution_count": 171,
      "metadata": {
        "id": "yEGdamAckqM0"
      },
      "outputs": [],
      "source": [
        "# Инициализация модели с использованием OOB оценки\n",
        "rf_oob = RandomForestClassifier(oob_score=True, random_state=42)"
      ]
    },
    {
      "cell_type": "code",
      "execution_count": 172,
      "metadata": {
        "colab": {
          "base_uri": "https://localhost:8080/",
          "height": 135
        },
        "id": "TKePp94akqQL",
        "outputId": "66862b3d-86cc-4e2f-d01c-7ec9c2713665"
      },
      "outputs": [
        {
          "output_type": "stream",
          "name": "stdout",
          "text": [
            "Fitting 3 folds for each of 216 candidates, totalling 648 fits\n"
          ]
        },
        {
          "output_type": "execute_result",
          "data": {
            "text/plain": [
              "GridSearchCV(cv=3,\n",
              "             estimator=RandomForestClassifier(oob_score=True, random_state=42),\n",
              "             n_jobs=-1,\n",
              "             param_grid={'bootstrap': [True, False],\n",
              "                         'max_depth': [None, 10, 20, 30],\n",
              "                         'min_samples_leaf': [1, 2, 4],\n",
              "                         'min_samples_split': [2, 5, 10],\n",
              "                         'n_estimators': [50, 100, 200]},\n",
              "             verbose=2)"
            ],
            "text/html": [
              "<style>#sk-container-id-6 {color: black;background-color: white;}#sk-container-id-6 pre{padding: 0;}#sk-container-id-6 div.sk-toggleable {background-color: white;}#sk-container-id-6 label.sk-toggleable__label {cursor: pointer;display: block;width: 100%;margin-bottom: 0;padding: 0.3em;box-sizing: border-box;text-align: center;}#sk-container-id-6 label.sk-toggleable__label-arrow:before {content: \"▸\";float: left;margin-right: 0.25em;color: #696969;}#sk-container-id-6 label.sk-toggleable__label-arrow:hover:before {color: black;}#sk-container-id-6 div.sk-estimator:hover label.sk-toggleable__label-arrow:before {color: black;}#sk-container-id-6 div.sk-toggleable__content {max-height: 0;max-width: 0;overflow: hidden;text-align: left;background-color: #f0f8ff;}#sk-container-id-6 div.sk-toggleable__content pre {margin: 0.2em;color: black;border-radius: 0.25em;background-color: #f0f8ff;}#sk-container-id-6 input.sk-toggleable__control:checked~div.sk-toggleable__content {max-height: 200px;max-width: 100%;overflow: auto;}#sk-container-id-6 input.sk-toggleable__control:checked~label.sk-toggleable__label-arrow:before {content: \"▾\";}#sk-container-id-6 div.sk-estimator input.sk-toggleable__control:checked~label.sk-toggleable__label {background-color: #d4ebff;}#sk-container-id-6 div.sk-label input.sk-toggleable__control:checked~label.sk-toggleable__label {background-color: #d4ebff;}#sk-container-id-6 input.sk-hidden--visually {border: 0;clip: rect(1px 1px 1px 1px);clip: rect(1px, 1px, 1px, 1px);height: 1px;margin: -1px;overflow: hidden;padding: 0;position: absolute;width: 1px;}#sk-container-id-6 div.sk-estimator {font-family: monospace;background-color: #f0f8ff;border: 1px dotted black;border-radius: 0.25em;box-sizing: border-box;margin-bottom: 0.5em;}#sk-container-id-6 div.sk-estimator:hover {background-color: #d4ebff;}#sk-container-id-6 div.sk-parallel-item::after {content: \"\";width: 100%;border-bottom: 1px solid gray;flex-grow: 1;}#sk-container-id-6 div.sk-label:hover label.sk-toggleable__label {background-color: #d4ebff;}#sk-container-id-6 div.sk-serial::before {content: \"\";position: absolute;border-left: 1px solid gray;box-sizing: border-box;top: 0;bottom: 0;left: 50%;z-index: 0;}#sk-container-id-6 div.sk-serial {display: flex;flex-direction: column;align-items: center;background-color: white;padding-right: 0.2em;padding-left: 0.2em;position: relative;}#sk-container-id-6 div.sk-item {position: relative;z-index: 1;}#sk-container-id-6 div.sk-parallel {display: flex;align-items: stretch;justify-content: center;background-color: white;position: relative;}#sk-container-id-6 div.sk-item::before, #sk-container-id-6 div.sk-parallel-item::before {content: \"\";position: absolute;border-left: 1px solid gray;box-sizing: border-box;top: 0;bottom: 0;left: 50%;z-index: -1;}#sk-container-id-6 div.sk-parallel-item {display: flex;flex-direction: column;z-index: 1;position: relative;background-color: white;}#sk-container-id-6 div.sk-parallel-item:first-child::after {align-self: flex-end;width: 50%;}#sk-container-id-6 div.sk-parallel-item:last-child::after {align-self: flex-start;width: 50%;}#sk-container-id-6 div.sk-parallel-item:only-child::after {width: 0;}#sk-container-id-6 div.sk-dashed-wrapped {border: 1px dashed gray;margin: 0 0.4em 0.5em 0.4em;box-sizing: border-box;padding-bottom: 0.4em;background-color: white;}#sk-container-id-6 div.sk-label label {font-family: monospace;font-weight: bold;display: inline-block;line-height: 1.2em;}#sk-container-id-6 div.sk-label-container {text-align: center;}#sk-container-id-6 div.sk-container {/* jupyter's `normalize.less` sets `[hidden] { display: none; }` but bootstrap.min.css set `[hidden] { display: none !important; }` so we also need the `!important` here to be able to override the default hidden behavior on the sphinx rendered scikit-learn.org. See: https://github.com/scikit-learn/scikit-learn/issues/21755 */display: inline-block !important;position: relative;}#sk-container-id-6 div.sk-text-repr-fallback {display: none;}</style><div id=\"sk-container-id-6\" class=\"sk-top-container\"><div class=\"sk-text-repr-fallback\"><pre>GridSearchCV(cv=3,\n",
              "             estimator=RandomForestClassifier(oob_score=True, random_state=42),\n",
              "             n_jobs=-1,\n",
              "             param_grid={&#x27;bootstrap&#x27;: [True, False],\n",
              "                         &#x27;max_depth&#x27;: [None, 10, 20, 30],\n",
              "                         &#x27;min_samples_leaf&#x27;: [1, 2, 4],\n",
              "                         &#x27;min_samples_split&#x27;: [2, 5, 10],\n",
              "                         &#x27;n_estimators&#x27;: [50, 100, 200]},\n",
              "             verbose=2)</pre><b>In a Jupyter environment, please rerun this cell to show the HTML representation or trust the notebook. <br />On GitHub, the HTML representation is unable to render, please try loading this page with nbviewer.org.</b></div><div class=\"sk-container\" hidden><div class=\"sk-item sk-dashed-wrapped\"><div class=\"sk-label-container\"><div class=\"sk-label sk-toggleable\"><input class=\"sk-toggleable__control sk-hidden--visually\" id=\"sk-estimator-id-12\" type=\"checkbox\" ><label for=\"sk-estimator-id-12\" class=\"sk-toggleable__label sk-toggleable__label-arrow\">GridSearchCV</label><div class=\"sk-toggleable__content\"><pre>GridSearchCV(cv=3,\n",
              "             estimator=RandomForestClassifier(oob_score=True, random_state=42),\n",
              "             n_jobs=-1,\n",
              "             param_grid={&#x27;bootstrap&#x27;: [True, False],\n",
              "                         &#x27;max_depth&#x27;: [None, 10, 20, 30],\n",
              "                         &#x27;min_samples_leaf&#x27;: [1, 2, 4],\n",
              "                         &#x27;min_samples_split&#x27;: [2, 5, 10],\n",
              "                         &#x27;n_estimators&#x27;: [50, 100, 200]},\n",
              "             verbose=2)</pre></div></div></div><div class=\"sk-parallel\"><div class=\"sk-parallel-item\"><div class=\"sk-item\"><div class=\"sk-label-container\"><div class=\"sk-label sk-toggleable\"><input class=\"sk-toggleable__control sk-hidden--visually\" id=\"sk-estimator-id-13\" type=\"checkbox\" ><label for=\"sk-estimator-id-13\" class=\"sk-toggleable__label sk-toggleable__label-arrow\">estimator: RandomForestClassifier</label><div class=\"sk-toggleable__content\"><pre>RandomForestClassifier(oob_score=True, random_state=42)</pre></div></div></div><div class=\"sk-serial\"><div class=\"sk-item\"><div class=\"sk-estimator sk-toggleable\"><input class=\"sk-toggleable__control sk-hidden--visually\" id=\"sk-estimator-id-14\" type=\"checkbox\" ><label for=\"sk-estimator-id-14\" class=\"sk-toggleable__label sk-toggleable__label-arrow\">RandomForestClassifier</label><div class=\"sk-toggleable__content\"><pre>RandomForestClassifier(oob_score=True, random_state=42)</pre></div></div></div></div></div></div></div></div></div></div>"
            ]
          },
          "metadata": {},
          "execution_count": 172
        }
      ],
      "source": [
        "# Поиск по сетке с использованием OOB ошибки\n",
        "grid_search_oob = GridSearchCV(estimator=rf_oob, param_grid=param_grid,\n",
        "                               cv=3, n_jobs=-1, verbose=2)\n",
        "grid_search_oob.fit(features_train, target_train)\n"
      ]
    },
    {
      "cell_type": "code",
      "execution_count": 173,
      "metadata": {
        "colab": {
          "base_uri": "https://localhost:8080/"
        },
        "id": "LOP3M9hNnifD",
        "outputId": "5d8a4c91-3682-407f-91a6-2360ab42cb52"
      },
      "outputs": [
        {
          "output_type": "execute_result",
          "data": {
            "text/plain": [
              "{'bootstrap': True,\n",
              " 'max_depth': 10,\n",
              " 'min_samples_leaf': 4,\n",
              " 'min_samples_split': 2,\n",
              " 'n_estimators': 100}"
            ]
          },
          "metadata": {},
          "execution_count": 173
        }
      ],
      "source": [
        "# Оптимальные гиперпараметры\n",
        "best_params_oob = grid_search_oob.best_params_\n",
        "best_params_oob"
      ]
    },
    {
      "cell_type": "code",
      "execution_count": 174,
      "metadata": {
        "colab": {
          "base_uri": "https://localhost:8080/",
          "height": 74
        },
        "id": "0PYZE9sAn0FU",
        "outputId": "ae675834-f286-46b6-d7ce-b115a79f8414"
      },
      "outputs": [
        {
          "output_type": "execute_result",
          "data": {
            "text/plain": [
              "RandomForestClassifier(criterion='entropy', max_depth=10, min_samples_leaf=4)"
            ],
            "text/html": [
              "<style>#sk-container-id-7 {color: black;background-color: white;}#sk-container-id-7 pre{padding: 0;}#sk-container-id-7 div.sk-toggleable {background-color: white;}#sk-container-id-7 label.sk-toggleable__label {cursor: pointer;display: block;width: 100%;margin-bottom: 0;padding: 0.3em;box-sizing: border-box;text-align: center;}#sk-container-id-7 label.sk-toggleable__label-arrow:before {content: \"▸\";float: left;margin-right: 0.25em;color: #696969;}#sk-container-id-7 label.sk-toggleable__label-arrow:hover:before {color: black;}#sk-container-id-7 div.sk-estimator:hover label.sk-toggleable__label-arrow:before {color: black;}#sk-container-id-7 div.sk-toggleable__content {max-height: 0;max-width: 0;overflow: hidden;text-align: left;background-color: #f0f8ff;}#sk-container-id-7 div.sk-toggleable__content pre {margin: 0.2em;color: black;border-radius: 0.25em;background-color: #f0f8ff;}#sk-container-id-7 input.sk-toggleable__control:checked~div.sk-toggleable__content {max-height: 200px;max-width: 100%;overflow: auto;}#sk-container-id-7 input.sk-toggleable__control:checked~label.sk-toggleable__label-arrow:before {content: \"▾\";}#sk-container-id-7 div.sk-estimator input.sk-toggleable__control:checked~label.sk-toggleable__label {background-color: #d4ebff;}#sk-container-id-7 div.sk-label input.sk-toggleable__control:checked~label.sk-toggleable__label {background-color: #d4ebff;}#sk-container-id-7 input.sk-hidden--visually {border: 0;clip: rect(1px 1px 1px 1px);clip: rect(1px, 1px, 1px, 1px);height: 1px;margin: -1px;overflow: hidden;padding: 0;position: absolute;width: 1px;}#sk-container-id-7 div.sk-estimator {font-family: monospace;background-color: #f0f8ff;border: 1px dotted black;border-radius: 0.25em;box-sizing: border-box;margin-bottom: 0.5em;}#sk-container-id-7 div.sk-estimator:hover {background-color: #d4ebff;}#sk-container-id-7 div.sk-parallel-item::after {content: \"\";width: 100%;border-bottom: 1px solid gray;flex-grow: 1;}#sk-container-id-7 div.sk-label:hover label.sk-toggleable__label {background-color: #d4ebff;}#sk-container-id-7 div.sk-serial::before {content: \"\";position: absolute;border-left: 1px solid gray;box-sizing: border-box;top: 0;bottom: 0;left: 50%;z-index: 0;}#sk-container-id-7 div.sk-serial {display: flex;flex-direction: column;align-items: center;background-color: white;padding-right: 0.2em;padding-left: 0.2em;position: relative;}#sk-container-id-7 div.sk-item {position: relative;z-index: 1;}#sk-container-id-7 div.sk-parallel {display: flex;align-items: stretch;justify-content: center;background-color: white;position: relative;}#sk-container-id-7 div.sk-item::before, #sk-container-id-7 div.sk-parallel-item::before {content: \"\";position: absolute;border-left: 1px solid gray;box-sizing: border-box;top: 0;bottom: 0;left: 50%;z-index: -1;}#sk-container-id-7 div.sk-parallel-item {display: flex;flex-direction: column;z-index: 1;position: relative;background-color: white;}#sk-container-id-7 div.sk-parallel-item:first-child::after {align-self: flex-end;width: 50%;}#sk-container-id-7 div.sk-parallel-item:last-child::after {align-self: flex-start;width: 50%;}#sk-container-id-7 div.sk-parallel-item:only-child::after {width: 0;}#sk-container-id-7 div.sk-dashed-wrapped {border: 1px dashed gray;margin: 0 0.4em 0.5em 0.4em;box-sizing: border-box;padding-bottom: 0.4em;background-color: white;}#sk-container-id-7 div.sk-label label {font-family: monospace;font-weight: bold;display: inline-block;line-height: 1.2em;}#sk-container-id-7 div.sk-label-container {text-align: center;}#sk-container-id-7 div.sk-container {/* jupyter's `normalize.less` sets `[hidden] { display: none; }` but bootstrap.min.css set `[hidden] { display: none !important; }` so we also need the `!important` here to be able to override the default hidden behavior on the sphinx rendered scikit-learn.org. See: https://github.com/scikit-learn/scikit-learn/issues/21755 */display: inline-block !important;position: relative;}#sk-container-id-7 div.sk-text-repr-fallback {display: none;}</style><div id=\"sk-container-id-7\" class=\"sk-top-container\"><div class=\"sk-text-repr-fallback\"><pre>RandomForestClassifier(criterion=&#x27;entropy&#x27;, max_depth=10, min_samples_leaf=4)</pre><b>In a Jupyter environment, please rerun this cell to show the HTML representation or trust the notebook. <br />On GitHub, the HTML representation is unable to render, please try loading this page with nbviewer.org.</b></div><div class=\"sk-container\" hidden><div class=\"sk-item\"><div class=\"sk-estimator sk-toggleable\"><input class=\"sk-toggleable__control sk-hidden--visually\" id=\"sk-estimator-id-15\" type=\"checkbox\" checked><label for=\"sk-estimator-id-15\" class=\"sk-toggleable__label sk-toggleable__label-arrow\">RandomForestClassifier</label><div class=\"sk-toggleable__content\"><pre>RandomForestClassifier(criterion=&#x27;entropy&#x27;, max_depth=10, min_samples_leaf=4)</pre></div></div></div></div></div>"
            ]
          },
          "metadata": {},
          "execution_count": 174
        }
      ],
      "source": [
        "rf3 = RandomForestClassifier(bootstrap = best_params_oob['bootstrap'],\n",
        "                             max_depth = best_params_oob[\"max_depth\"],\n",
        "                        min_samples_leaf = best_params_oob['min_samples_leaf'],\n",
        "                      min_samples_split=best_params_oob['min_samples_split'],\n",
        "                             n_estimators = best_params_oob[\"n_estimators\"],\n",
        "                                 criterion = 'entropy')\n",
        "rf3.fit(features_train, target_train)"
      ]
    },
    {
      "cell_type": "code",
      "execution_count": 175,
      "metadata": {
        "colab": {
          "base_uri": "https://localhost:8080/"
        },
        "id": "I_7ETp5rGu9P",
        "outputId": "dd64823a-9f3e-4ca0-d34f-b90f9fe984e6"
      },
      "outputs": [
        {
          "output_type": "stream",
          "name": "stdout",
          "text": [
            "[0.830625 0.820625 0.844375 0.821875 0.843125]\n",
            "0.8321249999999999\n"
          ]
        }
      ],
      "source": [
        "ACC_CV_rf3 = cross_val_score(estimator = rf3,     # модель\n",
        "                            X = features_train,       # признаки\n",
        "                            y = target_train,         # целевая переменная\n",
        "                            cv = 5)             # количество частей (folds)\n",
        "ACC_CV_total_rf3 = np.mean(ACC_CV_rf3)            # средняя точность по фолдам\n",
        "\n",
        "# Вектор точностей посчитанны для\n",
        "# каждой части выборки\n",
        "print(ACC_CV_rf3)\n",
        "print(ACC_CV_total_rf3)"
      ]
    },
    {
      "cell_type": "code",
      "execution_count": 176,
      "metadata": {
        "colab": {
          "base_uri": "https://localhost:8080/"
        },
        "id": "6e71nvMrGu9O",
        "outputId": "0fbdde07-574c-4f4f-af2e-c1430541e7bc"
      },
      "outputs": [
        {
          "output_type": "stream",
          "name": "stdout",
          "text": [
            "                             ACC тестовой выборки\n",
            "Подобранные гиперпараметры               0.826500\n",
            "Точность по кросс-валидации              0.834875\n",
            "Подобранные по ООВ                       0.820000\n"
          ]
        }
      ],
      "source": [
        "# Оценим точность модели с подобранными гиперпараметрами\n",
        "ACC_rf3_train = rf3.score(features_train, target_train)  # обучающая выборка\n",
        "ACC_rf3_test  = rf3.score(features_test, target_test)    # тестовая выборка\n",
        "\n",
        "# Сравним точность с исходными и подобранными гиперпараметрами\n",
        "print(pd.DataFrame(data    = [ACC_rf2_test,ACC_CV_total_rf2, ACC_rf3_test],\n",
        "                   index   = ['Подобранные гиперпараметры',\n",
        "                              'Точность по кросс-валидации',\n",
        "                              'Подобранные по ООВ'],\n",
        "                   columns = ['ACC тестовой выборки']))"
      ]
    },
    {
      "cell_type": "markdown",
      "metadata": {
        "id": "_-PdjTh7_GGw"
      },
      "source": [
        "Видим, что точность на кросс-валидации выше, чем с использованием ООВ ошибки."
      ]
    },
    {
      "cell_type": "markdown",
      "metadata": {
        "id": "DZDmSO7ukgiD"
      },
      "source": [
        "##**4. Повторите предыдущий пункт, используя любой альтернативный критерий качества модели. Обоснуйте возможные преимущества и недостатки этого альтернативного критерия.**"
      ]
    },
    {
      "cell_type": "markdown",
      "metadata": {
        "id": "K6kX7QBeG7gR"
      },
      "source": [
        "Мы решили воспользоваться Precision критерием. Начнем с тюнинга для метода ближайших соседей."
      ]
    },
    {
      "cell_type": "code",
      "execution_count": 177,
      "metadata": {
        "colab": {
          "base_uri": "https://localhost:8080/"
        },
        "id": "9ar4dpkxdc1E",
        "outputId": "8ef880b0-85c1-48c4-f28e-5b79715c6551"
      },
      "outputs": [
        {
          "output_type": "stream",
          "name": "stdout",
          "text": [
            "{'n_neighbors': 7, 'p': 1}\n"
          ]
        }
      ],
      "source": [
        "# Определим гиперпараметры для перебора\n",
        "hyperparameters = {'n_neighbors': [3, 5, 7], 'p': [1, 2, 3]}\n",
        "\n",
        "# Перебор гиперпараметров с помощью кросс-валидации\n",
        "GSCV_knn_prec = GridSearchCV(estimator=KNeighborsClassifier(),\n",
        "                        param_grid=hyperparameters,\n",
        "                        scoring=\"precision\",\n",
        "                        cv=5)\n",
        "GSCV_knn_prec.fit(features_train, target_train)\n",
        "\n",
        "# Достанем гиперпараметры, соответствующие лучшей модели\n",
        "hyperparameters_best = GSCV_knn_prec.best_params_\n",
        "print(hyperparameters_best)"
      ]
    },
    {
      "cell_type": "code",
      "execution_count": 178,
      "metadata": {
        "colab": {
          "base_uri": "https://localhost:8080/"
        },
        "id": "ruKP_86fdZqt",
        "outputId": "bc14adbe-c7fe-4baf-9fc0-646600906cdf"
      },
      "outputs": [
        {
          "output_type": "stream",
          "name": "stdout",
          "text": [
            "                   Precision\n",
            "Обучающая выборка   0.855625\n",
            "Тестовая выборка    0.802500\n",
            "Кросс-валидация     0.623707\n"
          ]
        }
      ],
      "source": [
        "# Обучим модель с лучшими гиперпараметрами\n",
        "knn2_prec = KNeighborsClassifier(n_neighbors=hyperparameters_best[\"n_neighbors\"],\n",
        "                            metric=\"minkowski\",\n",
        "                            p=hyperparameters_best[\"p\"])\n",
        "knn2_prec.fit(features_train, target_train)\n",
        "\n",
        "# Оценим precision модели с подобранными гиперпараметрами\n",
        "precision_knn2_prec_train = knn2_prec.score(features_train, target_train)\n",
        "precision_knn2_prec_test  = knn2_prec.score(features_test, target_test)\n",
        "\n",
        "# Оценка precision с помощью кросс-валидации\n",
        "precision_knn2_prec_cv = cross_val_score(knn2_prec, features_train,\n",
        "                                         target_train, cv=5,\n",
        "                                         scoring=\"precision\")\n",
        "precision_knn2_prec_cv_mean = precision_knn2_prec_cv.mean()\n",
        "\n",
        "# Сравним precision прогнозы на обучающей, кросс-валидацмонной и тестовой выборках\n",
        "results = pd.DataFrame(data    = [precision_knn2_prec_train,\n",
        "                                  precision_knn2_prec_test,\n",
        "                                  precision_knn2_prec_cv_mean],\n",
        "                       index   = ['Обучающая выборка',\n",
        "                                  'Тестовая выборка',\n",
        "                                  'Кросс-валидация'],\n",
        "                       columns = ['Precision'])\n",
        "print(results)"
      ]
    },
    {
      "cell_type": "markdown",
      "metadata": {
        "id": "MFMl9rP2WGpX"
      },
      "source": [
        "Тюнинг для метода случайного леса"
      ]
    },
    {
      "cell_type": "code",
      "execution_count": 179,
      "metadata": {
        "colab": {
          "base_uri": "https://localhost:8080/",
          "height": 74
        },
        "collapsed": true,
        "id": "SxUZkKNlWbSE",
        "outputId": "7e9b038b-bbe1-4f13-9d2a-0c73a2e7b2bf"
      },
      "outputs": [
        {
          "output_type": "execute_result",
          "data": {
            "text/plain": [
              "RandomForestClassifier(criterion='entropy', max_depth=5)"
            ],
            "text/html": [
              "<style>#sk-container-id-8 {color: black;background-color: white;}#sk-container-id-8 pre{padding: 0;}#sk-container-id-8 div.sk-toggleable {background-color: white;}#sk-container-id-8 label.sk-toggleable__label {cursor: pointer;display: block;width: 100%;margin-bottom: 0;padding: 0.3em;box-sizing: border-box;text-align: center;}#sk-container-id-8 label.sk-toggleable__label-arrow:before {content: \"▸\";float: left;margin-right: 0.25em;color: #696969;}#sk-container-id-8 label.sk-toggleable__label-arrow:hover:before {color: black;}#sk-container-id-8 div.sk-estimator:hover label.sk-toggleable__label-arrow:before {color: black;}#sk-container-id-8 div.sk-toggleable__content {max-height: 0;max-width: 0;overflow: hidden;text-align: left;background-color: #f0f8ff;}#sk-container-id-8 div.sk-toggleable__content pre {margin: 0.2em;color: black;border-radius: 0.25em;background-color: #f0f8ff;}#sk-container-id-8 input.sk-toggleable__control:checked~div.sk-toggleable__content {max-height: 200px;max-width: 100%;overflow: auto;}#sk-container-id-8 input.sk-toggleable__control:checked~label.sk-toggleable__label-arrow:before {content: \"▾\";}#sk-container-id-8 div.sk-estimator input.sk-toggleable__control:checked~label.sk-toggleable__label {background-color: #d4ebff;}#sk-container-id-8 div.sk-label input.sk-toggleable__control:checked~label.sk-toggleable__label {background-color: #d4ebff;}#sk-container-id-8 input.sk-hidden--visually {border: 0;clip: rect(1px 1px 1px 1px);clip: rect(1px, 1px, 1px, 1px);height: 1px;margin: -1px;overflow: hidden;padding: 0;position: absolute;width: 1px;}#sk-container-id-8 div.sk-estimator {font-family: monospace;background-color: #f0f8ff;border: 1px dotted black;border-radius: 0.25em;box-sizing: border-box;margin-bottom: 0.5em;}#sk-container-id-8 div.sk-estimator:hover {background-color: #d4ebff;}#sk-container-id-8 div.sk-parallel-item::after {content: \"\";width: 100%;border-bottom: 1px solid gray;flex-grow: 1;}#sk-container-id-8 div.sk-label:hover label.sk-toggleable__label {background-color: #d4ebff;}#sk-container-id-8 div.sk-serial::before {content: \"\";position: absolute;border-left: 1px solid gray;box-sizing: border-box;top: 0;bottom: 0;left: 50%;z-index: 0;}#sk-container-id-8 div.sk-serial {display: flex;flex-direction: column;align-items: center;background-color: white;padding-right: 0.2em;padding-left: 0.2em;position: relative;}#sk-container-id-8 div.sk-item {position: relative;z-index: 1;}#sk-container-id-8 div.sk-parallel {display: flex;align-items: stretch;justify-content: center;background-color: white;position: relative;}#sk-container-id-8 div.sk-item::before, #sk-container-id-8 div.sk-parallel-item::before {content: \"\";position: absolute;border-left: 1px solid gray;box-sizing: border-box;top: 0;bottom: 0;left: 50%;z-index: -1;}#sk-container-id-8 div.sk-parallel-item {display: flex;flex-direction: column;z-index: 1;position: relative;background-color: white;}#sk-container-id-8 div.sk-parallel-item:first-child::after {align-self: flex-end;width: 50%;}#sk-container-id-8 div.sk-parallel-item:last-child::after {align-self: flex-start;width: 50%;}#sk-container-id-8 div.sk-parallel-item:only-child::after {width: 0;}#sk-container-id-8 div.sk-dashed-wrapped {border: 1px dashed gray;margin: 0 0.4em 0.5em 0.4em;box-sizing: border-box;padding-bottom: 0.4em;background-color: white;}#sk-container-id-8 div.sk-label label {font-family: monospace;font-weight: bold;display: inline-block;line-height: 1.2em;}#sk-container-id-8 div.sk-label-container {text-align: center;}#sk-container-id-8 div.sk-container {/* jupyter's `normalize.less` sets `[hidden] { display: none; }` but bootstrap.min.css set `[hidden] { display: none !important; }` so we also need the `!important` here to be able to override the default hidden behavior on the sphinx rendered scikit-learn.org. See: https://github.com/scikit-learn/scikit-learn/issues/21755 */display: inline-block !important;position: relative;}#sk-container-id-8 div.sk-text-repr-fallback {display: none;}</style><div id=\"sk-container-id-8\" class=\"sk-top-container\"><div class=\"sk-text-repr-fallback\"><pre>RandomForestClassifier(criterion=&#x27;entropy&#x27;, max_depth=5)</pre><b>In a Jupyter environment, please rerun this cell to show the HTML representation or trust the notebook. <br />On GitHub, the HTML representation is unable to render, please try loading this page with nbviewer.org.</b></div><div class=\"sk-container\" hidden><div class=\"sk-item\"><div class=\"sk-estimator sk-toggleable\"><input class=\"sk-toggleable__control sk-hidden--visually\" id=\"sk-estimator-id-16\" type=\"checkbox\" checked><label for=\"sk-estimator-id-16\" class=\"sk-toggleable__label sk-toggleable__label-arrow\">RandomForestClassifier</label><div class=\"sk-toggleable__content\"><pre>RandomForestClassifier(criterion=&#x27;entropy&#x27;, max_depth=5)</pre></div></div></div></div></div>"
            ]
          },
          "metadata": {},
          "execution_count": 179
        }
      ],
      "source": [
        "# Перебираемые значения гиперпараметров\n",
        "hyperparameters_rf_prec = {'max_depth': range(1, 21),\n",
        "                      'n_estimators': [50, 100, 150]}\n",
        "\n",
        "# Перебор гиперпараметров с помощью кросс-валидации\n",
        "GSCV_rf_prec = GridSearchCV(estimator=RandomForestClassifier(),\n",
        "                       param_grid=hyperparameters_rf_prec,\n",
        "                       scoring=\"precision_macro\",\n",
        "                       cv=5)\n",
        "\n",
        "GSCV_rf_prec.fit(features_train, target_train)\n",
        "\n",
        "# Достанем гиперпараметры, соответствующие лучшей модели\n",
        "hyperparameters_rf_prec_best = GSCV_rf_prec.best_params_\n",
        "\n",
        "# Обучим модель с лучшими параметрами\n",
        "rf_prec_best = RandomForestClassifier(\n",
        "                 max_depth=hyperparameters_rf_prec_best[\"max_depth\"],\n",
        "                    n_estimators=hyperparameters_rf_prec_best[\"n_estimators\"],\n",
        "                                 criterion='entropy')\n",
        "rf_prec_best.fit(features_train, target_train)"
      ]
    },
    {
      "cell_type": "code",
      "execution_count": 180,
      "metadata": {
        "colab": {
          "base_uri": "https://localhost:8080/"
        },
        "id": "xFk67x67VIhF",
        "outputId": "2f49b9e0-8e64-425a-ba80-b5d458903a65"
      },
      "outputs": [
        {
          "output_type": "stream",
          "name": "stdout",
          "text": [
            "{'max_depth': 5, 'n_estimators': 100}\n"
          ]
        }
      ],
      "source": [
        "# Посмотрим на оптимальные гиперпараметры\n",
        "print(hyperparameters_rf_prec_best)"
      ]
    },
    {
      "cell_type": "code",
      "execution_count": 181,
      "metadata": {
        "colab": {
          "base_uri": "https://localhost:8080/"
        },
        "id": "UT7tJmN0sEmm",
        "outputId": "0e3e093d-8083-4a8c-9aee-57e97103438b"
      },
      "outputs": [
        {
          "output_type": "stream",
          "name": "stdout",
          "text": [
            "                   Precision\n",
            "Обучающая выборка   0.765839\n",
            "Тестовая выборка    0.755101\n",
            "Кросс-валидация     0.765818\n"
          ]
        }
      ],
      "source": [
        "# Оценка precision на обучающей выборке\n",
        "precision_rf_tuned_train = cross_val_score(rf_prec_best, features_train,\n",
        "                                           target_train, cv=5,\n",
        "                                           scoring=\"precision_macro\").mean()\n",
        "\n",
        "# Оценка precision на тестовой выборке\n",
        "precision_rf_tuned_test = cross_val_score(rf_prec_best, features_test,\n",
        "                                          target_test, cv=5,\n",
        "                                          scoring=\"precision_macro\").mean()\n",
        "\n",
        "# Оценка precision с помощью кросс-валидации\n",
        "precision_rf_tuned_cv = cross_val_score(rf_prec_best, features_train,\n",
        "                                        target_train, cv=5,\n",
        "                                        scoring=\"precision_macro\")\n",
        "precision_rf_tuned_cv_mean = precision_rf_tuned_cv.mean()\n",
        "\n",
        "# Сравним precision прогноза на обучающей, кросс-валидационной и тестовой выборках\n",
        "results = pd.DataFrame(data=[precision_rf_tuned_train, precision_rf_tuned_test,\n",
        "                             precision_rf_tuned_cv_mean],\n",
        "                       index=['Обучающая выборка', 'Тестовая выборка',\n",
        "                              'Кросс-валидация'],\n",
        "                       columns=['Precision'])\n",
        "print(results)"
      ]
    },
    {
      "cell_type": "code",
      "execution_count": 182,
      "metadata": {
        "id": "V-P2iA_VcnFa"
      },
      "outputs": [],
      "source": [
        "kNN = ['3;2','7;1',precision_knn2_prec_cv_mean,precision_knn2_prec_train,\n",
        "       precision_knn2_prec_test]\n",
        "rf = ['10;100','5;100',precision_rf_tuned_cv_mean,precision_rf_tuned_train,\n",
        "      precision_rf_tuned_test,]"
      ]
    },
    {
      "cell_type": "code",
      "execution_count": 183,
      "metadata": {
        "colab": {
          "base_uri": "https://localhost:8080/"
        },
        "id": "v5ISzvA-iiTe",
        "outputId": "325d72e1-4261-4934-d9e9-f9c9e5824578"
      },
      "outputs": [
        {
          "output_type": "stream",
          "name": "stdout",
          "text": [
            "                                 kNN        RF\n",
            "Исходные гиперпараметры          3;2    10;100\n",
            "Подобранные гиперпараметры       7;1     5;100\n",
            "CV_rec_tuned                0.623707  0.765818\n",
            "Test_rec                    0.855625  0.765839\n",
            "Train_rec                     0.8025  0.755101\n"
          ]
        }
      ],
      "source": [
        "res_prec = pd.DataFrame(data    = [kNN,rf],\n",
        "                   index   = ['kNN','RF'],\n",
        "                   columns = ['Исходные гиперпараметры',\n",
        "                              'Подобранные гиперпараметры','CV_rec_tuned',\n",
        "                              'Test_rec','Train_rec'])\n",
        "print(res_prec.T)"
      ]
    },
    {
      "cell_type": "markdown",
      "metadata": {
        "id": "VsfzTYiTXukD"
      },
      "source": [
        "Преимущества и недостатки Precision."
      ]
    },
    {
      "cell_type": "markdown",
      "metadata": {
        "id": "gCpqDsbBlffW"
      },
      "source": [
        "Применимость Precision:\n",
        "\n",
        " * Минимизация ложноположительных результатов: Важно в областях, где ложные срабатывания могут иметь серьезные последствия (например, медицинские тесты).\n",
        " * Несбалансированные данные: Подходит для сценариев, когда положительные образцы встречаются реже.\n",
        "\n",
        "Ограничения Precision:\n",
        "\n",
        "* Не учитывает ложные отрицательные результаты: Это может быть проблематично в случаях, когда пропуск положительных образцов имеет критическое значение.\n",
        "* Обманчивые высокие значения: Высокая точность не обязательно указывает на хорошую модель, особенно при низком количестве положительных примеров. Модель, которая предсказывает мало положительных образцов, но делает это точно, может иметь высокую точность, но пропустить множество реальных положительных случаев."
      ]
    },
    {
      "cell_type": "markdown",
      "metadata": {
        "id": "cqaR_MadufWS"
      },
      "source": [
        "##**5. Постройте ROC-кривую для ваших моделей и сравните их по AUC на тестовой выборке.**\n"
      ]
    },
    {
      "cell_type": "code",
      "execution_count": 184,
      "metadata": {
        "colab": {
          "base_uri": "https://localhost:8080/",
          "height": 449
        },
        "id": "pFsIFULVkhVQ",
        "outputId": "940bf6da-8293-41aa-8f18-684f1032fc21"
      },
      "outputs": [
        {
          "output_type": "display_data",
          "data": {
            "text/plain": [
              "<Figure size 640x480 with 1 Axes>"
            ],
            "image/png": "[encoded data removed]"
          },
          "metadata": {}
        }
      ],
      "source": [
        "# Построим ROC-кривую на тестовой выборке\n",
        "RocCurveDisplay.from_estimator(knn2, features_test, target_test)\n",
        "plt.show()\n",
        "plt.close()"
      ]
    },
    {
      "cell_type": "code",
      "execution_count": 185,
      "metadata": {
        "id": "DUXyiyFskhZE"
      },
      "outputs": [],
      "source": [
        "# Оценим вероятности на тестовой выборке\n",
        "knn2_prob1 = knn2.predict_proba(features_test)[:, 1]\n",
        "nb_prob1   = nb_train.predict_proba(features_nb_test)[:, 1]\n",
        "rf2_prob1  = rf2.predict_proba(features_test)[:, 1]"
      ]
    },
    {
      "cell_type": "code",
      "execution_count": 186,
      "metadata": {
        "id": "KG-sENxjvHn5"
      },
      "outputs": [],
      "source": [
        "# Посчитеаем TPR и FPR при различных порога (thresholds)\n",
        "knn2_FPR, knn2_TPR, knn2_thresholds = metrics.roc_curve(target_test, knn2_prob1)\n",
        "nb_FPR, nb_TPR, nb_thresholds       = metrics.roc_curve(target_test, nb_prob1)\n",
        "rf2_FPR, rf2_TPR, rf_thresholds    = metrics.roc_curve(target_test, rf2_prob1)"
      ]
    },
    {
      "cell_type": "code",
      "execution_count": 187,
      "metadata": {
        "colab": {
          "base_uri": "https://localhost:8080/",
          "height": 430
        },
        "id": "4NuXCA5RvHq6",
        "outputId": "65051786-66ee-474f-f248-2d15b25c018d"
      },
      "outputs": [
        {
          "output_type": "display_data",
          "data": {
            "text/plain": [
              "<Figure size 640x480 with 1 Axes>"
            ],
            "image/png": "[encoded data removed]"
          },
          "metadata": {}
        }
      ],
      "source": [
        "# Построим ROC-кривые сразу для трех моделей\n",
        "plt.plot(knn2_FPR, knn2_TPR, label = \"knn2\")\n",
        "plt.plot(nb_FPR, nb_TPR, label = \"nb\")\n",
        "plt.plot(rf2_FPR, rf2_TPR, label = \"rf2\")\n",
        "plt.legend()\n",
        "plt.show()"
      ]
    },
    {
      "cell_type": "code",
      "execution_count": 188,
      "metadata": {
        "colab": {
          "base_uri": "https://localhost:8080/"
        },
        "id": "xsDlrL-ivHtZ",
        "outputId": "5edfcc9c-ac6d-445d-f84c-4b85f5d7f7d2"
      },
      "outputs": [
        {
          "output_type": "stream",
          "name": "stdout",
          "text": [
            "           AUC\n",
            "rf2   0.848529\n",
            "knn2  0.800213\n",
            "nb    0.834546\n"
          ]
        }
      ],
      "source": [
        "# Сравним модели по AUC\n",
        "knn2_AUC = metrics.roc_auc_score(target_test, knn2_prob1)\n",
        "nb_AUC = metrics.roc_auc_score(target_test, nb_prob1)\n",
        "rf2_AUC = metrics.roc_auc_score(target_test, rf2_prob1)\n",
        "print(pd.DataFrame(data    = [rf2_AUC, knn2_AUC, nb_AUC],\n",
        "                   index   = ['rf2', 'knn2', 'nb'],\n",
        "                   columns = ['AUC']))"
      ]
    },
    {
      "cell_type": "markdown",
      "metadata": {
        "id": "bS4jJ2KmBBde"
      },
      "source": [
        "Лучшая с точки зрения AUC модель - случайный лес."
      ]
    },
    {
      "cell_type": "markdown",
      "metadata": {
        "id": "u2V4_GGT1Y1b"
      },
      "source": [
        "##**6. Постройте матрицу путаницы и предположите цены различных видов прогнозов.**\n",
        "Исходя из критерия максимизации прибыли на обучающей выборке подберите оптимальный порог прогнозирования для каждого из методов и сравните прибыли на тестовой выборке при соответствующих порогах. Результат представьте в форме таблицы, в которой должны быть указаны как AUC, так и прибыли (на тестовой выборке). Проинтерпретируйте полученный результат."
      ]
    },
    {
      "cell_type": "markdown",
      "metadata": {
        "id": "0WorhmLaKWOQ"
      },
      "source": [
        "Рассчитаем цены прогнозов, отталкиваясь от состояния здоровья потенциальных матерей:\n",
        "\n",
        "*   $p_{TP} = 10$, поскольку нам важно правильно определить курящую женщину. В таком случае, например, врачи сделают вывод о том, что ее здоровье может быть не очень хорошо для вынашивания ребенка и пропишут ей витамины/положат на сохранение, в общем, предпримут какие-то мероприятия, чтобы проследить за ее беременностью.\n",
        "*   $p_{TN} = 4$, поскольку правильно угадывать некурящих для нас тоже хорошо. Тогда мы не потратим лишние ресурсы на поддержание здоровья и так здоровой женщины.\n",
        "*   $p_{FP} = 1$. Мы предполагаем, что восприятие некурящей как курящей плохо с точки зрения использования ресурсов, так как можно было их не тратить, поэтому величина меньше, чем цена TN прогноза. Однако, для беременной женщины получить лишнее внимание врачей может быть и хорошо, поэтому эту величину мы оставили положительной.\n",
        "*   $p_{FN} = -5$, поскольку для нас очень плохо \"пропустить\" курящую мать и принять ее за некурящую. В таком случае она может недополучить медицинское вмешательство и, как итог, беременность может пройти с осложнениями.\n",
        "\n"
      ]
    },
    {
      "cell_type": "code",
      "execution_count": 189,
      "metadata": {
        "id": "hlltx-Ym1gbI"
      },
      "outputs": [],
      "source": [
        "prices = pd.Series([10, 4, 1, -5], index = [\"TP\", \"TN\", \"FP\", \"FN\"])"
      ]
    },
    {
      "cell_type": "markdown",
      "metadata": {
        "id": "m68g-VTWv4mr"
      },
      "source": [
        "**Для Байесовского:**"
      ]
    },
    {
      "cell_type": "code",
      "execution_count": 190,
      "metadata": {
        "colab": {
          "base_uri": "https://localhost:8080/"
        },
        "id": "xZTIEJiki0Sf",
        "outputId": "a914157c-d2db-47f4-a0d1-f487f3c2e4ab"
      },
      "outputs": [
        {
          "output_type": "stream",
          "name": "stdout",
          "text": [
            "TP     201\n",
            "TN    1411\n",
            "FP     151\n",
            "FN     237\n",
            "dtype: int64\n"
          ]
        }
      ],
      "source": [
        "# Получим прогнозы на тестовой выборке с помощью модели\n",
        "# с подобранными значениями гиперпараметров\n",
        "prediction_test_nb = nb_train.predict(features_nb_test)\n",
        "\n",
        "# Рассмотрим прогнозы различного вида\n",
        "  # автоматически\n",
        "TN_nb, FP_nb, FN_nb, TP_nb = confusion_matrix(target_test, prediction_test_nb).ravel()\n",
        "\n",
        "predictions_nb = pd.Series([TP_nb, TN_nb, FP_nb, FN_nb],\n",
        "                           index = [\"TP\", \"TN\", \"FP\", \"FN\"])\n",
        "print(predictions_nb)"
      ]
    },
    {
      "cell_type": "code",
      "execution_count": 191,
      "metadata": {
        "colab": {
          "base_uri": "https://localhost:8080/"
        },
        "id": "vuQPTrequPOH",
        "outputId": "a3c4f4ec-c6e6-44da-a3ea-7af145e8bdf5"
      },
      "outputs": [
        {
          "output_type": "stream",
          "name": "stdout",
          "text": [
            "6620\n"
          ]
        }
      ],
      "source": [
        "profit_nb = np.sum(prices * predictions_nb)\n",
        "print(profit_nb)"
      ]
    },
    {
      "cell_type": "code",
      "execution_count": 192,
      "metadata": {
        "id": "LyCwKxs-wAvU"
      },
      "outputs": [],
      "source": [
        "# Оценим условные вероятности на обучающей выборке\n",
        "prob_nb_train = nb_train.predict_proba(features_nb_train)[:, 1]\n",
        "\n",
        "# Возможные значения порогов\n",
        "thresholds_nb = np.unique(np.sort(prob_nb_train))"
      ]
    },
    {
      "cell_type": "code",
      "execution_count": 193,
      "metadata": {
        "id": "up30CiOxwAxj"
      },
      "outputs": [],
      "source": [
        "# Число порогов\n",
        "n_threshold_nb = thresholds_nb.size\n",
        "\n",
        "# Вектор для сохранения прибылей при различных порогах\n",
        "profits_nb = np.zeros(n_threshold_nb)\n",
        "\n",
        "# Векторы различных видов прогнозов\n",
        "TP_vec = np.zeros(n_threshold_nb)\n",
        "TN_vec = np.zeros(n_threshold_nb)\n",
        "FP_vec = np.zeros(n_threshold_nb)\n",
        "FN_vec = np.zeros(n_threshold_nb)"
      ]
    },
    {
      "cell_type": "code",
      "execution_count": 194,
      "metadata": {
        "id": "Z1DQFIUqwA0u"
      },
      "outputs": [],
      "source": [
        "# Рассчитаем прибыли для различных порогов\n",
        "for i in range(0, n_threshold_nb):\n",
        "  # получаем прогнозы (на обучающей выборке) при соответствующем пороге\n",
        "  prediction_nb_i = (prob_nb_train >= thresholds_nb[i]).astype(int)\n",
        "  # считаем количество прогнозов различного вида\n",
        "  TN_vec[i], FP_vec[i], FN_vec[i], TP_vec[i] = confusion_matrix(\n",
        "    target_train, prediction_nb_i).ravel()\n",
        "  # аггрегируем результаты прогнозов\n",
        "  predictions_nb_i = pd.Series([TP_vec[i], TN_vec[i], FP_vec[i], FN_vec[i]],\n",
        "                                index = [\"TP\", \"TN\", \"FP\", \"FN\"])\n",
        "  # считаем прибыль\n",
        "  profits_nb[i] = np.sum(prices * predictions_nb_i)"
      ]
    },
    {
      "cell_type": "code",
      "execution_count": 195,
      "metadata": {
        "colab": {
          "base_uri": "https://localhost:8080/"
        },
        "id": "BLDpt8ZawtoH",
        "outputId": "88a23fa7-9507-4485-86b1-b945fdc62eb0"
      },
      "outputs": [
        {
          "output_type": "stream",
          "name": "stdout",
          "text": [
            "     profits  thresholds\n",
            "0    24461.0    0.034632\n",
            "1    24575.0    0.037271\n",
            "2    24701.0    0.037992\n",
            "3    24818.0    0.039977\n",
            "4    24971.0    0.040876\n",
            "..       ...         ...\n",
            "100  16547.0    0.830597\n",
            "101  16550.0    0.850723\n",
            "102  16259.0    0.862519\n",
            "103  16100.0    0.868682\n",
            "104  15773.0    0.871664\n",
            "\n",
            "[105 rows x 2 columns]\n"
          ]
        }
      ],
      "source": [
        "# Сравним прибыли при различных порогах\n",
        "nb_prof = pd.DataFrame({'profits': profits_nb, 'thresholds': thresholds_nb})\n",
        "print(nb_prof)"
      ]
    },
    {
      "cell_type": "code",
      "execution_count": 100,
      "metadata": {
        "colab": {
          "base_uri": "https://localhost:8080/"
        },
        "id": "q39KN-jzwtrV",
        "outputId": "9a16cd64-9061-47d8-e090-d102f10c6165"
      },
      "outputs": [
        {
          "output_type": "stream",
          "name": "stdout",
          "text": [
            "0.11129621006590068\n"
          ]
        }
      ],
      "source": [
        "# Достанем оптимальный порог\n",
        "threshold_nb = thresholds_nb[np.argmax(profits_nb)]\n",
        "print(threshold_nb)"
      ]
    },
    {
      "cell_type": "code",
      "execution_count": 196,
      "metadata": {
        "colab": {
          "base_uri": "https://localhost:8080/",
          "height": 81
        },
        "id": "gsdzBE_TwBcD",
        "outputId": "7eb0d282-c55b-44e5-9bb5-4b49c9c87b05"
      },
      "outputs": [
        {
          "output_type": "execute_result",
          "data": {
            "text/plain": [
              "    profits  thresholds\n",
              "28  33623.0    0.111296"
            ],
            "text/html": [
              "\n",
              "  <div id=\"df-f337fe12-c7f2-4e4c-aa70-bd907608f59c\" class=\"colab-df-container\">\n",
              "    <div>\n",
              "<style scoped>\n",
              "    .dataframe tbody tr th:only-of-type {\n",
              "        vertical-align: middle;\n",
              "    }\n",
              "\n",
              "    .dataframe tbody tr th {\n",
              "        vertical-align: top;\n",
              "    }\n",
              "\n",
              "    .dataframe thead th {\n",
              "        text-align: right;\n",
              "    }\n",
              "</style>\n",
              "<table border=\"1\" class=\"dataframe\">\n",
              "  <thead>\n",
              "    <tr style=\"text-align: right;\">\n",
              "      <th></th>\n",
              "      <th>profits</th>\n",
              "      <th>thresholds</th>\n",
              "    </tr>\n",
              "  </thead>\n",
              "  <tbody>\n",
              "    <tr>\n",
              "      <th>28</th>\n",
              "      <td>33623.0</td>\n",
              "      <td>0.111296</td>\n",
              "    </tr>\n",
              "  </tbody>\n",
              "</table>\n",
              "</div>\n",
              "    <div class=\"colab-df-buttons\">\n",
              "\n",
              "  <div class=\"colab-df-container\">\n",
              "    <button class=\"colab-df-convert\" onclick=\"convertToInteractive('df-f337fe12-c7f2-4e4c-aa70-bd907608f59c')\"\n",
              "            title=\"Convert this dataframe to an interactive table.\"\n",
              "            style=\"display:none;\">\n",
              "\n",
              "  <svg xmlns=\"http://www.w3.org/2000/svg\" height=\"24px\" viewBox=\"0 -960 960 960\">\n",
              "    <path d=\"M120-120v-720h720v720H120Zm60-500h600v-160H180v160Zm220 220h160v-160H400v160Zm0 220h160v-160H400v160ZM180-400h160v-160H180v160Zm440 0h160v-160H620v160ZM180-180h160v-160H180v160Zm440 0h160v-160H620v160Z\"/>\n",
              "  </svg>\n",
              "    </button>\n",
              "\n",
              "  <style>\n",
              "    .colab-df-container {\n",
              "      display:flex;\n",
              "      gap: 12px;\n",
              "    }\n",
              "\n",
              "    .colab-df-convert {\n",
              "      background-color: #E8F0FE;\n",
              "      border: none;\n",
              "      border-radius: 50%;\n",
              "      cursor: pointer;\n",
              "      display: none;\n",
              "      fill: #1967D2;\n",
              "      height: 32px;\n",
              "      padding: 0 0 0 0;\n",
              "      width: 32px;\n",
              "    }\n",
              "\n",
              "    .colab-df-convert:hover {\n",
              "      background-color: #E2EBFA;\n",
              "      box-shadow: 0px 1px 2px rgba(60, 64, 67, 0.3), 0px 1px 3px 1px rgba(60, 64, 67, 0.15);\n",
              "      fill: #174EA6;\n",
              "    }\n",
              "\n",
              "    .colab-df-buttons div {\n",
              "      margin-bottom: 4px;\n",
              "    }\n",
              "\n",
              "    [theme=dark] .colab-df-convert {\n",
              "      background-color: #3B4455;\n",
              "      fill: #D2E3FC;\n",
              "    }\n",
              "\n",
              "    [theme=dark] .colab-df-convert:hover {\n",
              "      background-color: #434B5C;\n",
              "      box-shadow: 0px 1px 3px 1px rgba(0, 0, 0, 0.15);\n",
              "      filter: drop-shadow(0px 1px 2px rgba(0, 0, 0, 0.3));\n",
              "      fill: #FFFFFF;\n",
              "    }\n",
              "  </style>\n",
              "\n",
              "    <script>\n",
              "      const buttonEl =\n",
              "        document.querySelector('#df-f337fe12-c7f2-4e4c-aa70-bd907608f59c button.colab-df-convert');\n",
              "      buttonEl.style.display =\n",
              "        google.colab.kernel.accessAllowed ? 'block' : 'none';\n",
              "\n",
              "      async function convertToInteractive(key) {\n",
              "        const element = document.querySelector('#df-f337fe12-c7f2-4e4c-aa70-bd907608f59c');\n",
              "        const dataTable =\n",
              "          await google.colab.kernel.invokeFunction('convertToInteractive',\n",
              "                                                    [key], {});\n",
              "        if (!dataTable) return;\n",
              "\n",
              "        const docLinkHtml = 'Like what you see? Visit the ' +\n",
              "          '<a target=\"_blank\" href=https://colab.research.google.com/notebooks/data_table.ipynb>data table notebook</a>'\n",
              "          + ' to learn more about interactive tables.';\n",
              "        element.innerHTML = '';\n",
              "        dataTable['output_type'] = 'display_data';\n",
              "        await google.colab.output.renderOutput(dataTable, element);\n",
              "        const docLink = document.createElement('div');\n",
              "        docLink.innerHTML = docLinkHtml;\n",
              "        element.appendChild(docLink);\n",
              "      }\n",
              "    </script>\n",
              "  </div>\n",
              "\n",
              "    </div>\n",
              "  </div>\n"
            ],
            "application/vnd.google.colaboratory.intrinsic+json": {
              "type": "dataframe",
              "summary": "{\n  \"name\": \"nb_prof[nb_prof['thresholds']==threshold_nb]\",\n  \"rows\": 1,\n  \"fields\": [\n    {\n      \"column\": \"profits\",\n      \"properties\": {\n        \"dtype\": \"number\",\n        \"std\": null,\n        \"min\": 33623.0,\n        \"max\": 33623.0,\n        \"num_unique_values\": 1,\n        \"samples\": [\n          33623.0\n        ],\n        \"semantic_type\": \"\",\n        \"description\": \"\"\n      }\n    },\n    {\n      \"column\": \"thresholds\",\n      \"properties\": {\n        \"dtype\": \"number\",\n        \"std\": null,\n        \"min\": 0.11129621006590068,\n        \"max\": 0.11129621006590068,\n        \"num_unique_values\": 1,\n        \"samples\": [\n          0.11129621006590068\n        ],\n        \"semantic_type\": \"\",\n        \"description\": \"\"\n      }\n    }\n  ]\n}"
            }
          },
          "metadata": {},
          "execution_count": 196
        }
      ],
      "source": [
        "nb_prof[nb_prof['thresholds']==threshold_nb]"
      ]
    },
    {
      "cell_type": "code",
      "execution_count": 197,
      "metadata": {
        "colab": {
          "base_uri": "https://localhost:8080/"
        },
        "id": "J0G5vwsB4c4Y",
        "outputId": "9e74eda3-15be-4e62-dddd-67208ad48f3d"
      },
      "outputs": [
        {
          "output_type": "execute_result",
          "data": {
            "text/plain": [
              "33623.0"
            ]
          },
          "metadata": {},
          "execution_count": 197
        }
      ],
      "source": [
        "pr_nb = nb_prof[nb_prof['thresholds']==threshold_nb]\n",
        "best_profit_nb = pr_nb.loc[pr_nb['thresholds'] == threshold_nb, 'profits'].values[0]\n",
        "best_profit_nb"
      ]
    },
    {
      "cell_type": "markdown",
      "metadata": {
        "id": "x5SdAlbZ6Njf"
      },
      "source": [
        "**Для kNN:**"
      ]
    },
    {
      "cell_type": "code",
      "execution_count": 198,
      "metadata": {
        "colab": {
          "base_uri": "https://localhost:8080/"
        },
        "id": "EyLC69J71gYd",
        "outputId": "72516401-3cf0-48b6-d0f7-71de9e48bc21"
      },
      "outputs": [
        {
          "output_type": "stream",
          "name": "stdout",
          "text": [
            "TP     220\n",
            "TN    1385\n",
            "FP     177\n",
            "FN     218\n",
            "dtype: int64\n"
          ]
        }
      ],
      "source": [
        "# Получим прогнозы на тестовой выборке с помощью модели\n",
        "# с подобранными значениями гиперпараметров\n",
        "prediction_test_knn2 = knn2.predict(features_test)\n",
        "\n",
        "# Рассмотрим прогнозы различного вида\n",
        "  # автоматически\n",
        "TN, FP, FN, TP = confusion_matrix(target_test, prediction_test_knn2).ravel()\n",
        "  # вручную\n",
        "#TP = np.sum((target_test == 1) & (prediction_test_knn2 == 1))\n",
        "#TN = np.sum((target_test == 0) & (prediction_test_knn2 == 0))\n",
        "#FP = np.sum((target_test == 0) & (prediction_test_knn2 == 1))\n",
        "#FN = np.sum((target_test == 1) & (prediction_test_knn2 == 0))\n",
        "  # сохраним результат\n",
        "predictions_knn2 = pd.Series([TP, TN, FP, FN], index = [\"TP\", \"TN\", \"FP\", \"FN\"])\n",
        "print(predictions_knn2)"
      ]
    },
    {
      "cell_type": "code",
      "execution_count": 199,
      "metadata": {
        "colab": {
          "base_uri": "https://localhost:8080/"
        },
        "id": "u5Iu4DSQ1gdb",
        "outputId": "b9d99846-f75e-4b48-d841-a2bb9ea63670"
      },
      "outputs": [
        {
          "output_type": "stream",
          "name": "stdout",
          "text": [
            "6827\n"
          ]
        }
      ],
      "source": [
        "profit_knn2 = np.sum(prices * predictions_knn2)\n",
        "print(profit_knn2)"
      ]
    },
    {
      "cell_type": "code",
      "execution_count": 200,
      "metadata": {
        "id": "kT3vx3CH1gfw"
      },
      "outputs": [],
      "source": [
        "# Оценим условные вероятности на обучающей выборке\n",
        "prob_knn2_train = knn2.predict_proba(features_train)[:, 1]\n",
        "\n",
        "# Возможные значения порогов\n",
        "thresholds_knn2 = np.unique(np.sort(prob_knn2_train))"
      ]
    },
    {
      "cell_type": "markdown",
      "metadata": {
        "id": "aT6on_n0i4xj"
      },
      "source": [
        "Прибыль прогноза при пороге $c_{t}$ рассчитывается следующим образом:\n",
        "\n",
        "$$\\text{Profit}(c_{i}) = p_{\\text{TP}} \\times \\text{TP}(c_{i}) + p_{\\text{TN}} \\times \\text{TN}(c_{i}) + p_{\\text{FP}} \\times \\text{FP}(c_{i}) + p_{\\text{FN}} \\times \\text{FN}(c_{i})$$\n",
        "\n",
        "где $\\text{TP}(c_{i})$, $\\text{TP}(c_{i})$, $\\text{TP}(c_{i})$, $\\text{TP}(c_{i})$ отражают число прогнозов соответствующего вида при использовании порога $c_{i}$.\n",
        "\n",
        "В векторе `profits_knn2` элемент `profits_knn2[i]` отражает величину $\\text{Profit}(c_{i})$."
      ]
    },
    {
      "cell_type": "code",
      "execution_count": 201,
      "metadata": {
        "id": "RJxncFS81gil"
      },
      "outputs": [],
      "source": [
        "# Число порогов\n",
        "n_threshold_knn2 = thresholds_knn2.size\n",
        "\n",
        "# Вектор для сохранения прибылей при различных порогах\n",
        "profits_knn2 = np.zeros(n_threshold_knn2)\n",
        "\n",
        "# Векторы различных видов прогнозов\n",
        "TP_vec = np.zeros(n_threshold_knn2)\n",
        "TN_vec = np.zeros(n_threshold_knn2)\n",
        "FP_vec = np.zeros(n_threshold_knn2)\n",
        "FN_vec = np.zeros(n_threshold_knn2)"
      ]
    },
    {
      "cell_type": "code",
      "execution_count": 202,
      "metadata": {
        "id": "3pH8usrrOQs7"
      },
      "outputs": [],
      "source": [
        "# Рассчитаем прибыли для различных порогов\n",
        "for i in range(0, n_threshold_knn2):\n",
        "  # получаем прогнозы (на обучающей выборке) при соответствующем пороге\n",
        "  prediction_knn_i = (prob_knn2_train >= thresholds_knn2[i]).astype(int)\n",
        "  # считаем количество прогнозов различного вида\n",
        "  TN_vec[i], FP_vec[i], FN_vec[i], TP_vec[i] = confusion_matrix(\n",
        "    target_train, prediction_knn_i).ravel()\n",
        "  # аггрегируем результаты прогнозов\n",
        "  predictions_knn_i = pd.Series([TP_vec[i], TN_vec[i], FP_vec[i], FN_vec[i]],\n",
        "                                index = [\"TP\", \"TN\", \"FP\", \"FN\"])\n",
        "  # считаем прибыль\n",
        "  profits_knn2[i] = np.sum(prices * predictions_knn_i)"
      ]
    },
    {
      "cell_type": "code",
      "execution_count": 203,
      "metadata": {
        "colab": {
          "base_uri": "https://localhost:8080/"
        },
        "id": "hxHYhjRiTJKu",
        "outputId": "7c53a52d-75be-406c-fdc9-1f1c5e33ffc4"
      },
      "outputs": [
        {
          "output_type": "stream",
          "name": "stdout",
          "text": [
            "   profits  thresholds\n",
            "0  24461.0    0.000000\n",
            "1  35108.0    0.142857\n",
            "2  35768.0    0.285714\n",
            "3  34379.0    0.428571\n",
            "4  31577.0    0.571429\n",
            "5  26399.0    0.714286\n",
            "6  20978.0    0.857143\n",
            "7  17384.0    1.000000\n"
          ]
        }
      ],
      "source": [
        "# Сравним прибыли при различных порогах\n",
        "print(pd.DataFrame({'profits': profits_knn2, 'thresholds': thresholds_knn2}))"
      ]
    },
    {
      "cell_type": "code",
      "execution_count": 204,
      "metadata": {
        "colab": {
          "base_uri": "https://localhost:8080/"
        },
        "id": "BJDnh6hw-PFS",
        "outputId": "db0b7556-440e-4955-cfb2-3782a467bc87"
      },
      "outputs": [
        {
          "output_type": "stream",
          "name": "stdout",
          "text": [
            "0.2857142857142857\n"
          ]
        }
      ],
      "source": [
        "# Достанем оптимальный порог\n",
        "threshold_knn2 = thresholds_knn2[np.argmax(profits_knn2)]\n",
        "print(threshold_knn2)"
      ]
    },
    {
      "cell_type": "code",
      "execution_count": 205,
      "metadata": {
        "id": "ap_mF7mwPgIs"
      },
      "outputs": [],
      "source": [
        "best_profit_knn = 35768"
      ]
    },
    {
      "cell_type": "markdown",
      "metadata": {
        "id": "y0iLfzYmQIPE"
      },
      "source": [
        "**Для случайного леса:**"
      ]
    },
    {
      "cell_type": "code",
      "execution_count": 206,
      "metadata": {
        "colab": {
          "base_uri": "https://localhost:8080/"
        },
        "id": "3HNtl4tc6let",
        "outputId": "63b6dbf7-1da3-497c-b95c-849f6ffdf4af"
      },
      "outputs": [
        {
          "output_type": "stream",
          "name": "stdout",
          "text": [
            "TP     280\n",
            "TN    1373\n",
            "FP     189\n",
            "FN     158\n",
            "dtype: int64\n"
          ]
        }
      ],
      "source": [
        "# Получим прогнозы на тестовой выборке с помощью модели\n",
        "# с подобранными значениями гиперпараметров\n",
        "prediction_test_rf2 = rf2.predict(features_test)\n",
        "\n",
        "# Рассмотрим прогнозы различного вида\n",
        "  # автоматически\n",
        "TN_rf, FP_rf, FN_rf, TP_rf = confusion_matrix(target_test, prediction_test_rf2).ravel()\n",
        "\n",
        "predictions_rf2 = pd.Series([TP_rf, TN_rf, FP_rf, FN_rf], index = [\"TP\", \"TN\", \"FP\", \"FN\"])\n",
        "print(predictions_rf2)"
      ]
    },
    {
      "cell_type": "code",
      "execution_count": 207,
      "metadata": {
        "colab": {
          "base_uri": "https://localhost:8080/"
        },
        "id": "ixpS0ir17H9l",
        "outputId": "8e25c08a-de43-4513-eeb8-17aff0f759ed"
      },
      "outputs": [
        {
          "output_type": "stream",
          "name": "stdout",
          "text": [
            "7691\n"
          ]
        }
      ],
      "source": [
        "profit_rf2 = np.sum(prices * predictions_rf2)\n",
        "print(profit_rf2)"
      ]
    },
    {
      "cell_type": "code",
      "execution_count": 208,
      "metadata": {
        "id": "bE38tvNo7H9s"
      },
      "outputs": [],
      "source": [
        "# Оценим условные вероятности на обучающей выборке\n",
        "prob_rf2_train = rf2.predict_proba(features_train)[:, 1]\n",
        "\n",
        "# Возможные значения порогов\n",
        "thresholds_rf2 = np.unique(np.sort(prob_rf2_train))"
      ]
    },
    {
      "cell_type": "code",
      "execution_count": 209,
      "metadata": {
        "id": "JIg5QirN7H9s"
      },
      "outputs": [],
      "source": [
        "# Число порогов\n",
        "n_threshold_rf2 = thresholds_rf2.size\n",
        "\n",
        "# Вектор для сохранения прибылей при различных порогах\n",
        "profits_rf2 = np.zeros(n_threshold_rf2)\n",
        "\n",
        "# Векторы различных видов прогнозов\n",
        "TP_vec = np.zeros(n_threshold_rf2)\n",
        "TN_vec = np.zeros(n_threshold_rf2)\n",
        "FP_vec = np.zeros(n_threshold_rf2)\n",
        "FN_vec = np.zeros(n_threshold_rf2)"
      ]
    },
    {
      "cell_type": "code",
      "execution_count": 210,
      "metadata": {
        "id": "BmL_8Tv57H9s"
      },
      "outputs": [],
      "source": [
        "# Рассчитаем прибыли для различных порогов\n",
        "for i in range(0, n_threshold_rf2):\n",
        "  # получаем прогнозы (на обучающей выборке) при соответствующем пороге\n",
        "  prediction_rf_i = (prob_rf2_train >= thresholds_rf2[i]).astype(int)\n",
        "  # считаем количество прогнозов различного вида\n",
        "  TN_vec[i], FP_vec[i], FN_vec[i], TP_vec[i] = confusion_matrix(\n",
        "    target_train, prediction_rf_i).ravel()\n",
        "  # аггрегируем результаты прогнозов\n",
        "  predictions_rf_i = pd.Series([TP_vec[i], TN_vec[i], FP_vec[i], FN_vec[i]],\n",
        "                                index = [\"TP\", \"TN\", \"FP\", \"FN\"])\n",
        "  # считаем прибыль\n",
        "  profits_rf2[i] = np.sum(prices * predictions_rf_i)"
      ]
    },
    {
      "cell_type": "code",
      "execution_count": 211,
      "metadata": {
        "id": "QhOWQPYB7H9s"
      },
      "outputs": [],
      "source": [
        "# Сравним прибыли при различных порогах\n",
        "rf_prof = pd.DataFrame({'profits': profits_rf2, 'thresholds': thresholds_rf2})"
      ]
    },
    {
      "cell_type": "code",
      "execution_count": 212,
      "metadata": {
        "colab": {
          "base_uri": "https://localhost:8080/"
        },
        "id": "Mfj1Ib-17H9t",
        "outputId": "8bec36c5-6cc6-479c-df84-fe0cb35cd67e"
      },
      "outputs": [
        {
          "output_type": "stream",
          "name": "stdout",
          "text": [
            "0.1738901001077583\n"
          ]
        }
      ],
      "source": [
        "# Достанем оптимальный порог\n",
        "threshold_rf2 = thresholds_rf2[np.argmax(profits_rf2)]\n",
        "print(threshold_rf2)"
      ]
    },
    {
      "cell_type": "code",
      "execution_count": 213,
      "metadata": {
        "colab": {
          "base_uri": "https://localhost:8080/",
          "height": 81
        },
        "id": "gc0mL0-x8WTC",
        "outputId": "b3fefd7b-5fef-48c9-e4ea-4bbf6687070f"
      },
      "outputs": [
        {
          "output_type": "execute_result",
          "data": {
            "text/plain": [
              "      profits  thresholds\n",
              "1118  34313.0     0.17389"
            ],
            "text/html": [
              "\n",
              "  <div id=\"df-9bb5ca4e-e862-4ca4-ab74-83e5018e8665\" class=\"colab-df-container\">\n",
              "    <div>\n",
              "<style scoped>\n",
              "    .dataframe tbody tr th:only-of-type {\n",
              "        vertical-align: middle;\n",
              "    }\n",
              "\n",
              "    .dataframe tbody tr th {\n",
              "        vertical-align: top;\n",
              "    }\n",
              "\n",
              "    .dataframe thead th {\n",
              "        text-align: right;\n",
              "    }\n",
              "</style>\n",
              "<table border=\"1\" class=\"dataframe\">\n",
              "  <thead>\n",
              "    <tr style=\"text-align: right;\">\n",
              "      <th></th>\n",
              "      <th>profits</th>\n",
              "      <th>thresholds</th>\n",
              "    </tr>\n",
              "  </thead>\n",
              "  <tbody>\n",
              "    <tr>\n",
              "      <th>1118</th>\n",
              "      <td>34313.0</td>\n",
              "      <td>0.17389</td>\n",
              "    </tr>\n",
              "  </tbody>\n",
              "</table>\n",
              "</div>\n",
              "    <div class=\"colab-df-buttons\">\n",
              "\n",
              "  <div class=\"colab-df-container\">\n",
              "    <button class=\"colab-df-convert\" onclick=\"convertToInteractive('df-9bb5ca4e-e862-4ca4-ab74-83e5018e8665')\"\n",
              "            title=\"Convert this dataframe to an interactive table.\"\n",
              "            style=\"display:none;\">\n",
              "\n",
              "  <svg xmlns=\"http://www.w3.org/2000/svg\" height=\"24px\" viewBox=\"0 -960 960 960\">\n",
              "    <path d=\"M120-120v-720h720v720H120Zm60-500h600v-160H180v160Zm220 220h160v-160H400v160Zm0 220h160v-160H400v160ZM180-400h160v-160H180v160Zm440 0h160v-160H620v160ZM180-180h160v-160H180v160Zm440 0h160v-160H620v160Z\"/>\n",
              "  </svg>\n",
              "    </button>\n",
              "\n",
              "  <style>\n",
              "    .colab-df-container {\n",
              "      display:flex;\n",
              "      gap: 12px;\n",
              "    }\n",
              "\n",
              "    .colab-df-convert {\n",
              "      background-color: #E8F0FE;\n",
              "      border: none;\n",
              "      border-radius: 50%;\n",
              "      cursor: pointer;\n",
              "      display: none;\n",
              "      fill: #1967D2;\n",
              "      height: 32px;\n",
              "      padding: 0 0 0 0;\n",
              "      width: 32px;\n",
              "    }\n",
              "\n",
              "    .colab-df-convert:hover {\n",
              "      background-color: #E2EBFA;\n",
              "      box-shadow: 0px 1px 2px rgba(60, 64, 67, 0.3), 0px 1px 3px 1px rgba(60, 64, 67, 0.15);\n",
              "      fill: #174EA6;\n",
              "    }\n",
              "\n",
              "    .colab-df-buttons div {\n",
              "      margin-bottom: 4px;\n",
              "    }\n",
              "\n",
              "    [theme=dark] .colab-df-convert {\n",
              "      background-color: #3B4455;\n",
              "      fill: #D2E3FC;\n",
              "    }\n",
              "\n",
              "    [theme=dark] .colab-df-convert:hover {\n",
              "      background-color: #434B5C;\n",
              "      box-shadow: 0px 1px 3px 1px rgba(0, 0, 0, 0.15);\n",
              "      filter: drop-shadow(0px 1px 2px rgba(0, 0, 0, 0.3));\n",
              "      fill: #FFFFFF;\n",
              "    }\n",
              "  </style>\n",
              "\n",
              "    <script>\n",
              "      const buttonEl =\n",
              "        document.querySelector('#df-9bb5ca4e-e862-4ca4-ab74-83e5018e8665 button.colab-df-convert');\n",
              "      buttonEl.style.display =\n",
              "        google.colab.kernel.accessAllowed ? 'block' : 'none';\n",
              "\n",
              "      async function convertToInteractive(key) {\n",
              "        const element = document.querySelector('#df-9bb5ca4e-e862-4ca4-ab74-83e5018e8665');\n",
              "        const dataTable =\n",
              "          await google.colab.kernel.invokeFunction('convertToInteractive',\n",
              "                                                    [key], {});\n",
              "        if (!dataTable) return;\n",
              "\n",
              "        const docLinkHtml = 'Like what you see? Visit the ' +\n",
              "          '<a target=\"_blank\" href=https://colab.research.google.com/notebooks/data_table.ipynb>data table notebook</a>'\n",
              "          + ' to learn more about interactive tables.';\n",
              "        element.innerHTML = '';\n",
              "        dataTable['output_type'] = 'display_data';\n",
              "        await google.colab.output.renderOutput(dataTable, element);\n",
              "        const docLink = document.createElement('div');\n",
              "        docLink.innerHTML = docLinkHtml;\n",
              "        element.appendChild(docLink);\n",
              "      }\n",
              "    </script>\n",
              "  </div>\n",
              "\n",
              "    </div>\n",
              "  </div>\n"
            ],
            "application/vnd.google.colaboratory.intrinsic+json": {
              "type": "dataframe",
              "summary": "{\n  \"name\": \"rf_prof[rf_prof['thresholds']==threshold_rf2]\",\n  \"rows\": 1,\n  \"fields\": [\n    {\n      \"column\": \"profits\",\n      \"properties\": {\n        \"dtype\": \"number\",\n        \"std\": null,\n        \"min\": 34313.0,\n        \"max\": 34313.0,\n        \"num_unique_values\": 1,\n        \"samples\": [\n          34313.0\n        ],\n        \"semantic_type\": \"\",\n        \"description\": \"\"\n      }\n    },\n    {\n      \"column\": \"thresholds\",\n      \"properties\": {\n        \"dtype\": \"number\",\n        \"std\": null,\n        \"min\": 0.1738901001077583,\n        \"max\": 0.1738901001077583,\n        \"num_unique_values\": 1,\n        \"samples\": [\n          0.1738901001077583\n        ],\n        \"semantic_type\": \"\",\n        \"description\": \"\"\n      }\n    }\n  ]\n}"
            }
          },
          "metadata": {},
          "execution_count": 213
        }
      ],
      "source": [
        "rf_prof[rf_prof['thresholds']==threshold_rf2]"
      ]
    },
    {
      "cell_type": "code",
      "execution_count": 214,
      "metadata": {
        "colab": {
          "base_uri": "https://localhost:8080/"
        },
        "id": "2_smJsqm07Sa",
        "outputId": "f7c81e73-1833-4a96-8353-5a15d653d83d"
      },
      "outputs": [
        {
          "output_type": "execute_result",
          "data": {
            "text/plain": [
              "34313.0"
            ]
          },
          "metadata": {},
          "execution_count": 214
        }
      ],
      "source": [
        "pr_rf = rf_prof[rf_prof['thresholds']==threshold_rf2]\n",
        "best_profit_rf = pr_rf.loc[pr_rf['thresholds'] == threshold_rf2, 'profits'].values[0]\n",
        "best_profit_rf"
      ]
    },
    {
      "cell_type": "code",
      "execution_count": 215,
      "metadata": {
        "id": "94f3yqVP6ljr"
      },
      "outputs": [],
      "source": [
        "auc = [nb_AUC,knn2_AUC,rf2_AUC]\n",
        "profit = [best_profit_nb,best_profit_knn,best_profit_rf]"
      ]
    },
    {
      "cell_type": "code",
      "execution_count": 216,
      "metadata": {
        "colab": {
          "base_uri": "https://localhost:8080/",
          "height": 143
        },
        "id": "MrZ-DNxn6lpY",
        "outputId": "d82fb2d3-4790-4be2-81bb-64beb4e4d222"
      },
      "outputs": [
        {
          "output_type": "execute_result",
          "data": {
            "text/plain": [
              "          AUC  best_profit\n",
              "NB   0.834546      33623.0\n",
              "kNN  0.800213      35768.0\n",
              "RF   0.848529      34313.0"
            ],
            "text/html": [
              "\n",
              "  <div id=\"df-55b6f862-7acd-4c4b-b0b5-75a5b01a2da9\" class=\"colab-df-container\">\n",
              "    <div>\n",
              "<style scoped>\n",
              "    .dataframe tbody tr th:only-of-type {\n",
              "        vertical-align: middle;\n",
              "    }\n",
              "\n",
              "    .dataframe tbody tr th {\n",
              "        vertical-align: top;\n",
              "    }\n",
              "\n",
              "    .dataframe thead th {\n",
              "        text-align: right;\n",
              "    }\n",
              "</style>\n",
              "<table border=\"1\" class=\"dataframe\">\n",
              "  <thead>\n",
              "    <tr style=\"text-align: right;\">\n",
              "      <th></th>\n",
              "      <th>AUC</th>\n",
              "      <th>best_profit</th>\n",
              "    </tr>\n",
              "  </thead>\n",
              "  <tbody>\n",
              "    <tr>\n",
              "      <th>NB</th>\n",
              "      <td>0.834546</td>\n",
              "      <td>33623.0</td>\n",
              "    </tr>\n",
              "    <tr>\n",
              "      <th>kNN</th>\n",
              "      <td>0.800213</td>\n",
              "      <td>35768.0</td>\n",
              "    </tr>\n",
              "    <tr>\n",
              "      <th>RF</th>\n",
              "      <td>0.848529</td>\n",
              "      <td>34313.0</td>\n",
              "    </tr>\n",
              "  </tbody>\n",
              "</table>\n",
              "</div>\n",
              "    <div class=\"colab-df-buttons\">\n",
              "\n",
              "  <div class=\"colab-df-container\">\n",
              "    <button class=\"colab-df-convert\" onclick=\"convertToInteractive('df-55b6f862-7acd-4c4b-b0b5-75a5b01a2da9')\"\n",
              "            title=\"Convert this dataframe to an interactive table.\"\n",
              "            style=\"display:none;\">\n",
              "\n",
              "  <svg xmlns=\"http://www.w3.org/2000/svg\" height=\"24px\" viewBox=\"0 -960 960 960\">\n",
              "    <path d=\"M120-120v-720h720v720H120Zm60-500h600v-160H180v160Zm220 220h160v-160H400v160Zm0 220h160v-160H400v160ZM180-400h160v-160H180v160Zm440 0h160v-160H620v160ZM180-180h160v-160H180v160Zm440 0h160v-160H620v160Z\"/>\n",
              "  </svg>\n",
              "    </button>\n",
              "\n",
              "  <style>\n",
              "    .colab-df-container {\n",
              "      display:flex;\n",
              "      gap: 12px;\n",
              "    }\n",
              "\n",
              "    .colab-df-convert {\n",
              "      background-color: #E8F0FE;\n",
              "      border: none;\n",
              "      border-radius: 50%;\n",
              "      cursor: pointer;\n",
              "      display: none;\n",
              "      fill: #1967D2;\n",
              "      height: 32px;\n",
              "      padding: 0 0 0 0;\n",
              "      width: 32px;\n",
              "    }\n",
              "\n",
              "    .colab-df-convert:hover {\n",
              "      background-color: #E2EBFA;\n",
              "      box-shadow: 0px 1px 2px rgba(60, 64, 67, 0.3), 0px 1px 3px 1px rgba(60, 64, 67, 0.15);\n",
              "      fill: #174EA6;\n",
              "    }\n",
              "\n",
              "    .colab-df-buttons div {\n",
              "      margin-bottom: 4px;\n",
              "    }\n",
              "\n",
              "    [theme=dark] .colab-df-convert {\n",
              "      background-color: #3B4455;\n",
              "      fill: #D2E3FC;\n",
              "    }\n",
              "\n",
              "    [theme=dark] .colab-df-convert:hover {\n",
              "      background-color: #434B5C;\n",
              "      box-shadow: 0px 1px 3px 1px rgba(0, 0, 0, 0.15);\n",
              "      filter: drop-shadow(0px 1px 2px rgba(0, 0, 0, 0.3));\n",
              "      fill: #FFFFFF;\n",
              "    }\n",
              "  </style>\n",
              "\n",
              "    <script>\n",
              "      const buttonEl =\n",
              "        document.querySelector('#df-55b6f862-7acd-4c4b-b0b5-75a5b01a2da9 button.colab-df-convert');\n",
              "      buttonEl.style.display =\n",
              "        google.colab.kernel.accessAllowed ? 'block' : 'none';\n",
              "\n",
              "      async function convertToInteractive(key) {\n",
              "        const element = document.querySelector('#df-55b6f862-7acd-4c4b-b0b5-75a5b01a2da9');\n",
              "        const dataTable =\n",
              "          await google.colab.kernel.invokeFunction('convertToInteractive',\n",
              "                                                    [key], {});\n",
              "        if (!dataTable) return;\n",
              "\n",
              "        const docLinkHtml = 'Like what you see? Visit the ' +\n",
              "          '<a target=\"_blank\" href=https://colab.research.google.com/notebooks/data_table.ipynb>data table notebook</a>'\n",
              "          + ' to learn more about interactive tables.';\n",
              "        element.innerHTML = '';\n",
              "        dataTable['output_type'] = 'display_data';\n",
              "        await google.colab.output.renderOutput(dataTable, element);\n",
              "        const docLink = document.createElement('div');\n",
              "        docLink.innerHTML = docLinkHtml;\n",
              "        element.appendChild(docLink);\n",
              "      }\n",
              "    </script>\n",
              "  </div>\n",
              "\n",
              "\n",
              "<div id=\"df-31a59fac-7ae1-48db-9f3a-660192c14efa\">\n",
              "  <button class=\"colab-df-quickchart\" onclick=\"quickchart('df-31a59fac-7ae1-48db-9f3a-660192c14efa')\"\n",
              "            title=\"Suggest charts\"\n",
              "            style=\"display:none;\">\n",
              "\n",
              "<svg xmlns=\"http://www.w3.org/2000/svg\" height=\"24px\"viewBox=\"0 0 24 24\"\n",
              "     width=\"24px\">\n",
              "    <g>\n",
              "        <path d=\"M19 3H5c-1.1 0-2 .9-2 2v14c0 1.1.9 2 2 2h14c1.1 0 2-.9 2-2V5c0-1.1-.9-2-2-2zM9 17H7v-7h2v7zm4 0h-2V7h2v10zm4 0h-2v-4h2v4z\"/>\n",
              "    </g>\n",
              "</svg>\n",
              "  </button>\n",
              "\n",
              "<style>\n",
              "  .colab-df-quickchart {\n",
              "      --bg-color: #E8F0FE;\n",
              "      --fill-color: #1967D2;\n",
              "      --hover-bg-color: #E2EBFA;\n",
              "      --hover-fill-color: #174EA6;\n",
              "      --disabled-fill-color: #AAA;\n",
              "      --disabled-bg-color: #DDD;\n",
              "  }\n",
              "\n",
              "  [theme=dark] .colab-df-quickchart {\n",
              "      --bg-color: #3B4455;\n",
              "      --fill-color: #D2E3FC;\n",
              "      --hover-bg-color: #434B5C;\n",
              "      --hover-fill-color: #FFFFFF;\n",
              "      --disabled-bg-color: #3B4455;\n",
              "      --disabled-fill-color: #666;\n",
              "  }\n",
              "\n",
              "  .colab-df-quickchart {\n",
              "    background-color: var(--bg-color);\n",
              "    border: none;\n",
              "    border-radius: 50%;\n",
              "    cursor: pointer;\n",
              "    display: none;\n",
              "    fill: var(--fill-color);\n",
              "    height: 32px;\n",
              "    padding: 0;\n",
              "    width: 32px;\n",
              "  }\n",
              "\n",
              "  .colab-df-quickchart:hover {\n",
              "    background-color: var(--hover-bg-color);\n",
              "    box-shadow: 0 1px 2px rgba(60, 64, 67, 0.3), 0 1px 3px 1px rgba(60, 64, 67, 0.15);\n",
              "    fill: var(--button-hover-fill-color);\n",
              "  }\n",
              "\n",
              "  .colab-df-quickchart-complete:disabled,\n",
              "  .colab-df-quickchart-complete:disabled:hover {\n",
              "    background-color: var(--disabled-bg-color);\n",
              "    fill: var(--disabled-fill-color);\n",
              "    box-shadow: none;\n",
              "  }\n",
              "\n",
              "  .colab-df-spinner {\n",
              "    border: 2px solid var(--fill-color);\n",
              "    border-color: transparent;\n",
              "    border-bottom-color: var(--fill-color);\n",
              "    animation:\n",
              "      spin 1s steps(1) infinite;\n",
              "  }\n",
              "\n",
              "  @keyframes spin {\n",
              "    0% {\n",
              "      border-color: transparent;\n",
              "      border-bottom-color: var(--fill-color);\n",
              "      border-left-color: var(--fill-color);\n",
              "    }\n",
              "    20% {\n",
              "      border-color: transparent;\n",
              "      border-left-color: var(--fill-color);\n",
              "      border-top-color: var(--fill-color);\n",
              "    }\n",
              "    30% {\n",
              "      border-color: transparent;\n",
              "      border-left-color: var(--fill-color);\n",
              "      border-top-color: var(--fill-color);\n",
              "      border-right-color: var(--fill-color);\n",
              "    }\n",
              "    40% {\n",
              "      border-color: transparent;\n",
              "      border-right-color: var(--fill-color);\n",
              "      border-top-color: var(--fill-color);\n",
              "    }\n",
              "    60% {\n",
              "      border-color: transparent;\n",
              "      border-right-color: var(--fill-color);\n",
              "    }\n",
              "    80% {\n",
              "      border-color: transparent;\n",
              "      border-right-color: var(--fill-color);\n",
              "      border-bottom-color: var(--fill-color);\n",
              "    }\n",
              "    90% {\n",
              "      border-color: transparent;\n",
              "      border-bottom-color: var(--fill-color);\n",
              "    }\n",
              "  }\n",
              "</style>\n",
              "\n",
              "  <script>\n",
              "    async function quickchart(key) {\n",
              "      const quickchartButtonEl =\n",
              "        document.querySelector('#' + key + ' button');\n",
              "      quickchartButtonEl.disabled = true;  // To prevent multiple clicks.\n",
              "      quickchartButtonEl.classList.add('colab-df-spinner');\n",
              "      try {\n",
              "        const charts = await google.colab.kernel.invokeFunction(\n",
              "            'suggestCharts', [key], {});\n",
              "      } catch (error) {\n",
              "        console.error('Error during call to suggestCharts:', error);\n",
              "      }\n",
              "      quickchartButtonEl.classList.remove('colab-df-spinner');\n",
              "      quickchartButtonEl.classList.add('colab-df-quickchart-complete');\n",
              "    }\n",
              "    (() => {\n",
              "      let quickchartButtonEl =\n",
              "        document.querySelector('#df-31a59fac-7ae1-48db-9f3a-660192c14efa button');\n",
              "      quickchartButtonEl.style.display =\n",
              "        google.colab.kernel.accessAllowed ? 'block' : 'none';\n",
              "    })();\n",
              "  </script>\n",
              "</div>\n",
              "    </div>\n",
              "  </div>\n"
            ],
            "application/vnd.google.colaboratory.intrinsic+json": {
              "type": "dataframe",
              "summary": "{\n  \"name\": \"results\",\n  \"rows\": 3,\n  \"fields\": [\n    {\n      \"column\": \"AUC\",\n      \"properties\": {\n        \"dtype\": \"number\",\n        \"std\": 0.02486217161766693,\n        \"min\": 0.800212963125369,\n        \"max\": 0.8485294289606464,\n        \"num_unique_values\": 3,\n        \"samples\": [\n          0.8345457761095424,\n          0.800212963125369,\n          0.8485294289606464\n        ],\n        \"semantic_type\": \"\",\n        \"description\": \"\"\n      }\n    },\n    {\n      \"column\": \"best_profit\",\n      \"properties\": {\n        \"dtype\": \"number\",\n        \"std\": 1095.0,\n        \"min\": 33623.0,\n        \"max\": 35768.0,\n        \"num_unique_values\": 3,\n        \"samples\": [\n          33623.0,\n          35768.0,\n          34313.0\n        ],\n        \"semantic_type\": \"\",\n        \"description\": \"\"\n      }\n    }\n  ]\n}"
            }
          },
          "metadata": {},
          "execution_count": 216
        }
      ],
      "source": [
        "results = pd.DataFrame(data    = [auc, profit],\n",
        "                   index   = ['AUC','best_profit'],\n",
        "                   columns = ['NB', 'kNN', 'RF'])\n",
        "results.T"
      ]
    },
    {
      "cell_type": "markdown",
      "metadata": {
        "id": "NEoUrxFDAydR"
      },
      "source": [
        "Заметим, что по AUC лучще всего случайный лес, а по значению прибыли оптимальным оказался метод ближайших соседей."
      ]
    },
    {
      "cell_type": "markdown",
      "metadata": {
        "id": "9pZzDtSaEV3j"
      },
      "source": [
        "##**7. Опишите предполагаемые связи между переменными в форме ориентированного ациклического графа (DAG).**\n",
        "Обучите структуру Байесовской сети на обучающей выборке и сравните точность прогнозов вашего и обученного DAG на тестовой выборке.\n"
      ]
    },
    {
      "cell_type": "code",
      "execution_count": 217,
      "metadata": {
        "colab": {
          "base_uri": "https://localhost:8080/"
        },
        "id": "VohQFUV_pjwu",
        "outputId": "db35a5be-3e6e-44fc-d84b-3150f5f49c76"
      },
      "outputs": [
        {
          "output_type": "stream",
          "name": "stdout",
          "text": [
            "[bnlearn] >bayes DAG created.\n"
          ]
        }
      ],
      "source": [
        "# Визуализируем предполагаемые связи\n",
        "\n",
        "# Стиль отображения графика\n",
        "nx_options = {\n",
        "    'with_labels': True,\n",
        "    'node_size': 1000,\n",
        "    'node_color': 'lightblue',\n",
        "    'font_size': 10,\n",
        "    'font_weight': 'bold',\n",
        "    'arrowsize': 20,\n",
        "}\n",
        "\n",
        "\n",
        "# Связи\n",
        "edges = [                       # (откуда стрелочка, куда стрелочка)\n",
        "    ('married', 'smoking'),\n",
        "    ('full_term', 'smoking'),\n",
        "    ('income_bin', 'smoking'),\n",
        "    ('age_bin', 'smoking'),\n",
        "    ('smoking_friends', 'smoking')\n",
        "]\n",
        "DAG = bnlearn.make_DAG(edges)"
      ]
    },
    {
      "cell_type": "code",
      "execution_count": 218,
      "metadata": {
        "colab": {
          "base_uri": "https://localhost:8080/",
          "height": 363
        },
        "id": "S9XW2nrUHDZZ",
        "outputId": "e9fece4a-3e1b-4a0b-baa3-99aec8a289b5"
      },
      "outputs": [
        {
          "output_type": "execute_result",
          "data": {
            "text/plain": [
              "<pandas.io.formats.style.Styler at 0x78aed32139a0>"
            ],
            "text/html": [
              "<style type=\"text/css\">\n",
              "</style>\n",
              "<table id=\"T_0952d\" class=\"dataframe\">\n",
              "  <thead>\n",
              "    <tr>\n",
              "      <th class=\"blank level0\" >&nbsp;</th>\n",
              "      <th id=\"T_0952d_level0_col0\" class=\"col_heading level0 col0\" >weight</th>\n",
              "      <th id=\"T_0952d_level0_col1\" class=\"col_heading level0 col1\" >smoking</th>\n",
              "      <th id=\"T_0952d_level0_col2\" class=\"col_heading level0 col2\" >married</th>\n",
              "      <th id=\"T_0952d_level0_col3\" class=\"col_heading level0 col3\" >full_term</th>\n",
              "      <th id=\"T_0952d_level0_col4\" class=\"col_heading level0 col4\" >smoking_friends</th>\n",
              "      <th id=\"T_0952d_level0_col5\" class=\"col_heading level0 col5\" >genes</th>\n",
              "      <th id=\"T_0952d_level0_col6\" class=\"col_heading level0 col6\" >income_bin</th>\n",
              "      <th id=\"T_0952d_level0_col7\" class=\"col_heading level0 col7\" >age_bin</th>\n",
              "    </tr>\n",
              "  </thead>\n",
              "  <tbody>\n",
              "    <tr>\n",
              "      <th id=\"T_0952d_level0_row0\" class=\"row_heading level0 row0\" >0</th>\n",
              "      <td id=\"T_0952d_row0_col0\" class=\"data row0 col0\" >3773.59</td>\n",
              "      <td id=\"T_0952d_row0_col1\" class=\"data row0 col1\" >0</td>\n",
              "      <td id=\"T_0952d_row0_col2\" class=\"data row0 col2\" >1</td>\n",
              "      <td id=\"T_0952d_row0_col3\" class=\"data row0 col3\" >1</td>\n",
              "      <td id=\"T_0952d_row0_col4\" class=\"data row0 col4\" >1</td>\n",
              "      <td id=\"T_0952d_row0_col5\" class=\"data row0 col5\" >62.00</td>\n",
              "      <td id=\"T_0952d_row0_col6\" class=\"data row0 col6\" >2</td>\n",
              "      <td id=\"T_0952d_row0_col7\" class=\"data row0 col7\" >0</td>\n",
              "    </tr>\n",
              "    <tr>\n",
              "      <th id=\"T_0952d_level0_row1\" class=\"row_heading level0 row1\" >1</th>\n",
              "      <td id=\"T_0952d_row1_col0\" class=\"data row1 col0\" >1989.78</td>\n",
              "      <td id=\"T_0952d_row1_col1\" class=\"data row1 col1\" >1</td>\n",
              "      <td id=\"T_0952d_row1_col2\" class=\"data row1 col2\" >1</td>\n",
              "      <td id=\"T_0952d_row1_col3\" class=\"data row1 col3\" >1</td>\n",
              "      <td id=\"T_0952d_row1_col4\" class=\"data row1 col4\" >1</td>\n",
              "      <td id=\"T_0952d_row1_col5\" class=\"data row1 col5\" >87.00</td>\n",
              "      <td id=\"T_0952d_row1_col6\" class=\"data row1 col6\" >1</td>\n",
              "      <td id=\"T_0952d_row1_col7\" class=\"data row1 col7\" >3</td>\n",
              "    </tr>\n",
              "    <tr>\n",
              "      <th id=\"T_0952d_level0_row2\" class=\"row_heading level0 row2\" >2</th>\n",
              "      <td id=\"T_0952d_row2_col0\" class=\"data row2 col0\" >3251.92</td>\n",
              "      <td id=\"T_0952d_row2_col1\" class=\"data row2 col1\" >0</td>\n",
              "      <td id=\"T_0952d_row2_col2\" class=\"data row2 col2\" >1</td>\n",
              "      <td id=\"T_0952d_row2_col3\" class=\"data row2 col3\" >1</td>\n",
              "      <td id=\"T_0952d_row2_col4\" class=\"data row2 col4\" >1</td>\n",
              "      <td id=\"T_0952d_row2_col5\" class=\"data row2 col5\" >43.00</td>\n",
              "      <td id=\"T_0952d_row2_col6\" class=\"data row2 col6\" >2</td>\n",
              "      <td id=\"T_0952d_row2_col7\" class=\"data row2 col7\" >2</td>\n",
              "    </tr>\n",
              "    <tr>\n",
              "      <th id=\"T_0952d_level0_row3\" class=\"row_heading level0 row3\" >3</th>\n",
              "      <td id=\"T_0952d_row3_col0\" class=\"data row3 col0\" >1840.81</td>\n",
              "      <td id=\"T_0952d_row3_col1\" class=\"data row3 col1\" >0</td>\n",
              "      <td id=\"T_0952d_row3_col2\" class=\"data row3 col2\" >1</td>\n",
              "      <td id=\"T_0952d_row3_col3\" class=\"data row3 col3\" >1</td>\n",
              "      <td id=\"T_0952d_row3_col4\" class=\"data row3 col4\" >0</td>\n",
              "      <td id=\"T_0952d_row3_col5\" class=\"data row3 col5\" >68.00</td>\n",
              "      <td id=\"T_0952d_row3_col6\" class=\"data row3 col6\" >0</td>\n",
              "      <td id=\"T_0952d_row3_col7\" class=\"data row3 col7\" >0</td>\n",
              "    </tr>\n",
              "    <tr>\n",
              "      <th id=\"T_0952d_level0_row4\" class=\"row_heading level0 row4\" >4</th>\n",
              "      <td id=\"T_0952d_row4_col0\" class=\"data row4 col0\" >4428.10</td>\n",
              "      <td id=\"T_0952d_row4_col1\" class=\"data row4 col1\" >0</td>\n",
              "      <td id=\"T_0952d_row4_col2\" class=\"data row4 col2\" >1</td>\n",
              "      <td id=\"T_0952d_row4_col3\" class=\"data row4 col3\" >1</td>\n",
              "      <td id=\"T_0952d_row4_col4\" class=\"data row4 col4\" >1</td>\n",
              "      <td id=\"T_0952d_row4_col5\" class=\"data row4 col5\" >90.00</td>\n",
              "      <td id=\"T_0952d_row4_col6\" class=\"data row4 col6\" >3</td>\n",
              "      <td id=\"T_0952d_row4_col7\" class=\"data row4 col7\" >1</td>\n",
              "    </tr>\n",
              "    <tr>\n",
              "      <th id=\"T_0952d_level0_row5\" class=\"row_heading level0 row5\" >5</th>\n",
              "      <td id=\"T_0952d_row5_col0\" class=\"data row5 col0\" >2038.12</td>\n",
              "      <td id=\"T_0952d_row5_col1\" class=\"data row5 col1\" >0</td>\n",
              "      <td id=\"T_0952d_row5_col2\" class=\"data row5 col2\" >1</td>\n",
              "      <td id=\"T_0952d_row5_col3\" class=\"data row5 col3\" >1</td>\n",
              "      <td id=\"T_0952d_row5_col4\" class=\"data row5 col4\" >0</td>\n",
              "      <td id=\"T_0952d_row5_col5\" class=\"data row5 col5\" >73.00</td>\n",
              "      <td id=\"T_0952d_row5_col6\" class=\"data row5 col6\" >0</td>\n",
              "      <td id=\"T_0952d_row5_col7\" class=\"data row5 col7\" >3</td>\n",
              "    </tr>\n",
              "    <tr>\n",
              "      <th id=\"T_0952d_level0_row6\" class=\"row_heading level0 row6\" >6</th>\n",
              "      <td id=\"T_0952d_row6_col0\" class=\"data row6 col0\" >2003.14</td>\n",
              "      <td id=\"T_0952d_row6_col1\" class=\"data row6 col1\" >1</td>\n",
              "      <td id=\"T_0952d_row6_col2\" class=\"data row6 col2\" >0</td>\n",
              "      <td id=\"T_0952d_row6_col3\" class=\"data row6 col3\" >1</td>\n",
              "      <td id=\"T_0952d_row6_col4\" class=\"data row6 col4\" >0</td>\n",
              "      <td id=\"T_0952d_row6_col5\" class=\"data row6 col5\" >81.00</td>\n",
              "      <td id=\"T_0952d_row6_col6\" class=\"data row6 col6\" >2</td>\n",
              "      <td id=\"T_0952d_row6_col7\" class=\"data row6 col7\" >0</td>\n",
              "    </tr>\n",
              "    <tr>\n",
              "      <th id=\"T_0952d_level0_row7\" class=\"row_heading level0 row7\" >7</th>\n",
              "      <td id=\"T_0952d_row7_col0\" class=\"data row7 col0\" >2962.41</td>\n",
              "      <td id=\"T_0952d_row7_col1\" class=\"data row7 col1\" >0</td>\n",
              "      <td id=\"T_0952d_row7_col2\" class=\"data row7 col2\" >1</td>\n",
              "      <td id=\"T_0952d_row7_col3\" class=\"data row7 col3\" >0</td>\n",
              "      <td id=\"T_0952d_row7_col4\" class=\"data row7 col4\" >1</td>\n",
              "      <td id=\"T_0952d_row7_col5\" class=\"data row7 col5\" >84.00</td>\n",
              "      <td id=\"T_0952d_row7_col6\" class=\"data row7 col6\" >1</td>\n",
              "      <td id=\"T_0952d_row7_col7\" class=\"data row7 col7\" >1</td>\n",
              "    </tr>\n",
              "    <tr>\n",
              "      <th id=\"T_0952d_level0_row8\" class=\"row_heading level0 row8\" >8</th>\n",
              "      <td id=\"T_0952d_row8_col0\" class=\"data row8 col0\" >2068.87</td>\n",
              "      <td id=\"T_0952d_row8_col1\" class=\"data row8 col1\" >0</td>\n",
              "      <td id=\"T_0952d_row8_col2\" class=\"data row8 col2\" >1</td>\n",
              "      <td id=\"T_0952d_row8_col3\" class=\"data row8 col3\" >0</td>\n",
              "      <td id=\"T_0952d_row8_col4\" class=\"data row8 col4\" >0</td>\n",
              "      <td id=\"T_0952d_row8_col5\" class=\"data row8 col5\" >55.00</td>\n",
              "      <td id=\"T_0952d_row8_col6\" class=\"data row8 col6\" >0</td>\n",
              "      <td id=\"T_0952d_row8_col7\" class=\"data row8 col7\" >3</td>\n",
              "    </tr>\n",
              "    <tr>\n",
              "      <th id=\"T_0952d_level0_row9\" class=\"row_heading level0 row9\" >9</th>\n",
              "      <td id=\"T_0952d_row9_col0\" class=\"data row9 col0\" >5676.02</td>\n",
              "      <td id=\"T_0952d_row9_col1\" class=\"data row9 col1\" >0</td>\n",
              "      <td id=\"T_0952d_row9_col2\" class=\"data row9 col2\" >1</td>\n",
              "      <td id=\"T_0952d_row9_col3\" class=\"data row9 col3\" >1</td>\n",
              "      <td id=\"T_0952d_row9_col4\" class=\"data row9 col4\" >1</td>\n",
              "      <td id=\"T_0952d_row9_col5\" class=\"data row9 col5\" >64.00</td>\n",
              "      <td id=\"T_0952d_row9_col6\" class=\"data row9 col6\" >3</td>\n",
              "      <td id=\"T_0952d_row9_col7\" class=\"data row9 col7\" >0</td>\n",
              "    </tr>\n",
              "  </tbody>\n",
              "</table>\n"
            ]
          },
          "metadata": {},
          "execution_count": 218
        }
      ],
      "source": [
        "df_bn = df.loc[:, df.columns.drop(['age', 'income'])]\n",
        "df_bn.head(10).style.format(precision = 2)"
      ]
    },
    {
      "cell_type": "code",
      "execution_count": 219,
      "metadata": {
        "colab": {
          "base_uri": "https://localhost:8080/"
        },
        "collapsed": true,
        "id": "g6YLMZnfjWf7",
        "outputId": "d3fed635-fc60-4c4e-d60c-806463e77518"
      },
      "outputs": [
        {
          "output_type": "stream",
          "name": "stdout",
          "text": [
            "[bnlearn] >Removing columns from dataframe to make consistent with DAG [['weight' 'genes']]\n",
            "[bnlearn] >Parameter learning> Computing parameters using [ml]\n",
            "[bnlearn] >CPD of married:\n",
            "+------------+--------+\n",
            "| married(0) | 0.2447 |\n",
            "+------------+--------+\n",
            "| married(1) | 0.7553 |\n",
            "+------------+--------+\n",
            "[bnlearn] >CPD of smoking:\n",
            "+-----------------+--------------------+-----+--------------------+----------------------+\n",
            "| age_bin         | age_bin(0)         | ... | age_bin(3)         | age_bin(3)           |\n",
            "+-----------------+--------------------+-----+--------------------+----------------------+\n",
            "| full_term       | full_term(0)       | ... | full_term(1)       | full_term(1)         |\n",
            "+-----------------+--------------------+-----+--------------------+----------------------+\n",
            "| income_bin      | income_bin(0)      | ... | income_bin(3)      | income_bin(3)        |\n",
            "+-----------------+--------------------+-----+--------------------+----------------------+\n",
            "| married         | married(0)         | ... | married(1)         | married(1)           |\n",
            "+-----------------+--------------------+-----+--------------------+----------------------+\n",
            "| smoking_friends | smoking_friends(0) | ... | smoking_friends(0) | smoking_friends(1)   |\n",
            "+-----------------+--------------------+-----+--------------------+----------------------+\n",
            "| smoking(0)      | 0.0                | ... | 0.5                | 0.9885057471264368   |\n",
            "+-----------------+--------------------+-----+--------------------+----------------------+\n",
            "| smoking(1)      | 1.0                | ... | 0.5                | 0.011494252873563218 |\n",
            "+-----------------+--------------------+-----+--------------------+----------------------+\n",
            "[bnlearn] >CPD of full_term:\n",
            "+--------------+--------+\n",
            "| full_term(0) | 0.1026 |\n",
            "+--------------+--------+\n",
            "| full_term(1) | 0.8974 |\n",
            "+--------------+--------+\n",
            "[bnlearn] >CPD of income_bin:\n",
            "+---------------+--------+\n",
            "| income_bin(0) | 0.2513 |\n",
            "+---------------+--------+\n",
            "| income_bin(1) | 0.2514 |\n",
            "+---------------+--------+\n",
            "| income_bin(2) | 0.2533 |\n",
            "+---------------+--------+\n",
            "| income_bin(3) | 0.244  |\n",
            "+---------------+--------+\n",
            "[bnlearn] >CPD of age_bin:\n",
            "+------------+--------+\n",
            "| age_bin(0) | 0.2596 |\n",
            "+------------+--------+\n",
            "| age_bin(1) | 0.2626 |\n",
            "+------------+--------+\n",
            "| age_bin(2) | 0.2591 |\n",
            "+------------+--------+\n",
            "| age_bin(3) | 0.2187 |\n",
            "+------------+--------+\n",
            "[bnlearn] >CPD of smoking_friends:\n",
            "+--------------------+--------+\n",
            "| smoking_friends(0) | 0.2435 |\n",
            "+--------------------+--------+\n",
            "| smoking_friends(1) | 0.7565 |\n",
            "+--------------------+--------+\n",
            "[bnlearn] >Compute structure scores for model comparison (higher is better).\n"
          ]
        }
      ],
      "source": [
        "# Оценим факторы\n",
        "bn = bnlearn.parameter_learning.fit(DAG, df_bn, methodtype = 'ml')"
      ]
    },
    {
      "cell_type": "code",
      "execution_count": 220,
      "metadata": {
        "colab": {
          "base_uri": "https://localhost:8080/",
          "height": 884
        },
        "collapsed": true,
        "id": "ipUi0pnNkBXq",
        "outputId": "991e83e0-5c31-4c46-b3e9-6195015554de"
      },
      "outputs": [
        {
          "output_type": "stream",
          "name": "stdout",
          "text": [
            "[bnlearn] >Set node properties.\n",
            "[bnlearn] >Set edge properties.\n",
            "[bnlearn] >Plot based on Bayesian model\n"
          ]
        },
        {
          "output_type": "display_data",
          "data": {
            "text/plain": [
              "<Figure size 1500x1000 with 1 Axes>"
            ],
            "image/png": "[encoded data removed]"
          },
          "metadata": {}
        }
      ],
      "source": [
        "# Визуализируем DAG\n",
        "bnlearn.plot(bn, interactive = False)\n",
        "plt.show()"
      ]
    },
    {
      "cell_type": "code",
      "execution_count": 222,
      "metadata": {
        "colab": {
          "base_uri": "https://localhost:8080/"
        },
        "id": "36XIn4XsFwfC",
        "outputId": "0e512ca8-b706-46a1-c833-69b360c3ecf3"
      },
      "outputs": [
        {
          "output_type": "stream",
          "name": "stdout",
          "text": [
            "[bnlearn]> Remaining columns for inference: 5\n"
          ]
        },
        {
          "output_type": "stream",
          "name": "stderr",
          "text": [
            "100%|██████████| 106/106 [00:00<00:00, 540.14it/s]\n"
          ]
        }
      ],
      "source": [
        "# Оценим условные вероятности курения\n",
        "predict_bn = bnlearn.predict(bn, df = features_nb, variables = [\"smoking\"])"
      ]
    },
    {
      "cell_type": "code",
      "execution_count": 223,
      "metadata": {
        "id": "tviRjezuFwiU"
      },
      "outputs": [],
      "source": [
        "# Достанем прогнозы\n",
        "prediction_bn = predict_bn.loc[:, \"smoking\"]\n",
        "\n",
        "# Достанем оценки условных вероятностей smoking\n",
        "# с учетом того, что изначально мы имеем лишь вероятности\n",
        "# наиболее вероятных категорий\n",
        "prob_nb = np.zeros(len(predict_bn.loc[:, \"p\"]))\n",
        "prob_nb[prediction_bn == 0] = 1 - predict_bn.loc[prediction_bn == 0, \"p\"]\n",
        "prob_nb[prediction_bn == 1] = predict_bn.loc[prediction_bn == 1, \"p\"]"
      ]
    },
    {
      "cell_type": "code",
      "execution_count": 224,
      "metadata": {
        "colab": {
          "base_uri": "https://localhost:8080/"
        },
        "id": "G6UpT2d7Fw16",
        "outputId": "4a35f08a-781a-45eb-d53a-b94e8bef470e"
      },
      "outputs": [
        {
          "output_type": "stream",
          "name": "stdout",
          "text": [
            "                     ACC\n",
            "Байесовская сеть  0.8364\n"
          ]
        }
      ],
      "source": [
        "# Оценим точность на обучающей выборке\n",
        "ACC_bn = np.mean(target == prediction_bn)\n",
        "\n",
        "# Сравнение точностей на обучающей выборке\n",
        "print(pd.DataFrame(data    = [ACC_bn],\n",
        "                   index   = ['Байесовская сеть'],\n",
        "                   columns = ['ACC']))"
      ]
    },
    {
      "cell_type": "markdown",
      "metadata": {
        "id": "yp7yfXn4qMHu"
      },
      "source": [
        "**Проверка точности Байесовской сети на тестовой выборке**"
      ]
    },
    {
      "cell_type": "markdown",
      "metadata": {
        "id": "kuKFdcv2KL77"
      },
      "source": [
        "**Цели** ⭐\n",
        "\n",
        "*   Разбить выборку на обучающую и тестовую.\n",
        "*   Обучить байесовскую сеть на обучающей выборке.\n",
        "*   Спрогнозировать вероятность курения на тестовой выборке, используя байесовскую сеть, обученную на обучающей выборке.\n",
        "*   Оценить точность прогнозов $\\text{ACC}$ байесовской сети на тестовой выборке."
      ]
    },
    {
      "cell_type": "code",
      "execution_count": 225,
      "metadata": {
        "id": "Ar9i2cDjC9sm"
      },
      "outputs": [],
      "source": [
        "features_train, features_test, target_train, target_test = train_test_split(\n",
        "    features, target, test_size = 0.2, random_state = 777)"
      ]
    },
    {
      "cell_type": "code",
      "execution_count": 226,
      "metadata": {
        "colab": {
          "base_uri": "https://localhost:8080/",
          "height": 206
        },
        "id": "MCQbtDPQPLxA",
        "outputId": "a7b3e1ad-02df-4c58-a737-e42d9839bfb3"
      },
      "outputs": [
        {
          "output_type": "execute_result",
          "data": {
            "text/plain": [
              "      married  full_term  smoking_friends income_bin age_bin  smoking\n",
              "8490        1          1                1          2       1        0\n",
              "9788        1          1                1          1       2        0\n",
              "5967        1          0                1          3       0        0\n",
              "7519        1          1                1          3       3        0\n",
              "8614        1          1                1          2       0        0"
            ],
            "text/html": [
              "\n",
              "  <div id=\"df-b970f829-99bf-41fa-8093-6df861c644ae\" class=\"colab-df-container\">\n",
              "    <div>\n",
              "<style scoped>\n",
              "    .dataframe tbody tr th:only-of-type {\n",
              "        vertical-align: middle;\n",
              "    }\n",
              "\n",
              "    .dataframe tbody tr th {\n",
              "        vertical-align: top;\n",
              "    }\n",
              "\n",
              "    .dataframe thead th {\n",
              "        text-align: right;\n",
              "    }\n",
              "</style>\n",
              "<table border=\"1\" class=\"dataframe\">\n",
              "  <thead>\n",
              "    <tr style=\"text-align: right;\">\n",
              "      <th></th>\n",
              "      <th>married</th>\n",
              "      <th>full_term</th>\n",
              "      <th>smoking_friends</th>\n",
              "      <th>income_bin</th>\n",
              "      <th>age_bin</th>\n",
              "      <th>smoking</th>\n",
              "    </tr>\n",
              "  </thead>\n",
              "  <tbody>\n",
              "    <tr>\n",
              "      <th>8490</th>\n",
              "      <td>1</td>\n",
              "      <td>1</td>\n",
              "      <td>1</td>\n",
              "      <td>2</td>\n",
              "      <td>1</td>\n",
              "      <td>0</td>\n",
              "    </tr>\n",
              "    <tr>\n",
              "      <th>9788</th>\n",
              "      <td>1</td>\n",
              "      <td>1</td>\n",
              "      <td>1</td>\n",
              "      <td>1</td>\n",
              "      <td>2</td>\n",
              "      <td>0</td>\n",
              "    </tr>\n",
              "    <tr>\n",
              "      <th>5967</th>\n",
              "      <td>1</td>\n",
              "      <td>0</td>\n",
              "      <td>1</td>\n",
              "      <td>3</td>\n",
              "      <td>0</td>\n",
              "      <td>0</td>\n",
              "    </tr>\n",
              "    <tr>\n",
              "      <th>7519</th>\n",
              "      <td>1</td>\n",
              "      <td>1</td>\n",
              "      <td>1</td>\n",
              "      <td>3</td>\n",
              "      <td>3</td>\n",
              "      <td>0</td>\n",
              "    </tr>\n",
              "    <tr>\n",
              "      <th>8614</th>\n",
              "      <td>1</td>\n",
              "      <td>1</td>\n",
              "      <td>1</td>\n",
              "      <td>2</td>\n",
              "      <td>0</td>\n",
              "      <td>0</td>\n",
              "    </tr>\n",
              "  </tbody>\n",
              "</table>\n",
              "</div>\n",
              "    <div class=\"colab-df-buttons\">\n",
              "\n",
              "  <div class=\"colab-df-container\">\n",
              "    <button class=\"colab-df-convert\" onclick=\"convertToInteractive('df-b970f829-99bf-41fa-8093-6df861c644ae')\"\n",
              "            title=\"Convert this dataframe to an interactive table.\"\n",
              "            style=\"display:none;\">\n",
              "\n",
              "  <svg xmlns=\"http://www.w3.org/2000/svg\" height=\"24px\" viewBox=\"0 -960 960 960\">\n",
              "    <path d=\"M120-120v-720h720v720H120Zm60-500h600v-160H180v160Zm220 220h160v-160H400v160Zm0 220h160v-160H400v160ZM180-400h160v-160H180v160Zm440 0h160v-160H620v160ZM180-180h160v-160H180v160Zm440 0h160v-160H620v160Z\"/>\n",
              "  </svg>\n",
              "    </button>\n",
              "\n",
              "  <style>\n",
              "    .colab-df-container {\n",
              "      display:flex;\n",
              "      gap: 12px;\n",
              "    }\n",
              "\n",
              "    .colab-df-convert {\n",
              "      background-color: #E8F0FE;\n",
              "      border: none;\n",
              "      border-radius: 50%;\n",
              "      cursor: pointer;\n",
              "      display: none;\n",
              "      fill: #1967D2;\n",
              "      height: 32px;\n",
              "      padding: 0 0 0 0;\n",
              "      width: 32px;\n",
              "    }\n",
              "\n",
              "    .colab-df-convert:hover {\n",
              "      background-color: #E2EBFA;\n",
              "      box-shadow: 0px 1px 2px rgba(60, 64, 67, 0.3), 0px 1px 3px 1px rgba(60, 64, 67, 0.15);\n",
              "      fill: #174EA6;\n",
              "    }\n",
              "\n",
              "    .colab-df-buttons div {\n",
              "      margin-bottom: 4px;\n",
              "    }\n",
              "\n",
              "    [theme=dark] .colab-df-convert {\n",
              "      background-color: #3B4455;\n",
              "      fill: #D2E3FC;\n",
              "    }\n",
              "\n",
              "    [theme=dark] .colab-df-convert:hover {\n",
              "      background-color: #434B5C;\n",
              "      box-shadow: 0px 1px 3px 1px rgba(0, 0, 0, 0.15);\n",
              "      filter: drop-shadow(0px 1px 2px rgba(0, 0, 0, 0.3));\n",
              "      fill: #FFFFFF;\n",
              "    }\n",
              "  </style>\n",
              "\n",
              "    <script>\n",
              "      const buttonEl =\n",
              "        document.querySelector('#df-b970f829-99bf-41fa-8093-6df861c644ae button.colab-df-convert');\n",
              "      buttonEl.style.display =\n",
              "        google.colab.kernel.accessAllowed ? 'block' : 'none';\n",
              "\n",
              "      async function convertToInteractive(key) {\n",
              "        const element = document.querySelector('#df-b970f829-99bf-41fa-8093-6df861c644ae');\n",
              "        const dataTable =\n",
              "          await google.colab.kernel.invokeFunction('convertToInteractive',\n",
              "                                                    [key], {});\n",
              "        if (!dataTable) return;\n",
              "\n",
              "        const docLinkHtml = 'Like what you see? Visit the ' +\n",
              "          '<a target=\"_blank\" href=https://colab.research.google.com/notebooks/data_table.ipynb>data table notebook</a>'\n",
              "          + ' to learn more about interactive tables.';\n",
              "        element.innerHTML = '';\n",
              "        dataTable['output_type'] = 'display_data';\n",
              "        await google.colab.output.renderOutput(dataTable, element);\n",
              "        const docLink = document.createElement('div');\n",
              "        docLink.innerHTML = docLinkHtml;\n",
              "        element.appendChild(docLink);\n",
              "      }\n",
              "    </script>\n",
              "  </div>\n",
              "\n",
              "\n",
              "<div id=\"df-ddcde990-b496-43e1-a7b7-a056e4863477\">\n",
              "  <button class=\"colab-df-quickchart\" onclick=\"quickchart('df-ddcde990-b496-43e1-a7b7-a056e4863477')\"\n",
              "            title=\"Suggest charts\"\n",
              "            style=\"display:none;\">\n",
              "\n",
              "<svg xmlns=\"http://www.w3.org/2000/svg\" height=\"24px\"viewBox=\"0 0 24 24\"\n",
              "     width=\"24px\">\n",
              "    <g>\n",
              "        <path d=\"M19 3H5c-1.1 0-2 .9-2 2v14c0 1.1.9 2 2 2h14c1.1 0 2-.9 2-2V5c0-1.1-.9-2-2-2zM9 17H7v-7h2v7zm4 0h-2V7h2v10zm4 0h-2v-4h2v4z\"/>\n",
              "    </g>\n",
              "</svg>\n",
              "  </button>\n",
              "\n",
              "<style>\n",
              "  .colab-df-quickchart {\n",
              "      --bg-color: #E8F0FE;\n",
              "      --fill-color: #1967D2;\n",
              "      --hover-bg-color: #E2EBFA;\n",
              "      --hover-fill-color: #174EA6;\n",
              "      --disabled-fill-color: #AAA;\n",
              "      --disabled-bg-color: #DDD;\n",
              "  }\n",
              "\n",
              "  [theme=dark] .colab-df-quickchart {\n",
              "      --bg-color: #3B4455;\n",
              "      --fill-color: #D2E3FC;\n",
              "      --hover-bg-color: #434B5C;\n",
              "      --hover-fill-color: #FFFFFF;\n",
              "      --disabled-bg-color: #3B4455;\n",
              "      --disabled-fill-color: #666;\n",
              "  }\n",
              "\n",
              "  .colab-df-quickchart {\n",
              "    background-color: var(--bg-color);\n",
              "    border: none;\n",
              "    border-radius: 50%;\n",
              "    cursor: pointer;\n",
              "    display: none;\n",
              "    fill: var(--fill-color);\n",
              "    height: 32px;\n",
              "    padding: 0;\n",
              "    width: 32px;\n",
              "  }\n",
              "\n",
              "  .colab-df-quickchart:hover {\n",
              "    background-color: var(--hover-bg-color);\n",
              "    box-shadow: 0 1px 2px rgba(60, 64, 67, 0.3), 0 1px 3px 1px rgba(60, 64, 67, 0.15);\n",
              "    fill: var(--button-hover-fill-color);\n",
              "  }\n",
              "\n",
              "  .colab-df-quickchart-complete:disabled,\n",
              "  .colab-df-quickchart-complete:disabled:hover {\n",
              "    background-color: var(--disabled-bg-color);\n",
              "    fill: var(--disabled-fill-color);\n",
              "    box-shadow: none;\n",
              "  }\n",
              "\n",
              "  .colab-df-spinner {\n",
              "    border: 2px solid var(--fill-color);\n",
              "    border-color: transparent;\n",
              "    border-bottom-color: var(--fill-color);\n",
              "    animation:\n",
              "      spin 1s steps(1) infinite;\n",
              "  }\n",
              "\n",
              "  @keyframes spin {\n",
              "    0% {\n",
              "      border-color: transparent;\n",
              "      border-bottom-color: var(--fill-color);\n",
              "      border-left-color: var(--fill-color);\n",
              "    }\n",
              "    20% {\n",
              "      border-color: transparent;\n",
              "      border-left-color: var(--fill-color);\n",
              "      border-top-color: var(--fill-color);\n",
              "    }\n",
              "    30% {\n",
              "      border-color: transparent;\n",
              "      border-left-color: var(--fill-color);\n",
              "      border-top-color: var(--fill-color);\n",
              "      border-right-color: var(--fill-color);\n",
              "    }\n",
              "    40% {\n",
              "      border-color: transparent;\n",
              "      border-right-color: var(--fill-color);\n",
              "      border-top-color: var(--fill-color);\n",
              "    }\n",
              "    60% {\n",
              "      border-color: transparent;\n",
              "      border-right-color: var(--fill-color);\n",
              "    }\n",
              "    80% {\n",
              "      border-color: transparent;\n",
              "      border-right-color: var(--fill-color);\n",
              "      border-bottom-color: var(--fill-color);\n",
              "    }\n",
              "    90% {\n",
              "      border-color: transparent;\n",
              "      border-bottom-color: var(--fill-color);\n",
              "    }\n",
              "  }\n",
              "</style>\n",
              "\n",
              "  <script>\n",
              "    async function quickchart(key) {\n",
              "      const quickchartButtonEl =\n",
              "        document.querySelector('#' + key + ' button');\n",
              "      quickchartButtonEl.disabled = true;  // To prevent multiple clicks.\n",
              "      quickchartButtonEl.classList.add('colab-df-spinner');\n",
              "      try {\n",
              "        const charts = await google.colab.kernel.invokeFunction(\n",
              "            'suggestCharts', [key], {});\n",
              "      } catch (error) {\n",
              "        console.error('Error during call to suggestCharts:', error);\n",
              "      }\n",
              "      quickchartButtonEl.classList.remove('colab-df-spinner');\n",
              "      quickchartButtonEl.classList.add('colab-df-quickchart-complete');\n",
              "    }\n",
              "    (() => {\n",
              "      let quickchartButtonEl =\n",
              "        document.querySelector('#df-ddcde990-b496-43e1-a7b7-a056e4863477 button');\n",
              "      quickchartButtonEl.style.display =\n",
              "        google.colab.kernel.accessAllowed ? 'block' : 'none';\n",
              "    })();\n",
              "  </script>\n",
              "</div>\n",
              "    </div>\n",
              "  </div>\n"
            ],
            "application/vnd.google.colaboratory.intrinsic+json": {
              "type": "dataframe",
              "variable_name": "df_train",
              "summary": "{\n  \"name\": \"df_train\",\n  \"rows\": 8000,\n  \"fields\": [\n    {\n      \"column\": \"married\",\n      \"properties\": {\n        \"dtype\": \"number\",\n        \"std\": 0,\n        \"min\": 0,\n        \"max\": 1,\n        \"num_unique_values\": 2,\n        \"samples\": [\n          0,\n          1\n        ],\n        \"semantic_type\": \"\",\n        \"description\": \"\"\n      }\n    },\n    {\n      \"column\": \"full_term\",\n      \"properties\": {\n        \"dtype\": \"number\",\n        \"std\": 0,\n        \"min\": 0,\n        \"max\": 1,\n        \"num_unique_values\": 2,\n        \"samples\": [\n          0,\n          1\n        ],\n        \"semantic_type\": \"\",\n        \"description\": \"\"\n      }\n    },\n    {\n      \"column\": \"smoking_friends\",\n      \"properties\": {\n        \"dtype\": \"number\",\n        \"std\": 0,\n        \"min\": 0,\n        \"max\": 1,\n        \"num_unique_values\": 2,\n        \"samples\": [\n          0,\n          1\n        ],\n        \"semantic_type\": \"\",\n        \"description\": \"\"\n      }\n    },\n    {\n      \"column\": \"income_bin\",\n      \"properties\": {\n        \"dtype\": \"category\",\n        \"num_unique_values\": 4,\n        \"samples\": [\n          1,\n          0\n        ],\n        \"semantic_type\": \"\",\n        \"description\": \"\"\n      }\n    },\n    {\n      \"column\": \"age_bin\",\n      \"properties\": {\n        \"dtype\": \"category\",\n        \"num_unique_values\": 4,\n        \"samples\": [\n          2,\n          3\n        ],\n        \"semantic_type\": \"\",\n        \"description\": \"\"\n      }\n    },\n    {\n      \"column\": \"smoking\",\n      \"properties\": {\n        \"dtype\": \"number\",\n        \"std\": 0,\n        \"min\": 0,\n        \"max\": 1,\n        \"num_unique_values\": 2,\n        \"samples\": [\n          1,\n          0\n        ],\n        \"semantic_type\": \"\",\n        \"description\": \"\"\n      }\n    }\n  ]\n}"
            }
          },
          "metadata": {},
          "execution_count": 226
        }
      ],
      "source": [
        "# Поскольку для обучения Байесовской сети нужно подавать сразу все\n",
        "# данные, без разбиения на признаки и целевую переменную, агрегируем\n",
        "# их в единный датафрейм\n",
        "df_train = features_nb_train.copy()\n",
        "df_train[\"smoking\"] = target_train\n",
        "df_train.head(5)"
      ]
    },
    {
      "cell_type": "code",
      "execution_count": 227,
      "metadata": {
        "colab": {
          "base_uri": "https://localhost:8080/"
        },
        "collapsed": true,
        "id": "KOsoPvElqU0u",
        "outputId": "3ca9bb29-61ed-44a2-b0d6-52eb8d24380c"
      },
      "outputs": [
        {
          "output_type": "stream",
          "name": "stderr",
          "text": [
            "[datazets] >WARNING> Replacing existing CPD for married\n",
            "[datazets] >WARNING> Replacing existing CPD for smoking\n",
            "[datazets] >WARNING> Replacing existing CPD for full_term\n",
            "[datazets] >WARNING> Replacing existing CPD for income_bin\n",
            "[datazets] >WARNING> Replacing existing CPD for age_bin\n",
            "[datazets] >WARNING> Replacing existing CPD for smoking_friends\n"
          ]
        },
        {
          "output_type": "stream",
          "name": "stdout",
          "text": [
            "[bnlearn] >Parameter learning> Computing parameters using [ml]\n",
            "[bnlearn] >CPD of married:\n",
            "+------------+---------+\n",
            "| married(0) | 0.24625 |\n",
            "+------------+---------+\n",
            "| married(1) | 0.75375 |\n",
            "+------------+---------+\n",
            "[bnlearn] >CPD of smoking:\n",
            "+-----------------+--------------------+-----+--------------------+----------------------+\n",
            "| age_bin         | age_bin(0)         | ... | age_bin(3)         | age_bin(3)           |\n",
            "+-----------------+--------------------+-----+--------------------+----------------------+\n",
            "| full_term       | full_term(0)       | ... | full_term(1)       | full_term(1)         |\n",
            "+-----------------+--------------------+-----+--------------------+----------------------+\n",
            "| income_bin      | income_bin(0)      | ... | income_bin(3)      | income_bin(3)        |\n",
            "+-----------------+--------------------+-----+--------------------+----------------------+\n",
            "| married         | married(0)         | ... | married(1)         | married(1)           |\n",
            "+-----------------+--------------------+-----+--------------------+----------------------+\n",
            "| smoking_friends | smoking_friends(0) | ... | smoking_friends(0) | smoking_friends(1)   |\n",
            "+-----------------+--------------------+-----+--------------------+----------------------+\n",
            "| smoking(0)      | 0.5                | ... | 0.5                | 0.985663082437276    |\n",
            "+-----------------+--------------------+-----+--------------------+----------------------+\n",
            "| smoking(1)      | 0.5                | ... | 0.5                | 0.014336917562724014 |\n",
            "+-----------------+--------------------+-----+--------------------+----------------------+\n",
            "[bnlearn] >CPD of full_term:\n",
            "+--------------+----------+\n",
            "| full_term(0) | 0.104375 |\n",
            "+--------------+----------+\n",
            "| full_term(1) | 0.895625 |\n",
            "+--------------+----------+\n",
            "[bnlearn] >CPD of income_bin:\n",
            "+---------------+----------+\n",
            "| income_bin(0) | 0.2505   |\n",
            "+---------------+----------+\n",
            "| income_bin(1) | 0.254375 |\n",
            "+---------------+----------+\n",
            "| income_bin(2) | 0.2515   |\n",
            "+---------------+----------+\n",
            "| income_bin(3) | 0.243625 |\n",
            "+---------------+----------+\n",
            "[bnlearn] >CPD of age_bin:\n",
            "+------------+----------+\n",
            "| age_bin(0) | 0.26125  |\n",
            "+------------+----------+\n",
            "| age_bin(1) | 0.264375 |\n",
            "+------------+----------+\n",
            "| age_bin(2) | 0.259125 |\n",
            "+------------+----------+\n",
            "| age_bin(3) | 0.21525  |\n",
            "+------------+----------+\n",
            "[bnlearn] >CPD of smoking_friends:\n",
            "+--------------------+----------+\n",
            "| smoking_friends(0) | 0.244875 |\n",
            "+--------------------+----------+\n",
            "| smoking_friends(1) | 0.755125 |\n",
            "+--------------------+----------+\n",
            "[bnlearn] >Compute structure scores for model comparison (higher is better).\n"
          ]
        }
      ],
      "source": [
        "# Оценим параметры модели на обучающей выборке\n",
        "bn_train = bnlearn.parameter_learning.fit(DAG, df_train, methodtype = 'ml')"
      ]
    },
    {
      "cell_type": "code",
      "execution_count": 228,
      "metadata": {
        "colab": {
          "base_uri": "https://localhost:8080/"
        },
        "id": "5qbvrj7vM906",
        "outputId": "b94f3aa4-f2da-44af-a414-ae690b511522"
      },
      "outputs": [
        {
          "output_type": "stream",
          "name": "stdout",
          "text": [
            "[bnlearn]> Remaining columns for inference: 5\n"
          ]
        },
        {
          "output_type": "stream",
          "name": "stderr",
          "text": [
            "100%|██████████| 95/95 [00:00<00:00, 559.70it/s]\n"
          ]
        }
      ],
      "source": [
        "# Получим прогнозы по тестовой выборке\n",
        "predict_bn_test = bnlearn.predict(bn, df = features_nb_test,\n",
        "                                     variables = [\"smoking\"])\n",
        "prediction_bn_test = np.array(predict_bn_test.loc[:, \"smoking\"])"
      ]
    },
    {
      "cell_type": "code",
      "execution_count": 229,
      "metadata": {
        "colab": {
          "base_uri": "https://localhost:8080/"
        },
        "id": "VGxJd_7JqXAd",
        "outputId": "4e32dc66-a1c9-4745-e0f2-6fc2c5bfe3b0"
      },
      "outputs": [
        {
          "output_type": "stream",
          "name": "stdout",
          "text": [
            "                      ACC\n",
            "Обучающая выборка  0.8364\n",
            "Тестовая выборка   0.8275\n"
          ]
        }
      ],
      "source": [
        "# Оценим точность прогноза по тестовой выборке и сравним\n",
        "# с внутривыборочным прогнозом\n",
        "ACC_bn_test = np.mean(target_test == prediction_bn_test)\n",
        "\n",
        "# Сравнение точностей на обучающей и тестовой выборках\n",
        "print(pd.DataFrame(data    = [ACC_bn, ACC_bn_test],\n",
        "                   index   = ['Обучающая выборка',\n",
        "                              'Тестовая выборка'],\n",
        "                   columns = ['ACC']))"
      ]
    },
    {
      "cell_type": "markdown",
      "metadata": {
        "id": "JFi81P5jrv6G"
      },
      "source": [
        "**Обучение структуры Байесовской сети** 🐱"
      ]
    },
    {
      "cell_type": "markdown",
      "metadata": {
        "id": "D827M7JDLBH2"
      },
      "source": [
        "**Цели** ⭐\n",
        "\n",
        "*   Подобрать оптимальный DAG.\n",
        "*   Оценить байесовскую сеть с подобранным оптимальным DAG.\n",
        "*   Сравнить точность прогнозов $\\text{ACC}$ исходной байесовской сети (с DAG, сформированных исходя из теоретических соображений) и новой (с оптимальным DAG)."
      ]
    },
    {
      "cell_type": "code",
      "execution_count": 230,
      "metadata": {
        "colab": {
          "base_uri": "https://localhost:8080/"
        },
        "id": "4AqHz19er9WT",
        "outputId": "743a283c-4475-4afd-d5dd-6b833f567e07"
      },
      "outputs": [
        {
          "output_type": "stream",
          "name": "stdout",
          "text": [
            "[bnlearn] >Computing best DAG using [hc]\n",
            "[bnlearn] >Set scoring type at [aic]\n",
            "[bnlearn] >Compute structure scores for model comparison (higher is better).\n"
          ]
        }
      ],
      "source": [
        "# Подберем оптимальную структуру DAG на обучающей выборе\n",
        "bn2_train_structure = bnlearn.structure_learning.fit(df_train,\n",
        "                                                     methodtype = 'hc',\n",
        "                                                     scoretype  = 'aic')"
      ]
    },
    {
      "cell_type": "code",
      "execution_count": 231,
      "metadata": {
        "colab": {
          "base_uri": "https://localhost:8080/",
          "height": 884
        },
        "collapsed": true,
        "id": "3a3mrL5ssZ0X",
        "outputId": "2d42e30c-1bdb-4ff3-c2bd-5344fb874271"
      },
      "outputs": [
        {
          "output_type": "stream",
          "name": "stdout",
          "text": [
            "[bnlearn] >Set node properties.\n",
            "[bnlearn] >Set edge properties.\n",
            "[bnlearn] >Plot based on Bayesian model\n"
          ]
        },
        {
          "output_type": "display_data",
          "data": {
            "text/plain": [
              "<Figure size 1500x1000 with 1 Axes>"
            ],
            "image/png": "[encoded data removed]"
          },
          "metadata": {}
        }
      ],
      "source": [
        "# Посмотрим на результат\n",
        "bnlearn.plot(bn2_train_structure, interactive = False)\n",
        "plt.show()"
      ]
    },
    {
      "cell_type": "code",
      "execution_count": 232,
      "metadata": {
        "colab": {
          "base_uri": "https://localhost:8080/"
        },
        "id": "a6PmieKAsa8C",
        "outputId": "601951c2-6b55-4df2-c3de-c6b5f29feb46"
      },
      "outputs": [
        {
          "output_type": "stream",
          "name": "stdout",
          "text": [
            "[bnlearn] >No changes made to existing bayes DAG.\n"
          ]
        }
      ],
      "source": [
        "# Сохраним найденный DAG\n",
        "DAG2 = bnlearn.make_DAG(bn2_train_structure)"
      ]
    },
    {
      "cell_type": "code",
      "execution_count": 233,
      "metadata": {
        "colab": {
          "base_uri": "https://localhost:8080/"
        },
        "collapsed": true,
        "id": "XIx_YA1TscUg",
        "outputId": "dbf37846-4b38-4758-c136-690a9de456ec"
      },
      "outputs": [
        {
          "output_type": "stream",
          "name": "stdout",
          "text": [
            "[bnlearn] >Parameter learning> Computing parameters using [ml]\n",
            "[bnlearn] >Converting [<class 'pgmpy.base.DAG.DAG'>] to BayesianNetwork model.\n",
            "[bnlearn] >Converting adjmat to BayesianNetwork.\n",
            "[bnlearn] >CPD of married:\n",
            "+------------+---------------------+-----+---------------------+---------------------+\n",
            "| full_term  | full_term(0)        | ... | full_term(1)        | full_term(1)        |\n",
            "+------------+---------------------+-----+---------------------+---------------------+\n",
            "| income_bin | income_bin(0)       | ... | income_bin(3)       | income_bin(3)       |\n",
            "+------------+---------------------+-----+---------------------+---------------------+\n",
            "| smoking    | smoking(0)          | ... | smoking(0)          | smoking(1)          |\n",
            "+------------+---------------------+-----+---------------------+---------------------+\n",
            "| married(0) | 0.10897435897435898 | ... | 0.10041551246537396 | 0.9623287671232876  |\n",
            "+------------+---------------------+-----+---------------------+---------------------+\n",
            "| married(1) | 0.8910256410256411  | ... | 0.899584487534626   | 0.03767123287671233 |\n",
            "+------------+---------------------+-----+---------------------+---------------------+\n",
            "[bnlearn] >CPD of smoking_friends:\n",
            "+--------------------+---------------+-----+---------------------+---------------+\n",
            "| age_bin            | age_bin(0)    | ... | age_bin(3)          | age_bin(3)    |\n",
            "+--------------------+---------------+-----+---------------------+---------------+\n",
            "| full_term          | full_term(0)  | ... | full_term(1)        | full_term(1)  |\n",
            "+--------------------+---------------+-----+---------------------+---------------+\n",
            "| income_bin         | income_bin(0) | ... | income_bin(3)       | income_bin(3) |\n",
            "+--------------------+---------------+-----+---------------------+---------------+\n",
            "| married            | married(0)    | ... | married(0)          | married(1)    |\n",
            "+--------------------+---------------+-----+---------------------+---------------+\n",
            "| smoking_friends(0) | 0.0           | ... | 0.19540229885057472 | 0.0           |\n",
            "+--------------------+---------------+-----+---------------------+---------------+\n",
            "| smoking_friends(1) | 1.0           | ... | 0.8045977011494253  | 1.0           |\n",
            "+--------------------+---------------+-----+---------------------+---------------+\n",
            "[bnlearn] >CPD of full_term:\n",
            "+--------------+---------------------+---------------------+\n",
            "| smoking      | smoking(0)          | smoking(1)          |\n",
            "+--------------+---------------------+---------------------+\n",
            "| full_term(0) | 0.11035488575595527 | 0.08419901585565882 |\n",
            "+--------------+---------------------+---------------------+\n",
            "| full_term(1) | 0.8896451142440447  | 0.9158009841443412  |\n",
            "+--------------+---------------------+---------------------+\n",
            "[bnlearn] >CPD of income_bin:\n",
            "+---------------+----------+\n",
            "| income_bin(0) | 0.2505   |\n",
            "+---------------+----------+\n",
            "| income_bin(1) | 0.254375 |\n",
            "+---------------+----------+\n",
            "| income_bin(2) | 0.2515   |\n",
            "+---------------+----------+\n",
            "| income_bin(3) | 0.243625 |\n",
            "+---------------+----------+\n",
            "[bnlearn] >CPD of smoking:\n",
            "+------------+--------------------+--------------------+--------------------+--------------------+\n",
            "| income_bin | income_bin(0)      | income_bin(1)      | income_bin(2)      | income_bin(3)      |\n",
            "+------------+--------------------+--------------------+--------------------+--------------------+\n",
            "| smoking(0) | 0.6621756487025948 | 0.7651105651105651 | 0.8245526838966203 | 0.8353001539250898 |\n",
            "+------------+--------------------+--------------------+--------------------+--------------------+\n",
            "| smoking(1) | 0.3378243512974052 | 0.2348894348894349 | 0.1754473161033797 | 0.1646998460749102 |\n",
            "+------------+--------------------+--------------------+--------------------+--------------------+\n",
            "[bnlearn] >CPD of age_bin:\n",
            "+------------+----------+\n",
            "| age_bin(0) | 0.26125  |\n",
            "+------------+----------+\n",
            "| age_bin(1) | 0.264375 |\n",
            "+------------+----------+\n",
            "| age_bin(2) | 0.259125 |\n",
            "+------------+----------+\n",
            "| age_bin(3) | 0.21525  |\n",
            "+------------+----------+\n",
            "[bnlearn] >Compute structure scores for model comparison (higher is better).\n"
          ]
        }
      ],
      "source": [
        "# Оценим модель с подобранным DAG\n",
        "bn2_train = bnlearn.parameter_learning.fit(DAG2, df_train,\n",
        "                                           methodtype = 'ml')"
      ]
    },
    {
      "cell_type": "code",
      "execution_count": 234,
      "metadata": {
        "colab": {
          "base_uri": "https://localhost:8080/"
        },
        "id": "HveeSVnysdqZ",
        "outputId": "f4ee7c30-d515-475a-c438-2b4709b9a21e"
      },
      "outputs": [
        {
          "output_type": "stream",
          "name": "stdout",
          "text": [
            "[bnlearn]> Remaining columns for inference: 5\n"
          ]
        },
        {
          "output_type": "stream",
          "name": "stderr",
          "text": [
            "100%|██████████| 95/95 [00:00<00:00, 502.25it/s]\n"
          ]
        }
      ],
      "source": [
        "# Получим прогнозы по тестовой выборке\n",
        "predict_bn2_test = bnlearn.predict(bn2_train, df = features_nb_test,\n",
        "                                   variables = [\"smoking\"])\n",
        "prediction_bn2_test = np.array(predict_bn2_test.loc[:, \"smoking\"])"
      ]
    },
    {
      "cell_type": "code",
      "execution_count": 235,
      "metadata": {
        "colab": {
          "base_uri": "https://localhost:8080/"
        },
        "id": "4dgsocVssfED",
        "outputId": "473fdcd5-7d98-4d57-f9ba-ae3c713dc3de"
      },
      "outputs": [
        {
          "output_type": "stream",
          "name": "stdout",
          "text": [
            "                                  ACC-test\n",
            "Байесовская сеть с исходным DAG     0.8275\n",
            "Байесовская сеть с обученным DAG    0.8300\n"
          ]
        }
      ],
      "source": [
        "# Оценим точность прогноза по тестовой выборке\n",
        "ACC_bn2_test = np.mean(target_test == prediction_bn2_test)\n",
        "\n",
        "# Сравним точность Байесовской сети с\n",
        "# исходным и обученным DAG\n",
        "print(pd.DataFrame(data    = [ACC_bn_test, ACC_bn2_test],\n",
        "                   index   = ['Байесовская сеть с исходным DAG',\n",
        "                              'Байесовская сеть с обученным DAG'],\n",
        "                   columns = ['ACC-test']))"
      ]
    },
    {
      "cell_type": "markdown",
      "metadata": {
        "id": "39Dh7OBIppBK"
      },
      "source": [
        "Выберем лучший и худший классификатор по точности на тесте:"
      ]
    },
    {
      "cell_type": "code",
      "execution_count": 236,
      "metadata": {
        "colab": {
          "base_uri": "https://localhost:8080/"
        },
        "id": "KWou15skq5q3",
        "outputId": "fb67fc00-4a18-4b49-ac20-8d8ddde0d657"
      },
      "outputs": [
        {
          "output_type": "execute_result",
          "data": {
            "text/plain": [
              "NB     0.806\n",
              "kNN    0.802\n",
              "RF     0.826\n",
              "BN      0.83\n",
              "Name: Test_ACC_tuned, dtype: object"
            ]
          },
          "metadata": {},
          "execution_count": 236
        }
      ],
      "source": [
        "res1 = res['Test_ACC_tuned']\n",
        "res1['BN'] = ACC_bn2_test\n",
        "res1['NB'] = ACC_nb_test #так как в наивной баесовском не подбирали\n",
        "#гиперпараметры, заменим на простую точность на тестовой выборке\n",
        "res1"
      ]
    },
    {
      "cell_type": "markdown",
      "metadata": {
        "id": "9HSAYfUL4iBh"
      },
      "source": [
        "Так как мы не считали прибыль и AUC для байесовской сети, то, среди всех, лучший классификатор - байесвоская сеть, худший - метод ближайших соседей. Однако, различия между байесовской сетью и случайным лесом невелики, тем более, по AUC случайный лес оказался оптимальным. Поэтому далее в пунктах, где нужен лучший классификатор, будем использовать случайный лес."
      ]
    },
    {
      "cell_type": "markdown",
      "metadata": {
        "id": "WDf5SXq8Jleq"
      },
      "source": [
        "#4. Регрессии"
      ]
    },
    {
      "cell_type": "markdown",
      "metadata": {
        "id": "ReDy0I-Wi1LD"
      },
      "source": [
        "##**1. Отберите признаки, которые могут быть полезны при прогнозировании целевой (зависимой) переменной.**\n",
        "Не включайте в число этих признаков переменную воздействия."
      ]
    },
    {
      "cell_type": "code",
      "execution_count": 238,
      "metadata": {
        "colab": {
          "base_uri": "https://localhost:8080/",
          "height": 423
        },
        "id": "fkHAvcQN-Jm_",
        "outputId": "116dc381-a0b5-482b-dfe3-e7aa0ba2070e"
      },
      "outputs": [
        {
          "output_type": "execute_result",
          "data": {
            "text/plain": [
              "           weight   age  income  married  full_term\n",
              "0     3773.587751  21.0   119.0        1          1\n",
              "1     1989.784386  36.0    73.0        1          1\n",
              "2     3251.918891  31.0   110.0        1          1\n",
              "3     1840.805003  18.0    32.0        1          1\n",
              "4     4428.097002  25.0   130.0        1          1\n",
              "...           ...   ...     ...      ...        ...\n",
              "9995  2762.745666  25.0    80.0        1          1\n",
              "9996  4676.651196  19.0   152.0        1          1\n",
              "9997  1990.283154  26.0    96.0        0          1\n",
              "9998  3533.840673  33.0    97.0        1          1\n",
              "9999  3543.657901  36.0   103.0        1          1\n",
              "\n",
              "[10000 rows x 5 columns]"
            ],
            "text/html": [
              "\n",
              "  <div id=\"df-c1293080-30a5-4525-894b-2a2c4d47e80a\" class=\"colab-df-container\">\n",
              "    <div>\n",
              "<style scoped>\n",
              "    .dataframe tbody tr th:only-of-type {\n",
              "        vertical-align: middle;\n",
              "    }\n",
              "\n",
              "    .dataframe tbody tr th {\n",
              "        vertical-align: top;\n",
              "    }\n",
              "\n",
              "    .dataframe thead th {\n",
              "        text-align: right;\n",
              "    }\n",
              "</style>\n",
              "<table border=\"1\" class=\"dataframe\">\n",
              "  <thead>\n",
              "    <tr style=\"text-align: right;\">\n",
              "      <th></th>\n",
              "      <th>weight</th>\n",
              "      <th>age</th>\n",
              "      <th>income</th>\n",
              "      <th>married</th>\n",
              "      <th>full_term</th>\n",
              "    </tr>\n",
              "  </thead>\n",
              "  <tbody>\n",
              "    <tr>\n",
              "      <th>0</th>\n",
              "      <td>3773.587751</td>\n",
              "      <td>21.0</td>\n",
              "      <td>119.0</td>\n",
              "      <td>1</td>\n",
              "      <td>1</td>\n",
              "    </tr>\n",
              "    <tr>\n",
              "      <th>1</th>\n",
              "      <td>1989.784386</td>\n",
              "      <td>36.0</td>\n",
              "      <td>73.0</td>\n",
              "      <td>1</td>\n",
              "      <td>1</td>\n",
              "    </tr>\n",
              "    <tr>\n",
              "      <th>2</th>\n",
              "      <td>3251.918891</td>\n",
              "      <td>31.0</td>\n",
              "      <td>110.0</td>\n",
              "      <td>1</td>\n",
              "      <td>1</td>\n",
              "    </tr>\n",
              "    <tr>\n",
              "      <th>3</th>\n",
              "      <td>1840.805003</td>\n",
              "      <td>18.0</td>\n",
              "      <td>32.0</td>\n",
              "      <td>1</td>\n",
              "      <td>1</td>\n",
              "    </tr>\n",
              "    <tr>\n",
              "      <th>4</th>\n",
              "      <td>4428.097002</td>\n",
              "      <td>25.0</td>\n",
              "      <td>130.0</td>\n",
              "      <td>1</td>\n",
              "      <td>1</td>\n",
              "    </tr>\n",
              "    <tr>\n",
              "      <th>...</th>\n",
              "      <td>...</td>\n",
              "      <td>...</td>\n",
              "      <td>...</td>\n",
              "      <td>...</td>\n",
              "      <td>...</td>\n",
              "    </tr>\n",
              "    <tr>\n",
              "      <th>9995</th>\n",
              "      <td>2762.745666</td>\n",
              "      <td>25.0</td>\n",
              "      <td>80.0</td>\n",
              "      <td>1</td>\n",
              "      <td>1</td>\n",
              "    </tr>\n",
              "    <tr>\n",
              "      <th>9996</th>\n",
              "      <td>4676.651196</td>\n",
              "      <td>19.0</td>\n",
              "      <td>152.0</td>\n",
              "      <td>1</td>\n",
              "      <td>1</td>\n",
              "    </tr>\n",
              "    <tr>\n",
              "      <th>9997</th>\n",
              "      <td>1990.283154</td>\n",
              "      <td>26.0</td>\n",
              "      <td>96.0</td>\n",
              "      <td>0</td>\n",
              "      <td>1</td>\n",
              "    </tr>\n",
              "    <tr>\n",
              "      <th>9998</th>\n",
              "      <td>3533.840673</td>\n",
              "      <td>33.0</td>\n",
              "      <td>97.0</td>\n",
              "      <td>1</td>\n",
              "      <td>1</td>\n",
              "    </tr>\n",
              "    <tr>\n",
              "      <th>9999</th>\n",
              "      <td>3543.657901</td>\n",
              "      <td>36.0</td>\n",
              "      <td>103.0</td>\n",
              "      <td>1</td>\n",
              "      <td>1</td>\n",
              "    </tr>\n",
              "  </tbody>\n",
              "</table>\n",
              "<p>10000 rows × 5 columns</p>\n",
              "</div>\n",
              "    <div class=\"colab-df-buttons\">\n",
              "\n",
              "  <div class=\"colab-df-container\">\n",
              "    <button class=\"colab-df-convert\" onclick=\"convertToInteractive('df-c1293080-30a5-4525-894b-2a2c4d47e80a')\"\n",
              "            title=\"Convert this dataframe to an interactive table.\"\n",
              "            style=\"display:none;\">\n",
              "\n",
              "  <svg xmlns=\"http://www.w3.org/2000/svg\" height=\"24px\" viewBox=\"0 -960 960 960\">\n",
              "    <path d=\"M120-120v-720h720v720H120Zm60-500h600v-160H180v160Zm220 220h160v-160H400v160Zm0 220h160v-160H400v160ZM180-400h160v-160H180v160Zm440 0h160v-160H620v160ZM180-180h160v-160H180v160Zm440 0h160v-160H620v160Z\"/>\n",
              "  </svg>\n",
              "    </button>\n",
              "\n",
              "  <style>\n",
              "    .colab-df-container {\n",
              "      display:flex;\n",
              "      gap: 12px;\n",
              "    }\n",
              "\n",
              "    .colab-df-convert {\n",
              "      background-color: #E8F0FE;\n",
              "      border: none;\n",
              "      border-radius: 50%;\n",
              "      cursor: pointer;\n",
              "      display: none;\n",
              "      fill: #1967D2;\n",
              "      height: 32px;\n",
              "      padding: 0 0 0 0;\n",
              "      width: 32px;\n",
              "    }\n",
              "\n",
              "    .colab-df-convert:hover {\n",
              "      background-color: #E2EBFA;\n",
              "      box-shadow: 0px 1px 2px rgba(60, 64, 67, 0.3), 0px 1px 3px 1px rgba(60, 64, 67, 0.15);\n",
              "      fill: #174EA6;\n",
              "    }\n",
              "\n",
              "    .colab-df-buttons div {\n",
              "      margin-bottom: 4px;\n",
              "    }\n",
              "\n",
              "    [theme=dark] .colab-df-convert {\n",
              "      background-color: #3B4455;\n",
              "      fill: #D2E3FC;\n",
              "    }\n",
              "\n",
              "    [theme=dark] .colab-df-convert:hover {\n",
              "      background-color: #434B5C;\n",
              "      box-shadow: 0px 1px 3px 1px rgba(0, 0, 0, 0.15);\n",
              "      filter: drop-shadow(0px 1px 2px rgba(0, 0, 0, 0.3));\n",
              "      fill: #FFFFFF;\n",
              "    }\n",
              "  </style>\n",
              "\n",
              "    <script>\n",
              "      const buttonEl =\n",
              "        document.querySelector('#df-c1293080-30a5-4525-894b-2a2c4d47e80a button.colab-df-convert');\n",
              "      buttonEl.style.display =\n",
              "        google.colab.kernel.accessAllowed ? 'block' : 'none';\n",
              "\n",
              "      async function convertToInteractive(key) {\n",
              "        const element = document.querySelector('#df-c1293080-30a5-4525-894b-2a2c4d47e80a');\n",
              "        const dataTable =\n",
              "          await google.colab.kernel.invokeFunction('convertToInteractive',\n",
              "                                                    [key], {});\n",
              "        if (!dataTable) return;\n",
              "\n",
              "        const docLinkHtml = 'Like what you see? Visit the ' +\n",
              "          '<a target=\"_blank\" href=https://colab.research.google.com/notebooks/data_table.ipynb>data table notebook</a>'\n",
              "          + ' to learn more about interactive tables.';\n",
              "        element.innerHTML = '';\n",
              "        dataTable['output_type'] = 'display_data';\n",
              "        await google.colab.output.renderOutput(dataTable, element);\n",
              "        const docLink = document.createElement('div');\n",
              "        docLink.innerHTML = docLinkHtml;\n",
              "        element.appendChild(docLink);\n",
              "      }\n",
              "    </script>\n",
              "  </div>\n",
              "\n",
              "\n",
              "<div id=\"df-51718b7c-f832-4e54-8bb2-830210f27504\">\n",
              "  <button class=\"colab-df-quickchart\" onclick=\"quickchart('df-51718b7c-f832-4e54-8bb2-830210f27504')\"\n",
              "            title=\"Suggest charts\"\n",
              "            style=\"display:none;\">\n",
              "\n",
              "<svg xmlns=\"http://www.w3.org/2000/svg\" height=\"24px\"viewBox=\"0 0 24 24\"\n",
              "     width=\"24px\">\n",
              "    <g>\n",
              "        <path d=\"M19 3H5c-1.1 0-2 .9-2 2v14c0 1.1.9 2 2 2h14c1.1 0 2-.9 2-2V5c0-1.1-.9-2-2-2zM9 17H7v-7h2v7zm4 0h-2V7h2v10zm4 0h-2v-4h2v4z\"/>\n",
              "    </g>\n",
              "</svg>\n",
              "  </button>\n",
              "\n",
              "<style>\n",
              "  .colab-df-quickchart {\n",
              "      --bg-color: #E8F0FE;\n",
              "      --fill-color: #1967D2;\n",
              "      --hover-bg-color: #E2EBFA;\n",
              "      --hover-fill-color: #174EA6;\n",
              "      --disabled-fill-color: #AAA;\n",
              "      --disabled-bg-color: #DDD;\n",
              "  }\n",
              "\n",
              "  [theme=dark] .colab-df-quickchart {\n",
              "      --bg-color: #3B4455;\n",
              "      --fill-color: #D2E3FC;\n",
              "      --hover-bg-color: #434B5C;\n",
              "      --hover-fill-color: #FFFFFF;\n",
              "      --disabled-bg-color: #3B4455;\n",
              "      --disabled-fill-color: #666;\n",
              "  }\n",
              "\n",
              "  .colab-df-quickchart {\n",
              "    background-color: var(--bg-color);\n",
              "    border: none;\n",
              "    border-radius: 50%;\n",
              "    cursor: pointer;\n",
              "    display: none;\n",
              "    fill: var(--fill-color);\n",
              "    height: 32px;\n",
              "    padding: 0;\n",
              "    width: 32px;\n",
              "  }\n",
              "\n",
              "  .colab-df-quickchart:hover {\n",
              "    background-color: var(--hover-bg-color);\n",
              "    box-shadow: 0 1px 2px rgba(60, 64, 67, 0.3), 0 1px 3px 1px rgba(60, 64, 67, 0.15);\n",
              "    fill: var(--button-hover-fill-color);\n",
              "  }\n",
              "\n",
              "  .colab-df-quickchart-complete:disabled,\n",
              "  .colab-df-quickchart-complete:disabled:hover {\n",
              "    background-color: var(--disabled-bg-color);\n",
              "    fill: var(--disabled-fill-color);\n",
              "    box-shadow: none;\n",
              "  }\n",
              "\n",
              "  .colab-df-spinner {\n",
              "    border: 2px solid var(--fill-color);\n",
              "    border-color: transparent;\n",
              "    border-bottom-color: var(--fill-color);\n",
              "    animation:\n",
              "      spin 1s steps(1) infinite;\n",
              "  }\n",
              "\n",
              "  @keyframes spin {\n",
              "    0% {\n",
              "      border-color: transparent;\n",
              "      border-bottom-color: var(--fill-color);\n",
              "      border-left-color: var(--fill-color);\n",
              "    }\n",
              "    20% {\n",
              "      border-color: transparent;\n",
              "      border-left-color: var(--fill-color);\n",
              "      border-top-color: var(--fill-color);\n",
              "    }\n",
              "    30% {\n",
              "      border-color: transparent;\n",
              "      border-left-color: var(--fill-color);\n",
              "      border-top-color: var(--fill-color);\n",
              "      border-right-color: var(--fill-color);\n",
              "    }\n",
              "    40% {\n",
              "      border-color: transparent;\n",
              "      border-right-color: var(--fill-color);\n",
              "      border-top-color: var(--fill-color);\n",
              "    }\n",
              "    60% {\n",
              "      border-color: transparent;\n",
              "      border-right-color: var(--fill-color);\n",
              "    }\n",
              "    80% {\n",
              "      border-color: transparent;\n",
              "      border-right-color: var(--fill-color);\n",
              "      border-bottom-color: var(--fill-color);\n",
              "    }\n",
              "    90% {\n",
              "      border-color: transparent;\n",
              "      border-bottom-color: var(--fill-color);\n",
              "    }\n",
              "  }\n",
              "</style>\n",
              "\n",
              "  <script>\n",
              "    async function quickchart(key) {\n",
              "      const quickchartButtonEl =\n",
              "        document.querySelector('#' + key + ' button');\n",
              "      quickchartButtonEl.disabled = true;  // To prevent multiple clicks.\n",
              "      quickchartButtonEl.classList.add('colab-df-spinner');\n",
              "      try {\n",
              "        const charts = await google.colab.kernel.invokeFunction(\n",
              "            'suggestCharts', [key], {});\n",
              "      } catch (error) {\n",
              "        console.error('Error during call to suggestCharts:', error);\n",
              "      }\n",
              "      quickchartButtonEl.classList.remove('colab-df-spinner');\n",
              "      quickchartButtonEl.classList.add('colab-df-quickchart-complete');\n",
              "    }\n",
              "    (() => {\n",
              "      let quickchartButtonEl =\n",
              "        document.querySelector('#df-51718b7c-f832-4e54-8bb2-830210f27504 button');\n",
              "      quickchartButtonEl.style.display =\n",
              "        google.colab.kernel.accessAllowed ? 'block' : 'none';\n",
              "    })();\n",
              "  </script>\n",
              "</div>\n",
              "    </div>\n",
              "  </div>\n"
            ],
            "application/vnd.google.colaboratory.intrinsic+json": {
              "type": "dataframe",
              "variable_name": "df_reg",
              "summary": "{\n  \"name\": \"df_reg\",\n  \"rows\": 10000,\n  \"fields\": [\n    {\n      \"column\": \"weight\",\n      \"properties\": {\n        \"dtype\": \"number\",\n        \"std\": 1043.8638874640326,\n        \"min\": 771.537472352904,\n        \"max\": 6122.119411225766,\n        \"num_unique_values\": 10000,\n        \"samples\": [\n          4853.695665191835,\n          3335.720420602926,\n          2036.6708656227022\n        ],\n        \"semantic_type\": \"\",\n        \"description\": \"\"\n      }\n    },\n    {\n      \"column\": \"age\",\n      \"properties\": {\n        \"dtype\": \"number\",\n        \"std\": 6.9023346095582925,\n        \"min\": 14.0,\n        \"max\": 55.0,\n        \"num_unique_values\": 42,\n        \"samples\": [\n          46.0,\n          44.0,\n          38.0\n        ],\n        \"semantic_type\": \"\",\n        \"description\": \"\"\n      }\n    },\n    {\n      \"column\": \"income\",\n      \"properties\": {\n        \"dtype\": \"number\",\n        \"std\": 38.98741383887606,\n        \"min\": 15.0,\n        \"max\": 200.0,\n        \"num_unique_values\": 186,\n        \"samples\": [\n          171.0,\n          30.0,\n          40.0\n        ],\n        \"semantic_type\": \"\",\n        \"description\": \"\"\n      }\n    },\n    {\n      \"column\": \"married\",\n      \"properties\": {\n        \"dtype\": \"number\",\n        \"std\": 0,\n        \"min\": 0,\n        \"max\": 1,\n        \"num_unique_values\": 2,\n        \"samples\": [\n          0,\n          1\n        ],\n        \"semantic_type\": \"\",\n        \"description\": \"\"\n      }\n    },\n    {\n      \"column\": \"full_term\",\n      \"properties\": {\n        \"dtype\": \"number\",\n        \"std\": 0,\n        \"min\": 0,\n        \"max\": 1,\n        \"num_unique_values\": 2,\n        \"samples\": [\n          0,\n          1\n        ],\n        \"semantic_type\": \"\",\n        \"description\": \"\"\n      }\n    }\n  ]\n}"
            }
          },
          "metadata": {},
          "execution_count": 238
        }
      ],
      "source": [
        "df_reg = df.drop({'income_bin','age_bin','smoking','smoking_friends','genes'},\n",
        "                 axis = 1)\n",
        "df_reg"
      ]
    },
    {
      "cell_type": "code",
      "execution_count": 239,
      "metadata": {
        "id": "uUZOWazS83KO"
      },
      "outputs": [],
      "source": [
        "# Разделим целевую переменную и признаки\n",
        "target_reg = df_reg.loc[:, ['weight']]                              # целевая переменная\n",
        "features_reg = df_reg.loc[:, df_reg.columns.drop('weight')]  # матрица признаков\n",
        "target_reg = np.squeeze(target_reg)                               # преобразуем из вектора столбца\n",
        "                                                            # в одномерный массив"
      ]
    },
    {
      "cell_type": "code",
      "execution_count": 241,
      "metadata": {
        "id": "8NrSH5N2_tnc"
      },
      "outputs": [],
      "source": [
        "# Разделим выборку на обучающую и тестовую\n",
        "features_reg_train, features_reg_test, target_reg_train,target_reg_test = train_test_split(\n",
        "    features_reg, target_reg, test_size = 0.2, random_state = 123)\n",
        "\n",
        "# Сохраним число наблюдений обучающей и тестовой выборок\n",
        "n_train = len(target_reg_train)\n",
        "n_test  = len(target_reg_test)\n",
        "\n",
        "# Вернем исходную сортировку индексов\n",
        "features_reg_train = features_reg_train.reset_index(drop = True)\n",
        "target_reg_train   = target_reg_train.reset_index(drop = True)\n",
        "features_reg_test  = features_reg_test.reset_index(drop = True)\n",
        "target_reg_test    = target_reg_test.reset_index(drop = True)"
      ]
    },
    {
      "cell_type": "markdown",
      "metadata": {
        "id": "LBnjhMVQjYts"
      },
      "source": [
        "##**2. Выберите произвольные значения гиперпараметров, а затем оцените и сравните (между методами) точность прогнозов с помощью RMSE и MAPE**:\n",
        "* на обучающей и тестовой выборке."
      ]
    },
    {
      "cell_type": "code",
      "execution_count": 242,
      "metadata": {
        "id": "AIUKK9bqDU4s"
      },
      "outputs": [],
      "source": [
        "def rmse(y_true, y_pred):\n",
        "    rmse = mean_squared_error(y_true, y_pred, squared=False)\n",
        "    return rmse\n",
        "def mape(y_true, y_pred):\n",
        "    mape = mean_absolute_percentage_error(y_true, y_pred)\n",
        "    return mape"
      ]
    },
    {
      "cell_type": "markdown",
      "metadata": {
        "id": "ibVaTuAaALya"
      },
      "source": [
        "Начнем со случайного леса, для этого обучим случайное дерево."
      ]
    },
    {
      "cell_type": "code",
      "execution_count": 243,
      "metadata": {
        "colab": {
          "base_uri": "https://localhost:8080/",
          "height": 74
        },
        "id": "08-KeO4bJpu4",
        "outputId": "cd4675c6-bd39-4eb1-fefc-a4d7f6b27da3"
      },
      "outputs": [
        {
          "output_type": "execute_result",
          "data": {
            "text/plain": [
              "DecisionTreeRegressor(max_depth=10)"
            ],
            "text/html": [
              "<style>#sk-container-id-9 {color: black;background-color: white;}#sk-container-id-9 pre{padding: 0;}#sk-container-id-9 div.sk-toggleable {background-color: white;}#sk-container-id-9 label.sk-toggleable__label {cursor: pointer;display: block;width: 100%;margin-bottom: 0;padding: 0.3em;box-sizing: border-box;text-align: center;}#sk-container-id-9 label.sk-toggleable__label-arrow:before {content: \"▸\";float: left;margin-right: 0.25em;color: #696969;}#sk-container-id-9 label.sk-toggleable__label-arrow:hover:before {color: black;}#sk-container-id-9 div.sk-estimator:hover label.sk-toggleable__label-arrow:before {color: black;}#sk-container-id-9 div.sk-toggleable__content {max-height: 0;max-width: 0;overflow: hidden;text-align: left;background-color: #f0f8ff;}#sk-container-id-9 div.sk-toggleable__content pre {margin: 0.2em;color: black;border-radius: 0.25em;background-color: #f0f8ff;}#sk-container-id-9 input.sk-toggleable__control:checked~div.sk-toggleable__content {max-height: 200px;max-width: 100%;overflow: auto;}#sk-container-id-9 input.sk-toggleable__control:checked~label.sk-toggleable__label-arrow:before {content: \"▾\";}#sk-container-id-9 div.sk-estimator input.sk-toggleable__control:checked~label.sk-toggleable__label {background-color: #d4ebff;}#sk-container-id-9 div.sk-label input.sk-toggleable__control:checked~label.sk-toggleable__label {background-color: #d4ebff;}#sk-container-id-9 input.sk-hidden--visually {border: 0;clip: rect(1px 1px 1px 1px);clip: rect(1px, 1px, 1px, 1px);height: 1px;margin: -1px;overflow: hidden;padding: 0;position: absolute;width: 1px;}#sk-container-id-9 div.sk-estimator {font-family: monospace;background-color: #f0f8ff;border: 1px dotted black;border-radius: 0.25em;box-sizing: border-box;margin-bottom: 0.5em;}#sk-container-id-9 div.sk-estimator:hover {background-color: #d4ebff;}#sk-container-id-9 div.sk-parallel-item::after {content: \"\";width: 100%;border-bottom: 1px solid gray;flex-grow: 1;}#sk-container-id-9 div.sk-label:hover label.sk-toggleable__label {background-color: #d4ebff;}#sk-container-id-9 div.sk-serial::before {content: \"\";position: absolute;border-left: 1px solid gray;box-sizing: border-box;top: 0;bottom: 0;left: 50%;z-index: 0;}#sk-container-id-9 div.sk-serial {display: flex;flex-direction: column;align-items: center;background-color: white;padding-right: 0.2em;padding-left: 0.2em;position: relative;}#sk-container-id-9 div.sk-item {position: relative;z-index: 1;}#sk-container-id-9 div.sk-parallel {display: flex;align-items: stretch;justify-content: center;background-color: white;position: relative;}#sk-container-id-9 div.sk-item::before, #sk-container-id-9 div.sk-parallel-item::before {content: \"\";position: absolute;border-left: 1px solid gray;box-sizing: border-box;top: 0;bottom: 0;left: 50%;z-index: -1;}#sk-container-id-9 div.sk-parallel-item {display: flex;flex-direction: column;z-index: 1;position: relative;background-color: white;}#sk-container-id-9 div.sk-parallel-item:first-child::after {align-self: flex-end;width: 50%;}#sk-container-id-9 div.sk-parallel-item:last-child::after {align-self: flex-start;width: 50%;}#sk-container-id-9 div.sk-parallel-item:only-child::after {width: 0;}#sk-container-id-9 div.sk-dashed-wrapped {border: 1px dashed gray;margin: 0 0.4em 0.5em 0.4em;box-sizing: border-box;padding-bottom: 0.4em;background-color: white;}#sk-container-id-9 div.sk-label label {font-family: monospace;font-weight: bold;display: inline-block;line-height: 1.2em;}#sk-container-id-9 div.sk-label-container {text-align: center;}#sk-container-id-9 div.sk-container {/* jupyter's `normalize.less` sets `[hidden] { display: none; }` but bootstrap.min.css set `[hidden] { display: none !important; }` so we also need the `!important` here to be able to override the default hidden behavior on the sphinx rendered scikit-learn.org. See: https://github.com/scikit-learn/scikit-learn/issues/21755 */display: inline-block !important;position: relative;}#sk-container-id-9 div.sk-text-repr-fallback {display: none;}</style><div id=\"sk-container-id-9\" class=\"sk-top-container\"><div class=\"sk-text-repr-fallback\"><pre>DecisionTreeRegressor(max_depth=10)</pre><b>In a Jupyter environment, please rerun this cell to show the HTML representation or trust the notebook. <br />On GitHub, the HTML representation is unable to render, please try loading this page with nbviewer.org.</b></div><div class=\"sk-container\" hidden><div class=\"sk-item\"><div class=\"sk-estimator sk-toggleable\"><input class=\"sk-toggleable__control sk-hidden--visually\" id=\"sk-estimator-id-17\" type=\"checkbox\" checked><label for=\"sk-estimator-id-17\" class=\"sk-toggleable__label sk-toggleable__label-arrow\">DecisionTreeRegressor</label><div class=\"sk-toggleable__content\"><pre>DecisionTreeRegressor(max_depth=10)</pre></div></div></div></div></div>"
            ]
          },
          "metadata": {},
          "execution_count": 243
        }
      ],
      "source": [
        "# Обучим регрессионное дерево\n",
        "rt = tree.DecisionTreeRegressor(max_depth = 10, criterion = 'squared_error')\n",
        "rt.fit(features_reg_train, target_reg_train)"
      ]
    },
    {
      "cell_type": "code",
      "execution_count": 244,
      "metadata": {
        "colab": {
          "base_uri": "https://localhost:8080/",
          "height": 961
        },
        "id": "pryvdKPxJpyq",
        "outputId": "0e8226ce-21f6-498b-e90b-ac1e4b79871a"
      },
      "outputs": [
        {
          "output_type": "display_data",
          "data": {
            "text/plain": [
              "<Figure size 1200x1200 with 1 Axes>"
            ],
            "image/png": "[encoded data removed]"
          },
          "metadata": {}
        }
      ],
      "source": [
        "# Визуализируем полученный результат, для наглядности\n",
        "# и быстроты ограничив максимальную глубину на картинке\n",
        "plt.figure(figsize = (12, 12))\n",
        "tree.plot_tree(rt, feature_names = features_reg_train.columns,\n",
        "               fontsize = 8, max_depth = 2)\n",
        "plt.show()"
      ]
    },
    {
      "cell_type": "code",
      "execution_count": 245,
      "metadata": {
        "colab": {
          "base_uri": "https://localhost:8080/",
          "height": 92
        },
        "id": "6LI3SdMdCK8Y",
        "outputId": "45a46ffd-fef5-4613-80e5-ecc11e1d792b"
      },
      "outputs": [
        {
          "output_type": "execute_result",
          "data": {
            "text/plain": [
              "RandomForestRegressor(max_depth=10, max_features='sqrt', max_samples=500,\n",
              "                      random_state=777)"
            ],
            "text/html": [
              "<style>#sk-container-id-10 {color: black;background-color: white;}#sk-container-id-10 pre{padding: 0;}#sk-container-id-10 div.sk-toggleable {background-color: white;}#sk-container-id-10 label.sk-toggleable__label {cursor: pointer;display: block;width: 100%;margin-bottom: 0;padding: 0.3em;box-sizing: border-box;text-align: center;}#sk-container-id-10 label.sk-toggleable__label-arrow:before {content: \"▸\";float: left;margin-right: 0.25em;color: #696969;}#sk-container-id-10 label.sk-toggleable__label-arrow:hover:before {color: black;}#sk-container-id-10 div.sk-estimator:hover label.sk-toggleable__label-arrow:before {color: black;}#sk-container-id-10 div.sk-toggleable__content {max-height: 0;max-width: 0;overflow: hidden;text-align: left;background-color: #f0f8ff;}#sk-container-id-10 div.sk-toggleable__content pre {margin: 0.2em;color: black;border-radius: 0.25em;background-color: #f0f8ff;}#sk-container-id-10 input.sk-toggleable__control:checked~div.sk-toggleable__content {max-height: 200px;max-width: 100%;overflow: auto;}#sk-container-id-10 input.sk-toggleable__control:checked~label.sk-toggleable__label-arrow:before {content: \"▾\";}#sk-container-id-10 div.sk-estimator input.sk-toggleable__control:checked~label.sk-toggleable__label {background-color: #d4ebff;}#sk-container-id-10 div.sk-label input.sk-toggleable__control:checked~label.sk-toggleable__label {background-color: #d4ebff;}#sk-container-id-10 input.sk-hidden--visually {border: 0;clip: rect(1px 1px 1px 1px);clip: rect(1px, 1px, 1px, 1px);height: 1px;margin: -1px;overflow: hidden;padding: 0;position: absolute;width: 1px;}#sk-container-id-10 div.sk-estimator {font-family: monospace;background-color: #f0f8ff;border: 1px dotted black;border-radius: 0.25em;box-sizing: border-box;margin-bottom: 0.5em;}#sk-container-id-10 div.sk-estimator:hover {background-color: #d4ebff;}#sk-container-id-10 div.sk-parallel-item::after {content: \"\";width: 100%;border-bottom: 1px solid gray;flex-grow: 1;}#sk-container-id-10 div.sk-label:hover label.sk-toggleable__label {background-color: #d4ebff;}#sk-container-id-10 div.sk-serial::before {content: \"\";position: absolute;border-left: 1px solid gray;box-sizing: border-box;top: 0;bottom: 0;left: 50%;z-index: 0;}#sk-container-id-10 div.sk-serial {display: flex;flex-direction: column;align-items: center;background-color: white;padding-right: 0.2em;padding-left: 0.2em;position: relative;}#sk-container-id-10 div.sk-item {position: relative;z-index: 1;}#sk-container-id-10 div.sk-parallel {display: flex;align-items: stretch;justify-content: center;background-color: white;position: relative;}#sk-container-id-10 div.sk-item::before, #sk-container-id-10 div.sk-parallel-item::before {content: \"\";position: absolute;border-left: 1px solid gray;box-sizing: border-box;top: 0;bottom: 0;left: 50%;z-index: -1;}#sk-container-id-10 div.sk-parallel-item {display: flex;flex-direction: column;z-index: 1;position: relative;background-color: white;}#sk-container-id-10 div.sk-parallel-item:first-child::after {align-self: flex-end;width: 50%;}#sk-container-id-10 div.sk-parallel-item:last-child::after {align-self: flex-start;width: 50%;}#sk-container-id-10 div.sk-parallel-item:only-child::after {width: 0;}#sk-container-id-10 div.sk-dashed-wrapped {border: 1px dashed gray;margin: 0 0.4em 0.5em 0.4em;box-sizing: border-box;padding-bottom: 0.4em;background-color: white;}#sk-container-id-10 div.sk-label label {font-family: monospace;font-weight: bold;display: inline-block;line-height: 1.2em;}#sk-container-id-10 div.sk-label-container {text-align: center;}#sk-container-id-10 div.sk-container {/* jupyter's `normalize.less` sets `[hidden] { display: none; }` but bootstrap.min.css set `[hidden] { display: none !important; }` so we also need the `!important` here to be able to override the default hidden behavior on the sphinx rendered scikit-learn.org. See: https://github.com/scikit-learn/scikit-learn/issues/21755 */display: inline-block !important;position: relative;}#sk-container-id-10 div.sk-text-repr-fallback {display: none;}</style><div id=\"sk-container-id-10\" class=\"sk-top-container\"><div class=\"sk-text-repr-fallback\"><pre>RandomForestRegressor(max_depth=10, max_features=&#x27;sqrt&#x27;, max_samples=500,\n",
              "                      random_state=777)</pre><b>In a Jupyter environment, please rerun this cell to show the HTML representation or trust the notebook. <br />On GitHub, the HTML representation is unable to render, please try loading this page with nbviewer.org.</b></div><div class=\"sk-container\" hidden><div class=\"sk-item\"><div class=\"sk-estimator sk-toggleable\"><input class=\"sk-toggleable__control sk-hidden--visually\" id=\"sk-estimator-id-18\" type=\"checkbox\" checked><label for=\"sk-estimator-id-18\" class=\"sk-toggleable__label sk-toggleable__label-arrow\">RandomForestRegressor</label><div class=\"sk-toggleable__content\"><pre>RandomForestRegressor(max_depth=10, max_features=&#x27;sqrt&#x27;, max_samples=500,\n",
              "                      random_state=777)</pre></div></div></div></div></div>"
            ]
          },
          "metadata": {},
          "execution_count": 245
        }
      ],
      "source": [
        "# Обучим случайный лес из регрессионных деревьев\n",
        "rfr = RandomForestRegressor(max_depth = 10,              # максимальная глубина деревьев\n",
        "                            max_features = \"sqrt\",       # число случайно выбираемых на\n",
        "                                                         # каждой итерации признаков\n",
        "                            max_samples = 500,           # число бутстрап итераций\n",
        "                            random_state = 777,          # для воспроизводимости\n",
        "                            criterion = 'squared_error') # критерий выбора признаков\n",
        "                                                         # при разбиении узлов\n",
        "rfr.fit(features_reg_train, target_reg_train)"
      ]
    },
    {
      "cell_type": "code",
      "execution_count": 246,
      "metadata": {
        "id": "lebqD7qfBQUM"
      },
      "outputs": [],
      "source": [
        "rfr_pred_train = rfr.predict(features_reg_train) #on train\n",
        "rfr_pred_test = rfr.predict(features_reg_test) #on test"
      ]
    },
    {
      "cell_type": "markdown",
      "metadata": {
        "id": "Sngv5aAiEJxO"
      },
      "source": [
        "МНК:"
      ]
    },
    {
      "cell_type": "code",
      "execution_count": 247,
      "metadata": {
        "colab": {
          "base_uri": "https://localhost:8080/",
          "height": 74
        },
        "id": "pOQEqL3OBRAR",
        "outputId": "18575baf-fba0-4028-c9c0-29b7f6ece9d6"
      },
      "outputs": [
        {
          "output_type": "execute_result",
          "data": {
            "text/plain": [
              "LinearRegression()"
            ],
            "text/html": [
              "<style>#sk-container-id-11 {color: black;background-color: white;}#sk-container-id-11 pre{padding: 0;}#sk-container-id-11 div.sk-toggleable {background-color: white;}#sk-container-id-11 label.sk-toggleable__label {cursor: pointer;display: block;width: 100%;margin-bottom: 0;padding: 0.3em;box-sizing: border-box;text-align: center;}#sk-container-id-11 label.sk-toggleable__label-arrow:before {content: \"▸\";float: left;margin-right: 0.25em;color: #696969;}#sk-container-id-11 label.sk-toggleable__label-arrow:hover:before {color: black;}#sk-container-id-11 div.sk-estimator:hover label.sk-toggleable__label-arrow:before {color: black;}#sk-container-id-11 div.sk-toggleable__content {max-height: 0;max-width: 0;overflow: hidden;text-align: left;background-color: #f0f8ff;}#sk-container-id-11 div.sk-toggleable__content pre {margin: 0.2em;color: black;border-radius: 0.25em;background-color: #f0f8ff;}#sk-container-id-11 input.sk-toggleable__control:checked~div.sk-toggleable__content {max-height: 200px;max-width: 100%;overflow: auto;}#sk-container-id-11 input.sk-toggleable__control:checked~label.sk-toggleable__label-arrow:before {content: \"▾\";}#sk-container-id-11 div.sk-estimator input.sk-toggleable__control:checked~label.sk-toggleable__label {background-color: #d4ebff;}#sk-container-id-11 div.sk-label input.sk-toggleable__control:checked~label.sk-toggleable__label {background-color: #d4ebff;}#sk-container-id-11 input.sk-hidden--visually {border: 0;clip: rect(1px 1px 1px 1px);clip: rect(1px, 1px, 1px, 1px);height: 1px;margin: -1px;overflow: hidden;padding: 0;position: absolute;width: 1px;}#sk-container-id-11 div.sk-estimator {font-family: monospace;background-color: #f0f8ff;border: 1px dotted black;border-radius: 0.25em;box-sizing: border-box;margin-bottom: 0.5em;}#sk-container-id-11 div.sk-estimator:hover {background-color: #d4ebff;}#sk-container-id-11 div.sk-parallel-item::after {content: \"\";width: 100%;border-bottom: 1px solid gray;flex-grow: 1;}#sk-container-id-11 div.sk-label:hover label.sk-toggleable__label {background-color: #d4ebff;}#sk-container-id-11 div.sk-serial::before {content: \"\";position: absolute;border-left: 1px solid gray;box-sizing: border-box;top: 0;bottom: 0;left: 50%;z-index: 0;}#sk-container-id-11 div.sk-serial {display: flex;flex-direction: column;align-items: center;background-color: white;padding-right: 0.2em;padding-left: 0.2em;position: relative;}#sk-container-id-11 div.sk-item {position: relative;z-index: 1;}#sk-container-id-11 div.sk-parallel {display: flex;align-items: stretch;justify-content: center;background-color: white;position: relative;}#sk-container-id-11 div.sk-item::before, #sk-container-id-11 div.sk-parallel-item::before {content: \"\";position: absolute;border-left: 1px solid gray;box-sizing: border-box;top: 0;bottom: 0;left: 50%;z-index: -1;}#sk-container-id-11 div.sk-parallel-item {display: flex;flex-direction: column;z-index: 1;position: relative;background-color: white;}#sk-container-id-11 div.sk-parallel-item:first-child::after {align-self: flex-end;width: 50%;}#sk-container-id-11 div.sk-parallel-item:last-child::after {align-self: flex-start;width: 50%;}#sk-container-id-11 div.sk-parallel-item:only-child::after {width: 0;}#sk-container-id-11 div.sk-dashed-wrapped {border: 1px dashed gray;margin: 0 0.4em 0.5em 0.4em;box-sizing: border-box;padding-bottom: 0.4em;background-color: white;}#sk-container-id-11 div.sk-label label {font-family: monospace;font-weight: bold;display: inline-block;line-height: 1.2em;}#sk-container-id-11 div.sk-label-container {text-align: center;}#sk-container-id-11 div.sk-container {/* jupyter's `normalize.less` sets `[hidden] { display: none; }` but bootstrap.min.css set `[hidden] { display: none !important; }` so we also need the `!important` here to be able to override the default hidden behavior on the sphinx rendered scikit-learn.org. See: https://github.com/scikit-learn/scikit-learn/issues/21755 */display: inline-block !important;position: relative;}#sk-container-id-11 div.sk-text-repr-fallback {display: none;}</style><div id=\"sk-container-id-11\" class=\"sk-top-container\"><div class=\"sk-text-repr-fallback\"><pre>LinearRegression()</pre><b>In a Jupyter environment, please rerun this cell to show the HTML representation or trust the notebook. <br />On GitHub, the HTML representation is unable to render, please try loading this page with nbviewer.org.</b></div><div class=\"sk-container\" hidden><div class=\"sk-item\"><div class=\"sk-estimator sk-toggleable\"><input class=\"sk-toggleable__control sk-hidden--visually\" id=\"sk-estimator-id-19\" type=\"checkbox\" checked><label for=\"sk-estimator-id-19\" class=\"sk-toggleable__label sk-toggleable__label-arrow\">LinearRegression</label><div class=\"sk-toggleable__content\"><pre>LinearRegression()</pre></div></div></div></div></div>"
            ]
          },
          "metadata": {},
          "execution_count": 247
        }
      ],
      "source": [
        "# Оценим МНК регрессию\n",
        "ls = LinearRegression()\n",
        "ls.fit(features_reg_train, target_reg_train)"
      ]
    },
    {
      "cell_type": "code",
      "execution_count": 248,
      "metadata": {
        "id": "mDD9OB5pEs5T"
      },
      "outputs": [],
      "source": [
        "ls_pred_test  = ls.predict(features_reg_test)\n",
        "ls_pred_train  = ls.predict(features_reg_train)"
      ]
    },
    {
      "cell_type": "markdown",
      "metadata": {
        "id": "Fz0XJTp-Ffod"
      },
      "source": [
        "kNN:"
      ]
    },
    {
      "cell_type": "code",
      "execution_count": 249,
      "metadata": {
        "id": "UlHhkDO2FjM8"
      },
      "outputs": [],
      "source": [
        "knn_reg = KNeighborsRegressor(n_neighbors = 3,      # число соседей\n",
        "                           metric = \"minkowski\", # метрика расстояния\n",
        "                           p = 2)                # Евклидова метрика\n",
        "knn_reg.fit(features_reg_train, target_reg_train)\n",
        "knn_reg_pred_test = knn_reg.predict(features_reg_test)\n",
        "knn_reg_pred_train = knn_reg.predict(features_reg_train)"
      ]
    },
    {
      "cell_type": "code",
      "execution_count": 250,
      "metadata": {
        "id": "w-eH8f8PETRq"
      },
      "outputs": [],
      "source": [
        "#ls\n",
        "rmse_ls_test = rmse(target_reg_test,ls_pred_test)\n",
        "rmse_ls_train = rmse(target_reg_train,ls_pred_train)\n",
        "mape_ls_test = mape(target_reg_test,ls_pred_test)\n",
        "mape_ls_train = mape(target_reg_train,ls_pred_train)\n",
        "#rfr\n",
        "rmse_rfr_test = rmse(target_reg_test,rfr_pred_test)\n",
        "rmse_rfr_train = rmse(target_reg_train,rfr_pred_train)\n",
        "mape_rfr_test = mape(target_reg_test,rfr_pred_test)\n",
        "mape_rfr_train = mape(target_reg_train,rfr_pred_train)\n",
        "#knn\n",
        "rmse_knn_reg_test = rmse(target_reg_test,knn_reg_pred_test)\n",
        "rmse_knn_reg_train = rmse(target_reg_train,knn_reg_pred_train)\n",
        "mape_knn_reg_test = mape(target_reg_test,knn_reg_pred_test)\n",
        "mape_knn_reg_train = mape(target_reg_train,knn_reg_pred_train)"
      ]
    },
    {
      "cell_type": "markdown",
      "metadata": {
        "id": "1B3N3DO6I-wi"
      },
      "source": [
        "На кросс-валидации с произвольными параметрами:"
      ]
    },
    {
      "cell_type": "code",
      "execution_count": 251,
      "metadata": {
        "id": "01EqJDIwJCN_"
      },
      "outputs": [],
      "source": [
        "# Функция для оценки кросс-валидации\n",
        "def cross_val_rmse(model, X, y, cv=5):\n",
        "    rmse_scores = -cross_val_score(model, X, y,\n",
        "                                   scoring='neg_root_mean_squared_error', cv=cv)\n",
        "    return rmse_scores.mean()\n",
        "\n",
        "def cross_val_mape(model, X, y, cv=5):\n",
        "    mape_scores = -cross_val_score(model, X, y,\n",
        "                         scoring='neg_mean_absolute_percentage_error', cv=cv)\n",
        "    return  mape_scores.mean()"
      ]
    },
    {
      "cell_type": "code",
      "execution_count": 252,
      "metadata": {
        "id": "jqLvtyb3JCS2"
      },
      "outputs": [],
      "source": [
        "#rfr\n",
        "mape_rfr_CV = cross_val_mape(rfr,features_reg_train,target_reg_train)\n",
        "rmse_rfr_CV = cross_val_rmse(rfr,features_reg_train,target_reg_train)\n",
        "#ls\n",
        "mape_ls_CV = cross_val_mape(ls,features_reg_train,target_reg_train)\n",
        "rmse_ls_CV = cross_val_rmse(ls,features_reg_train,target_reg_train)\n",
        "#knn\n",
        "mape_knn_reg_CV = cross_val_mape(knn_reg,features_reg_train,target_reg_train)\n",
        "rmse_knn_reg_CV = cross_val_rmse(knn_reg,features_reg_train,target_reg_train)"
      ]
    },
    {
      "cell_type": "code",
      "execution_count": 253,
      "metadata": {
        "id": "DByIwwWTJDAv"
      },
      "outputs": [],
      "source": [
        "LS = [mape_ls_test,rmse_ls_test,mape_ls_train,rmse_ls_train,\n",
        "      mape_ls_CV,rmse_ls_CV]\n",
        "kNN_reg = [mape_knn_reg_test,rmse_knn_reg_test,mape_knn_reg_train,\n",
        "           rmse_knn_reg_train,mape_knn_reg_CV,rmse_knn_reg_CV]\n",
        "RFR = [mape_rfr_test,rmse_rfr_test,mape_rfr_train,rmse_rfr_train,\n",
        "       mape_rfr_CV,rmse_rfr_CV]"
      ]
    },
    {
      "cell_type": "markdown",
      "metadata": {
        "id": "diCbeDHmE9Og"
      },
      "source": [
        "Сгруппируем промежуточные результаты в таблицу:"
      ]
    },
    {
      "cell_type": "code",
      "execution_count": 254,
      "metadata": {
        "colab": {
          "base_uri": "https://localhost:8080/"
        },
        "id": "4QvOkg4fJDHa",
        "outputId": "b1fab150-5aa5-4f17-c58c-2d3e15859a7d"
      },
      "outputs": [
        {
          "output_type": "stream",
          "name": "stdout",
          "text": [
            "                    LS     knn_reg         RFR\n",
            "MAPE_test     0.109321    0.150118    0.093416\n",
            "RMSE_test   351.351428  521.261327  289.637501\n",
            "MAPE_train    0.109715    0.100115    0.090215\n",
            "RMSE_train  351.154860  357.818929  285.015862\n",
            "MAPE_CV       0.109820    0.150703    0.094900\n",
            "RMSE_CV     351.475978  528.140155  298.460779\n"
          ]
        }
      ],
      "source": [
        "res_reg1 = pd.DataFrame(data    = [LS,kNN_reg,RFR],\n",
        "                   index   = ['LS','knn_reg','RFR'],\n",
        "                   columns = ['MAPE_test',\n",
        "                              'RMSE_test','MAPE_train','RMSE_train',\n",
        "                              'MAPE_CV','RMSE_CV'])\n",
        "print(res_reg1.T)"
      ]
    },
    {
      "cell_type": "markdown",
      "metadata": {
        "id": "Q7CyFLtKFDZv"
      },
      "source": [
        "На кросс-валидации лучшим оказался случайный лес, так же как и на тестовой выборке."
      ]
    },
    {
      "cell_type": "markdown",
      "metadata": {
        "id": "UMACyt1hOU7f"
      },
      "source": [
        "##**3. Для каждого метода с помощью кросс-валидации на обучающей выборке подберите оптимальные значения гиперпараметров (тюнинг).**\n",
        "В качестве критерия качества используйте RMSE. Результат представьте в форме таблицы, в которой для каждого метода должны быть указаны:\n",
        "* изначальные и подобранные значения гиперпараметров.\n",
        "* кросс-валидационное значение RMSE на обучающей выборке с исходными\n",
        "и подобранными значениями гиперпараметров.\n",
        "* значение RMSE на тестовой выборке с исходными и подобранными значениями гиперпараметров.\n"
      ]
    },
    {
      "cell_type": "code",
      "execution_count": 255,
      "metadata": {
        "id": "_1HXSr_qOc18"
      },
      "outputs": [],
      "source": [
        "# Перебираемые значения гиперпараметров\n",
        "hyperparameters_knn_reg = {'n_neighbors': [3, 5, 7], 'p': [1, 2, 3]}"
      ]
    },
    {
      "cell_type": "code",
      "execution_count": 256,
      "metadata": {
        "colab": {
          "base_uri": "https://localhost:8080/",
          "height": 117
        },
        "id": "LfLJAbRxPHrT",
        "outputId": "92ec92b9-31f4-45e0-c4bb-7c3b815abbdc"
      },
      "outputs": [
        {
          "output_type": "execute_result",
          "data": {
            "text/plain": [
              "GridSearchCV(cv=5, estimator=KNeighborsRegressor(n_neighbors=3),\n",
              "             param_grid={'n_neighbors': [3, 5, 7], 'p': [1, 2, 3]},\n",
              "             scoring='neg_root_mean_squared_error')"
            ],
            "text/html": [
              "<style>#sk-container-id-12 {color: black;background-color: white;}#sk-container-id-12 pre{padding: 0;}#sk-container-id-12 div.sk-toggleable {background-color: white;}#sk-container-id-12 label.sk-toggleable__label {cursor: pointer;display: block;width: 100%;margin-bottom: 0;padding: 0.3em;box-sizing: border-box;text-align: center;}#sk-container-id-12 label.sk-toggleable__label-arrow:before {content: \"▸\";float: left;margin-right: 0.25em;color: #696969;}#sk-container-id-12 label.sk-toggleable__label-arrow:hover:before {color: black;}#sk-container-id-12 div.sk-estimator:hover label.sk-toggleable__label-arrow:before {color: black;}#sk-container-id-12 div.sk-toggleable__content {max-height: 0;max-width: 0;overflow: hidden;text-align: left;background-color: #f0f8ff;}#sk-container-id-12 div.sk-toggleable__content pre {margin: 0.2em;color: black;border-radius: 0.25em;background-color: #f0f8ff;}#sk-container-id-12 input.sk-toggleable__control:checked~div.sk-toggleable__content {max-height: 200px;max-width: 100%;overflow: auto;}#sk-container-id-12 input.sk-toggleable__control:checked~label.sk-toggleable__label-arrow:before {content: \"▾\";}#sk-container-id-12 div.sk-estimator input.sk-toggleable__control:checked~label.sk-toggleable__label {background-color: #d4ebff;}#sk-container-id-12 div.sk-label input.sk-toggleable__control:checked~label.sk-toggleable__label {background-color: #d4ebff;}#sk-container-id-12 input.sk-hidden--visually {border: 0;clip: rect(1px 1px 1px 1px);clip: rect(1px, 1px, 1px, 1px);height: 1px;margin: -1px;overflow: hidden;padding: 0;position: absolute;width: 1px;}#sk-container-id-12 div.sk-estimator {font-family: monospace;background-color: #f0f8ff;border: 1px dotted black;border-radius: 0.25em;box-sizing: border-box;margin-bottom: 0.5em;}#sk-container-id-12 div.sk-estimator:hover {background-color: #d4ebff;}#sk-container-id-12 div.sk-parallel-item::after {content: \"\";width: 100%;border-bottom: 1px solid gray;flex-grow: 1;}#sk-container-id-12 div.sk-label:hover label.sk-toggleable__label {background-color: #d4ebff;}#sk-container-id-12 div.sk-serial::before {content: \"\";position: absolute;border-left: 1px solid gray;box-sizing: border-box;top: 0;bottom: 0;left: 50%;z-index: 0;}#sk-container-id-12 div.sk-serial {display: flex;flex-direction: column;align-items: center;background-color: white;padding-right: 0.2em;padding-left: 0.2em;position: relative;}#sk-container-id-12 div.sk-item {position: relative;z-index: 1;}#sk-container-id-12 div.sk-parallel {display: flex;align-items: stretch;justify-content: center;background-color: white;position: relative;}#sk-container-id-12 div.sk-item::before, #sk-container-id-12 div.sk-parallel-item::before {content: \"\";position: absolute;border-left: 1px solid gray;box-sizing: border-box;top: 0;bottom: 0;left: 50%;z-index: -1;}#sk-container-id-12 div.sk-parallel-item {display: flex;flex-direction: column;z-index: 1;position: relative;background-color: white;}#sk-container-id-12 div.sk-parallel-item:first-child::after {align-self: flex-end;width: 50%;}#sk-container-id-12 div.sk-parallel-item:last-child::after {align-self: flex-start;width: 50%;}#sk-container-id-12 div.sk-parallel-item:only-child::after {width: 0;}#sk-container-id-12 div.sk-dashed-wrapped {border: 1px dashed gray;margin: 0 0.4em 0.5em 0.4em;box-sizing: border-box;padding-bottom: 0.4em;background-color: white;}#sk-container-id-12 div.sk-label label {font-family: monospace;font-weight: bold;display: inline-block;line-height: 1.2em;}#sk-container-id-12 div.sk-label-container {text-align: center;}#sk-container-id-12 div.sk-container {/* jupyter's `normalize.less` sets `[hidden] { display: none; }` but bootstrap.min.css set `[hidden] { display: none !important; }` so we also need the `!important` here to be able to override the default hidden behavior on the sphinx rendered scikit-learn.org. See: https://github.com/scikit-learn/scikit-learn/issues/21755 */display: inline-block !important;position: relative;}#sk-container-id-12 div.sk-text-repr-fallback {display: none;}</style><div id=\"sk-container-id-12\" class=\"sk-top-container\"><div class=\"sk-text-repr-fallback\"><pre>GridSearchCV(cv=5, estimator=KNeighborsRegressor(n_neighbors=3),\n",
              "             param_grid={&#x27;n_neighbors&#x27;: [3, 5, 7], &#x27;p&#x27;: [1, 2, 3]},\n",
              "             scoring=&#x27;neg_root_mean_squared_error&#x27;)</pre><b>In a Jupyter environment, please rerun this cell to show the HTML representation or trust the notebook. <br />On GitHub, the HTML representation is unable to render, please try loading this page with nbviewer.org.</b></div><div class=\"sk-container\" hidden><div class=\"sk-item sk-dashed-wrapped\"><div class=\"sk-label-container\"><div class=\"sk-label sk-toggleable\"><input class=\"sk-toggleable__control sk-hidden--visually\" id=\"sk-estimator-id-20\" type=\"checkbox\" ><label for=\"sk-estimator-id-20\" class=\"sk-toggleable__label sk-toggleable__label-arrow\">GridSearchCV</label><div class=\"sk-toggleable__content\"><pre>GridSearchCV(cv=5, estimator=KNeighborsRegressor(n_neighbors=3),\n",
              "             param_grid={&#x27;n_neighbors&#x27;: [3, 5, 7], &#x27;p&#x27;: [1, 2, 3]},\n",
              "             scoring=&#x27;neg_root_mean_squared_error&#x27;)</pre></div></div></div><div class=\"sk-parallel\"><div class=\"sk-parallel-item\"><div class=\"sk-item\"><div class=\"sk-label-container\"><div class=\"sk-label sk-toggleable\"><input class=\"sk-toggleable__control sk-hidden--visually\" id=\"sk-estimator-id-21\" type=\"checkbox\" ><label for=\"sk-estimator-id-21\" class=\"sk-toggleable__label sk-toggleable__label-arrow\">estimator: KNeighborsRegressor</label><div class=\"sk-toggleable__content\"><pre>KNeighborsRegressor(n_neighbors=3)</pre></div></div></div><div class=\"sk-serial\"><div class=\"sk-item\"><div class=\"sk-estimator sk-toggleable\"><input class=\"sk-toggleable__control sk-hidden--visually\" id=\"sk-estimator-id-22\" type=\"checkbox\" ><label for=\"sk-estimator-id-22\" class=\"sk-toggleable__label sk-toggleable__label-arrow\">KNeighborsRegressor</label><div class=\"sk-toggleable__content\"><pre>KNeighborsRegressor(n_neighbors=3)</pre></div></div></div></div></div></div></div></div></div></div>"
            ]
          },
          "metadata": {},
          "execution_count": 256
        }
      ],
      "source": [
        "# Перебор гиперпараметров с помощью кросс-валидации\n",
        "GSCV_knn_reg = GridSearchCV(estimator = knn_reg,               # модель\n",
        "                        param_grid = hyperparameters_knn_reg,  # перебираемые гиперпараметры\n",
        "                        scoring = 'neg_root_mean_squared_error',          # метрика качества модели\n",
        "                        cv = 5)                        # число фолдов в кросс-валидации\n",
        "GSCV_knn_reg.fit(features_reg_train, target_reg_train)             # подбор гиперпараметров\n",
        "                                                       # на конкретных данных"
      ]
    },
    {
      "cell_type": "code",
      "execution_count": 257,
      "metadata": {
        "colab": {
          "base_uri": "https://localhost:8080/"
        },
        "id": "12ZD0fcWPHrW",
        "outputId": "0593d1e0-b4fa-4485-cdb1-892e78259c50"
      },
      "outputs": [
        {
          "output_type": "stream",
          "name": "stdout",
          "text": [
            "{'n_neighbors': 5, 'p': 1}\n"
          ]
        }
      ],
      "source": [
        "# Достанем гиперпараметры, соответствующие лучшей модели\n",
        "hyperparameters_knn_reg_best = GSCV_knn_reg.best_params_\n",
        "print(hyperparameters_knn_reg_best)"
      ]
    },
    {
      "cell_type": "code",
      "execution_count": 258,
      "metadata": {
        "id": "OQVCqnjFPHrX"
      },
      "outputs": [],
      "source": [
        "# Обучим модель с лучшими гиперпараметрами\n",
        "knn_reg_tuned = KNeighborsRegressor(n_neighbors = hyperparameters_knn_reg_best[\"n_neighbors\"],\n",
        "                            metric = \"minkowski\",\n",
        "                            p = hyperparameters_knn_reg_best[\"p\"])\n",
        "knn_reg_tuned.fit(features_reg_train, target_reg_train)\n",
        "prediction_knn_reg_tuned = knn_reg_tuned.predict(features_reg_test)"
      ]
    },
    {
      "cell_type": "markdown",
      "metadata": {
        "id": "JRKcE3DTFfM4"
      },
      "source": [
        "Случайный лес:"
      ]
    },
    {
      "cell_type": "code",
      "execution_count": 259,
      "metadata": {
        "colab": {
          "base_uri": "https://localhost:8080/"
        },
        "id": "gBMGp5ZySB91",
        "outputId": "f3951e04-5034-44d8-f420-f66e18007090"
      },
      "outputs": [
        {
          "output_type": "stream",
          "name": "stdout",
          "text": [
            "{'max_depth': 7, 'n_estimators': 150}\n"
          ]
        }
      ],
      "source": [
        "# Перебираемые значения гиперпараметров\n",
        "hyperparameters_rfr = {'max_depth': range(0, 20),\n",
        "                   'n_estimators': [50, 100, 150]}\n",
        "\n",
        "# Перебор гиперпараметров с помощью кросс-валидации\n",
        "GSCV_rfr = GridSearchCV(estimator = RandomForestRegressor(),\n",
        "                       param_grid = hyperparameters_rfr,\n",
        "                       scoring = \"neg_root_mean_squared_error\",\n",
        "                       cv = 5)\n",
        "\n",
        "GSCV_rfr.fit(features_reg_train, target_reg_train)\n",
        "\n",
        "# Достанем гиперпараметры, соответствующие лучшей модели\n",
        "hyperparameters_rfr_best = GSCV_rfr.best_params_\n",
        "\n",
        "\n",
        "# Посмотрим на оптимальные гиперпараметры\n",
        "print(hyperparameters_rfr_best)"
      ]
    },
    {
      "cell_type": "code",
      "execution_count": 260,
      "metadata": {
        "colab": {
          "base_uri": "https://localhost:8080/",
          "height": 74
        },
        "id": "WI07IWBnSB98",
        "outputId": "8083c9ce-bd30-4827-8acc-1ffa4106380b"
      },
      "outputs": [
        {
          "output_type": "execute_result",
          "data": {
            "text/plain": [
              "RandomForestRegressor(max_depth=7, n_estimators=150)"
            ],
            "text/html": [
              "<style>#sk-container-id-13 {color: black;background-color: white;}#sk-container-id-13 pre{padding: 0;}#sk-container-id-13 div.sk-toggleable {background-color: white;}#sk-container-id-13 label.sk-toggleable__label {cursor: pointer;display: block;width: 100%;margin-bottom: 0;padding: 0.3em;box-sizing: border-box;text-align: center;}#sk-container-id-13 label.sk-toggleable__label-arrow:before {content: \"▸\";float: left;margin-right: 0.25em;color: #696969;}#sk-container-id-13 label.sk-toggleable__label-arrow:hover:before {color: black;}#sk-container-id-13 div.sk-estimator:hover label.sk-toggleable__label-arrow:before {color: black;}#sk-container-id-13 div.sk-toggleable__content {max-height: 0;max-width: 0;overflow: hidden;text-align: left;background-color: #f0f8ff;}#sk-container-id-13 div.sk-toggleable__content pre {margin: 0.2em;color: black;border-radius: 0.25em;background-color: #f0f8ff;}#sk-container-id-13 input.sk-toggleable__control:checked~div.sk-toggleable__content {max-height: 200px;max-width: 100%;overflow: auto;}#sk-container-id-13 input.sk-toggleable__control:checked~label.sk-toggleable__label-arrow:before {content: \"▾\";}#sk-container-id-13 div.sk-estimator input.sk-toggleable__control:checked~label.sk-toggleable__label {background-color: #d4ebff;}#sk-container-id-13 div.sk-label input.sk-toggleable__control:checked~label.sk-toggleable__label {background-color: #d4ebff;}#sk-container-id-13 input.sk-hidden--visually {border: 0;clip: rect(1px 1px 1px 1px);clip: rect(1px, 1px, 1px, 1px);height: 1px;margin: -1px;overflow: hidden;padding: 0;position: absolute;width: 1px;}#sk-container-id-13 div.sk-estimator {font-family: monospace;background-color: #f0f8ff;border: 1px dotted black;border-radius: 0.25em;box-sizing: border-box;margin-bottom: 0.5em;}#sk-container-id-13 div.sk-estimator:hover {background-color: #d4ebff;}#sk-container-id-13 div.sk-parallel-item::after {content: \"\";width: 100%;border-bottom: 1px solid gray;flex-grow: 1;}#sk-container-id-13 div.sk-label:hover label.sk-toggleable__label {background-color: #d4ebff;}#sk-container-id-13 div.sk-serial::before {content: \"\";position: absolute;border-left: 1px solid gray;box-sizing: border-box;top: 0;bottom: 0;left: 50%;z-index: 0;}#sk-container-id-13 div.sk-serial {display: flex;flex-direction: column;align-items: center;background-color: white;padding-right: 0.2em;padding-left: 0.2em;position: relative;}#sk-container-id-13 div.sk-item {position: relative;z-index: 1;}#sk-container-id-13 div.sk-parallel {display: flex;align-items: stretch;justify-content: center;background-color: white;position: relative;}#sk-container-id-13 div.sk-item::before, #sk-container-id-13 div.sk-parallel-item::before {content: \"\";position: absolute;border-left: 1px solid gray;box-sizing: border-box;top: 0;bottom: 0;left: 50%;z-index: -1;}#sk-container-id-13 div.sk-parallel-item {display: flex;flex-direction: column;z-index: 1;position: relative;background-color: white;}#sk-container-id-13 div.sk-parallel-item:first-child::after {align-self: flex-end;width: 50%;}#sk-container-id-13 div.sk-parallel-item:last-child::after {align-self: flex-start;width: 50%;}#sk-container-id-13 div.sk-parallel-item:only-child::after {width: 0;}#sk-container-id-13 div.sk-dashed-wrapped {border: 1px dashed gray;margin: 0 0.4em 0.5em 0.4em;box-sizing: border-box;padding-bottom: 0.4em;background-color: white;}#sk-container-id-13 div.sk-label label {font-family: monospace;font-weight: bold;display: inline-block;line-height: 1.2em;}#sk-container-id-13 div.sk-label-container {text-align: center;}#sk-container-id-13 div.sk-container {/* jupyter's `normalize.less` sets `[hidden] { display: none; }` but bootstrap.min.css set `[hidden] { display: none !important; }` so we also need the `!important` here to be able to override the default hidden behavior on the sphinx rendered scikit-learn.org. See: https://github.com/scikit-learn/scikit-learn/issues/21755 */display: inline-block !important;position: relative;}#sk-container-id-13 div.sk-text-repr-fallback {display: none;}</style><div id=\"sk-container-id-13\" class=\"sk-top-container\"><div class=\"sk-text-repr-fallback\"><pre>RandomForestRegressor(max_depth=7, n_estimators=150)</pre><b>In a Jupyter environment, please rerun this cell to show the HTML representation or trust the notebook. <br />On GitHub, the HTML representation is unable to render, please try loading this page with nbviewer.org.</b></div><div class=\"sk-container\" hidden><div class=\"sk-item\"><div class=\"sk-estimator sk-toggleable\"><input class=\"sk-toggleable__control sk-hidden--visually\" id=\"sk-estimator-id-23\" type=\"checkbox\" checked><label for=\"sk-estimator-id-23\" class=\"sk-toggleable__label sk-toggleable__label-arrow\">RandomForestRegressor</label><div class=\"sk-toggleable__content\"><pre>RandomForestRegressor(max_depth=7, n_estimators=150)</pre></div></div></div></div></div>"
            ]
          },
          "metadata": {},
          "execution_count": 260
        }
      ],
      "source": [
        "# Обучим модель с лучшими параметрами\n",
        "rfr_tuned = RandomForestRegressor(max_depth = hyperparameters_rfr_best[\"max_depth\"],\n",
        "                      n_estimators = hyperparameters_rfr_best[\"n_estimators\"],\n",
        "                                 criterion = 'squared_error')\n",
        "rfr_tuned.fit(features_reg_train, target_reg_train)"
      ]
    },
    {
      "cell_type": "code",
      "execution_count": 261,
      "metadata": {
        "id": "8Sy5nIVCZna1"
      },
      "outputs": [],
      "source": [
        "prediction_rfr_tuned = rfr_tuned.predict(features_reg_test)"
      ]
    },
    {
      "cell_type": "code",
      "execution_count": 262,
      "metadata": {
        "id": "o3g9UHuYYf-C"
      },
      "outputs": [],
      "source": [
        "#rfr cv\n",
        "rmse_rfr_CV_tuned = cross_val_rmse(rfr_tuned,features_reg_train,target_reg_train)\n",
        "\n",
        "#knn cv\n",
        "rmse_knn_reg_CV_tuned = cross_val_rmse(knn_reg_tuned,features_reg_train,target_reg_train)"
      ]
    },
    {
      "cell_type": "code",
      "execution_count": 263,
      "metadata": {
        "id": "su7_cfz8Y-J9"
      },
      "outputs": [],
      "source": [
        "#rfr\n",
        "rmse_rfr_test_tuned = rmse(target_reg_test,prediction_rfr_tuned)\n",
        "#knn\n",
        "rmse_knn_reg_test_tuned = rmse(target_reg_test,prediction_knn_reg_tuned)"
      ]
    },
    {
      "cell_type": "code",
      "execution_count": 264,
      "metadata": {
        "id": "KUBDlkFKR29L"
      },
      "outputs": [],
      "source": [
        "LS_res = ['-','-',rmse_ls_CV,'-',rmse_ls_test,'-']\n",
        "KNN_res = ['(3;2)','(5;1)',rmse_knn_reg_CV,rmse_knn_reg_CV_tuned,\n",
        "           rmse_knn_reg_test,rmse_knn_reg_test_tuned]\n",
        "RFR_res = ['10','7',rmse_rfr_CV,rmse_rfr_CV_tuned,\n",
        "           rmse_rfr_test,rmse_rfr_test_tuned]"
      ]
    },
    {
      "cell_type": "code",
      "execution_count": 265,
      "metadata": {
        "colab": {
          "base_uri": "https://localhost:8080/"
        },
        "id": "-HURV4K7O30u",
        "outputId": "37074840-b9b0-47a0-dda9-85f10e2a4659"
      },
      "outputs": [
        {
          "output_type": "stream",
          "name": "stdout",
          "text": [
            "                         LS     knn_reg         RFR\n",
            "params                    -       (3;2)          10\n",
            "params_tuned              -       (5;1)           7\n",
            "RMSE_CV          351.475978  528.140155  298.460779\n",
            "RMSE_CV_tuned             -  495.058377  296.740765\n",
            "RMSE_test        351.351428  521.261327  289.637501\n",
            "RMSE_test_tuned           -  501.146353  288.875541\n"
          ]
        }
      ],
      "source": [
        "res_reg = pd.DataFrame(data    = [LS_res,KNN_res,RFR_res],\n",
        "                   index   = ['LS','knn_reg','RFR'],\n",
        "                   columns = ['params',\n",
        "                              'params_tuned','RMSE_CV',\n",
        "                              'RMSE_CV_tuned','RMSE_test','RMSE_test_tuned'])\n",
        "print(res_reg.T)"
      ]
    },
    {
      "cell_type": "markdown",
      "metadata": {
        "id": "N1A72pA3bR9h"
      },
      "source": [
        "Далее нам нужно будет использовать результаты лушших и худших классификаторов и регрессионных моделей. Освежим в памяти: лучший классификатор - случайный, лучшая регрессионная модель -  тоже случайный лес. Худший классификатор - метод ближайших соседей, худшая регрессионная модель - тоже метод ближайших соседей."
      ]
    },
    {
      "cell_type": "markdown",
      "metadata": {
        "id": "t1L5vbPhJqbg"
      },
      "source": [
        "#5. Эффекты воздействия"
      ]
    },
    {
      "cell_type": "markdown",
      "metadata": {
        "id": "WtqY8G6_J35D"
      },
      "source": [
        "##**1. Математически запишите и содержательно проинтерпретируйте потенциальные исходы целевой переменной. Объясните, как они связаны с наблюдаемыми значениями целевой переменной.**"
      ]
    },
    {
      "cell_type": "markdown",
      "metadata": {
        "id": "_zpt7o8LLmIi"
      },
      "source": [
        "Математическая запись для потенциальных исходов weight0 и weight1 представлена разделе \"Генерация и предварительная обработка данных\" в пункте \"Генерация целевой переменной\", для наглядности мы перенесли уравнения и сюда, где weight0 - потенциальный вес ребенка, когда его мать не курит, а weight1 - вес новорожденного в случае курения матери."
      ]
    },
    {
      "cell_type": "markdown",
      "metadata": {
        "id": "p21vMXT8Mhk0"
      },
      "source": [
        "Уравнение веса младенца при отсутствии курения матери:\n",
        "\n",
        "$$\\text{Weight}_{0i} = \\underbrace{\\underbrace{150 + 15\\times\\text{Genes}_{i}}_{g_{0}^{\\text{unobs}}} + \\underbrace{70\\times\\frac{\\text{Income}_{i}}{5 - \\text{Married}_{i} - \\text{Full_term}_{i}}-30\\times ln({Age}_{i})}_{g_{0}^{\\text{obs}}}}_{g_{0}} + \\varepsilon_{0i}\\text{, где }\\varepsilon_{0i}\\sim \\left(8\\times t(15)\\right)$$\n",
        "\n",
        "\n",
        "Уравнение веса младенца при курении матери:\n",
        "\n",
        "$$\\text{Weight}_{1i} = \\underbrace{\\underbrace{11\\times \\text{Genes}_{i}}_{g_{1}^{\\text{unobs}}} + \\underbrace{50\\times \\frac{\\text{Income}_{i}}{5 - \\text{Married}_{i} - \\text{Full_term}_{i}}-50\\times ln({Age}_{i})}_{g_{1}^{\\text{obs}}}}_{g_{1}} + \\varepsilon_{1i}\\text{, где }\\varepsilon_{1i}\\sim \\left(\\text{EXP}(0.1) - 10\\right)$$"
      ]
    },
    {
      "cell_type": "markdown",
      "metadata": {
        "id": "DrEVBmOHMkux"
      },
      "source": [
        "Интерпретация: вес ребенка некурящей матери отличается как минимум на константу - он весит заведомо на 150 грамм больше. Также, здоровый образ жизни в виде отказа от курения повышает отдачу от генетических факторов и дохода семьи, что видно в бОльших коэффициентах при этих переменных."
      ]
    },
    {
      "cell_type": "markdown",
      "metadata": {
        "id": "JAzc5qReNYu3"
      },
      "source": [
        "Наблюдаемый вес новорожденного:\n",
        "\n",
        "$$\\text{Weight}_{i} = \\begin{cases}\\text{Weight}_{1i}\\text{, если }\\text{Smoking}_{i}=1\\\\ \\text{Weight}_{0i}\\text{, если }\\text{Smoking}_{i}=0\\end{cases} = \\\\ =\\text{Weight}_{1i}\\times\\text{Smoking}_{i} + \\text{Weight}_{0i}\\times\\left(1-\\text{Smoking}_{i}\\right)$$"
      ]
    },
    {
      "cell_type": "markdown",
      "metadata": {
        "id": "SWXXcB_uKEj0"
      },
      "source": [
        "##**2. Используя симулированные вами, но недоступные в реальных данных потенциальные исходы (гипотетические значения), получите оценки среднего эффекта воздействия, условных средних эффектов воздействия и локального среднего эффекта воздействия.**\n",
        "Результаты представьте в форме таблицы.\n",
        "Примечание: для получения очень точных оценок эффектов воздействия с\n",
        "помощью потенциальных исходов (гипотетических переменных) можно сперва\n",
        "симулировать очень большого число наблюдений, например, несколько миллионов. Затем, для ускорения вычислений, для оценивания эффектов воздействия\n",
        "с помощью наблюдемых значений можно использовать часть выборки, например, десять тысяч наблюдений."
      ]
    },
    {
      "cell_type": "markdown",
      "metadata": {
        "id": "pmbIF4ryGpDj"
      },
      "source": [
        "Эффект воздействия:\n",
        "\n",
        "$$\\text{TE}_{i} = \\text{Weight}_{1i} - \\text{Weight}_{0i}$$"
      ]
    },
    {
      "cell_type": "code",
      "execution_count": 266,
      "metadata": {
        "colab": {
          "base_uri": "https://localhost:8080/"
        },
        "id": "d7hnm_c_Pfqv",
        "outputId": "f71764b0-ba04-4080-9f73-dd3da534b5a3"
      },
      "outputs": [
        {
          "output_type": "stream",
          "name": "stdout",
          "text": [
            "[-1269.09255512 -1057.26725548 -1115.82441937  -680.39565507\n",
            " -1440.64236122  -775.33338661 -1031.88371508 -1010.13343807\n",
            "  -793.61909957 -1799.95695834]\n"
          ]
        }
      ],
      "source": [
        "# Настоящие эффекты воздействия (не наблюдаются в данных)\n",
        "TE = weight1 - weight0\n",
        "print(TE[0:10])"
      ]
    },
    {
      "cell_type": "markdown",
      "metadata": {
        "id": "UwaaZzZAPfq2"
      },
      "source": [
        "Средний эффект воздействия:\n",
        "\n",
        "$$\\text{ATE} = \\text{E}\\left(\\text{Weight}_{1i} - \\text{Weight}_{0i}\\right)$$"
      ]
    },
    {
      "cell_type": "markdown",
      "metadata": {
        "id": "1Uj8FghyPfq2"
      },
      "source": [
        "Если бы у нас были данные о $\\text{Weight}_{1i}$ и $\\text{Weight}_{0i}$, то мы могли бы очень точно оценить $\\text{ATE}$ как:\n",
        "\n",
        "$$\\widehat{\\text{ATE}} = \\frac{1}{n}\\sum\\limits_{i=1}^{n}\\text{Weight}_{1i} - \\text{Weight}_{0i}$$"
      ]
    },
    {
      "cell_type": "code",
      "execution_count": 267,
      "metadata": {
        "colab": {
          "base_uri": "https://localhost:8080/"
        },
        "id": "TbleMItRPfq2",
        "outputId": "2e1c39aa-b4ca-4218-fc32-f22abfc88230"
      },
      "outputs": [
        {
          "output_type": "stream",
          "name": "stdout",
          "text": [
            "-1108.9850705768824\n"
          ]
        }
      ],
      "source": [
        "# Точное приближение среднего эффекта воздействия, то есть\n",
        "# с помощью оценки, недоступной с помощью реальных данных\n",
        "ATE = np.mean(TE)\n",
        "print(ATE)"
      ]
    },
    {
      "cell_type": "markdown",
      "metadata": {
        "id": "rVeNJYMlPfq2"
      },
      "source": [
        "Локальный средний эффект воздействия:\n",
        "\n",
        "$$\\text{LATE} = \\text{E}(\\text{Weight}_{1i} - \\text{Weight}_{0i} | \\text{Smoking}_{1i} > \\text{Smoking}_{0i})$$"
      ]
    },
    {
      "cell_type": "code",
      "execution_count": 268,
      "metadata": {
        "colab": {
          "base_uri": "https://localhost:8080/"
        },
        "id": "ZwfMKJZ9Pfq2",
        "outputId": "0d111acc-4b38-4406-cde5-8fb93252a1b9"
      },
      "outputs": [
        {
          "output_type": "stream",
          "name": "stdout",
          "text": [
            "-978.5987700686053\n"
          ]
        }
      ],
      "source": [
        "# Точное приближение локального среднего эффекта воздействия, то есть\n",
        "# с помощью оценки, недоступной с помощью реальных данных\n",
        "LATE = np.mean(TE[ind_type == \"Complier\"])\n",
        "print(LATE)"
      ]
    },
    {
      "cell_type": "markdown",
      "metadata": {
        "id": "35--XlubPfq2"
      },
      "source": [
        "Условный средний эффект воздействия:\n",
        "\n",
        "$$\\text{CATE}_{i} = \\text{E}\\left(\\text{Weight}_{1i}|X_{i}\\right) - \\text{E}\\left(\\text{Weight}_{0i}|X_{i}\\right) = g_{1}(X_{i}) - g_{0}(X_{i})$$"
      ]
    },
    {
      "cell_type": "code",
      "execution_count": 269,
      "metadata": {
        "colab": {
          "base_uri": "https://localhost:8080/"
        },
        "id": "euxwAnsqPfq2",
        "outputId": "c373c373-aa93-42b5-eaac-df3582aa6b6c"
      },
      "outputs": [
        {
          "output_type": "stream",
          "name": "stdout",
          "text": [
            "-1109.1591908942323\n"
          ]
        }
      ],
      "source": [
        "# Значения локальных средних эффектов воздействия\n",
        "CATE = np.mean(g1 - g0)\n",
        "print(CATE)"
      ]
    },
    {
      "cell_type": "markdown",
      "metadata": {
        "id": "B_eyKMPAdtrK"
      },
      "source": [
        "Таблица с результатами"
      ]
    },
    {
      "cell_type": "code",
      "execution_count": 270,
      "metadata": {
        "colab": {
          "base_uri": "https://localhost:8080/"
        },
        "id": "tGBQ65uSdCJx",
        "outputId": "d1f7d284-ef72-45f0-b0cd-1ac986727a5c"
      },
      "outputs": [
        {
          "output_type": "stream",
          "name": "stdout",
          "text": [
            "                  ATE       LATE         CATE\n",
            "Значения -1108.985071 -978.59877 -1109.159191\n"
          ]
        }
      ],
      "source": [
        "res_eff = pd.DataFrame(data    = [ATE,LATE,CATE],\n",
        "                   index   = ['ATE','LATE','CATE'],\n",
        "                   columns = ['Значения'])\n",
        "print(res_eff.T)"
      ]
    },
    {
      "cell_type": "markdown",
      "metadata": {
        "id": "cM7DGDDBKJ0S"
      },
      "source": [
        "##**3. Оцените средний эффект воздействия как разницу в средних по выборкам тех,кто получил и не получил воздействие.**\n",
        "Опишите недостатки соответствующего подхода с учетом специфики рассматриваемой вами экономической проблемы. Примечание: в этом пункте и далее, если не сказано иное, используются лишь наблюдаемые значения целевой переменной."
      ]
    },
    {
      "cell_type": "markdown",
      "source": [
        "Допущение о независимости:\n",
        "\n",
        "$$\\text{E}(\\text{Weight}_{1i}|\\text{Smoking}_{i}=1) = \\text{E}(\\text{Weight}_{1i})\\qquad \\text{E}(\\text{Weight}_{0i}|\\text{Smoking}_{i}=0) = \\text{E}(\\text{Weight}_{0i})$$\n",
        "\n",
        "Попробуем оценить ATE наивным способом, опирающимся на допущение о независимости, которое не соблюдается в данном случае, поскольку контрольные переменные и ненаблюдаемая переменная генов одновременно связаны и с фактом курения матери $\\text{Smoking}_{i}$, и с весом ребенка $\\text{Weight}_{i}$. Это и является недостатком данного метода."
      ],
      "metadata": {
        "id": "jU6fTQUj7PCF"
      }
    },
    {
      "cell_type": "markdown",
      "metadata": {
        "id": "80wvswQNR2vU"
      },
      "source": [
        "Наивный подход предполагает оценивание $\\text{ATE}$ как средней разницы в весе новорожденных у  курящей матерей и некурящих.\n",
        "\n",
        "$$\\widehat{\\text{ATE}}_{\\text{naive}} = \\frac{1}{n_{1}}\\sum\\limits_{i:\\text{Smoking}_{i}=1}\\text{Weight}_{1i} - \\frac{1}{n_{0}}\\sum\\limits_{i:\\text{Smoking}_{i}=0}\\text{Weight}_{0i}$$"
      ]
    },
    {
      "cell_type": "code",
      "execution_count": 271,
      "metadata": {
        "colab": {
          "base_uri": "https://localhost:8080/"
        },
        "id": "qOJk33T-R2vc",
        "outputId": "4d74406a-fa2b-41d8-95d8-b7f7187f85d8"
      },
      "outputs": [
        {
          "output_type": "stream",
          "name": "stdout",
          "text": [
            "                                                       ATE\n",
            "Точная оценка с помощью потенциальных исходов -1108.985071\n",
            "Наивная оценка с помощью наблюдаемых исходов  -1447.222040\n"
          ]
        }
      ],
      "source": [
        "# Наивная оценка как разница в выборочных средних\n",
        "ATE_naive = np.mean(weight[smoking == 1]) - np.mean(weight[smoking == 0])\n",
        "\n",
        "# Сравнение точного приближения и наивной оценки\n",
        "# когда у его родителей нет высшего образования и когда оно у них есть\n",
        "print(pd.DataFrame(data    = [ATE, ATE_naive],\n",
        "                   index   = ['Точная оценка с помощью потенциальных исходов',\n",
        "                              'Наивная оценка с помощью наблюдаемых исходов'],\n",
        "                   columns = ['ATE']))"
      ]
    },
    {
      "cell_type": "markdown",
      "metadata": {
        "id": "3ESG9DtSS3_N"
      },
      "source": [
        "##**4. Используя оценки, полученные лучшими из обученных ранее классификационных и регрессионных моделей, оцените средний эффект воздействия с помощью:**\n",
        "* метода наименьших квадратов.\n",
        "* условных математических ожиданий.\n",
        "* взвешивания на обратные вероятности (в случае возникновения ошибок\n",
        "убедитесь в отсутствии оценок вероятностей, равных 0 или 1 и при необходимости измените метод оценивания).\n",
        "* метода, обладающего двойной устойчивостью.\n",
        "* двойного машинного обучения.\n",
        "Сравните результаты и назовите ключевую предпосылку этих методов. Содержательно обсудите причины, по которым она может соблюдаться или нарушаться в вашем случае. Приведите содержательную экономическую интерпретацию оценки среднего эффекта воздействия."
      ]
    },
    {
      "cell_type": "markdown",
      "metadata": {
        "id": "tGc-w6_gTzBf"
      },
      "source": [
        "* **Метод наименьших квадратов**"
      ]
    },
    {
      "cell_type": "markdown",
      "metadata": {
        "id": "p5vEDLvxTzNn"
      },
      "source": [
        "Ослабим допущение о независимости до допущения об условной независимости:\n",
        "\n",
        "$$\\text{E}(\\text{Weight}_{1i}|\\text{Smoking}_{i}=1,X_{i}) = \\text{E}(\\text{Weight}_{1i}|X_{i})\\qquad \\text{E}(\\text{Weight}_{0i}|\\text{Smoking}_{i}=0,X_{i}) = \\text{E}(\\text{Weight}_{0i}|X_{i})$$\n",
        "\n",
        "Попробуем оценить $\\text{ATE}$ рассмотрев среднюю разницу в оценках разного веса, полученных с помощью МНК отдельно сперва по курящим матерям, а затем некурящим.\n",
        "\n",
        "$$\\widehat{\\text{ATE}}_{\\text{LS}} = \\frac{1}{n}\\sum\\limits_{i=1}^{n} \\underbrace{\\hat{\\text{E}}\\left(\\text{Weight}_{1i}|X_{i}\\right) - \\hat{\\text{E}}\\left(\\text{Weight}_{0i}|X_{i}\\right)}_{\\widehat{\\text{CATE}}_{i}}$$\n",
        "\n",
        "Где:\n",
        "\n",
        "\n",
        "*   $\\hat{\\text{E}}\\left(\\text{Weight}_{1i}|X_{i}\\right)$ - оценка, полученная с использованием МНК оценок регрессионных коэффициентов $\\beta$, полученных по выборке из курящих матерей $\\text{Smoking}_{i} = 1$.\n",
        "*   $\\hat{\\text{E}}\\left(\\text{Weight}_{0i}|X_{i}\\right)$ - оценка, полученная с использованием МНК оценок регрессионных коэффициентов $\\beta$, полученных по выборке из некурящих матерей $\\text{Smoking}_{i} = 0$.\n",
        "\n",
        "\n"
      ]
    },
    {
      "cell_type": "code",
      "execution_count": 272,
      "metadata": {
        "id": "L2n_Iv-gRyA3"
      },
      "outputs": [],
      "source": [
        "# Оценим средний эффект воздействия с помощью МНК\n",
        "# МНК оценивание уравнения для некурящих матерей\n",
        "y0 = df.loc[smoking == 0, ['weight']]\n",
        "x0 = df.loc[smoking == 0, df.columns.drop(['weight','age_bin','income_bin', 'smoking_friends', 'smoking','genes'])]\n",
        "x0 = sm.add_constant(x0)\n",
        "ls0 = sm.OLS(y0, x0).fit()\n",
        "\n",
        "# МНК оценивание уравнения курения для курящих\n",
        "y1 = df.loc[smoking == 1, ['weight']]\n",
        "x1 = df.loc[smoking == 1, df.columns.drop(['weight','age_bin','income_bin', 'smoking_friends', 'smoking','genes'])]\n",
        "x1 = sm.add_constant(x1)\n",
        "ls1 = sm.OLS(y1, x1).fit()\n",
        "\n",
        "# Оценим вес новорожденных при наличии и отсутствия курения у матерей с помощью полученных МНК оценок\n",
        "x = df.loc[:, df.columns.drop(['weight','age_bin','income_bin', 'smoking_friends', 'smoking','genes'])]\n",
        "x = sm.add_constant(x)\n",
        "  # МНК оценка E(weight0 | X) для всех женщин\n",
        "weight0_ls = ls0.predict(x)\n",
        "  # МНК оценка E(weight1 | X) для всех женщин\n",
        "weight1_ls = ls1.predict(x)\n",
        "\n",
        "# Оценки CATE\n",
        "CATE_ls = np.array(weight1_ls - weight0_ls)\n",
        "\n",
        "# Оценка ATE как средняя разница в прогнозах МНК оценок\n",
        "ATE_ls = np.mean(CATE_ls)"
      ]
    },
    {
      "cell_type": "code",
      "execution_count": 273,
      "metadata": {
        "colab": {
          "base_uri": "https://localhost:8080/"
        },
        "id": "XtUxGadQX7sP",
        "outputId": "f3117bb3-edb4-430c-cc76-0fdeedc1ab2b"
      },
      "outputs": [
        {
          "output_type": "stream",
          "name": "stdout",
          "text": [
            "                Оценка\n",
            "ATE       -1108.985071\n",
            "ATE naive -1447.222040\n",
            "ATE ls     -960.407584\n"
          ]
        }
      ],
      "source": [
        "# Сравним результаты\n",
        "print(pd.DataFrame(data    = [ATE, ATE_naive, ATE_ls],\n",
        "                   index   = ['ATE', 'ATE naive', \"ATE ls\"],\n",
        "                   columns = ['Оценка']))"
      ]
    },
    {
      "cell_type": "markdown",
      "metadata": {
        "id": "mU3Ga8wupD-a"
      },
      "source": [
        "* **Взвешивание на обратные вероятности**\n",
        "\n"
      ]
    },
    {
      "cell_type": "code",
      "execution_count": 275,
      "metadata": {
        "colab": {
          "base_uri": "https://localhost:8080/"
        },
        "id": "aUjO9lz_pExR",
        "outputId": "8421c9bf-e1ec-45e2-fb00-d499f44092db"
      },
      "outputs": [
        {
          "output_type": "stream",
          "name": "stdout",
          "text": [
            "ATE IPW: -2204.5607284416105\n"
          ]
        }
      ],
      "source": [
        "# Оценивание с помощью обратного взвешивания на вероятности IPW\n",
        "np.random.seed(123)\n",
        "# Подготовка данных\n",
        "target = df['weight']\n",
        "features = df.loc[:, df.columns.drop(['weight','age_bin','income_bin', 'smoking', 'smoking_friends','genes'])]\n",
        "\n",
        "# Подготовка метода машинного обучения для предсказания E(Y | X)\n",
        "g_Y = RandomForestRegressor(n_estimators=150, max_depth=7)\n",
        "g_Y.fit(features, target)\n",
        "E_Y_given_X = g_Y.predict(features)\n",
        "\n",
        "# Подготовка метода машинного обучения для предсказания P(T = 1 | X)\n",
        "gb = RandomForestRegressor(n_estimators=150, max_depth=7)\n",
        "gb.fit(features, df['smoking'])\n",
        "P_T_given_X = gb.predict(features)\n",
        "\n",
        "# Вычисление весов\n",
        "weights = df['smoking'] / P_T_given_X + (1 - df['smoking']) / (1 - P_T_given_X)\n",
        "\n",
        "# Вычисление псевдоисходов\n",
        "pseudo_outcome = weights * (df['weight'] - E_Y_given_X)\n",
        "\n",
        "# Оценка ATE с помощью линейной регрессии\n",
        "reg = LinearRegression()\n",
        "reg.fit(df[['smoking']], pseudo_outcome)\n",
        "ATE_IPW = np.mean(reg.coef_[0])\n",
        "\n",
        "print(\"ATE IPW:\", ATE_IPW)"
      ]
    },
    {
      "cell_type": "markdown",
      "metadata": {
        "id": "5I6Tcff3wz9i"
      },
      "source": [
        "* **Двойное машинное обучение**"
      ]
    },
    {
      "cell_type": "code",
      "source": [
        "#надо добавить ненаблюдаемую переменную, так как должна отсутствовать эндогенность\n",
        "#для удобства также удалим переменные income_bin, age_bin\n",
        "df1 = df.drop(['age_bin','income_bin','smoking_friends'],axis=1)\n",
        "df1.head(3)"
      ],
      "metadata": {
        "colab": {
          "base_uri": "https://localhost:8080/",
          "height": 143
        },
        "id": "xNN1zgmwERhn",
        "outputId": "b1f462d8-6d57-4aad-9a25-695af98e8364"
      },
      "execution_count": 276,
      "outputs": [
        {
          "output_type": "execute_result",
          "data": {
            "text/plain": [
              "        weight  smoking   age  income  married  full_term  genes\n",
              "0  3773.587751        0  21.0   119.0        1          1   62.0\n",
              "1  1989.784386        1  36.0    73.0        1          1   87.0\n",
              "2  3251.918891        0  31.0   110.0        1          1   43.0"
            ],
            "text/html": [
              "\n",
              "  <div id=\"df-3deed4e0-c53f-4618-86c1-a5cf81019eb2\" class=\"colab-df-container\">\n",
              "    <div>\n",
              "<style scoped>\n",
              "    .dataframe tbody tr th:only-of-type {\n",
              "        vertical-align: middle;\n",
              "    }\n",
              "\n",
              "    .dataframe tbody tr th {\n",
              "        vertical-align: top;\n",
              "    }\n",
              "\n",
              "    .dataframe thead th {\n",
              "        text-align: right;\n",
              "    }\n",
              "</style>\n",
              "<table border=\"1\" class=\"dataframe\">\n",
              "  <thead>\n",
              "    <tr style=\"text-align: right;\">\n",
              "      <th></th>\n",
              "      <th>weight</th>\n",
              "      <th>smoking</th>\n",
              "      <th>age</th>\n",
              "      <th>income</th>\n",
              "      <th>married</th>\n",
              "      <th>full_term</th>\n",
              "      <th>genes</th>\n",
              "    </tr>\n",
              "  </thead>\n",
              "  <tbody>\n",
              "    <tr>\n",
              "      <th>0</th>\n",
              "      <td>3773.587751</td>\n",
              "      <td>0</td>\n",
              "      <td>21.0</td>\n",
              "      <td>119.0</td>\n",
              "      <td>1</td>\n",
              "      <td>1</td>\n",
              "      <td>62.0</td>\n",
              "    </tr>\n",
              "    <tr>\n",
              "      <th>1</th>\n",
              "      <td>1989.784386</td>\n",
              "      <td>1</td>\n",
              "      <td>36.0</td>\n",
              "      <td>73.0</td>\n",
              "      <td>1</td>\n",
              "      <td>1</td>\n",
              "      <td>87.0</td>\n",
              "    </tr>\n",
              "    <tr>\n",
              "      <th>2</th>\n",
              "      <td>3251.918891</td>\n",
              "      <td>0</td>\n",
              "      <td>31.0</td>\n",
              "      <td>110.0</td>\n",
              "      <td>1</td>\n",
              "      <td>1</td>\n",
              "      <td>43.0</td>\n",
              "    </tr>\n",
              "  </tbody>\n",
              "</table>\n",
              "</div>\n",
              "    <div class=\"colab-df-buttons\">\n",
              "\n",
              "  <div class=\"colab-df-container\">\n",
              "    <button class=\"colab-df-convert\" onclick=\"convertToInteractive('df-3deed4e0-c53f-4618-86c1-a5cf81019eb2')\"\n",
              "            title=\"Convert this dataframe to an interactive table.\"\n",
              "            style=\"display:none;\">\n",
              "\n",
              "  <svg xmlns=\"http://www.w3.org/2000/svg\" height=\"24px\" viewBox=\"0 -960 960 960\">\n",
              "    <path d=\"M120-120v-720h720v720H120Zm60-500h600v-160H180v160Zm220 220h160v-160H400v160Zm0 220h160v-160H400v160ZM180-400h160v-160H180v160Zm440 0h160v-160H620v160ZM180-180h160v-160H180v160Zm440 0h160v-160H620v160Z\"/>\n",
              "  </svg>\n",
              "    </button>\n",
              "\n",
              "  <style>\n",
              "    .colab-df-container {\n",
              "      display:flex;\n",
              "      gap: 12px;\n",
              "    }\n",
              "\n",
              "    .colab-df-convert {\n",
              "      background-color: #E8F0FE;\n",
              "      border: none;\n",
              "      border-radius: 50%;\n",
              "      cursor: pointer;\n",
              "      display: none;\n",
              "      fill: #1967D2;\n",
              "      height: 32px;\n",
              "      padding: 0 0 0 0;\n",
              "      width: 32px;\n",
              "    }\n",
              "\n",
              "    .colab-df-convert:hover {\n",
              "      background-color: #E2EBFA;\n",
              "      box-shadow: 0px 1px 2px rgba(60, 64, 67, 0.3), 0px 1px 3px 1px rgba(60, 64, 67, 0.15);\n",
              "      fill: #174EA6;\n",
              "    }\n",
              "\n",
              "    .colab-df-buttons div {\n",
              "      margin-bottom: 4px;\n",
              "    }\n",
              "\n",
              "    [theme=dark] .colab-df-convert {\n",
              "      background-color: #3B4455;\n",
              "      fill: #D2E3FC;\n",
              "    }\n",
              "\n",
              "    [theme=dark] .colab-df-convert:hover {\n",
              "      background-color: #434B5C;\n",
              "      box-shadow: 0px 1px 3px 1px rgba(0, 0, 0, 0.15);\n",
              "      filter: drop-shadow(0px 1px 2px rgba(0, 0, 0, 0.3));\n",
              "      fill: #FFFFFF;\n",
              "    }\n",
              "  </style>\n",
              "\n",
              "    <script>\n",
              "      const buttonEl =\n",
              "        document.querySelector('#df-3deed4e0-c53f-4618-86c1-a5cf81019eb2 button.colab-df-convert');\n",
              "      buttonEl.style.display =\n",
              "        google.colab.kernel.accessAllowed ? 'block' : 'none';\n",
              "\n",
              "      async function convertToInteractive(key) {\n",
              "        const element = document.querySelector('#df-3deed4e0-c53f-4618-86c1-a5cf81019eb2');\n",
              "        const dataTable =\n",
              "          await google.colab.kernel.invokeFunction('convertToInteractive',\n",
              "                                                    [key], {});\n",
              "        if (!dataTable) return;\n",
              "\n",
              "        const docLinkHtml = 'Like what you see? Visit the ' +\n",
              "          '<a target=\"_blank\" href=https://colab.research.google.com/notebooks/data_table.ipynb>data table notebook</a>'\n",
              "          + ' to learn more about interactive tables.';\n",
              "        element.innerHTML = '';\n",
              "        dataTable['output_type'] = 'display_data';\n",
              "        await google.colab.output.renderOutput(dataTable, element);\n",
              "        const docLink = document.createElement('div');\n",
              "        docLink.innerHTML = docLinkHtml;\n",
              "        element.appendChild(docLink);\n",
              "      }\n",
              "    </script>\n",
              "  </div>\n",
              "\n",
              "\n",
              "<div id=\"df-ce53d300-c90d-465d-98ab-cf59e417dd15\">\n",
              "  <button class=\"colab-df-quickchart\" onclick=\"quickchart('df-ce53d300-c90d-465d-98ab-cf59e417dd15')\"\n",
              "            title=\"Suggest charts\"\n",
              "            style=\"display:none;\">\n",
              "\n",
              "<svg xmlns=\"http://www.w3.org/2000/svg\" height=\"24px\"viewBox=\"0 0 24 24\"\n",
              "     width=\"24px\">\n",
              "    <g>\n",
              "        <path d=\"M19 3H5c-1.1 0-2 .9-2 2v14c0 1.1.9 2 2 2h14c1.1 0 2-.9 2-2V5c0-1.1-.9-2-2-2zM9 17H7v-7h2v7zm4 0h-2V7h2v10zm4 0h-2v-4h2v4z\"/>\n",
              "    </g>\n",
              "</svg>\n",
              "  </button>\n",
              "\n",
              "<style>\n",
              "  .colab-df-quickchart {\n",
              "      --bg-color: #E8F0FE;\n",
              "      --fill-color: #1967D2;\n",
              "      --hover-bg-color: #E2EBFA;\n",
              "      --hover-fill-color: #174EA6;\n",
              "      --disabled-fill-color: #AAA;\n",
              "      --disabled-bg-color: #DDD;\n",
              "  }\n",
              "\n",
              "  [theme=dark] .colab-df-quickchart {\n",
              "      --bg-color: #3B4455;\n",
              "      --fill-color: #D2E3FC;\n",
              "      --hover-bg-color: #434B5C;\n",
              "      --hover-fill-color: #FFFFFF;\n",
              "      --disabled-bg-color: #3B4455;\n",
              "      --disabled-fill-color: #666;\n",
              "  }\n",
              "\n",
              "  .colab-df-quickchart {\n",
              "    background-color: var(--bg-color);\n",
              "    border: none;\n",
              "    border-radius: 50%;\n",
              "    cursor: pointer;\n",
              "    display: none;\n",
              "    fill: var(--fill-color);\n",
              "    height: 32px;\n",
              "    padding: 0;\n",
              "    width: 32px;\n",
              "  }\n",
              "\n",
              "  .colab-df-quickchart:hover {\n",
              "    background-color: var(--hover-bg-color);\n",
              "    box-shadow: 0 1px 2px rgba(60, 64, 67, 0.3), 0 1px 3px 1px rgba(60, 64, 67, 0.15);\n",
              "    fill: var(--button-hover-fill-color);\n",
              "  }\n",
              "\n",
              "  .colab-df-quickchart-complete:disabled,\n",
              "  .colab-df-quickchart-complete:disabled:hover {\n",
              "    background-color: var(--disabled-bg-color);\n",
              "    fill: var(--disabled-fill-color);\n",
              "    box-shadow: none;\n",
              "  }\n",
              "\n",
              "  .colab-df-spinner {\n",
              "    border: 2px solid var(--fill-color);\n",
              "    border-color: transparent;\n",
              "    border-bottom-color: var(--fill-color);\n",
              "    animation:\n",
              "      spin 1s steps(1) infinite;\n",
              "  }\n",
              "\n",
              "  @keyframes spin {\n",
              "    0% {\n",
              "      border-color: transparent;\n",
              "      border-bottom-color: var(--fill-color);\n",
              "      border-left-color: var(--fill-color);\n",
              "    }\n",
              "    20% {\n",
              "      border-color: transparent;\n",
              "      border-left-color: var(--fill-color);\n",
              "      border-top-color: var(--fill-color);\n",
              "    }\n",
              "    30% {\n",
              "      border-color: transparent;\n",
              "      border-left-color: var(--fill-color);\n",
              "      border-top-color: var(--fill-color);\n",
              "      border-right-color: var(--fill-color);\n",
              "    }\n",
              "    40% {\n",
              "      border-color: transparent;\n",
              "      border-right-color: var(--fill-color);\n",
              "      border-top-color: var(--fill-color);\n",
              "    }\n",
              "    60% {\n",
              "      border-color: transparent;\n",
              "      border-right-color: var(--fill-color);\n",
              "    }\n",
              "    80% {\n",
              "      border-color: transparent;\n",
              "      border-right-color: var(--fill-color);\n",
              "      border-bottom-color: var(--fill-color);\n",
              "    }\n",
              "    90% {\n",
              "      border-color: transparent;\n",
              "      border-bottom-color: var(--fill-color);\n",
              "    }\n",
              "  }\n",
              "</style>\n",
              "\n",
              "  <script>\n",
              "    async function quickchart(key) {\n",
              "      const quickchartButtonEl =\n",
              "        document.querySelector('#' + key + ' button');\n",
              "      quickchartButtonEl.disabled = true;  // To prevent multiple clicks.\n",
              "      quickchartButtonEl.classList.add('colab-df-spinner');\n",
              "      try {\n",
              "        const charts = await google.colab.kernel.invokeFunction(\n",
              "            'suggestCharts', [key], {});\n",
              "      } catch (error) {\n",
              "        console.error('Error during call to suggestCharts:', error);\n",
              "      }\n",
              "      quickchartButtonEl.classList.remove('colab-df-spinner');\n",
              "      quickchartButtonEl.classList.add('colab-df-quickchart-complete');\n",
              "    }\n",
              "    (() => {\n",
              "      let quickchartButtonEl =\n",
              "        document.querySelector('#df-ce53d300-c90d-465d-98ab-cf59e417dd15 button');\n",
              "      quickchartButtonEl.style.display =\n",
              "        google.colab.kernel.accessAllowed ? 'block' : 'none';\n",
              "    })();\n",
              "  </script>\n",
              "</div>\n",
              "    </div>\n",
              "  </div>\n"
            ],
            "application/vnd.google.colaboratory.intrinsic+json": {
              "type": "dataframe",
              "variable_name": "df1",
              "summary": "{\n  \"name\": \"df1\",\n  \"rows\": 10000,\n  \"fields\": [\n    {\n      \"column\": \"weight\",\n      \"properties\": {\n        \"dtype\": \"number\",\n        \"std\": 1043.8638874640326,\n        \"min\": 771.537472352904,\n        \"max\": 6122.119411225766,\n        \"num_unique_values\": 10000,\n        \"samples\": [\n          4853.695665191835,\n          3335.720420602926,\n          2036.6708656227022\n        ],\n        \"semantic_type\": \"\",\n        \"description\": \"\"\n      }\n    },\n    {\n      \"column\": \"smoking\",\n      \"properties\": {\n        \"dtype\": \"number\",\n        \"std\": 0,\n        \"min\": 0,\n        \"max\": 1,\n        \"num_unique_values\": 2,\n        \"samples\": [\n          1,\n          0\n        ],\n        \"semantic_type\": \"\",\n        \"description\": \"\"\n      }\n    },\n    {\n      \"column\": \"age\",\n      \"properties\": {\n        \"dtype\": \"number\",\n        \"std\": 6.9023346095582925,\n        \"min\": 14.0,\n        \"max\": 55.0,\n        \"num_unique_values\": 42,\n        \"samples\": [\n          46.0,\n          44.0\n        ],\n        \"semantic_type\": \"\",\n        \"description\": \"\"\n      }\n    },\n    {\n      \"column\": \"income\",\n      \"properties\": {\n        \"dtype\": \"number\",\n        \"std\": 38.98741383887606,\n        \"min\": 15.0,\n        \"max\": 200.0,\n        \"num_unique_values\": 186,\n        \"samples\": [\n          171.0,\n          30.0\n        ],\n        \"semantic_type\": \"\",\n        \"description\": \"\"\n      }\n    },\n    {\n      \"column\": \"married\",\n      \"properties\": {\n        \"dtype\": \"number\",\n        \"std\": 0,\n        \"min\": 0,\n        \"max\": 1,\n        \"num_unique_values\": 2,\n        \"samples\": [\n          0,\n          1\n        ],\n        \"semantic_type\": \"\",\n        \"description\": \"\"\n      }\n    },\n    {\n      \"column\": \"full_term\",\n      \"properties\": {\n        \"dtype\": \"number\",\n        \"std\": 0,\n        \"min\": 0,\n        \"max\": 1,\n        \"num_unique_values\": 2,\n        \"samples\": [\n          0,\n          1\n        ],\n        \"semantic_type\": \"\",\n        \"description\": \"\"\n      }\n    },\n    {\n      \"column\": \"genes\",\n      \"properties\": {\n        \"dtype\": \"number\",\n        \"std\": 11.181973949358872,\n        \"min\": 19.0,\n        \"max\": 100.0,\n        \"num_unique_values\": 76,\n        \"samples\": [\n          90.0,\n          66.0\n        ],\n        \"semantic_type\": \"\",\n        \"description\": \"\"\n      }\n    }\n  ]\n}"
            }
          },
          "metadata": {},
          "execution_count": 276
        }
      ]
    },
    {
      "cell_type": "code",
      "execution_count": 277,
      "metadata": {
        "colab": {
          "base_uri": "https://localhost:8080/"
        },
        "id": "nY5-b5tEY4rw",
        "outputId": "c531d4d4-f9df-4f8c-c7cc-02387dfc4acf"
      },
      "outputs": [
        {
          "output_type": "stream",
          "name": "stdout",
          "text": [
            "-949.248814770186\n"
          ]
        }
      ],
      "source": [
        "# Данные в формате, необходимом для применения DML\n",
        "dml_standard_data = dml.DoubleMLData(\n",
        "    data = df1,\n",
        "    y_col = 'weight',\n",
        "    d_cols = 'smoking',\n",
        "    x_cols = ['married', 'full_term', 'age', 'income','genes']\n",
        ")\n",
        "\n",
        "# Метод оценивания E(Y | X, T)\n",
        "g_Y = RandomForestRegressor(n_estimators = 150,\n",
        "                        # (7, 150) - подобранные гиперпараметры для регрессии\n",
        "                            max_depth = 7,\n",
        "                            max_features = 5)\n",
        "\n",
        "# Метод оценивания E(T | X)\n",
        "g_T = RandomForestClassifier(n_estimators = 50,\n",
        "                      # (5, 50) - подобранные гиперпараметры для классификации\n",
        "                             max_depth = 5,\n",
        "                             max_features = 5)\n",
        "\n",
        "# Подготовка объекта\n",
        "dml_standard = dml.DoubleMLIRM(dml_standard_data, ml_g=g_Y, ml_m=g_T)\n",
        "\n",
        "# Применение кросс-фиттинга\n",
        "dml_standard.fit()\n",
        "\n",
        "# Сохраним оценку\n",
        "ATE_dml_standard = dml_standard.coef[0]\n",
        "\n",
        "print(ATE_dml_standard)"
      ]
    },
    {
      "cell_type": "code",
      "execution_count": 278,
      "metadata": {
        "colab": {
          "base_uri": "https://localhost:8080/"
        },
        "id": "F49RG0vjY4wj",
        "outputId": "72b66fa0-eea5-4331-8a01-ecdb20ea2553",
        "collapsed": true
      },
      "outputs": [
        {
          "output_type": "stream",
          "name": "stdout",
          "text": [
            "================== DoubleMLIRM Object ==================\n",
            "\n",
            "------------------ Data summary      ------------------\n",
            "Outcome variable: weight\n",
            "Treatment variable(s): ['smoking']\n",
            "Covariates: ['married', 'full_term', 'age', 'income', 'genes']\n",
            "Instrument variable(s): None\n",
            "No. Observations: 10000\n",
            "\n",
            "------------------ Score & algorithm ------------------\n",
            "Score function: ATE\n",
            "\n",
            "------------------ Machine learner   ------------------\n",
            "Learner ml_g: RandomForestRegressor(max_depth=7, max_features=5, n_estimators=150)\n",
            "Learner ml_m: RandomForestClassifier(max_depth=5, max_features=5, n_estimators=50)\n",
            "Out-of-sample Performance:\n",
            "Learner ml_g0 RMSE: [[81.80623889]]\n",
            "Learner ml_g1 RMSE: [[46.86634358]]\n",
            "Learner ml_m RMSE: [[0.13498201]]\n",
            "\n",
            "------------------ Resampling        ------------------\n",
            "No. folds: 5\n",
            "No. repeated sample splits: 1\n",
            "\n",
            "------------------ Fit summary       ------------------\n",
            "               coef   std err           t  P>|t|       2.5 %      97.5 %\n",
            "smoking -949.248815  3.825143 -248.160368    0.0 -956.745957 -941.751673\n"
          ]
        }
      ],
      "source": [
        "print(dml_standard)"
      ]
    },
    {
      "cell_type": "code",
      "execution_count": 279,
      "metadata": {
        "colab": {
          "base_uri": "https://localhost:8080/"
        },
        "id": "S_ePXj2cuh0C",
        "outputId": "50f30e62-0c5c-4f6d-fecb-5ab15cf6dfad"
      },
      "outputs": [
        {
          "output_type": "stream",
          "name": "stdout",
          "text": [
            "                       Оценка\n",
            "ATE              -1108.985071\n",
            "ATE naive        -1447.222040\n",
            "ATE ls            -960.407584\n",
            "ATE dml standard  -949.248815\n"
          ]
        }
      ],
      "source": [
        "# Сопоставим результаты\n",
        "print(pd.DataFrame(data    = [ATE, ATE_naive, ATE_ls, ATE_dml_standard],\n",
        "                   index   = ['ATE', 'ATE naive', 'ATE ls', 'ATE dml standard'],\n",
        "                   columns = ['Оценка']))\n"
      ]
    },
    {
      "cell_type": "markdown",
      "metadata": {
        "id": "ANDiLwoyqDBR"
      },
      "source": [
        "* **метод, обладающий двойной устойсивостью**"
      ]
    },
    {
      "cell_type": "code",
      "execution_count": 280,
      "metadata": {
        "id": "KBYmoOqIuiCB"
      },
      "outputs": [],
      "source": [
        "y = df.loc[:, ['weight']]\n",
        "x = df.loc[:, df.columns.drop(['weight', 'smoking_friends',\n",
        "                               'age_bin','income_bin','genes'])]\n",
        "\n",
        "rf_eff = RandomForestRegressor(n_estimators = 150,\n",
        "                        # (7, 150) - подобранные гиперпараметры для регрессии\n",
        "                            max_depth = 7,\n",
        "                            max_features = 3)\n",
        "\n",
        "rf_eff.fit(x, y)\n",
        "\n",
        "# Оценки E(weight| X, smoking = 0) для всех индивидов,\n",
        "# в том числе для тех, у кого smoking = 1.\n",
        "x0 = deepcopy(x)\n",
        "x0[\"smoking\"] = 0\n",
        "weight0_rf_eff = rf_eff.predict(x0)\n",
        "\n",
        "# Оценки E(weight| X, smoking = 1) для всех индивидов,\n",
        "# в том числе для тех, у кого smoking = 0.\n",
        "x1 = deepcopy(x)\n",
        "x1[\"smoking\"] = 1\n",
        "weight1_rf_eff = rf_eff.predict(x1)"
      ]
    },
    {
      "cell_type": "code",
      "execution_count": 281,
      "metadata": {
        "id": "aKcqCv4nN1T8"
      },
      "outputs": [],
      "source": [
        "# Оценим ATE с помощью DR метода с двойной устойчивостью\n",
        "ATE_DR = np.mean((weight1_rf_eff - weight0_rf_eff) + \\\n",
        "                 smoking * (weight - weight1_rf_eff) / E_Y_given_X - \\\n",
        "                 (1 - weight) * (weight - weight0_rf_eff) / (1 - E_Y_given_X))"
      ]
    },
    {
      "cell_type": "markdown",
      "metadata": {
        "id": "PFo2j5Cesa6S"
      },
      "source": [
        "* метод условных математических ожиданий"
      ]
    },
    {
      "cell_type": "code",
      "execution_count": 282,
      "metadata": {
        "id": "OYShXAq8uiQi"
      },
      "outputs": [],
      "source": [
        "# Оценки CATE\n",
        "CATE_S = weight1_rf_eff - weight0_rf_eff\n",
        "\n",
        "# Оценка ATE\n",
        "ATE_S = np.mean(CATE_S)"
      ]
    },
    {
      "cell_type": "markdown",
      "metadata": {
        "id": "2kGTSYjJs2PW"
      },
      "source": [
        "Все полученные средние эффекты:"
      ]
    },
    {
      "cell_type": "code",
      "execution_count": 283,
      "metadata": {
        "colab": {
          "base_uri": "https://localhost:8080/"
        },
        "id": "IXl04j1-uiUn",
        "outputId": "143dabbe-424f-4c68-ea98-fdf838dcc7d9"
      },
      "outputs": [
        {
          "output_type": "stream",
          "name": "stdout",
          "text": [
            "                       Оценка\n",
            "ATE              -1108.985071\n",
            "ATE naive        -1447.222040\n",
            "ATE ls            -960.407584\n",
            "ATE dml standard  -949.248815\n",
            "ATE IPW          -2204.560728\n",
            "ATE DR            -722.291718\n",
            "ATE S-learner     -861.718140\n"
          ]
        }
      ],
      "source": [
        "#  Сопоставим результаты\n",
        "print(pd.DataFrame(data    = [ATE, ATE_naive, ATE_ls, ATE_dml_standard,\n",
        "                              ATE_IPW, ATE_DR, ATE_S],\n",
        "                   index   = ['ATE', 'ATE naive', 'ATE ls', 'ATE dml standard',\n",
        "                              'ATE IPW', 'ATE DR', 'ATE S-learner'],\n",
        "                   columns = ['Оценка']))"
      ]
    },
    {
      "cell_type": "markdown",
      "metadata": {
        "id": "2EQA5pqDtqr-"
      },
      "source": [
        "* **Сравните результаты** и назовите ключевую предпосылку этих методов. Содержательно обсудите причины, по которым она может соблюдаться или нарушаться в вашем случае. Приведите содержательную экономическую интерпретацию оценки среднего эффекта воздействия"
      ]
    },
    {
      "cell_type": "markdown",
      "source": [
        "Основной предпосылкой тут является предпосылка об условной независимости. Она может не соблюдаться в случае наличия эндогенности, то есть, в случае пропуска переменной Genes. Обычно она соблюдается, когда в контрольных переменных отражены все факторы, которые могут влиять на переменную воздействия и на целевую переменную.\n",
        "Посмотрим внимательно на полученные результаты: оценки всех методов получились отрицательными, что логически объяснимо, так как курение матери должно уменьшать вес новорожденного. В среднем по нашей выборке, факт курения матери уменьшает вес ребенка примерно на килограмм. Отметим, что оценка методом взвешивания на обратные вероятности кажется нам неправдоподобной, так как по ней разница в весе младенцев, рожденных курящими и некурящими женщинами, составляет около 2,2 кг. Однако, при среднем весе детей по выборке около 3 килограмм, такой результат нельзя назвать сопоставимым с реальностью."
      ],
      "metadata": {
        "id": "-y3ZgrbOQdoS"
      }
    },
    {
      "cell_type": "markdown",
      "metadata": {
        "id": "yCthAIu0tvXa"
      },
      "source": [
        "* Оценка среднего эффекта воздействия (ATE)\n",
        "\n",
        " Предпосылки:\n",
        "     Необходимо наличие данных о воздействии и исходе для контрольной и экспериментальной групп.\n",
        "     Предполагается, что наблюдаемые различия в исходе между группами связаны только с воздействием, а не с другими факторами.\n",
        "     Должно быть возможно оценить эффект воздействия, используя различия в исходах между группами.\n",
        "\n",
        "* Оценка наивного подхода среднего эффекта воздействия\n",
        "\n",
        " Предпосылки:\n",
        "     Необходимо наличие данных о воздействии и исходе для контрольной и экспериментальной групп.\n",
        "     Предполагается, что группы сравнения сопоставимы по всем другим факторам, кроме воздействия.\n",
        "     Этот метод не корректирует на различия в группах по не наблюдаемым факторам, что может привести к смещенным результатам.\n",
        "\n",
        "* Оценка среднего эффекта воздействия с помощью метода наименьших квадратов (OLS)\n",
        "\n",
        " Предпосылки:\n",
        "     Необходимо наличие данных о воздействии и исходе для контрольной и экспериментальной групп.\n",
        "     Необходимо наличие переменных, которые могут объяснить различия в исходах между группами.\n",
        "     Предполагается, что линейная регрессионная модель, используемая для оценки эффекта воздействия, является корректной.\n",
        "     Предполагается, что нет мультиколлинеарности в модели.\n",
        "     Предполагается, что нет эндогенности, то есть не наблюдаемые факторы не влияют как на воздействие, так и на исход.\n",
        "\n",
        "* Оценка среднего эффекта воздействия с помощью двойного машинного обучения (DML)\n",
        "\n",
        " Предпосылки:\n",
        "     Необходимо наличие данных о воздействии и исходе для контрольной и экспериментальной групп.\n",
        "     Необходимо наличие переменных, которые могут объяснить различия в исходах между группами.\n",
        "     Допускается нелинейная зависимость между воздействием и исходом.\n",
        "     Предполагается, что нет эндогенности, то есть не наблюдаемые факторы не влияют как на воздействие, так и на исход.\n",
        "     Этот метод использует два этапа обучения машинного обучения, чтобы получить более точные оценки ATE.\n",
        "\n",
        "* Оценка среднего эффекта воздействия с помощью метода взвешивания на обратные вероятности (IPW)\n",
        "\n",
        " Предпосылки:\n",
        "     Необходимо наличие данных о воздействии и исходе для контрольной и экспериментальной групп.\n",
        "     Необходимо наличие переменных, которые могут объяснить различия в исходах между группами.\n",
        "     Предполагается, что мы можем оценить вероятности получения воздействия для каждого наблюдения (т.е. вероятность попадания в контрольную или экспериментальную группу).\n",
        "     Предполагается, что нет сильного несоответствия между группами по не наблюдаемым факторам.\n",
        "\n",
        "* Оценка среднего эффекта воздействия с помощью метода с двойной устойчивостью (DRS)\n",
        "\n",
        " Предпосылки:\n",
        "     Необходимо наличие данных о воздействии и исходе для контрольной и экспериментальной групп.\n",
        "     Необходимо наличие переменных, которые могут объяснить различия в исходах между группами.\n",
        "     Предполагается, что существуют стабильные переменные, которые не зависят от воздействия и которые могут использоваться для контроля за не наблюдаемыми факторами.\n",
        "     Этот метод использует две отдельные модели, чтобы оценить эффект воздействия и проверить его устойчивость.\n",
        "\n",
        "* Оценка среднего эффекта воздействия с помощью метода условных математических ожиданий (CEM)\n",
        "\n",
        " Предпосылки:\n",
        "     Необходимо наличие данных о воздействии и исходе для контрольной и экспериментальной групп.\n",
        "     Необходимо наличие переменных, которые могут объяснить различия в исходах между группами.\n",
        "     Предполагается, что мы можем найти контрольные наблюдения, которые очень похожи на экспериментальные по всем не наблюдаемым факторам.\n",
        "     Этот метод использует matching, чтобы сопоставить контрольные наблюдения с экспериментальными и оценить эффект воздействия.\n"
      ]
    },
    {
      "cell_type": "markdown",
      "metadata": {
        "id": "shOfUcTHtQIh"
      },
      "source": [
        "##**5. Оцените локальный условный эффект воздействия с помощью:**\n",
        "* двойного машинного обучения без инструментальной переменной.\n",
        "\n",
        "* двойного машинного обучения с инструментальной переменной.\n"
      ]
    },
    {
      "cell_type": "markdown",
      "metadata": {
        "id": "A0I9_aGG3Tdn"
      },
      "source": [
        "Восмпользуемся ДМО **без инструментальных переменных**.\n",
        "\n",
        "Представим, что переменная $\\text{Genes}_{i}$  отсутствует в данных, из-за чего возникает эндогенность, поскольку эта переменная влияет на вес ребенка, но также связана с фактом курения матери, то есть, с одной из объясняющих переменных."
      ]
    },
    {
      "cell_type": "code",
      "execution_count": 284,
      "metadata": {
        "id": "ySQ2BjvruiZG"
      },
      "outputs": [],
      "source": [
        "# Данные в формате, необходимом для применения DML\n",
        "dml_standard2_data = dml.DoubleMLData(\n",
        "                            data = df1,\n",
        "                            y_col = 'weight',\n",
        "                            d_cols = 'smoking',\n",
        "                            x_cols = ['married', 'income', 'age', 'full_term'])\n",
        "\n",
        "# Подготовка объекта\n",
        "dml_standard2 = dml.DoubleMLIRM(\n",
        "    obj_dml_data=dml_standard2_data,\n",
        "    ml_g=g_Y, ml_m=g_T,\n",
        "    n_folds=5)\n",
        "\n",
        "# Оценим параметры\n",
        "dml_standard2.fit()\n",
        "\n",
        "# Посмотрим на результат\n",
        "#print(dml_standard2)\n",
        "\n",
        "# Сохраним оценку\n",
        "LATE_dml_standard2 = dml_standard2.coef[0]"
      ]
    },
    {
      "cell_type": "markdown",
      "metadata": {
        "id": "C8eHoVR94T4h"
      },
      "source": [
        "Далее используем ДМО метод оценивания $\\text{LATE}$ с помощью инструментальных переменных.\n",
        "\n",
        "Для оценивания $\\text{LATE}$ с помощью ДМО с инструментальными переменными используется функция `DoubleMLIIVM()`, в которой метод оценивания $\\text{E}(Z_{i} | X_{i})$ подается через аргумент `ml_m`."
      ]
    },
    {
      "cell_type": "code",
      "source": [
        "df2 = df.drop(['age_bin','income_bin','genes'],axis=1)\n",
        "df2.head(3)"
      ],
      "metadata": {
        "colab": {
          "base_uri": "https://localhost:8080/",
          "height": 143
        },
        "id": "cgXvJzE2gbfs",
        "outputId": "b3b15910-33d4-4783-931f-22fdde94f145"
      },
      "execution_count": 285,
      "outputs": [
        {
          "output_type": "execute_result",
          "data": {
            "text/plain": [
              "        weight  smoking   age  income  married  full_term  smoking_friends\n",
              "0  3773.587751        0  21.0   119.0        1          1                1\n",
              "1  1989.784386        1  36.0    73.0        1          1                1\n",
              "2  3251.918891        0  31.0   110.0        1          1                1"
            ],
            "text/html": [
              "\n",
              "  <div id=\"df-39d1df97-757e-42f9-a571-574b715298ed\" class=\"colab-df-container\">\n",
              "    <div>\n",
              "<style scoped>\n",
              "    .dataframe tbody tr th:only-of-type {\n",
              "        vertical-align: middle;\n",
              "    }\n",
              "\n",
              "    .dataframe tbody tr th {\n",
              "        vertical-align: top;\n",
              "    }\n",
              "\n",
              "    .dataframe thead th {\n",
              "        text-align: right;\n",
              "    }\n",
              "</style>\n",
              "<table border=\"1\" class=\"dataframe\">\n",
              "  <thead>\n",
              "    <tr style=\"text-align: right;\">\n",
              "      <th></th>\n",
              "      <th>weight</th>\n",
              "      <th>smoking</th>\n",
              "      <th>age</th>\n",
              "      <th>income</th>\n",
              "      <th>married</th>\n",
              "      <th>full_term</th>\n",
              "      <th>smoking_friends</th>\n",
              "    </tr>\n",
              "  </thead>\n",
              "  <tbody>\n",
              "    <tr>\n",
              "      <th>0</th>\n",
              "      <td>3773.587751</td>\n",
              "      <td>0</td>\n",
              "      <td>21.0</td>\n",
              "      <td>119.0</td>\n",
              "      <td>1</td>\n",
              "      <td>1</td>\n",
              "      <td>1</td>\n",
              "    </tr>\n",
              "    <tr>\n",
              "      <th>1</th>\n",
              "      <td>1989.784386</td>\n",
              "      <td>1</td>\n",
              "      <td>36.0</td>\n",
              "      <td>73.0</td>\n",
              "      <td>1</td>\n",
              "      <td>1</td>\n",
              "      <td>1</td>\n",
              "    </tr>\n",
              "    <tr>\n",
              "      <th>2</th>\n",
              "      <td>3251.918891</td>\n",
              "      <td>0</td>\n",
              "      <td>31.0</td>\n",
              "      <td>110.0</td>\n",
              "      <td>1</td>\n",
              "      <td>1</td>\n",
              "      <td>1</td>\n",
              "    </tr>\n",
              "  </tbody>\n",
              "</table>\n",
              "</div>\n",
              "    <div class=\"colab-df-buttons\">\n",
              "\n",
              "  <div class=\"colab-df-container\">\n",
              "    <button class=\"colab-df-convert\" onclick=\"convertToInteractive('df-39d1df97-757e-42f9-a571-574b715298ed')\"\n",
              "            title=\"Convert this dataframe to an interactive table.\"\n",
              "            style=\"display:none;\">\n",
              "\n",
              "  <svg xmlns=\"http://www.w3.org/2000/svg\" height=\"24px\" viewBox=\"0 -960 960 960\">\n",
              "    <path d=\"M120-120v-720h720v720H120Zm60-500h600v-160H180v160Zm220 220h160v-160H400v160Zm0 220h160v-160H400v160ZM180-400h160v-160H180v160Zm440 0h160v-160H620v160ZM180-180h160v-160H180v160Zm440 0h160v-160H620v160Z\"/>\n",
              "  </svg>\n",
              "    </button>\n",
              "\n",
              "  <style>\n",
              "    .colab-df-container {\n",
              "      display:flex;\n",
              "      gap: 12px;\n",
              "    }\n",
              "\n",
              "    .colab-df-convert {\n",
              "      background-color: #E8F0FE;\n",
              "      border: none;\n",
              "      border-radius: 50%;\n",
              "      cursor: pointer;\n",
              "      display: none;\n",
              "      fill: #1967D2;\n",
              "      height: 32px;\n",
              "      padding: 0 0 0 0;\n",
              "      width: 32px;\n",
              "    }\n",
              "\n",
              "    .colab-df-convert:hover {\n",
              "      background-color: #E2EBFA;\n",
              "      box-shadow: 0px 1px 2px rgba(60, 64, 67, 0.3), 0px 1px 3px 1px rgba(60, 64, 67, 0.15);\n",
              "      fill: #174EA6;\n",
              "    }\n",
              "\n",
              "    .colab-df-buttons div {\n",
              "      margin-bottom: 4px;\n",
              "    }\n",
              "\n",
              "    [theme=dark] .colab-df-convert {\n",
              "      background-color: #3B4455;\n",
              "      fill: #D2E3FC;\n",
              "    }\n",
              "\n",
              "    [theme=dark] .colab-df-convert:hover {\n",
              "      background-color: #434B5C;\n",
              "      box-shadow: 0px 1px 3px 1px rgba(0, 0, 0, 0.15);\n",
              "      filter: drop-shadow(0px 1px 2px rgba(0, 0, 0, 0.3));\n",
              "      fill: #FFFFFF;\n",
              "    }\n",
              "  </style>\n",
              "\n",
              "    <script>\n",
              "      const buttonEl =\n",
              "        document.querySelector('#df-39d1df97-757e-42f9-a571-574b715298ed button.colab-df-convert');\n",
              "      buttonEl.style.display =\n",
              "        google.colab.kernel.accessAllowed ? 'block' : 'none';\n",
              "\n",
              "      async function convertToInteractive(key) {\n",
              "        const element = document.querySelector('#df-39d1df97-757e-42f9-a571-574b715298ed');\n",
              "        const dataTable =\n",
              "          await google.colab.kernel.invokeFunction('convertToInteractive',\n",
              "                                                    [key], {});\n",
              "        if (!dataTable) return;\n",
              "\n",
              "        const docLinkHtml = 'Like what you see? Visit the ' +\n",
              "          '<a target=\"_blank\" href=https://colab.research.google.com/notebooks/data_table.ipynb>data table notebook</a>'\n",
              "          + ' to learn more about interactive tables.';\n",
              "        element.innerHTML = '';\n",
              "        dataTable['output_type'] = 'display_data';\n",
              "        await google.colab.output.renderOutput(dataTable, element);\n",
              "        const docLink = document.createElement('div');\n",
              "        docLink.innerHTML = docLinkHtml;\n",
              "        element.appendChild(docLink);\n",
              "      }\n",
              "    </script>\n",
              "  </div>\n",
              "\n",
              "\n",
              "<div id=\"df-03b057c4-d17a-4036-b0ea-a18c29f3a58f\">\n",
              "  <button class=\"colab-df-quickchart\" onclick=\"quickchart('df-03b057c4-d17a-4036-b0ea-a18c29f3a58f')\"\n",
              "            title=\"Suggest charts\"\n",
              "            style=\"display:none;\">\n",
              "\n",
              "<svg xmlns=\"http://www.w3.org/2000/svg\" height=\"24px\"viewBox=\"0 0 24 24\"\n",
              "     width=\"24px\">\n",
              "    <g>\n",
              "        <path d=\"M19 3H5c-1.1 0-2 .9-2 2v14c0 1.1.9 2 2 2h14c1.1 0 2-.9 2-2V5c0-1.1-.9-2-2-2zM9 17H7v-7h2v7zm4 0h-2V7h2v10zm4 0h-2v-4h2v4z\"/>\n",
              "    </g>\n",
              "</svg>\n",
              "  </button>\n",
              "\n",
              "<style>\n",
              "  .colab-df-quickchart {\n",
              "      --bg-color: #E8F0FE;\n",
              "      --fill-color: #1967D2;\n",
              "      --hover-bg-color: #E2EBFA;\n",
              "      --hover-fill-color: #174EA6;\n",
              "      --disabled-fill-color: #AAA;\n",
              "      --disabled-bg-color: #DDD;\n",
              "  }\n",
              "\n",
              "  [theme=dark] .colab-df-quickchart {\n",
              "      --bg-color: #3B4455;\n",
              "      --fill-color: #D2E3FC;\n",
              "      --hover-bg-color: #434B5C;\n",
              "      --hover-fill-color: #FFFFFF;\n",
              "      --disabled-bg-color: #3B4455;\n",
              "      --disabled-fill-color: #666;\n",
              "  }\n",
              "\n",
              "  .colab-df-quickchart {\n",
              "    background-color: var(--bg-color);\n",
              "    border: none;\n",
              "    border-radius: 50%;\n",
              "    cursor: pointer;\n",
              "    display: none;\n",
              "    fill: var(--fill-color);\n",
              "    height: 32px;\n",
              "    padding: 0;\n",
              "    width: 32px;\n",
              "  }\n",
              "\n",
              "  .colab-df-quickchart:hover {\n",
              "    background-color: var(--hover-bg-color);\n",
              "    box-shadow: 0 1px 2px rgba(60, 64, 67, 0.3), 0 1px 3px 1px rgba(60, 64, 67, 0.15);\n",
              "    fill: var(--button-hover-fill-color);\n",
              "  }\n",
              "\n",
              "  .colab-df-quickchart-complete:disabled,\n",
              "  .colab-df-quickchart-complete:disabled:hover {\n",
              "    background-color: var(--disabled-bg-color);\n",
              "    fill: var(--disabled-fill-color);\n",
              "    box-shadow: none;\n",
              "  }\n",
              "\n",
              "  .colab-df-spinner {\n",
              "    border: 2px solid var(--fill-color);\n",
              "    border-color: transparent;\n",
              "    border-bottom-color: var(--fill-color);\n",
              "    animation:\n",
              "      spin 1s steps(1) infinite;\n",
              "  }\n",
              "\n",
              "  @keyframes spin {\n",
              "    0% {\n",
              "      border-color: transparent;\n",
              "      border-bottom-color: var(--fill-color);\n",
              "      border-left-color: var(--fill-color);\n",
              "    }\n",
              "    20% {\n",
              "      border-color: transparent;\n",
              "      border-left-color: var(--fill-color);\n",
              "      border-top-color: var(--fill-color);\n",
              "    }\n",
              "    30% {\n",
              "      border-color: transparent;\n",
              "      border-left-color: var(--fill-color);\n",
              "      border-top-color: var(--fill-color);\n",
              "      border-right-color: var(--fill-color);\n",
              "    }\n",
              "    40% {\n",
              "      border-color: transparent;\n",
              "      border-right-color: var(--fill-color);\n",
              "      border-top-color: var(--fill-color);\n",
              "    }\n",
              "    60% {\n",
              "      border-color: transparent;\n",
              "      border-right-color: var(--fill-color);\n",
              "    }\n",
              "    80% {\n",
              "      border-color: transparent;\n",
              "      border-right-color: var(--fill-color);\n",
              "      border-bottom-color: var(--fill-color);\n",
              "    }\n",
              "    90% {\n",
              "      border-color: transparent;\n",
              "      border-bottom-color: var(--fill-color);\n",
              "    }\n",
              "  }\n",
              "</style>\n",
              "\n",
              "  <script>\n",
              "    async function quickchart(key) {\n",
              "      const quickchartButtonEl =\n",
              "        document.querySelector('#' + key + ' button');\n",
              "      quickchartButtonEl.disabled = true;  // To prevent multiple clicks.\n",
              "      quickchartButtonEl.classList.add('colab-df-spinner');\n",
              "      try {\n",
              "        const charts = await google.colab.kernel.invokeFunction(\n",
              "            'suggestCharts', [key], {});\n",
              "      } catch (error) {\n",
              "        console.error('Error during call to suggestCharts:', error);\n",
              "      }\n",
              "      quickchartButtonEl.classList.remove('colab-df-spinner');\n",
              "      quickchartButtonEl.classList.add('colab-df-quickchart-complete');\n",
              "    }\n",
              "    (() => {\n",
              "      let quickchartButtonEl =\n",
              "        document.querySelector('#df-03b057c4-d17a-4036-b0ea-a18c29f3a58f button');\n",
              "      quickchartButtonEl.style.display =\n",
              "        google.colab.kernel.accessAllowed ? 'block' : 'none';\n",
              "    })();\n",
              "  </script>\n",
              "</div>\n",
              "    </div>\n",
              "  </div>\n"
            ],
            "application/vnd.google.colaboratory.intrinsic+json": {
              "type": "dataframe",
              "variable_name": "df2",
              "summary": "{\n  \"name\": \"df2\",\n  \"rows\": 10000,\n  \"fields\": [\n    {\n      \"column\": \"weight\",\n      \"properties\": {\n        \"dtype\": \"number\",\n        \"std\": 1043.8638874640326,\n        \"min\": 771.537472352904,\n        \"max\": 6122.119411225766,\n        \"num_unique_values\": 10000,\n        \"samples\": [\n          4853.695665191835,\n          3335.720420602926,\n          2036.6708656227022\n        ],\n        \"semantic_type\": \"\",\n        \"description\": \"\"\n      }\n    },\n    {\n      \"column\": \"smoking\",\n      \"properties\": {\n        \"dtype\": \"number\",\n        \"std\": 0,\n        \"min\": 0,\n        \"max\": 1,\n        \"num_unique_values\": 2,\n        \"samples\": [\n          1,\n          0\n        ],\n        \"semantic_type\": \"\",\n        \"description\": \"\"\n      }\n    },\n    {\n      \"column\": \"age\",\n      \"properties\": {\n        \"dtype\": \"number\",\n        \"std\": 6.9023346095582925,\n        \"min\": 14.0,\n        \"max\": 55.0,\n        \"num_unique_values\": 42,\n        \"samples\": [\n          46.0,\n          44.0\n        ],\n        \"semantic_type\": \"\",\n        \"description\": \"\"\n      }\n    },\n    {\n      \"column\": \"income\",\n      \"properties\": {\n        \"dtype\": \"number\",\n        \"std\": 38.98741383887606,\n        \"min\": 15.0,\n        \"max\": 200.0,\n        \"num_unique_values\": 186,\n        \"samples\": [\n          171.0,\n          30.0\n        ],\n        \"semantic_type\": \"\",\n        \"description\": \"\"\n      }\n    },\n    {\n      \"column\": \"married\",\n      \"properties\": {\n        \"dtype\": \"number\",\n        \"std\": 0,\n        \"min\": 0,\n        \"max\": 1,\n        \"num_unique_values\": 2,\n        \"samples\": [\n          0,\n          1\n        ],\n        \"semantic_type\": \"\",\n        \"description\": \"\"\n      }\n    },\n    {\n      \"column\": \"full_term\",\n      \"properties\": {\n        \"dtype\": \"number\",\n        \"std\": 0,\n        \"min\": 0,\n        \"max\": 1,\n        \"num_unique_values\": 2,\n        \"samples\": [\n          0,\n          1\n        ],\n        \"semantic_type\": \"\",\n        \"description\": \"\"\n      }\n    },\n    {\n      \"column\": \"smoking_friends\",\n      \"properties\": {\n        \"dtype\": \"number\",\n        \"std\": 0,\n        \"min\": 0,\n        \"max\": 1,\n        \"num_unique_values\": 2,\n        \"samples\": [\n          0,\n          1\n        ],\n        \"semantic_type\": \"\",\n        \"description\": \"\"\n      }\n    }\n  ]\n}"
            }
          },
          "metadata": {},
          "execution_count": 285
        }
      ]
    },
    {
      "cell_type": "code",
      "source": [
        "dml_iv_data = dml.DoubleMLData(data=df2,\n",
        "                               y_col='weight',\n",
        "                               d_cols='smoking',\n",
        "                               z_cols='smoking_friends',\n",
        "                               x_cols=['income', 'age', 'married', 'full_term'])\n",
        "\n",
        "# Метод оценивания E(Z | X)\n",
        "g_Z = RandomForestClassifier(n_estimators=100, max_depth=5, random_state=123)\n",
        "\n",
        "# Метод оценивания E(Y | X)\n",
        "g_Y = RandomForestRegressor(n_estimators=150, max_depth=7, random_state=123)\n",
        "\n",
        "# Метод оценивания P(T = 1 | X)\n",
        "g_T = RandomForestClassifier(n_estimators=50, max_depth=5, random_state=123)\n",
        "\n",
        "# Подготовка объекта DML\n",
        "dml_iv = dml.DoubleMLIIVM(obj_dml_data=dml_iv_data,\n",
        "                          ml_g=g_Y, ml_m=g_Z, ml_r=g_T,\n",
        "                          n_rep=1,\n",
        "                          n_folds=5)\n",
        "\n",
        "# Оценим параметры\n",
        "dml_iv.fit()\n",
        "\n",
        "# Посмотрим на результат\n",
        "#print(dml_iv)\n",
        "\n",
        "# Сохраним оценку\n",
        "LATE_dml_iv = dml_iv.coef[0]\n",
        "print(LATE_dml_iv)"
      ],
      "metadata": {
        "colab": {
          "base_uri": "https://localhost:8080/"
        },
        "id": "VOFrUg6JssuG",
        "outputId": "0a3c5089-2d22-4bc0-fdd3-9132e8b37044"
      },
      "execution_count": 287,
      "outputs": [
        {
          "output_type": "stream",
          "name": "stdout",
          "text": [
            "-6616.121138782759\n"
          ]
        }
      ]
    },
    {
      "cell_type": "code",
      "execution_count": 288,
      "metadata": {
        "colab": {
          "base_uri": "https://localhost:8080/"
        },
        "id": "9c15uqlrx0FD",
        "outputId": "9239691b-c462-4df7-b028-0b918fa44ea0"
      },
      "outputs": [
        {
          "output_type": "stream",
          "name": "stdout",
          "text": [
            "                         Оценка\n",
            "ATE                -1108.985071\n",
            "LATE                -978.598770\n",
            "LATE dml standard2  -864.366625\n",
            "LATE dml iv        -6616.121139\n"
          ]
        }
      ],
      "source": [
        "# Сопоставим результаты\n",
        "print(pd.DataFrame(data    = [ATE, LATE, LATE_dml_standard2, LATE_dml_iv],\n",
        "                   index   = ['ATE', 'LATE', 'LATE dml standard2', 'LATE dml iv'],\n",
        "                   columns = ['Оценка']))"
      ]
    },
    {
      "cell_type": "markdown",
      "metadata": {
        "id": "Pr_QvhBj4-Mt"
      },
      "source": [
        "Сопоставьте результаты и объясните, в чем в вашем случае будет заключаться различие между средним эффектом воздействия и локальным средним эффектом воздействия. Приведите содержательную экономическую интерпретацию оценки локального среднего эффекта воздействия\n"
      ]
    },
    {
      "cell_type": "markdown",
      "metadata": {
        "id": "KDSS4EZc5O2j"
      },
      "source": [
        "Средний эффект воздейтсвия в нашем случае показывает среднюю разницу в весе младенцев у рожениц, которые курят и у тех, кто не курит. Получается, эта разнциа составляет прмиерно 1,1кг. Локальный средний эффект воздействия показывает разницу внутри группы \"Compliers\", то есть, среди тех матерей, которые курят только тогда, когда у них есть курящие друзья. Получается, что локальный средний эффект воздействия нам показал, что среди комплаеров разница в весе новорожденных у тех, у кого есть курящие друзья и у тех, у кого их нет, составила примерно 980 грамм. Оценки LATE, которые применялись для борьбы с эндогенностью,оказалось довольно трудно интерпретировать. Первая модель не учитывала эндогенность и показала примерно схожий с обычным LATE результат, а вторая, где была учтена инструментальная переменная, показала аномальное значение - вес детей у женщин-комплаеров, у которых есть курящие друзья, в среднем меньше веса тех, у кого нет друзей курильщиков, в среднем на 6,5 кг. Конечно, этот результат не похож на правду, учитывая средний вес новорожденных."
      ]
    },
    {
      "cell_type": "markdown",
      "source": [
        "**Повышенная сложность:** Воспользуйтесь также параметрической моделью, например, с помощью пакета switchSelection. Обсудите преимущества и недостатки такого подхода по сравненинию с двойным машинным обучением."
      ],
      "metadata": {
        "id": "H7EAJzQBwgqa"
      }
    },
    {
      "cell_type": "markdown",
      "source": [
        "Мы решили попробовать рассмотреть проблему эндогенности также с помощью двухшагового МНК, как было предложено в курсе эконометрики."
      ],
      "metadata": {
        "id": "N2mlRUPcwyRf"
      }
    },
    {
      "cell_type": "code",
      "source": [
        "# Оценка smoking как функции инструментальных и контрольных переменных\n",
        "formula_stage1 = 'smoking ~ smoking_friends + married + full_term + income + age'\n",
        "model_stage1 = smf.ols(formula_stage1, data=df2).fit()\n",
        "\n",
        "# Получение предсказанных значений\n",
        "df2['smoking_hat'] = model_stage1.predict(df)\n",
        "\n",
        "#Оценка life как функции предсказанных значений smoking и контрольных переменных\n",
        "formula_stage2 = 'weight ~ smoking_hat + married + full_term + income + age'\n",
        "model_stage2 = smf.ols(formula_stage2, data=df2).fit()\n",
        "\n",
        "# Результаты\n",
        "print(model_stage2.summary())"
      ],
      "metadata": {
        "colab": {
          "base_uri": "https://localhost:8080/"
        },
        "id": "ybacIW5_wT7D",
        "outputId": "64544a3e-270b-41ce-c75a-1294dabae315"
      },
      "execution_count": 289,
      "outputs": [
        {
          "output_type": "stream",
          "name": "stdout",
          "text": [
            "                            OLS Regression Results                            \n",
            "==============================================================================\n",
            "Dep. Variable:                 weight   R-squared:                       0.887\n",
            "Model:                            OLS   Adj. R-squared:                  0.887\n",
            "Method:                 Least Squares   F-statistic:                 1.569e+04\n",
            "Date:                Sun, 09 Jun 2024   Prob (F-statistic):               0.00\n",
            "Time:                        19:19:23   Log-Likelihood:                -72795.\n",
            "No. Observations:               10000   AIC:                         1.456e+05\n",
            "Df Residuals:                    9994   BIC:                         1.456e+05\n",
            "Df Model:                           5                                         \n",
            "Covariance Type:            nonrobust                                         \n",
            "===============================================================================\n",
            "                  coef    std err          t      P>|t|      [0.025      0.975]\n",
            "-------------------------------------------------------------------------------\n",
            "Intercept   -1622.4749    312.678     -5.189      0.000   -2235.386   -1009.564\n",
            "smoking_hat  1523.8525    390.563      3.902      0.000     758.271    2289.434\n",
            "married      1890.5496    205.031      9.221      0.000    1488.648    2292.451\n",
            "full_term     415.4873     17.201     24.155      0.000     381.770     449.205\n",
            "income         24.4095      0.662     36.891      0.000      23.113      25.706\n",
            "age             2.0232      0.718      2.818      0.005       0.616       3.431\n",
            "==============================================================================\n",
            "Omnibus:                      857.407   Durbin-Watson:                   1.987\n",
            "Prob(Omnibus):                  0.000   Jarque-Bera (JB):             1169.303\n",
            "Skew:                          -0.716   Prob(JB):                    1.23e-254\n",
            "Kurtosis:                       3.869   Cond. No.                     1.70e+04\n",
            "==============================================================================\n",
            "\n",
            "Notes:\n",
            "[1] Standard Errors assume that the covariance matrix of the errors is correctly specified.\n",
            "[2] The condition number is large, 1.7e+04. This might indicate that there are\n",
            "strong multicollinearity or other numerical problems.\n"
          ]
        }
      ]
    },
    {
      "cell_type": "markdown",
      "source": [
        "Модель адекватна, все включаемые в нее переменные значимы на 5% уровне значимости. Однако, курение здесь оказывает положительное влияние на вес новорожденного, что не согласовывается с общей логикой. Предполагаем, что проблема в нелинейности наших данных."
      ],
      "metadata": {
        "id": "clnyFjYmytOS"
      }
    },
    {
      "cell_type": "markdown",
      "source": [
        "**Преимущества** 2SLS:\n",
        "\n",
        "Результаты легче интерпретировать, так как они основаны на линейных предположениях. Кроме того, для нас их привычнее интерпретировать и проще понять.\n",
        "\n",
        "**Недостатки** параметрической модели:\n",
        "\n",
        "Она может не захватывать сложные нелинейные комбинации признаков, то есть важная правильная спецификация модели.\n",
        "\n",
        "В целом,на сложных данных методы машинного обучения должны показать лучшие результаты.\n"
      ],
      "metadata": {
        "id": "U5kAvTWcyACs"
      }
    },
    {
      "cell_type": "markdown",
      "metadata": {
        "id": "cAzI1Kht5QIp"
      },
      "source": [
        "##**6. Оцените условные средние эффекты воздействия с помощью:**\n",
        "* метода наименьших квадратов.\n",
        "* S-learner.\n",
        "* T-learner.\n",
        "* метода трансформации классов.\n",
        "* X-learner."
      ]
    },
    {
      "cell_type": "markdown",
      "source": [
        " * **метод наименьших квадратов**\n",
        " был реализован ранее, поэтому просто выведем полученный результат:"
      ],
      "metadata": {
        "id": "oe8UFXFtdp0U"
      }
    },
    {
      "cell_type": "code",
      "source": [
        "# Оценим средний эффект воздействия с помощью МНК\n",
        "# МНК оценивание уравнения для некурящих матерей\n",
        "y0 = df2.loc[smoking == 0, ['weight']]\n",
        "x0 = df2.loc[smoking == 0, df2.columns.drop(['weight', 'smoking_friends', 'smoking','smoking_hat'])]\n",
        "x0 = sm.add_constant(x0)\n",
        "ls0 = sm.OLS(y0, x0).fit()\n",
        "\n",
        "# МНК оценивание уравнения курения для курящих\n",
        "y1 = df2.loc[smoking == 1, ['weight']]\n",
        "x1 = df2.loc[smoking == 1, df2.columns.drop(['weight', 'smoking_friends', 'smoking','smoking_hat'])]\n",
        "x1 = sm.add_constant(x1)\n",
        "ls1 = sm.OLS(y1, x1).fit()\n",
        "\n",
        "# Оценим вес новорожденных при наличии и отсутствия курения у матерей с помощью полученных МНК оценок\n",
        "x = df2.loc[:, df2.columns.drop(['weight', 'smoking_friends', 'smoking','smoking_hat'])]\n",
        "x = sm.add_constant(x)\n",
        "  # МНК оценка E(weight0 | X) для всех женщин\n",
        "weight0_ls = ls0.predict(x)\n",
        "  # МНК оценка E(weight1 | X) для всех женщин\n",
        "weight1_ls = ls1.predict(x)\n",
        "\n",
        "# Оценки CATE\n",
        "CATE_ls = np.array(weight1_ls - weight0_ls)\n",
        "\n",
        "# Оценка ATE как средняя разница в прогнозах МНК оценок\n",
        "ATE_ls = np.mean(CATE_ls)"
      ],
      "metadata": {
        "id": "sW0GV1Al1X6-"
      },
      "execution_count": 290,
      "outputs": []
    },
    {
      "cell_type": "code",
      "source": [
        "print(\"CATE для каждого индивида:\\n\", CATE_ls)"
      ],
      "metadata": {
        "colab": {
          "base_uri": "https://localhost:8080/"
        },
        "id": "tIxVQ6frqn_p",
        "outputId": "a09de31e-5381-4a13-e061-ee3888379e23"
      },
      "execution_count": 291,
      "outputs": [
        {
          "output_type": "stream",
          "name": "stdout",
          "text": [
            "CATE для каждого индивида:\n",
            " [-1229.16931218  -822.2247312  -1154.57771249 ...  -761.98392348\n",
            " -1037.97814849 -1094.58520638]\n"
          ]
        }
      ]
    },
    {
      "cell_type": "markdown",
      "source": [
        "* Применим подход $\\text{T-learner}$.\n",
        "\n",
        "$$\\text{CATE}_{i}=\\text{E}\\left(\\text{Weight}_{1i}|X_{i}\\right) - \\text{E}\\left(\\text{Weight}_{0i}|X_{i}\\right)$$\n"
      ],
      "metadata": {
        "id": "fVMygzLFgJ3H"
      }
    },
    {
      "cell_type": "code",
      "source": [
        "# Оценивание CATE с помощью T-learner\n",
        "\n",
        "rf_cate_T = RandomForestRegressor(n_estimators = 150,\n",
        "                           max_depth = 5,\n",
        "                           max_features = 3)\n",
        "\n",
        "# Обучение E(weight| X, smoking = 0)\n",
        "rf_cate_T.fit(x0, y0)\n",
        "\n",
        "# Оценки E(weight | X, smoking = 0) для всех беременных,\n",
        "# в том числе для тех, кто (smoking = 1).\n",
        "weight0_rf_cate_T = rf_cate_T.predict(x)\n",
        "\n",
        "# Обучение E(weight | X, smoking = 1)\n",
        "rf_cate_T.fit(x1, y1)\n",
        "\n",
        "# Оценки E(weight | X, smoking = 1) для всех беременных,\n",
        "# в том числе для тех, кто (smoking = 0).\n",
        "weight1_rf_cate_T = rf_cate_T.predict(x)\n",
        "\n",
        "# Оценки CATE\n",
        "CATE_T = weight1_rf_cate_T - weight0_rf_cate_T\n",
        "print(\"CATE для каждого индивида:\\n\", CATE_T)"
      ],
      "metadata": {
        "id": "3j6GPhf_4S7K",
        "colab": {
          "base_uri": "https://localhost:8080/"
        },
        "outputId": "95b45207-ca76-45d8-dd18-64709049a2bc"
      },
      "execution_count": 292,
      "outputs": [
        {
          "output_type": "stream",
          "name": "stdout",
          "text": [
            "CATE для каждого индивида:\n",
            " [-1195.14857137 -1025.87767899 -1202.99559519 ...  -729.59376491\n",
            "  -858.78575913  -845.14286776]\n"
          ]
        }
      ]
    },
    {
      "cell_type": "markdown",
      "source": [
        "* Оценка $\\text{S-learner}$ метода будет иметь такой же вид, как и у $\\text{T-learer}$:\n",
        "\n",
        "$$\\widehat{\\text{CATE}}^{\\text{S-learner}}_{i} = \\frac{1}{n}\\sum\\limits_{i=1}^{n} \\hat{\\text{E}}\\left(\\text{Weight}_{i}|X_{i},\\text{Smoking}_{i}=1\\right) - \\hat{\\text{E}}\\left(\\text{Weight}_{i}|X_{i},\\text{Smoking}_{i}=0\\right)$$\n",
        "\n",
        "Однако, методы оценивания самих условных математических ожиданий различаются:\n",
        "\n",
        "*   $\\hat{\\text{E}}\\left(\\text{Weight}_{i}|X_{i},\\text{Smoking}_{i}=1\\right)$ - оценка, полученная с использованием метода машинного обучения по всей выборке.\n",
        "*   $\\hat{\\text{E}}\\left(\\text{Weight}_{i}|X_{i},\\text{Smoking}_{i}=0\\right)$ - оценка, полученная с использованием метода машинного обучения по всей выборке."
      ],
      "metadata": {
        "id": "EC8OgRSrjdt_"
      }
    },
    {
      "cell_type": "code",
      "source": [
        "# CATE с помощью S-learner\n",
        "\n",
        "# Подготовим данные\n",
        "y = df.loc[:, ['weight']]\n",
        "x = df.loc[:, df.columns.drop('weight')]\n",
        "\n",
        "# Подготовка модели: единая для тех кто курит и кто нет\n",
        "rf_cate_s = RandomForestRegressor(n_estimators = 150,\n",
        "                            max_depth = 7,\n",
        "                            max_features = 3)\n",
        "rf_cate_s.fit(x, y)\n",
        "\n",
        "# Оценки E(weight | X, smoking = 0) для всех беременных,\n",
        "# в том числе для тех, кто (smoking = 1).\n",
        "x0 = deepcopy(x)\n",
        "x0[\"smoking\"] = 0\n",
        "weight0_rf_cate_s = rf_cate_s.predict(x0)\n",
        "\n",
        "# Оценки E(weight | X, smoking = 1) для всех беременных,\n",
        "# в том числе для тех, кто (smoking = 0).\n",
        "x1 = deepcopy(x)\n",
        "x1[\"smoking\"] = 1\n",
        "weight1_rf_cate_s = rf_cate_s.predict(x1)\n",
        "\n",
        "# Оценки CATE\n",
        "CATE_S = weight1_rf_cate_s - weight0_rf_cate_s\n",
        "print(CATE_S)"
      ],
      "metadata": {
        "id": "bn7ZJ0G76AAW",
        "colab": {
          "base_uri": "https://localhost:8080/"
        },
        "outputId": "b473a2c4-0070-4cdf-8dfc-ef79f15a8732"
      },
      "execution_count": 293,
      "outputs": [
        {
          "output_type": "stream",
          "name": "stdout",
          "text": [
            "[-1007.18273065  -848.31203416  -897.21856945 ...  -696.30550882\n",
            "  -992.15177999  -974.5090591 ]\n"
          ]
        }
      ]
    },
    {
      "cell_type": "markdown",
      "source": [
        "* **Метод трансформации классов**"
      ],
      "metadata": {
        "id": "ZxIolYvw4RZW"
      }
    },
    {
      "cell_type": "code",
      "source": [
        "# Оценим CATE методом трансформации классов\n",
        "\n",
        "# Метод прогнозирования условных математических ожиданий оценок псевдоисходов\n",
        "rf_ct = RandomForestRegressor(n_estimators = 150,\n",
        "                            max_depth = 5,\n",
        "                            max_features = 5)\n",
        "rf_ct.fit(features, pseudo_outcome)\n",
        "\n",
        "# Оценки CATE (метод трансформации классов)\n",
        "CATE_CT = rf_ct.predict(features)\n",
        "print(\"CATE\", CATE_CT)"
      ],
      "metadata": {
        "colab": {
          "base_uri": "https://localhost:8080/"
        },
        "id": "WddtB7Qm4Vnb",
        "outputId": "10b88680-9c89-44dc-de81-273f29e44f4d"
      },
      "execution_count": 294,
      "outputs": [
        {
          "output_type": "stream",
          "name": "stdout",
          "text": [
            "CATE [-637.03819009 -525.05317393 -739.99819176 ...  109.39265948 -630.22064771\n",
            " -644.91185192]\n"
          ]
        }
      ]
    },
    {
      "cell_type": "markdown",
      "source": [
        "* **X-learner**"
      ],
      "metadata": {
        "id": "GYmoP8a_5g6n"
      }
    },
    {
      "cell_type": "code",
      "source": [
        "# Целевая переменная\n",
        "Y = df['weight'].values\n",
        "\n",
        "# Переменная воздействия\n",
        "T = df['smoking'].values\n",
        "\n",
        "# Контрольные переменные\n",
        "X = df[['married', 'full_term', 'age', 'income']].values\n",
        "\n",
        "# Оценка функций отклика\n",
        "X_train, X_test, Y_train, Y_test, T_train, T_test = train_test_split(X, Y, T,\n",
        "                                            test_size=0.2, random_state=123)\n",
        "\n",
        "# Обучение моделей для групп с курением и без курения\n",
        "model_no_smoking = RandomForestRegressor(n_estimators=150, max_depth=7,\n",
        "                                         max_features=5, random_state=123)\n",
        "model_smoking = RandomForestRegressor(n_estimators=150, max_depth=7,\n",
        "                                      max_features=5, random_state=123)\n",
        "\n",
        "# Данные для Некурящей группы\n",
        "X_no_smoking = X_train[T_train == 0]\n",
        "Y_no_smoking = Y_train[T_train == 0]\n",
        "\n",
        "# Данные для курящей группы\n",
        "X_smoking = X_train[T_train == 1]\n",
        "Y_smoking = Y_train[T_train == 1]\n",
        "\n",
        "# Обучение моделей\n",
        "model_no_smoking.fit(X_no_smoking, Y_no_smoking)\n",
        "mu_0_hat = model_no_smoking.predict(X_train)\n",
        "\n",
        "model_smoking.fit(X_smoking, Y_smoking)\n",
        "mu_1_hat = model_smoking.predict(X_train)\n",
        "\n",
        "\n",
        "D_1 = Y_train[T_train == 1] - mu_0_hat[T_train == 1]\n",
        "D_0 = mu_1_hat[T_train == 0] - Y_train[T_train == 0]\n",
        "\n",
        "# Обучение моделей\n",
        "model_cate_no_smoking = RandomForestRegressor(n_estimators=150,\n",
        "                              max_depth=7, max_features=5, random_state=123)\n",
        "model_cate_smoking = RandomForestRegressor(n_estimators=150, max_depth=7,\n",
        "                                           max_features=5, random_state=123)\n",
        "\n",
        "model_cate_no_smoking.fit(X_no_smoking, D_0)\n",
        "tau_0_hat = model_cate_no_smoking.predict(X)\n",
        "\n",
        "model_cate_smoking.fit(X_smoking, D_1)\n",
        "tau_1_hat = model_cate_smoking.predict(X)\n",
        "\n",
        "# комбинированная оценка CATE\n",
        "propensity_model = LogisticRegression()\n",
        "propensity_model.fit(X, T)\n",
        "propensity_score = propensity_model.predict_proba(X)[:, 1]\n",
        "\n",
        "CATE_X = propensity_score * tau_0_hat + (1 - propensity_score) * tau_1_hat\n",
        "\n",
        "print(\"Оценка CATE с помощью X-learner:\\n\", CATE_X)"
      ],
      "metadata": {
        "colab": {
          "base_uri": "https://localhost:8080/"
        },
        "id": "MmDDPqHA5j19",
        "outputId": "8f5009c8-465a-4b90-90d3-212a705040d9"
      },
      "execution_count": 295,
      "outputs": [
        {
          "output_type": "stream",
          "name": "stdout",
          "text": [
            "Оценка CATE с помощью X-learner:\n",
            " [-1005.28416056  -769.76684681  -918.00734104 ...  -770.29085588\n",
            "  -885.19444651  -908.40632342]\n"
          ]
        }
      ]
    },
    {
      "cell_type": "markdown",
      "source": [
        "Сравните результаты и обсудите, насколько в вашем случае мотивированы применение метода X-learner. Опишите, как можно было бы использовать полученные вами оценки в бизнесе или при реализации государственных программ."
      ],
      "metadata": {
        "id": "FQFdogCo7xdc"
      }
    },
    {
      "cell_type": "code",
      "source": [
        "results_cate = pd.DataFrame({\n",
        "    \"CATE_ls\": CATE_ls,\n",
        "    \"CATE_S\": CATE_S,\n",
        "    \"CATE_T\": CATE_T,\n",
        "    \"CATE_CT\": CATE_CT,\n",
        "    \"CATE_X\": CATE_X\n",
        "})\n",
        "\n",
        "print(results_cate)"
      ],
      "metadata": {
        "colab": {
          "base_uri": "https://localhost:8080/"
        },
        "id": "VrKS8f6x7yrB",
        "outputId": "48f9bc74-57c6-4d49-dbb8-8058c0dc9c67"
      },
      "execution_count": 296,
      "outputs": [
        {
          "output_type": "stream",
          "name": "stdout",
          "text": [
            "          CATE_ls       CATE_S       CATE_T     CATE_CT       CATE_X\n",
            "0    -1229.169312 -1007.182731 -1195.148571 -637.038190 -1005.284161\n",
            "1     -822.224731  -848.312034 -1025.877679 -525.053174  -769.766847\n",
            "2    -1154.577712  -897.218569 -1202.995595 -739.998192  -918.007341\n",
            "3     -437.188971  -622.816525  -635.970093 -136.812628  -408.356949\n",
            "4    -1331.881437 -1212.993111 -1328.036440 -674.863968 -1079.955108\n",
            "...           ...          ...          ...         ...          ...\n",
            "9995  -877.947312  -760.501703  -975.229708 -565.790274  -793.443568\n",
            "9996 -1527.342526 -1270.883027 -1657.993409  -10.735469 -1092.236081\n",
            "9997  -761.983923  -696.305509  -729.593765  109.392659  -770.290856\n",
            "9998 -1037.978148  -992.151780  -858.785759 -630.220648  -885.194447\n",
            "9999 -1094.585206  -974.509059  -845.142868 -644.911852  -908.406323\n",
            "\n",
            "[10000 rows x 5 columns]\n"
          ]
        }
      ]
    },
    {
      "cell_type": "markdown",
      "source": [
        "Оценки CATE разными методами получились примерно сопоставимы по размерностям, кроме метода трансформации классов. Метод Х-learner используется, когда есть эндогенные переменные, а также когда есть точная информация о treatment-группах. В нашем случае, так как данные были сгенерированы и все группы можно точно определить, использование этого метода имеет место."
      ],
      "metadata": {
        "id": "ICC2-GtE8AKw"
      }
    },
    {
      "cell_type": "markdown",
      "source": [
        "Использование полученных оценок:\n",
        "В нашем случае оценки условных средних эффектов для каждой беременной женщины, если та курит при всех своих тех же параметрах возраста, семейного положения, дохода и факта доношенности ребенка, показывает, что ребенок рождается примерно на 1 килограмм легче.\n",
        "Многочисленные исследования показывают, что гипотетическое вмешательство по сокращению курения принесет значительную пользу для здоровья, сократит курение и будет экономически эффективным.  Предложение беременным курильщикам помощи в сокращении курения могло бы улучшить здоровье.\n",
        "Повышение налога на сигареты может оказать глубокое влияние на решение человека курить, а также на долгосрочное здоровье детей, рожденных от матерей, которые бросили курить.   Статья:https://www.aeaweb.org/research/far-reaching-effects-mother-stops-smoking\n",
        "\n",
        "Политики могут запустить объявления о государственных услугах, программы по работе с общественностью и образовательные материалы, специально предназначенные для беременных женщин. Включить поддержку в перинатальную помощь: консультирование по прекращению курения.\n",
        "Бедность, стресс и отсутствие доступа к системам поддержки могут способствовать курению. Субсидирование в программы, решающие эти вопросы, могут быть частью комплексного подхода.\n",
        "Бесплатная или недорогая никотиновая заместительная терапия. Субсидировать кружки по воспитанию и вынашиванию детей, которые включают информацию о вреде курения во время беременности и грудного вскармливания.\n",
        "\n",
        "Рождение здорового, доношенного ребенка с нормальным весом от некурящей матери является важной инвестицией в будущее страны, в значительной степени способствуя его экономическому процветанию.\n",
        "Важные пункты:\n",
        "* Снижение затрат на здравоохранение:  здоровые дети требуют меньшего медицинского вмешательства, что приводит к снижению национальных расходов на здравоохранение.\n",
        "* Улучшенный человеческий капитал: дети от некурящих матерей скорее с большим интересом и большей возможностью получают знания, что растит в них продуктивных взрослых, способствуя национальной рабочей силе и экономическому росту.\n",
        "Таким образом, поддержка политики, которая способствует некурящим во время беременности, таких как образовательные кампании и доступ к программам прекращения, имеет решающее значение для создания более здорового и экономически жизнеспособного будущего для страны.Инвестирование в здоровье наших детей-это не просто моральный императив, но и стратегические инвестиции в наше коллективное экономическое благополучие."
      ],
      "metadata": {
        "id": "D1_HCP8Ocxg9"
      }
    },
    {
      "cell_type": "markdown",
      "source": [
        "##**7. Выберите лучшую модель оценивания условных средних эффектов воздействия,используя:**\n",
        "* истинные значения условных средних эффектов воздействия."
      ],
      "metadata": {
        "id": "WyL8n2HhdEuv"
      }
    },
    {
      "cell_type": "markdown",
      "metadata": {
        "id": "Zveqygc8nW2g"
      },
      "source": [
        "Сравним точность оценок по среднеквадратической ошибке\n",
        "\n",
        "$$\\text{MSE}_{0} = \\frac{1}{n}\\sum\\limits_{i=1}^{n}\\left(\\text{CATE}_{i}-\\widehat{\\text{CATE}}_{i}\\right)^2$$"
      ]
    },
    {
      "cell_type": "code",
      "execution_count": 297,
      "metadata": {
        "id": "1JfQQVBTnW2g",
        "colab": {
          "base_uri": "https://localhost:8080/"
        },
        "outputId": "d1ea60ba-05b1-4934-adfe-6afe499e20ba"
      },
      "outputs": [
        {
          "output_type": "stream",
          "name": "stdout",
          "text": [
            "                    MSE0\n",
            "LS         170795.179772\n",
            "T-learner  144769.592449\n",
            "S-learner   87689.762893\n",
            "CT         756632.705963\n",
            "X-learner  117451.368186\n"
          ]
        }
      ],
      "source": [
        "# Сравнение оценок CATE на основании истинных значений\n",
        "CATE_MSE0 = pd.DataFrame(data    = [np.mean((CATE_ls  - CATE) ** 2),\n",
        "                                    np.mean((CATE_T   - CATE) ** 2),\n",
        "                                    np.mean((CATE_S   - CATE) ** 2),\n",
        "                                    np.mean((CATE_CT  - CATE) ** 2),\n",
        "                                    np.mean((CATE_X  - CATE) ** 2)],\n",
        "                   index          = ['LS', 'T-learner', 'S-learner', 'CT', 'X-learner'],\n",
        "                   columns        = ['MSE0'])\n",
        "print(CATE_MSE0)"
      ]
    },
    {
      "cell_type": "markdown",
      "metadata": {
        "id": "jfhiJwaWnW2g"
      },
      "source": [
        "**X-learner:** Самый низкий MSE (117451), что указывает на наилучшую точность оценки CATE по сравнению с истинными значениями.\n",
        "\n",
        "**T-learner:** Второй по точности метод с MSE примерно равной 136936, что также указывает на хорошее соответствие истинным значениям CATE.\n",
        "\n",
        "**LS:** Третий по точности метод с MSE 170795, примерно сопоставим с S-learner.\n",
        "\n",
        "**CT:** Значение MSE 769341, что в разы больше, чем остальные методы. Самая плохая точность оценки CATE (в случае, если мы все правильно до этого посчитали)."
      ]
    },
    {
      "cell_type": "markdown",
      "source": [
        "* прогнозную точность моделей."
      ],
      "metadata": {
        "id": "bHSsAJYe9mKY"
      }
    },
    {
      "cell_type": "code",
      "source": [],
      "metadata": {
        "id": "NXoZKSWl-8RV"
      },
      "execution_count": null,
      "outputs": []
    },
    {
      "cell_type": "markdown",
      "source": [
        "* псевдоисходы.\n",
        "\n",
        "Проинтерпретируйте различия в результатах различных подходов."
      ],
      "metadata": {
        "id": "OuPrDIgH_BT2"
      }
    },
    {
      "cell_type": "markdown",
      "metadata": {
        "id": "BOXDX2bUnW2g"
      },
      "source": [
        "$$\\text{MSE}^{*} = \\frac{1}{n}\\sum\\limits_{i=1}^{n}\\left(\\text{Wage}_{i}^{*}-\\widehat{\\text{CATE}}_{i}\\right)^2$$"
      ]
    },
    {
      "cell_type": "code",
      "execution_count": 298,
      "metadata": {
        "id": "ekbELMwznW2g",
        "colab": {
          "base_uri": "https://localhost:8080/"
        },
        "outputId": "1ce0c53e-2321-47ef-bcbb-1da7062d12e0"
      },
      "outputs": [
        {
          "output_type": "stream",
          "name": "stdout",
          "text": [
            "             MSE_pseudo\n",
            "LS         6.516604e+06\n",
            "T-learner  6.545846e+06\n",
            "S-learner  6.407540e+06\n",
            "CT         5.820966e+06\n",
            "X-learner  6.293568e+06\n"
          ]
        }
      ],
      "source": [
        "# Сравнение CATE на основании псевдоисходов\n",
        "CATE_MSE_pseudo = pd.DataFrame(data    = [np.mean((pseudo_outcome - CATE_ls) ** 2),\n",
        "                                    np.mean((pseudo_outcome - CATE_T) ** 2),\n",
        "                                    np.mean((pseudo_outcome - CATE_S) ** 2),\n",
        "                                    np.mean((pseudo_outcome - CATE_CT) ** 2),\n",
        "                                    np.mean((pseudo_outcome - CATE_X) ** 2)],\n",
        "                   index          = ['LS', 'T-learner', 'S-learner', 'CT', 'X-learner'],\n",
        "                   columns        = ['MSE_pseudo'])\n",
        "print(CATE_MSE_pseudo)"
      ]
    },
    {
      "cell_type": "markdown",
      "metadata": {
        "id": "R3eVnz7TnW2g"
      },
      "source": [
        "**CT:** Самый низкий MSE, что указывает на наилучшую точность оценки CATE по сравнению с псевдоисходами.\n",
        "Остальные методы примерно сопоставимы по значению ошибки, однако Т-learner и LS несколько хуже."
      ]
    },
    {
      "cell_type": "markdown",
      "source": [
        "##**8. Оцените средние эффекты воздействия и локальные средние эффекты воздействия используя худшие из обученных классификационных и регрессионных моделей. Сопоставьте результаты с теми, что были получены с помощью лучших моделей. Сдеайте вывод об устойчивости результатов к качеству используемых методов машинного обучения.**\n"
      ],
      "metadata": {
        "id": "EklrKDGVdYB9"
      }
    },
    {
      "cell_type": "markdown",
      "source": [
        "Повторим все действия пунктов 5.4-5.5, но уже с методом ближайших соседей в качестве классификатора и регрессора."
      ],
      "metadata": {
        "id": "edFPU82gdg5T"
      }
    },
    {
      "cell_type": "markdown",
      "metadata": {
        "id": "cZ6H5hOLD1Cj"
      },
      "source": [
        "* **Метод наименьших квадратов** (не зависит от классификатора и регрессора)"
      ]
    },
    {
      "cell_type": "code",
      "execution_count": 299,
      "metadata": {
        "id": "blYrr3vOD1Cp"
      },
      "outputs": [],
      "source": [
        "# Оценим средний эффект воздействия с помощью МНК\n",
        "# МНК оценивание уравнения для некурящих матерей\n",
        "y0 = df.loc[smoking == 0, ['weight']]\n",
        "x0 = df.loc[smoking == 0, df.columns.drop(['weight','age_bin','income_bin', 'smoking_friends', 'smoking','genes'])]\n",
        "x0 = sm.add_constant(x0)\n",
        "ls0 = sm.OLS(y0, x0).fit()\n",
        "\n",
        "# МНК оценивание уравнения курения для курящих\n",
        "y1 = df.loc[smoking == 1, ['weight']]\n",
        "x1 = df.loc[smoking == 1, df.columns.drop(['weight','age_bin','income_bin', 'smoking_friends', 'smoking','genes'])]\n",
        "x1 = sm.add_constant(x1)\n",
        "ls1 = sm.OLS(y1, x1).fit()\n",
        "\n",
        "# Оценим вес новорожденных при наличии и отсутствия курения у матерей с помощью полученных МНК оценок\n",
        "x = df.loc[:, df.columns.drop(['weight','age_bin','income_bin', 'smoking_friends', 'smoking','genes'])]\n",
        "x = sm.add_constant(x)\n",
        "  # МНК оценка E(weight0 | X) для всех женщин\n",
        "weight0_ls = ls0.predict(x)\n",
        "  # МНК оценка E(weight1 | X) для всех женщин\n",
        "weight1_ls = ls1.predict(x)\n",
        "\n",
        "# Оценки CATE\n",
        "CATE_ls = np.array(weight1_ls - weight0_ls)\n",
        "\n",
        "# Оценка ATE как средняя разница в прогнозах МНК оценок\n",
        "ATE_ls_1 = np.mean(CATE_ls)"
      ]
    },
    {
      "cell_type": "markdown",
      "metadata": {
        "id": "lYkVz8aaD1Cp"
      },
      "source": [
        "* **Двойное машинное обучение**"
      ]
    },
    {
      "cell_type": "code",
      "execution_count": 301,
      "metadata": {
        "colab": {
          "base_uri": "https://localhost:8080/"
        },
        "outputId": "271f248d-d688-40ba-f261-ec775b0b8886",
        "id": "0-r33qhXD1Cq"
      },
      "outputs": [
        {
          "output_type": "stream",
          "name": "stdout",
          "text": [
            "-1418.5004708712604\n"
          ]
        }
      ],
      "source": [
        "# Данные в формате, необходимом для применения DML\n",
        "dml_standard_data = dml.DoubleMLData(\n",
        "    data = df1,\n",
        "    y_col = 'weight',\n",
        "    d_cols = 'smoking',\n",
        "    x_cols = ['married', 'full_term', 'age', 'income','genes']\n",
        ")\n",
        "\n",
        "# Метод оценивания E(Y | X, T)\n",
        "g_Y = KNeighborsRegressor(n_neighbors=5,\n",
        "                            metric=\"minkowski\",\n",
        "                            p=1) #подобранные ранее гиперпараметры\n",
        "\n",
        "# Метод оценивания E(T | X)\n",
        "g_T = KNeighborsClassifier(n_neighbors=7,\n",
        "                            metric=\"minkowski\",\n",
        "                            p=1) #подобранные ранее гиперпараметры\n",
        "# Подготовка объекта\n",
        "dml_standard = dml.DoubleMLIRM(dml_standard_data, ml_g=g_Y, ml_m=g_T)\n",
        "\n",
        "# Применение кросс-фиттинга\n",
        "dml_standard.fit()\n",
        "\n",
        "# Сохраним оценку\n",
        "ATE_dml_standard_1 = dml_standard.coef[0]\n",
        "\n",
        "print(ATE_dml_standard_1)"
      ]
    },
    {
      "cell_type": "markdown",
      "metadata": {
        "id": "UtmSs_HtD1Cq"
      },
      "source": [
        "* **метод, обладающий двойной устойсивостью**"
      ]
    },
    {
      "cell_type": "code",
      "execution_count": 303,
      "metadata": {
        "id": "5lm2qxdzD1Cq"
      },
      "outputs": [],
      "source": [
        "y = df.loc[:, ['weight']]\n",
        "x = df.loc[:, df.columns.drop(['weight', 'smoking_friends',\n",
        "                               'age_bin','income_bin','genes'])]\n",
        "\n",
        "rf_eff = KNeighborsRegressor(n_neighbors=5,\n",
        "                            metric=\"minkowski\",\n",
        "                            p=1) #подобранные ранее гиперпараметры\n",
        "rf_eff.fit(x, y)\n",
        "\n",
        "# Оценки E(weight| X, smoking = 0) для всех индивидов,\n",
        "# в том числе для тех, у кого smoking = 1.\n",
        "x0 = deepcopy(x)\n",
        "x0[\"smoking\"] = 0\n",
        "weight0_rf_eff = rf_eff.predict(x0)\n",
        "\n",
        "# Оценки E(weight| X, smoking = 1) для всех индивидов,\n",
        "# в том числе для тех, у кого smoking = 0.\n",
        "x1 = deepcopy(x)\n",
        "x1[\"smoking\"] = 1\n",
        "weight1_rf_eff = rf_eff.predict(x1)\n"
      ]
    },
    {
      "cell_type": "code",
      "execution_count": 304,
      "metadata": {
        "id": "CxlsbwU_D1Cq"
      },
      "outputs": [],
      "source": [
        "# Оценим ATE с помощью DR метода с двойной устойчивостью\n",
        "ATE_DR_1 = np.mean((weight1_rf_eff - weight0_rf_eff) + \\\n",
        "                 smoking * (weight - weight1_rf_eff) / E_Y_given_X - \\\n",
        "                 (1 - weight) * (weight - weight0_rf_eff) / (1 - E_Y_given_X))"
      ]
    },
    {
      "cell_type": "markdown",
      "metadata": {
        "id": "AEkbtcb7D1Cq"
      },
      "source": [
        "* метод условных математических ожиданий"
      ]
    },
    {
      "cell_type": "code",
      "execution_count": 305,
      "metadata": {
        "id": "y8PadfYyD1Cq"
      },
      "outputs": [],
      "source": [
        "# Оценки CATE\n",
        "CATE_S_1 = weight1_rf_eff - weight0_rf_eff\n",
        "\n",
        "# Оценка ATE\n",
        "ATE_S_1 = np.mean(CATE_S_1)"
      ]
    },
    {
      "cell_type": "markdown",
      "metadata": {
        "id": "WO40WBFmD1Cq"
      },
      "source": [
        "Все полученные средние эффекты:"
      ]
    },
    {
      "cell_type": "code",
      "execution_count": 307,
      "metadata": {
        "colab": {
          "base_uri": "https://localhost:8080/"
        },
        "outputId": "c3b06afa-0bed-488c-a944-45eb5c9a364d",
        "id": "u0NJlflcD1Cr"
      },
      "outputs": [
        {
          "output_type": "stream",
          "name": "stdout",
          "text": [
            "                         Оценка\n",
            "ATE                -1108.985071\n",
            "ATE naive          -1447.222040\n",
            "ATE ls_1            -960.407584\n",
            "ATE dml standard_1 -1418.500471\n",
            "ATE DR_1            -213.425585\n",
            "ATE S-learner_1     -348.408828\n"
          ]
        }
      ],
      "source": [
        "#  Сопоставим результаты\n",
        "print(pd.DataFrame(data    = [ATE, ATE_naive, ATE_ls_1, ATE_dml_standard_1,\n",
        "                              ATE_DR_1, ATE_S_1],\n",
        "                   index   = ['ATE', 'ATE naive', 'ATE ls_1', 'ATE dml standard_1',\n",
        "                             'ATE DR_1', 'ATE S-learner_1'],\n",
        "                   columns = ['Оценка']))"
      ]
    },
    {
      "cell_type": "markdown",
      "source": [
        "Перейдем к локальным эффектам:"
      ],
      "metadata": {
        "id": "7fA2wjVBHQmr"
      }
    },
    {
      "cell_type": "code",
      "execution_count": 308,
      "metadata": {
        "id": "cBOx4jixD1Cr"
      },
      "outputs": [],
      "source": [
        "# Данные в формате, необходимом для применения DML\n",
        "dml_standard2_data = dml.DoubleMLData(\n",
        "                            data = df1,\n",
        "                            y_col = 'weight',\n",
        "                            d_cols = 'smoking',\n",
        "                            x_cols = ['married', 'income', 'age', 'full_term'])\n",
        "\n",
        "# Подготовка объекта\n",
        "dml_standard2 = dml.DoubleMLIRM(\n",
        "    obj_dml_data=dml_standard2_data,\n",
        "    ml_g=g_Y, ml_m=g_T,\n",
        "    n_folds=5)\n",
        "\n",
        "# Оценим параметры\n",
        "dml_standard2.fit()\n",
        "\n",
        "# Посмотрим на результат\n",
        "#print(dml_standard2)\n",
        "\n",
        "# Сохраним оценку\n",
        "LATE_dml_standard2_1 = dml_standard2.coef[0]"
      ]
    },
    {
      "cell_type": "markdown",
      "metadata": {
        "id": "O52iC_5rD1Cr"
      },
      "source": [
        "Далее используем ДМО метод оценивания $\\text{LATE}$ с помощью инструментальных переменных.\n"
      ]
    },
    {
      "cell_type": "code",
      "source": [
        "np.random.seed(123)\n",
        "dml_iv_data = dml.DoubleMLData(data=df2,\n",
        "                               y_col='weight',\n",
        "                               d_cols='smoking',\n",
        "                               z_cols='smoking_friends',\n",
        "                               x_cols=['income', 'age', 'married', 'full_term'])\n",
        "\n",
        "# Метод оценивания E(Z | X)\n",
        "g_Z = KNeighborsClassifier(n_neighbors=7,\n",
        "                            metric=\"minkowski\",\n",
        "                            p=1) #подобранные ранее гиперпараметры\n",
        "\n",
        "# Метод оценивания E(Y | X)\n",
        "g_Y = KNeighborsRegressor(n_neighbors=5,\n",
        "                            metric=\"minkowski\",\n",
        "                            p=1) #подобранные ранее гиперпараметры\n",
        "\n",
        "# Метод оценивания P(T = 1 | X)\n",
        "g_T = RandomForestClassifier(n_estimators=50, max_depth=5, random_state=123)\n",
        "\n",
        "# Подготовка объекта DML\n",
        "dml_iv = dml.DoubleMLIIVM(obj_dml_data=dml_iv_data,\n",
        "                          ml_g=g_Y, ml_m=g_Z, ml_r=g_T,\n",
        "                          n_rep=1,\n",
        "                          n_folds=5)\n",
        "\n",
        "# Оценим параметры\n",
        "dml_iv.fit()\n",
        "\n",
        "# Посмотрим на результат\n",
        "#print(dml_iv)\n",
        "\n",
        "# Сохраним оценку\n",
        "LATE_dml_iv_1 = dml_iv.coef[0]\n",
        "print(LATE_dml_iv_1)"
      ],
      "metadata": {
        "colab": {
          "base_uri": "https://localhost:8080/"
        },
        "outputId": "74f79a90-a499-4b36-8439-0ec2cbfcb212",
        "id": "F-S65KbRD1Cr"
      },
      "execution_count": 309,
      "outputs": [
        {
          "output_type": "stream",
          "name": "stdout",
          "text": [
            "-15063.468957850586\n"
          ]
        }
      ]
    },
    {
      "cell_type": "code",
      "execution_count": 310,
      "metadata": {
        "colab": {
          "base_uri": "https://localhost:8080/"
        },
        "outputId": "00eb3ce5-baf1-494d-854b-06b0ba0b3e4c",
        "id": "8SkSlFQ-D1Cr"
      },
      "outputs": [
        {
          "output_type": "stream",
          "name": "stdout",
          "text": [
            "                            Оценка\n",
            "LATE dml standard2_1   -709.341312\n",
            "LATE dml iv_1        -15063.468958\n"
          ]
        }
      ],
      "source": [
        "# Сопоставим результаты\n",
        "print(pd.DataFrame(data    = [LATE_dml_standard2_1, LATE_dml_iv_1],\n",
        "                   index   = ['LATE dml standard2_1', 'LATE dml iv_1'],\n",
        "                   columns = ['Оценка']))"
      ]
    },
    {
      "cell_type": "markdown",
      "source": [
        "Соберем общую таблицу:"
      ],
      "metadata": {
        "id": "2doA7swjISl4"
      }
    },
    {
      "cell_type": "code",
      "execution_count": 311,
      "metadata": {
        "id": "O5m9zpnPJN-m"
      },
      "outputs": [],
      "source": [
        "kNN_worst = [LATE_dml_standard2_1,LATE_dml_iv_1,ATE_ls_1,\n",
        "             ATE_dml_standard_1,ATE_DR_1,ATE_S]\n",
        "rf_best = [LATE_dml_standard2,LATE_dml_iv, ATE_ls,\n",
        "           ATE_dml_standard,ATE_DR,ATE_S_1]"
      ]
    },
    {
      "cell_type": "code",
      "execution_count": 312,
      "metadata": {
        "colab": {
          "base_uri": "https://localhost:8080/"
        },
        "outputId": "28b30423-c7db-4557-ec08-2dfaee87b277",
        "id": "4P3tMR9OJN-1"
      },
      "outputs": [
        {
          "output_type": "stream",
          "name": "stdout",
          "text": [
            "                             kNN           RF\n",
            "LATE_dml_standard2   -709.341312  -864.366625\n",
            "LATE_dml_iv        -15063.468958 -6616.121139\n",
            "ATE OLS              -960.407584  -960.407584\n",
            "ATE dml             -1418.500471  -949.248815\n",
            "ATE DR               -213.425585  -722.291718\n",
            "ATE S-learner        -861.718140  -348.408828\n"
          ]
        }
      ],
      "source": [
        "res_ate = pd.DataFrame(data    = [kNN_worst,rf_best],\n",
        "                   index   = ['kNN','RF'],\n",
        "                   columns = ['LATE_dml_standard2',\n",
        "                              'LATE_dml_iv','ATE OLS','ATE dml',\n",
        "                              'ATE DR','ATE S-learner'])\n",
        "print(res_ate.T)"
      ]
    },
    {
      "cell_type": "markdown",
      "source": [
        "В некоторых методах расчета эффектов воздействия вижны существенные различия от метода к методу.Например, в LATE с использованием инструментальной переменной, а также в АТЕ, оцененными с помощью S-learner и метода с двойной устойчивостью. Можно сделать вывод, что результаты неустойчивы к качеству используемых методов машинного обучения."
      ],
      "metadata": {
        "id": "clzTVQ16JQoB"
      }
    }
  ],
  "metadata": {
    "colab": {
      "toc_visible": true,
      "provenance": []
    },
    "kernelspec": {
      "display_name": "Python 3 (ipykernel)",
      "language": "python",
      "name": "python3"
    },
    "language_info": {
      "codemirror_mode": {
        "name": "ipython",
        "version": 3
      },
      "file_extension": ".py",
      "mimetype": "text/x-python",
      "name": "python",
      "nbconvert_exporter": "python",
      "pygments_lexer": "ipython3",
      "version": "3.9.7"
    }
  },
  "nbformat": 4,
  "nbformat_minor": 0
}